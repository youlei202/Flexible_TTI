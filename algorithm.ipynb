{
 "cells": [
  {
   "cell_type": "markdown",
   "metadata": {
    "collapsed": true
   },
   "source": [
    "# Algorithm Implementation\n",
    "\n",
    "by [Lei You](http://user.it.uu.se/~leiyo378)"
   ]
  },
  {
   "cell_type": "markdown",
   "metadata": {},
   "source": [
    "In this document, we solve the flexible TTI allocation problem to optimum, by using our proposed algorithm. The formulation of the original problem is as below."
   ]
  },
  {
   "cell_type": "markdown",
   "metadata": {},
   "source": [
    "$$\n",
    "\\begin{align}\n",
    "\\max_{\\mathbf{x}} \\quad & \\sum_{b\\in\\mathcal{B}}\\sum_{k\\in\\mathcal{K}^{(c)}} r_{b,k}x_{b,k} \\\\\n",
    "s.t. \\quad & \\sum_{b\\in\\mathcal{B}}r_{b,k}x_{b,k}\\geq q_{k} \\quad k\\in\\mathcal{K}^{(\\ell)} \\\\\n",
    "           & \\sum_{b\\in\\mathcal{B}}\\sum_{k\\in\\mathcal{K}}a_{b,i}x_{b,k}\\leq 1 \\quad i\\in\\mathcal{I} \\\\\n",
    "           & x_{b,k}\\in\\{0,1\\}\\quad b\\in\\mathcal{B},~k\\in\\mathcal{K}\n",
    "\\end{align}\n",
    "$$"
   ]
  },
  {
   "cell_type": "markdown",
   "metadata": {},
   "source": [
    "We have $x_{b,k}=1$ if and only if physical resource block (PRB) $b$ is allocated to service $k$."
   ]
  },
  {
   "cell_type": "markdown",
   "metadata": {},
   "source": [
    "Recall that $\\tau_k$ is the maximum tolerant latency of service $k$, and $d_b$ is the end time of the PRB $b$. The constraints for the latency is imposed, by letting $r_{b,k}$ follow the rule:\n",
    "$$\n",
    "r_{b,k}=\\left\\{\n",
    "\\begin{array}{ll}\n",
    "0 & \\text{if } \\tau_k-d_b<0 \\\\\n",
    "\\text{capacity} & \\text{otherwise}\n",
    "\\end{array}\n",
    "\\right.\n",
    "$$"
   ]
  },
  {
   "cell_type": "markdown",
   "metadata": {},
   "source": [
    "Here we go."
   ]
  },
  {
   "cell_type": "code",
   "execution_count": 31,
   "metadata": {
    "collapsed": true
   },
   "outputs": [],
   "source": [
    "import sys\n",
    "import scipy.io\n",
    "import numpy\n",
    "import math\n",
    "import csv\n",
    "from operator import add\n",
    "\n",
    "from gurobipy import *\n",
    "\n",
    "# set the directory path\n",
    "import os\n",
    "folder_name = os.getcwd()\n",
    "\n",
    "epsilon = 10e-6\n",
    "\n",
    "import time"
   ]
  },
  {
   "cell_type": "markdown",
   "metadata": {},
   "source": [
    "The sets $\\mathcal{B}$, $\\mathcal{K}^{(\\ell)}$, $\\mathcal{K}^{(c)}$, $\\mathcal{K}$, and $\\mathcal{I}$ are read by the following code."
   ]
  },
  {
   "cell_type": "code",
   "execution_count": 32,
   "metadata": {
    "collapsed": true
   },
   "outputs": [],
   "source": [
    "# # set of physical layer blocks (PRBs)\n",
    "with open('B.csv', 'rb') as f:\n",
    "    B_csv = csv.reader(f)\n",
    "    B = list(B_csv)\n",
    "    B = [item for sublist in B for item in sublist] # flatten list\n",
    "    B = map(int, map(float, B)) # convert to int\n",
    "    \n",
    "# # set of latency services    \n",
    "with open('Kl.csv', 'rb') as f:\n",
    "    Kl_csv = csv.reader(f)\n",
    "    Kl = list(Kl_csv)\n",
    "    Kl = [item for sublist in Kl for item in sublist] # flatten list\n",
    "    Kl = map(int, map(float, Kl)) # convert to int\n",
    "    \n",
    "# # set of capacity services    \n",
    "with open('Kc.csv', 'rb') as f:\n",
    "    Kc_csv = csv.reader(f)\n",
    "    Kc = list(Kc_csv)\n",
    "    Kc = [item for sublist in Kc for item in sublist] # flatten list\n",
    "    Kc = map(int, map(float, Kc)) # convert to int\n",
    "    \n",
    "# # set of all services\n",
    "K = Kl + Kc\n",
    "\n",
    "# # set of resource units (RUs)\n",
    "with open('I.csv', 'rb') as f:\n",
    "    I_csv = csv.reader(f)\n",
    "    I = list(I_csv)\n",
    "    I = [item for sublist in I for item in sublist] # flatten list\n",
    "    I = map(int, map(float, I)) # convert to int"
   ]
  },
  {
   "cell_type": "markdown",
   "metadata": {},
   "source": [
    "The parameters $\\mathbf{r}$, $\\mathbf{q}$, and $\\mathbf{a}$ are read below."
   ]
  },
  {
   "cell_type": "code",
   "execution_count": 33,
   "metadata": {
    "collapsed": true
   },
   "outputs": [],
   "source": [
    "# # matrix r\n",
    "with open('r.csv', 'rb') as f:\n",
    "    r_csv = csv.reader(f)\n",
    "    r = list(r_csv)\n",
    "    r = [ map(int,map(float,x)) for x in r] # convert to int\n",
    "\n",
    "# # vector q, only for Kl\n",
    "with open('q.csv', 'rb') as f:\n",
    "    q_csv = csv.reader(f)\n",
    "    q = list(q_csv)\n",
    "    q = [item for sublist in q for item in sublist] # flatten list\n",
    "    q = map(int, map(float, q)) # convert to int\n",
    "    \n",
    "# # matrix a\n",
    "with open('a.csv', 'rb') as f:\n",
    "    a_csv = csv.reader(f)\n",
    "    a = list(a_csv)\n",
    "    a = [ map(int,map(float,x)) for x in a] # convert to int"
   ]
  },
  {
   "cell_type": "markdown",
   "metadata": {},
   "source": [
    "The following code reads the overlapping relationship between any two PRBs."
   ]
  },
  {
   "cell_type": "code",
   "execution_count": 34,
   "metadata": {
    "collapsed": true
   },
   "outputs": [],
   "source": [
    "# if conflict_PRBs[b1][b2] == True, then the PRBs b1 b2 cannot be used simultaneously\n",
    "with open('conflict_PRB.csv', 'rb') as f:\n",
    "    conflict_PRB_csv = csv.reader(f)\n",
    "    conflict_PRB = list(conflict_PRB_csv)\n",
    "    conflict_PRB = [ map(lambda y: int(float(y))==1, x) for x in conflict_PRB]"
   ]
  },
  {
   "cell_type": "markdown",
   "metadata": {},
   "source": [
    "The original problem is relaxed by Lagrangian with $\\mathbf{\\lambda}>\\mathbf{0}$:"
   ]
  },
  {
   "cell_type": "markdown",
   "metadata": {},
   "source": [
    "The Lagrangian is as follows."
   ]
  },
  {
   "cell_type": "markdown",
   "metadata": {},
   "source": [
    "$$\n",
    "\\begin{align}\n",
    "g(\\mathbf{\\lambda})=\\max_{\\mathbf{x}} \\quad & \\sum_{b\\in\\mathcal{B}}\\sum_{k\\in\\mathcal{K}^{(c)}} r_{b,k}x_{b,k} + \\sum_{i\\in\\mathcal{I}}\\lambda_i(1-\\sum_{b\\in\\mathcal{B}}\\sum_{k\\in\\mathcal{K}}a_{b,i}x_{b,k})\\\\\n",
    "s.t. \\quad & \\sum_{b\\in\\mathcal{B}}r_{b,k}x_{b,k}\\geq q_{k} \\quad k\\in\\mathcal{K}^{(\\ell)} \\\\\n",
    "           & x_{b,k}\\in\\{0,1\\}\\quad b\\in\\mathcal{B},~k\\in\\mathcal{K}\n",
    "\\end{align}\n",
    "$$"
   ]
  },
  {
   "cell_type": "markdown",
   "metadata": {},
   "source": [
    "For any fixed $\\mathbf{\\lambda}$, the orginal problem decomposes to two problems in respect of $\\mathcal{K}^{(c)}$ and $\\mathcal{K}^{(\\ell)}$. For the sake of presentation, we denote \n",
    "$$\\alpha_b = \\sum_{i\\in\\mathcal{I}}\\lambda_i a_{b,i}$$ "
   ]
  },
  {
   "cell_type": "code",
   "execution_count": 35,
   "metadata": {
    "collapsed": true
   },
   "outputs": [],
   "source": [
    "def getAlpha(lam):\n",
    "    alpha=[]\n",
    "    for b in B:\n",
    "        alpha_b = sum( lam[i]*a[b][i] for i in I ) \n",
    "        alpha.append(alpha_b)\n",
    "    return alpha"
   ]
  },
  {
   "cell_type": "markdown",
   "metadata": {},
   "source": [
    "For $\\mathcal{K}^{(c)}$, the problem is as follows.\n",
    "$$\n",
    "\\begin{align}\n",
    "\\max_{\\mathbf{x}} \\quad & \\sum_{b\\in\\mathcal{B}}\\sum_{k\\in\\mathcal{K}^{(c)}} r_{b,k}x_{b,k} - \\sum_{b\\in\\mathcal{B}}\\sum_{k\\in\\mathcal{K}^{(c)}}\\alpha_{b}x_{b,k}\\\\\n",
    "s.t. \\quad & x_{b,k}\\in\\{0,1\\}\\quad b\\in\\mathcal{B},~k\\in\\mathcal{K}^{(c)}\n",
    "\\end{align}\n",
    "$$\n",
    "\n",
    "In the above formulation, it might happen that one PRB is allocated to multiple services simultaneously, which definitely leads to PRB overlap. Therefore we add an extra constraint such that the problem becomes:\n",
    "$$\n",
    "\\begin{align}\n",
    "\\max_{\\mathbf{x}} \\quad & \\sum_{b\\in\\mathcal{B}}\\sum_{k\\in\\mathcal{K}^{(c)}}x_{b,k}( r_{b,k} - \\alpha_{b})\\\\\n",
    "% s.t. \\quad & \\sum_{k\\in\\mathcal{K}^{(c)}}x_{b,k}\\leq 1 \\quad b\\in\\mathcal{B} \\\\\n",
    "           & x_{b,k}\\in\\{0,1\\}\\quad b\\in\\mathcal{B},~k\\in\\mathcal{K}^{(c)}\n",
    "\\end{align}\n",
    "$$\n",
    "\n",
    "It can be optimally solved by:\n",
    "For each $b\\in\\mathcal{B}$, we select one $k$, such that.\n",
    "$\n",
    "r_{b,k}-\\alpha_b > 0 \\text{ and } k = \\arg\\max_{k\\in\\mathcal{K}^{(c)}} r_{b,k}-\\alpha_b\n",
    "$.\n",
    "The corresponding code is as follows."
   ]
  },
  {
   "cell_type": "code",
   "execution_count": 36,
   "metadata": {
    "collapsed": true
   },
   "outputs": [],
   "source": [
    "# The argument lam is lambda\n",
    "# The function returns matrix x, with only columns in Kc being computed.\n",
    "# The columns in Kl of the returned matrix x are zero vectors.\n",
    "def solveP2( lam ):\n",
    "    PRB_alloc = [ -1 for b in B ] # PRB_alloc[b] is the index of service that PRB b should be allocated to\n",
    "                                  # PRB_alloc[b]=-1 means that PRB b is not allocated\n",
    "        \n",
    "    sol_x = [ [ 0 for k in K ] for b in B ] # variables to be returned\n",
    "    \n",
    "    alpha = getAlpha(lam)\n",
    "    for b in B:\n",
    "        tmp_list = [ r[b][k]-alpha[b] for k in Kc ]\n",
    "        if max(tmp_list) > 0:   # PRB is allocated only if r[b][k]-alpha[b] is positive\n",
    "            PRB_alloc[b] = len(Kl) + numpy.argmax(tmp_list) # Kl is added such that the value of PRB_alloc[b] is \n",
    "                                                       # coherent with the corresponding indexed position in K\n",
    "    \n",
    "    # Convert PRB_alloc to matrix x\n",
    "    for b in B:\n",
    "        k = PRB_alloc[b] # indexed service\n",
    "        if k >= 0: # indicating that PRB_alloc[b] != -1\n",
    "            sol_x[b][k] = 1\n",
    "    \n",
    "    return sol_x"
   ]
  },
  {
   "cell_type": "markdown",
   "metadata": {},
   "source": [
    "For $\\mathcal{K}^{(\\ell)}$, we have the problem below.\n",
    "$$\n",
    "\\begin{align}\n",
    "\\min_{\\mathbf{x}} \\quad &  \\sum_{b\\in\\mathcal{B}}\\sum_{k\\in\\mathcal{K}^{(\\ell)}}\\alpha_{b}x_{b,k}\\\\\n",
    "s.t. \\quad & \\sum_{b\\in\\mathcal{B}}r_{b,k}x_{b,k}\\geq q_{k} \\quad k\\in\\mathcal{K}^{(\\ell)} \\\\\n",
    "           & x_{b,k}\\in\\{0,1\\}\\quad b\\in\\mathcal{B},~k\\in\\mathcal{K}^{(\\ell)}\n",
    "\\end{align}\n",
    "$$\n",
    "\n",
    "The problem can decomposed to $|\\mathcal{K}^{(\\ell)}|$ knapsack problems and be optimally solved by dynamic programming. "
   ]
  },
  {
   "cell_type": "markdown",
   "metadata": {},
   "source": [
    "For $k\\in\\mathcal{K}^{(\\ell)}$:\n",
    "$$\n",
    "\\begin{align}\n",
    "\\min_{\\mathbf{x}} \\quad &  \\sum_{b\\in\\mathcal{B}}\\alpha_{b}x_{b,k}\\\\\n",
    "s.t. \\quad & \\sum_{b\\in\\mathcal{B}}r_{b,k}x_{b,k}\\geq q_{k}  \\\\\n",
    "           & x_{b,k}\\in\\{0,1\\}\\quad b\\in\\mathcal{B}\n",
    "\\end{align}\n",
    "$$"
   ]
  },
  {
   "cell_type": "markdown",
   "metadata": {},
   "source": [
    "Though the multiple knapsack problem can still be exactly solved by dynamic programming, here we use gurobi integer programming solver instead, without loss of optimality."
   ]
  },
  {
   "cell_type": "code",
   "execution_count": 37,
   "metadata": {
    "collapsed": true
   },
   "outputs": [],
   "source": [
    "# The argument lam is lambda\n",
    "# The function returns matrix x, with only columns in Kl being computed.\n",
    "# The columns in Kc of the returned matrix x are zero vectors.\n",
    "def solveP3( lam ):\n",
    "    # create optimization model\n",
    "    modelKl = Model('Integer Programming - Kl')\n",
    "    modelKl.modelSense = GRB.MINIMIZE\n",
    "    modelKl.setParam('OutputFlag', False) # slience output\n",
    "    \n",
    "    # create varialbes for modelKl:\n",
    "    xKl = []\n",
    "    for b in B:\n",
    "        xKl_b = []\n",
    "        for k in Kl:\n",
    "            xKl_b.append(modelKl.addVar(vtype=GRB.BINARY))\n",
    "        xKl.append(xKl_b)\n",
    "    modelKl.update()\n",
    "    \n",
    "    # add constraints \n",
    "    for k in Kl:\n",
    "        modelKl.addConstr( sum(r[b][k]*xKl[b][k] for b in B) >= q[k] )\n",
    "    modelKl.update()\n",
    "\n",
    "    # set objective function\n",
    "    alpha = getAlpha(lam)\n",
    "    modelKl.setObjective(\n",
    "        sum( alpha[b]*xKl[b][k] for k in Kl for b in B )\n",
    "    )\n",
    "    \n",
    "    # solve modelKl\n",
    "    modelKl.optimize()\n",
    "    \n",
    "    # construct variables to be returned \n",
    "    sol_x = [ [ 0 for k in K ] for b in B ]\n",
    "    for b in B:\n",
    "        for k in Kl:\n",
    "            sol_x[b][k] = int(xKl[b][k].x)\n",
    "            \n",
    "    return sol_x"
   ]
  },
  {
   "cell_type": "markdown",
   "metadata": {},
   "source": [
    "The solutions obtained by $\\texttt{solveP2}$ and $\\texttt{solveP3}$ can be merged to obtain the value of Lagrangian Dual function, by:"
   ]
  },
  {
   "cell_type": "markdown",
   "metadata": {},
   "source": [
    "Next, we use subgradient descent method to solve the Lagrangian Dual problem, i.e., $\\min_{\\mathbf{\\lambda}\\geq\\mathbf{0}} g(\\mathbf{\\lambda})$. After the completion of the gradient descent method, the obtained solution is not guaranteed to be feasible to the primal problem. The heuristic method to obtain a feasible solution is as follows: All PRBs allocation for $\\mathcal{K}^{(\\ell)}$ is kept so as to guarantee the latency constraints being satisfied. Then we solve $\\mathcal{K}^{(c)}$ under the current lambda and fixed $\\mathcal{K}^{(\\ell)}$ solutions.\n",
    "\n",
    "To achieve this goal, we need to implement a new function that solves Kc with some PRB allocations being fixed:"
   ]
  },
  {
   "cell_type": "code",
   "execution_count": 38,
   "metadata": {
    "collapsed": true
   },
   "outputs": [],
   "source": [
    "def assignBlockLD(lam, x_count):\n",
    "    priority = [ [i[0] for i in sorted(enumerate(x_count[k]), key=lambda y:y[1],reverse=True)] for k in K ]\n",
    "    \n",
    "    best = -1\n",
    "    sol_x_best = []\n",
    "    for i in range(400):\n",
    "        sol_x = [ [ 0 for k in K ] for b in B ] # variables to be returned\n",
    "        collision = [ False for b in B ]\n",
    "\n",
    "        Kl_rand = numpy.random.permutation(Kl)\n",
    "        Kc_rand = numpy.random.permutation(Kc)\n",
    "        B_rand = numpy.random.permutation(B)\n",
    "\n",
    "        for k in Kl_rand:\n",
    "            service_bit = sum(r[b][k]*sol_x[b][k] for b in B)\n",
    "            while service_bit < q[k] and collision.count(False)>0: \n",
    "                for pos in range(len(priority[k])):\n",
    "                    b = priority[k][pos]\n",
    "                    if collision[b] == False: \n",
    "                        sol_x[b][k] = 1\n",
    "                        service_bit += r[b][k]*sol_x[b][k]\n",
    "                        for p in B: # set all PRB overlapping with b to be in collision\n",
    "                            if conflict_PRB[b][p] == True:\n",
    "                                collision[p] = True\n",
    "                        break\n",
    "\n",
    "        alpha = getAlpha(lam)\n",
    "        for b in B_rand:\n",
    "            alloc = True\n",
    "            if collision[b]==True: # b wouldn't be allocated if in collision\n",
    "                alloc = False \n",
    "            if alloc == True: \n",
    "                tmp_list = [ r[b][k]-alpha[b] for k in Kc ]\n",
    "                user_to_alloc = len(Kl) + numpy.argmax(tmp_list) \n",
    "                sol_x[b][user_to_alloc] = 1\n",
    "                for p in B: # set all PRB overlapping with b to be in collision\n",
    "                    if conflict_PRB[b][p] == True:\n",
    "                        collision[p] = True\n",
    "                        \n",
    "        curr = sum(r[b][k]*sol_x[b][k] for k in Kc for b in B)\n",
    "        if curr > best:\n",
    "            best = curr\n",
    "            sol_x_best = sol_x\n",
    "                    \n",
    "    return sol_x_best"
   ]
  },
  {
   "cell_type": "code",
   "execution_count": 39,
   "metadata": {
    "collapsed": true
   },
   "outputs": [],
   "source": [
    "def assignBlockLP(x_count):\n",
    "    sol_x = [ [ 0 for k in K ] for b in B ]\n",
    "    collision = [ False for b in B ]\n",
    "    priority = [ [i[0] for i in sorted(enumerate(x_count[k]), key=lambda y:y[1],reverse=True)] for k in K ]\n",
    "    best_sol = [];\n",
    "    \n",
    "    best = -1\n",
    "    for k in range(400):\n",
    "        Kl_rand = numpy.random.permutation(Kl)\n",
    "        Kc_rand = numpy.random.permutation(Kc)\n",
    "        B_rand = numpy.random.permutation(B)\n",
    "\n",
    "        for k in Kl_rand:\n",
    "            service_bit = sum(r[b][k]*sol_x[b][k] for b in B)\n",
    "            while service_bit < q[k] and collision.count(False)>0: \n",
    "                for pos in range(len(priority[k])):\n",
    "                    b = priority[k][pos]\n",
    "                    if collision[b] == False: \n",
    "                        sol_x[b][k] = 1\n",
    "                        service_bit += r[b][k]*sol_x[b][k]\n",
    "                        for p in B: # set all PRB overlapping with b to be in collision\n",
    "                            if conflict_PRB[b][p] == True:\n",
    "                                collision[p] = True\n",
    "                        break\n",
    "                \n",
    "        for k in Kc_rand:\n",
    "            for b in B_rand:\n",
    "                if collision[b] == False and x_count[k][b] >= 0.5:\n",
    "                    sol_x[b][k]=1\n",
    "                    for p in B:\n",
    "                        if conflict_PRB[b][p] == True:\n",
    "                            collision[p] = True\n",
    "\n",
    "        while collision.count(False)>0:\n",
    "            for k in Kc_rand:\n",
    "                for pos in range(len(priority[k])):\n",
    "                    b = priority[k][pos]\n",
    "                    if collision[b] == False:\n",
    "                        sol_x[b][k] = 1\n",
    "                        for p in B:\n",
    "                            if conflict_PRB[b][p] == True:\n",
    "                                collision[p] = True\n",
    "                        break\n",
    "\n",
    "        obj = sum( r[b][k]*int(sol_x[b][k]) for k in Kc for b in B )\n",
    "        if obj > best:\n",
    "            best = obj\n",
    "            best_sol = sol_x\n",
    "\n",
    "    return best_sol"
   ]
  },
  {
   "cell_type": "markdown",
   "metadata": {},
   "source": [
    "The following function checks whether a solution is primal feasible."
   ]
  },
  {
   "cell_type": "code",
   "execution_count": 40,
   "metadata": {
    "collapsed": true
   },
   "outputs": [],
   "source": [
    "def isFeasible(x):\n",
    "    if (numpy.dot( numpy.dot(numpy.matrix(a).transpose(), \n",
    "                             numpy.matrix(x)), numpy.ones(len(K)) ) \n",
    "        > numpy.ones(len(I))).tolist()[0].count(True)>0:\n",
    "        return False\n",
    "    if (numpy.dot(numpy.multiply(numpy.matrix(r),numpy.matrix(x))[:,0:len(Kl)].transpose(),\n",
    "                  numpy.ones(len(B)))<numpy.matrix(q)).tolist()[0].count(True)>0:\n",
    "        return False\n",
    "    return True"
   ]
  },
  {
   "cell_type": "markdown",
   "metadata": {},
   "source": [
    "The gradient descent along with the heuristic afterwards is implemented as follows."
   ]
  },
  {
   "cell_type": "code",
   "execution_count": 41,
   "metadata": {
    "collapsed": true
   },
   "outputs": [],
   "source": [
    "def LPBased(rho):\n",
    "    model = Model('Linear Programming')\n",
    "    model.modelSense = GRB.MAXIMIZE\n",
    "    model.setParam('OutputFlag', False) # slience output\n",
    "\n",
    "    x = []\n",
    "    for b in B:\n",
    "        x_b = []\n",
    "        for k in K:\n",
    "            x_b.append(model.addVar(vtype=GRB.CONTINUOUS, lb=0, ub=1))\n",
    "        x.append(x_b)\n",
    "\n",
    "    model.update()\n",
    "\n",
    "    for k in Kl:\n",
    "        model.addConstr( sum(r[b][k]*x[b][k] for b in B) >= q[k] )\n",
    "    model.update()\n",
    "\n",
    "    for i in I:\n",
    "        model.addConstr( sum(a[b][i]*x[b][k] for k in K for b in B ) <= 1 )\n",
    "    model.update()\n",
    "\n",
    "    model.setObjective(\n",
    "        sum( r[b][k]*x[b][k] for k in Kc for b in B )\n",
    "    )\n",
    "\n",
    "    model.optimize()\n",
    "    \n",
    "    x_count = [ [ x[b][k].x for b in B] for k in K ]\n",
    "    for b in B:\n",
    "        for k in K:\n",
    "            if x[b][k].x < rho:\n",
    "                x_count[k][b] = 0\n",
    "    return x_count"
   ]
  },
  {
   "cell_type": "code",
   "execution_count": 42,
   "metadata": {
    "collapsed": true,
    "scrolled": false
   },
   "outputs": [],
   "source": [
    "def LDBased(M, varphi, beta, gamma):\n",
    "    start_time = time.time()\n",
    "    x_count_LP = LPBased(0)\n",
    "    x_LP = assignBlockLP(x_count_LP)\n",
    "    obj_LP =  sum(r[b][k]*x_count_LP[k][b] for k in Kc for b in B)\n",
    "    \n",
    "    lam = [1 for i in I]\n",
    "    x_prev = [ [0 for k in K ] for b in B ]\n",
    "    penalty = [ 1 for i in I ]\n",
    "    x_count = [ [ 0 for b in B ] for k in K ]\n",
    "    best_dual_sofar = 1e10\n",
    "    eta = 0.95\n",
    "    no_improve_count = 0\n",
    "    \n",
    "    for j in range(1, M+1): \n",
    "        \n",
    "        xKc = solveP2(lam)\n",
    "        xKl = solveP3(lam)\n",
    "        x = (numpy.matrix(xKl) + numpy.matrix(xKc)).tolist() \n",
    "\n",
    "        # obtain the corresponding dual function value under current lambda\n",
    "\n",
    "        dual = sum(r[b][k]*x[b][k] for k in Kc for b in B) + sum( lam[i]*(1-sum(a[b][i]*x[b][k] for k in K for b in B)) for i in I)\n",
    "        if dual < best_dual_sofar + 0.005:\n",
    "            no_improve_count = 0\n",
    "            best_dual_sofar = dual\n",
    "            gamma = min(gamma*1.05, 1.9)\n",
    "        else:\n",
    "            no_improve_count += 1\n",
    "\n",
    "        if no_improve_count >=1:\n",
    "            gamma = 0.95*gamma\n",
    "            no_improve_count = 0\n",
    "\n",
    "        numurator = abs(dual - obj_LP*beta)\n",
    "        denominator = numpy.linalg.norm(penalty, 2)**2\n",
    "\n",
    "        if j<varphi:\n",
    "            mu = 10/float(j**0.5)\n",
    "        else:\n",
    "            mu = gamma*numurator/denominator\n",
    "\n",
    "        penalty = (numpy.ones(len(I))- numpy.dot( numpy.dot(numpy.matrix(a).transpose(), numpy.matrix(x)), numpy.ones(len(K)))).tolist()[0]\n",
    "        lam = map(lambda y:max(y,0), (numpy.matrix(lam) - mu*numpy.matrix(penalty)).tolist()[0])\n",
    "\n",
    "        x_count = (numpy.matrix(x_count) + numpy.matrix(x).transpose()).tolist()    \n",
    "        \n",
    "        print 'iteration', j, 'step length=', mu, 'dual=', best_dual_sofar, 'gamma=', gamma\n",
    "        \n",
    "    print 'LD upper bound = ', best_dual_sofar\n",
    "    print 'Solving LD costs', time.time()-start_time, 'seconds'\n",
    "    return [lam, x_count]"
   ]
  },
  {
   "cell_type": "code",
   "execution_count": 43,
   "metadata": {
    "scrolled": true
   },
   "outputs": [
    {
     "name": "stdout",
     "output_type": "stream",
     "text": [
      "LP upper bound = 1995.95452024\n",
      "calculating final solution (LP)... \n",
      "feasibility= False \n",
      " obj= 0\n"
     ]
    }
   ],
   "source": [
    "x_count_LP = LPBased(0)\n",
    "print 'LP upper bound =', sum(r[b][k]*x_count_LP[k][b] for k in Kc for b in B)\n",
    "print 'calculating final solution (LP)... '\n",
    "x_LP = assignBlockLP(x_count_LP)\n",
    "print 'feasibility=', isFeasible(x_LP), '\\n obj=', sum(r[b][k]*x_LP[b][k] for k in Kc for b in B)"
   ]
  },
  {
   "cell_type": "code",
   "execution_count": 44,
   "metadata": {
    "scrolled": false
   },
   "outputs": [
    {
     "name": "stdout",
     "output_type": "stream",
     "text": [
      "iteration 1 step length= 10.0 dual= 65924 gamma= 0.525\n",
      "iteration 2 step length= 7.07106781187 dual= 9075.0 gamma= 0.55125\n",
      "iteration 3 step length= 5.7735026919 dual= 7754.80194847 gamma= 0.5788125\n",
      "iteration 4 step length= 5.0 dual= 7130.23431034 gamma= 0.607753125\n",
      "iteration 5 step length= 16.0854454939 dual= 6637.08138014 gamma= 0.63814078125\n",
      "iteration 6 step length= 13.7239149557 dual= 6637.08138014 gamma= 0.606233742188\n",
      "iteration 7 step length= 7.61965744485 dual= 6637.08138014 gamma= 0.575922055078\n",
      "iteration 8 step length= 2.7234718694 dual= 6173.24358355 gamma= 0.604718157832\n",
      "iteration 9 step length= 5.81039647432 dual= 5814.46302138 gamma= 0.634954065724\n",
      "iteration 10 step length= 10.1602645547 dual= 5445.501568 gamma= 0.66670176901\n",
      "iteration 11 step length= 9.27265175338 dual= 5140.50780043 gamma= 0.70003685746\n",
      "iteration 12 step length= 7.73588229294 dual= 4917.04480867 gamma= 0.735038700333\n",
      "iteration 13 step length= 5.89059286765 dual= 4718.98046566 gamma= 0.77179063535\n",
      "iteration 14 step length= 7.38608329013 dual= 4394.40704795 gamma= 0.810380167117\n",
      "iteration 15 step length= 9.166414256 dual= 4217.35463679 gamma= 0.850899175473\n",
      "iteration 16 step length= 4.25745342788 dual= 4217.35463679 gamma= 0.8083542167\n",
      "iteration 17 step length= 3.43380358432 dual= 4217.35463679 gamma= 0.767936505865\n",
      "iteration 18 step length= 5.53667591806 dual= 3948.76850138 gamma= 0.806333331158\n",
      "iteration 19 step length= 8.49335478005 dual= 3883.47606144 gamma= 0.846649997716\n",
      "iteration 20 step length= 5.7759539532 dual= 3883.47606144 gamma= 0.80431749783\n",
      "iteration 21 step length= 3.2213605085 dual= 3883.47606144 gamma= 0.764101622939\n",
      "iteration 22 step length= 3.91355069504 dual= 3872.09297007 gamma= 0.802306704085\n",
      "iteration 23 step length= 4.78512523156 dual= 3684.63116105 gamma= 0.84242203929\n",
      "iteration 24 step length= 4.92633562449 dual= 3567.86494813 gamma= 0.884543141254\n",
      "iteration 25 step length= 2.90470529615 dual= 3567.86494813 gamma= 0.840315984192\n",
      "iteration 26 step length= 3.52643745506 dual= 3375.18582223 gamma= 0.882331783401\n",
      "iteration 27 step length= 8.39713319377 dual= 3346.17106306 gamma= 0.926448372571\n",
      "iteration 28 step length= 8.53896787763 dual= 3346.17106306 gamma= 0.880125953943\n",
      "iteration 29 step length= 2.60305182555 dual= 3346.17106306 gamma= 0.836119656245\n",
      "iteration 30 step length= 1.75097666618 dual= 3346.17106306 gamma= 0.794313673433\n",
      "iteration 31 step length= 3.10900348502 dual= 3346.17106306 gamma= 0.754597989762\n",
      "iteration 32 step length= 4.31451484658 dual= 3346.17106306 gamma= 0.716868090273\n",
      "iteration 33 step length= 3.31839918174 dual= 3346.17106306 gamma= 0.68102468576\n",
      "iteration 34 step length= 3.66488083619 dual= 3346.17106306 gamma= 0.646973451472\n",
      "iteration 35 step length= 2.63034225207 dual= 3346.17106306 gamma= 0.614624778898\n",
      "iteration 36 step length= 2.95688085957 dual= 3346.17106306 gamma= 0.583893539953\n",
      "iteration 37 step length= 3.88353236321 dual= 3346.17106306 gamma= 0.554698862956\n",
      "iteration 38 step length= 2.42869291309 dual= 3346.17106306 gamma= 0.526963919808\n",
      "iteration 39 step length= 2.26162593366 dual= 3217.08623819 gamma= 0.553312115798\n",
      "iteration 40 step length= 2.72630643595 dual= 3094.9614662 gamma= 0.580977721588\n",
      "iteration 41 step length= 4.40908165261 dual= 2997.54508208 gamma= 0.610026607668\n",
      "iteration 42 step length= 3.40621526536 dual= 2997.54508208 gamma= 0.579525277284\n",
      "iteration 43 step length= 1.98816303482 dual= 2997.54508208 gamma= 0.55054901342\n",
      "iteration 44 step length= 1.60196110672 dual= 2954.68269401 gamma= 0.578076464091\n",
      "iteration 45 step length= 2.83863366858 dual= 2856.37025946 gamma= 0.606980287296\n",
      "iteration 46 step length= 4.96132746309 dual= 2786.39958284 gamma= 0.63732930166\n",
      "iteration 47 step length= 4.0497755301 dual= 2786.39958284 gamma= 0.605462836577\n",
      "iteration 48 step length= 1.39621416981 dual= 2786.39958284 gamma= 0.575189694748\n",
      "iteration 49 step length= 0.993621690053 dual= 2786.39958284 gamma= 0.546430210011\n",
      "iteration 50 step length= 1.85964342896 dual= 2786.39958284 gamma= 0.51910869951\n",
      "iteration 51 step length= 2.9729263015 dual= 2786.39958284 gamma= 0.493153264535\n",
      "iteration 52 step length= 1.76499920626 dual= 2786.39958284 gamma= 0.468495601308\n",
      "iteration 53 step length= 2.30388987634 dual= 2717.55582029 gamma= 0.491920381374\n",
      "iteration 54 step length= 2.30238130571 dual= 2703.96047734 gamma= 0.516516400442\n",
      "iteration 55 step length= 1.79865958455 dual= 2703.96047734 gamma= 0.49069058042\n",
      "iteration 56 step length= 1.35119797838 dual= 2603.95985977 gamma= 0.515225109441\n",
      "iteration 57 step length= 2.49984761963 dual= 2528.32458194 gamma= 0.540986364913\n",
      "iteration 58 step length= 2.70270326215 dual= 2528.32458194 gamma= 0.513937046668\n",
      "iteration 59 step length= 1.1633967933 dual= 2528.32458194 gamma= 0.488240194334\n",
      "iteration 60 step length= 0.739458354053 dual= 2528.32458194 gamma= 0.463828184617\n",
      "iteration 61 step length= 1.33836623797 dual= 2528.32458194 gamma= 0.440636775387\n",
      "iteration 62 step length= 2.04485877262 dual= 2518.62646629 gamma= 0.462668614156\n",
      "iteration 63 step length= 1.78304218654 dual= 2518.62646629 gamma= 0.439535183448\n",
      "iteration 64 step length= 1.0356089444 dual= 2518.62646629 gamma= 0.417558424276\n",
      "iteration 65 step length= 1.01458705835 dual= 2492.61292794 gamma= 0.43843634549\n",
      "iteration 66 step length= 1.9660229141 dual= 2439.65229773 gamma= 0.460358162764\n",
      "iteration 67 step length= 2.10808092318 dual= 2439.65229773 gamma= 0.437340254626\n",
      "iteration 68 step length= 1.39102818624 dual= 2439.65229773 gamma= 0.415473241894\n",
      "iteration 69 step length= 0.87660965375 dual= 2439.65229773 gamma= 0.3946995798\n",
      "iteration 70 step length= 1.27939847828 dual= 2400.41879535 gamma= 0.41443455879\n",
      "iteration 71 step length= 1.20505044056 dual= 2394.40880593 gamma= 0.435156286729\n",
      "iteration 72 step length= 1.03818779523 dual= 2394.40880593 gamma= 0.413398472393\n",
      "iteration 73 step length= 1.2453002142 dual= 2390.83591875 gamma= 0.434068396012\n",
      "iteration 74 step length= 1.9670775014 dual= 2343.95026572 gamma= 0.455771815813\n",
      "iteration 75 step length= 1.98454693993 dual= 2343.95026572 gamma= 0.432983225022\n",
      "iteration 76 step length= 0.888183659758 dual= 2343.95026572 gamma= 0.411334063771\n",
      "iteration 77 step length= 0.587511686557 dual= 2343.95026572 gamma= 0.390767360583\n",
      "iteration 78 step length= 0.873706151526 dual= 2343.95026572 gamma= 0.371228992554\n",
      "iteration 79 step length= 1.28552803093 dual= 2343.95026572 gamma= 0.352667542926\n",
      "iteration 80 step length= 0.968697391859 dual= 2343.95026572 gamma= 0.33503416578\n",
      "iteration 81 step length= 0.953241238613 dual= 2343.95026572 gamma= 0.318282457491\n",
      "iteration 82 step length= 0.753522454593 dual= 2343.95026572 gamma= 0.302368334616\n",
      "iteration 83 step length= 0.991913013498 dual= 2315.16597953 gamma= 0.317486751347\n",
      "iteration 84 step length= 1.28907478285 dual= 2315.16597953 gamma= 0.30161241378\n",
      "iteration 85 step length= 0.997427486387 dual= 2315.16597953 gamma= 0.286531793091\n",
      "iteration 86 step length= 0.969231946982 dual= 2315.16597953 gamma= 0.272205203436\n",
      "iteration 87 step length= 0.788120490609 dual= 2308.71418623 gamma= 0.285815463608\n",
      "iteration 88 step length= 0.817579278818 dual= 2290.458639 gamma= 0.300106236788\n",
      "iteration 89 step length= 1.27039852034 dual= 2285.17253331 gamma= 0.315111548628\n",
      "iteration 90 step length= 0.98628789191 dual= 2285.17253331 gamma= 0.299355971196\n",
      "iteration 91 step length= 0.616502960177 dual= 2285.17253331 gamma= 0.284388172636\n",
      "iteration 92 step length= 0.804981286642 dual= 2285.17253331 gamma= 0.270168764005\n",
      "iteration 93 step length= 0.699854159708 dual= 2278.79206221 gamma= 0.283677202205\n",
      "iteration 94 step length= 1.19983972386 dual= 2268.56373642 gamma= 0.297861062315\n",
      "iteration 95 step length= 0.755732752458 dual= 2268.56373642 gamma= 0.282968009199\n",
      "iteration 96 step length= 0.460180123227 dual= 2268.56373642 gamma= 0.268819608739\n",
      "iteration 97 step length= 0.696589615726 dual= 2268.56373642 gamma= 0.255378628302\n",
      "iteration 98 step length= 1.19160904127 dual= 2265.37486205 gamma= 0.268147559718\n",
      "iteration 99 step length= 0.776088948257 dual= 2265.37486205 gamma= 0.254740181732\n",
      "iteration 100 step length= 0.382273052562 dual= 2265.37486205 gamma= 0.242003172645\n",
      "iteration 101 step length= 0.638365525129 dual= 2265.37486205 gamma= 0.229903014013\n"
     ]
    },
    {
     "name": "stdout",
     "output_type": "stream",
     "text": [
      "iteration 102 step length= 0.862977843735 dual= 2265.37486205 gamma= 0.218407863312\n",
      "iteration 103 step length= 0.569302152133 dual= 2265.37486205 gamma= 0.207487470147\n",
      "iteration 104 step length= 0.418542888127 dual= 2261.37621315 gamma= 0.217861843654\n",
      "iteration 105 step length= 0.478381653752 dual= 2231.91898558 gamma= 0.228754935837\n",
      "iteration 106 step length= 1.02905641739 dual= 2227.81397804 gamma= 0.240192682628\n",
      "iteration 107 step length= 0.754754402617 dual= 2227.81397804 gamma= 0.228183048497\n",
      "iteration 108 step length= 0.326564744009 dual= 2227.81397804 gamma= 0.216773896072\n",
      "iteration 109 step length= 0.562784812881 dual= 2227.81397804 gamma= 0.205935201269\n",
      "iteration 110 step length= 0.829560673295 dual= 2227.81397804 gamma= 0.195638441205\n",
      "iteration 111 step length= 0.946314807256 dual= 2227.81397804 gamma= 0.185856519145\n",
      "iteration 112 step length= 0.446986225967 dual= 2227.81397804 gamma= 0.176563693188\n",
      "iteration 113 step length= 0.269898723018 dual= 2227.81397804 gamma= 0.167735508528\n",
      "iteration 114 step length= 0.523001945944 dual= 2219.2001612 gamma= 0.176122283955\n",
      "iteration 115 step length= 0.538272363255 dual= 2219.2001612 gamma= 0.167316169757\n",
      "iteration 116 step length= 0.593799348396 dual= 2217.0763123 gamma= 0.175681978245\n",
      "iteration 117 step length= 0.491071513793 dual= 2217.0763123 gamma= 0.166897879333\n",
      "iteration 118 step length= 0.798763287572 dual= 2207.06164144 gamma= 0.175242773299\n",
      "iteration 119 step length= 0.605390535233 dual= 2207.06164144 gamma= 0.166480634634\n",
      "iteration 120 step length= 0.338308918247 dual= 2207.06164144 gamma= 0.158156602902\n",
      "iteration 121 step length= 0.376713448933 dual= 2207.06164144 gamma= 0.150248772757\n",
      "iteration 122 step length= 0.513948129402 dual= 2204.77186795 gamma= 0.157761211395\n",
      "iteration 123 step length= 0.444960588826 dual= 2204.77186795 gamma= 0.149873150825\n",
      "iteration 124 step length= 0.335856552693 dual= 2204.50746102 gamma= 0.157366808367\n",
      "iteration 125 step length= 0.498158456509 dual= 2197.02570701 gamma= 0.165235148785\n",
      "iteration 126 step length= 0.449259126706 dual= 2197.02570701 gamma= 0.156973391346\n",
      "iteration 127 step length= 0.347140815236 dual= 2197.02570701 gamma= 0.149124721779\n",
      "iteration 128 step length= 0.338196871324 dual= 2193.33490563 gamma= 0.156580957867\n",
      "iteration 129 step length= 0.544463861431 dual= 2186.68146061 gamma= 0.164410005761\n",
      "iteration 130 step length= 0.598858182163 dual= 2186.68146061 gamma= 0.156189505473\n",
      "iteration 131 step length= 0.366040470429 dual= 2186.68146061 gamma= 0.148380030199\n",
      "iteration 132 step length= 0.393037977166 dual= 2186.68146061 gamma= 0.140961028689\n",
      "iteration 133 step length= 0.346691662473 dual= 2186.68146061 gamma= 0.133912977255\n",
      "iteration 134 step length= 0.502930440103 dual= 2183.00759904 gamma= 0.140608626117\n",
      "iteration 135 step length= 0.711550184309 dual= 2183.00759904 gamma= 0.133578194812\n",
      "iteration 136 step length= 0.293927583637 dual= 2183.00759904 gamma= 0.126899285071\n",
      "iteration 137 step length= 0.204994404167 dual= 2183.00759904 gamma= 0.120554320817\n",
      "iteration 138 step length= 0.396235374849 dual= 2183.00759904 gamma= 0.114526604777\n",
      "iteration 139 step length= 0.428810257231 dual= 2183.00759904 gamma= 0.108800274538\n",
      "iteration 140 step length= 0.250238266547 dual= 2183.00759904 gamma= 0.103360260811\n",
      "iteration 141 step length= 0.196358465731 dual= 2181.44944507 gamma= 0.108528273851\n",
      "iteration 142 step length= 0.401715881761 dual= 2175.99190444 gamma= 0.113954687544\n",
      "iteration 143 step length= 0.443190656735 dual= 2175.99190444 gamma= 0.108256953167\n",
      "iteration 144 step length= 0.319173857735 dual= 2175.99190444 gamma= 0.102844105508\n",
      "iteration 145 step length= 0.18113460471 dual= 2175.99190444 gamma= 0.097701900233\n",
      "iteration 146 step length= 0.314663121781 dual= 2168.92258681 gamma= 0.102586995245\n",
      "iteration 147 step length= 0.550327064334 dual= 2166.59297868 gamma= 0.107716345007\n",
      "iteration 148 step length= 0.427884855618 dual= 2166.59297868 gamma= 0.102330527757\n",
      "iteration 149 step length= 0.168104970706 dual= 2166.59297868 gamma= 0.0972140013687\n",
      "iteration 150 step length= 0.28113537712 dual= 2166.59297868 gamma= 0.0923533013003\n",
      "iteration 151 step length= 0.304709949498 dual= 2166.59297868 gamma= 0.0877356362353\n",
      "iteration 152 step length= 0.196510972358 dual= 2166.59297868 gamma= 0.0833488544235\n",
      "iteration 153 step length= 0.262636031095 dual= 2164.71667084 gamma= 0.0875162971447\n",
      "iteration 154 step length= 0.325115716795 dual= 2163.57938849 gamma= 0.0918921120019\n",
      "iteration 155 step length= 0.235468690181 dual= 2163.57938849 gamma= 0.0872975064018\n",
      "iteration 156 step length= 0.312941574766 dual= 2160.87454647 gamma= 0.0916623817219\n",
      "iteration 157 step length= 0.226461278823 dual= 2160.87454647 gamma= 0.0870792626358\n",
      "iteration 158 step length= 0.227965086529 dual= 2160.30420743 gamma= 0.0914332257676\n",
      "iteration 159 step length= 0.313531767647 dual= 2160.3034742 gamma= 0.096004887056\n",
      "iteration 160 step length= 0.300938807634 dual= 2160.3034742 gamma= 0.0912046427032\n",
      "iteration 161 step length= 0.214516753963 dual= 2160.3034742 gamma= 0.086644410568\n",
      "iteration 162 step length= 0.214601565138 dual= 2158.89882667 gamma= 0.0909766310964\n",
      "iteration 163 step length= 0.320689090971 dual= 2153.12773991 gamma= 0.0955254626513\n",
      "iteration 164 step length= 0.291480967082 dual= 2153.12773991 gamma= 0.0907491895187\n",
      "iteration 165 step length= 0.18908718125 dual= 2153.12773991 gamma= 0.0862117300428\n",
      "iteration 166 step length= 0.179787220784 dual= 2153.12773991 gamma= 0.0819011435406\n",
      "iteration 167 step length= 0.181656547357 dual= 2153.12773991 gamma= 0.0778060863636\n",
      "iteration 168 step length= 0.280488494584 dual= 2149.75738888 gamma= 0.0816963906818\n",
      "iteration 169 step length= 0.238694381088 dual= 2149.75738888 gamma= 0.0776115711477\n",
      "iteration 170 step length= 0.172432951736 dual= 2149.75738888 gamma= 0.0737309925903\n",
      "iteration 171 step length= 0.236954960474 dual= 2149.75738888 gamma= 0.0700444429608\n",
      "iteration 172 step length= 0.132724102492 dual= 2149.75738888 gamma= 0.0665422208128\n",
      "iteration 173 step length= 0.148012820066 dual= 2149.75738888 gamma= 0.0632151097721\n",
      "iteration 174 step length= 0.169980921442 dual= 2147.27700604 gamma= 0.0663758652607\n",
      "iteration 175 step length= 0.187384339294 dual= 2147.27700604 gamma= 0.0630570719977\n",
      "iteration 176 step length= 0.208424211503 dual= 2147.27700604 gamma= 0.0599042183978\n",
      "iteration 177 step length= 0.158851994099 dual= 2147.27700604 gamma= 0.0569090074779\n",
      "iteration 178 step length= 0.256099331245 dual= 2142.29093974 gamma= 0.0597544578518\n",
      "iteration 179 step length= 0.205396157325 dual= 2142.29093974 gamma= 0.0567667349592\n",
      "iteration 180 step length= 0.115790539159 dual= 2142.29093974 gamma= 0.0539283982113\n",
      "iteration 181 step length= 0.178723287642 dual= 2142.29093974 gamma= 0.0512319783007\n",
      "iteration 182 step length= 0.121585556252 dual= 2142.29093974 gamma= 0.0486703793857\n",
      "iteration 183 step length= 0.172296106193 dual= 2141.59756741 gamma= 0.0511038983549\n",
      "iteration 184 step length= 0.167146595815 dual= 2141.59756741 gamma= 0.0485487034372\n",
      "iteration 185 step length= 0.121163577285 dual= 2141.59756741 gamma= 0.0461212682653\n",
      "iteration 186 step length= 0.124779490327 dual= 2139.7423227 gamma= 0.0484273316786\n",
      "iteration 187 step length= 0.204140385723 dual= 2138.17426833 gamma= 0.0508486982625\n",
      "iteration 188 step length= 0.130475019878 dual= 2138.17426833 gamma= 0.0483062633494\n",
      "iteration 189 step length= 0.10637452955 dual= 2138.17426833 gamma= 0.0458909501819\n",
      "iteration 190 step length= 0.13777791501 dual= 2138.17426833 gamma= 0.0435964026728\n",
      "iteration 191 step length= 0.174258778703 dual= 2138.14470339 gamma= 0.0457762228065\n",
      "iteration 192 step length= 0.155827756638 dual= 2138.14470339 gamma= 0.0434874116662\n",
      "iteration 193 step length= 0.0729594090063 dual= 2138.14470339 gamma= 0.0413130410828\n",
      "iteration 194 step length= 0.118008921442 dual= 2137.27183602 gamma= 0.043378693137\n",
      "iteration 195 step length= 0.116674455911 dual= 2137.27183602 gamma= 0.0412097584801\n",
      "iteration 196 step length= 0.131720426958 dual= 2134.91663384 gamma= 0.0432702464041\n",
      "iteration 197 step length= 0.12121762129 dual= 2134.91663384 gamma= 0.0411067340839\n",
      "iteration 198 step length= 0.133044176827 dual= 2134.26678043 gamma= 0.0431620707881\n",
      "iteration 199 step length= 0.118580840801 dual= 2134.26678043 gamma= 0.0410039672487\n"
     ]
    },
    {
     "name": "stdout",
     "output_type": "stream",
     "text": [
      "iteration 200 step length= 0.114080310288 dual= 2134.26678043 gamma= 0.0389537688863\n",
      "LD upper bound =  2134.26678043\n",
      "Solving LD costs 232.890416145 seconds\n",
      "calculating final solution ... \n",
      "feasibility= True \n",
      " obj= 1677\n"
     ]
    }
   ],
   "source": [
    "# lam = [1 for i in I]\n",
    "result = LDBased(M=200, varphi=5, beta=0.85, gamma=0.5)\n",
    "lam = result[0]\n",
    "x_count_LD = result[1]\n",
    "print 'calculating final solution ... '\n",
    "x_LD = assignBlockLD(lam,x_count_LD)\n",
    "print 'feasibility=', isFeasible(x_LD), '\\n obj=', sum(r[b][k]*x_LD[b][k] for k in Kc for b in B)"
   ]
  },
  {
   "cell_type": "code",
   "execution_count": 45,
   "metadata": {},
   "outputs": [
    {
     "name": "stdout",
     "output_type": "stream",
     "text": [
      "feasibility= True \n",
      " obj= 1677\n"
     ]
    }
   ],
   "source": [
    "x_LD = assignBlockLD(lam,x_count_LD)\n",
    "print 'feasibility=', isFeasible(x_LD), '\\n obj=', sum(r[b][k]*x_LD[b][k] for k in Kc for b in B)"
   ]
  }
 ],
 "metadata": {
  "kernelspec": {
   "display_name": "Python 2",
   "language": "python",
   "name": "python2"
  },
  "language_info": {
   "codemirror_mode": {
    "name": "ipython",
    "version": 2
   },
   "file_extension": ".py",
   "mimetype": "text/x-python",
   "name": "python",
   "nbconvert_exporter": "python",
   "pygments_lexer": "ipython2",
   "version": "2.7.14"
  }
 },
 "nbformat": 4,
 "nbformat_minor": 2
}

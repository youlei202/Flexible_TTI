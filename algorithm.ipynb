{
 "cells": [
  {
   "cell_type": "markdown",
   "metadata": {
    "collapsed": true
   },
   "source": [
    "# Algorithm Implementation\n",
    "\n",
    "by [Lei You](http://user.it.uu.se/~leiyo378)"
   ]
  },
  {
   "cell_type": "markdown",
   "metadata": {},
   "source": [
    "In this document, we solve the flexible TTI allocation problem to optimum, by using our proposed algorithm. The formulation of the original problem is as below."
   ]
  },
  {
   "cell_type": "markdown",
   "metadata": {},
   "source": [
    "$$\n",
    "\\begin{align}\n",
    "\\max_{\\mathbf{x}} \\quad & \\sum_{b\\in\\mathcal{B}}\\sum_{k\\in\\mathcal{K}^{(c)}} r_{b,k}x_{b,k} \\\\\n",
    "s.t. \\quad & \\sum_{b\\in\\mathcal{B}}r_{b,k}x_{b,k}\\geq q_{k} \\quad k\\in\\mathcal{K}^{(\\ell)} \\\\\n",
    "           & \\sum_{b\\in\\mathcal{B}}\\sum_{k\\in\\mathcal{K}}a_{b,i}x_{b,k}\\leq 1 \\quad i\\in\\mathcal{I} \\\\\n",
    "           & x_{b,k}\\in\\{0,1\\}\\quad b\\in\\mathcal{B},~k\\in\\mathcal{K}\n",
    "\\end{align}\n",
    "$$"
   ]
  },
  {
   "cell_type": "markdown",
   "metadata": {},
   "source": [
    "We have $x_{b,k}=1$ if and only if physical resource block (PRB) $b$ is allocated to service $k$."
   ]
  },
  {
   "cell_type": "markdown",
   "metadata": {},
   "source": [
    "Recall that $\\tau_k$ is the maximum tolerant latency of service $k$, and $d_b$ is the end time of the PRB $b$. The constraints for the latency is imposed, by letting $r_{b,k}$ follow the rule:\n",
    "$$\n",
    "r_{b,k}=\\left\\{\n",
    "\\begin{array}{ll}\n",
    "0 & \\text{if } \\tau_k-d_b<0 \\\\\n",
    "\\text{capacity} & \\text{otherwise}\n",
    "\\end{array}\n",
    "\\right.\n",
    "$$"
   ]
  },
  {
   "cell_type": "markdown",
   "metadata": {},
   "source": [
    "Here we go."
   ]
  },
  {
   "cell_type": "code",
   "execution_count": 18,
   "metadata": {
    "collapsed": true
   },
   "outputs": [],
   "source": [
    "import sys\n",
    "import scipy.io\n",
    "import numpy\n",
    "import math\n",
    "import csv\n",
    "from operator import add\n",
    "\n",
    "from gurobipy import *\n",
    "\n",
    "# set the directory path\n",
    "import os\n",
    "folder_name = os.getcwd()\n",
    "\n",
    "epsilon = 10e-6"
   ]
  },
  {
   "cell_type": "markdown",
   "metadata": {},
   "source": [
    "The sets $\\mathcal{B}$, $\\mathcal{K}^{(\\ell)}$, $\\mathcal{K}^{(c)}$, $\\mathcal{K}$, and $\\mathcal{I}$ are read by the following code."
   ]
  },
  {
   "cell_type": "code",
   "execution_count": 19,
   "metadata": {
    "collapsed": true
   },
   "outputs": [],
   "source": [
    "# # set of physical layer blocks (PRBs)\n",
    "with open('B.csv', 'rb') as f:\n",
    "    B_csv = csv.reader(f)\n",
    "    B = list(B_csv)\n",
    "    B = [item for sublist in B for item in sublist] # flatten list\n",
    "    B = map(int, map(float, B)) # convert to int\n",
    "    \n",
    "# # set of latency services    \n",
    "with open('Kl.csv', 'rb') as f:\n",
    "    Kl_csv = csv.reader(f)\n",
    "    Kl = list(Kl_csv)\n",
    "    Kl = [item for sublist in Kl for item in sublist] # flatten list\n",
    "    Kl = map(int, map(float, Kl)) # convert to int\n",
    "    \n",
    "# # set of capacity services    \n",
    "with open('Kc.csv', 'rb') as f:\n",
    "    Kc_csv = csv.reader(f)\n",
    "    Kc = list(Kc_csv)\n",
    "    Kc = [item for sublist in Kc for item in sublist] # flatten list\n",
    "    Kc = map(int, map(float, Kc)) # convert to int\n",
    "    \n",
    "# # set of all services\n",
    "K = Kl + Kc\n",
    "\n",
    "# # set of resource units (RUs)\n",
    "with open('I.csv', 'rb') as f:\n",
    "    I_csv = csv.reader(f)\n",
    "    I = list(I_csv)\n",
    "    I = [item for sublist in I for item in sublist] # flatten list\n",
    "    I = map(int, map(float, I)) # convert to int"
   ]
  },
  {
   "cell_type": "markdown",
   "metadata": {},
   "source": [
    "The parameters $\\mathbf{r}$, $\\mathbf{q}$, and $\\mathbf{a}$ are read below."
   ]
  },
  {
   "cell_type": "code",
   "execution_count": 20,
   "metadata": {
    "collapsed": true
   },
   "outputs": [],
   "source": [
    "# # matrix r\n",
    "with open('r.csv', 'rb') as f:\n",
    "    r_csv = csv.reader(f)\n",
    "    r = list(r_csv)\n",
    "    r = [ map(int,map(float,x)) for x in r] # convert to int\n",
    "\n",
    "# # vector q, only for Kl\n",
    "with open('q.csv', 'rb') as f:\n",
    "    q_csv = csv.reader(f)\n",
    "    q = list(q_csv)\n",
    "    q = [item for sublist in q for item in sublist] # flatten list\n",
    "    q = map(int, map(float, q)) # convert to int\n",
    "    \n",
    "# # matrix a\n",
    "with open('a.csv', 'rb') as f:\n",
    "    a_csv = csv.reader(f)\n",
    "    a = list(a_csv)\n",
    "    a = [ map(int,map(float,x)) for x in a] # convert to int"
   ]
  },
  {
   "cell_type": "markdown",
   "metadata": {},
   "source": [
    "The following code reads the overlapping relationship between any two PRBs."
   ]
  },
  {
   "cell_type": "code",
   "execution_count": 21,
   "metadata": {
    "collapsed": true
   },
   "outputs": [],
   "source": [
    "# if conflict_PRBs[b1][b2] == True, then the PRBs b1 b2 cannot be used simultaneously\n",
    "with open('conflict_PRB.csv', 'rb') as f:\n",
    "    conflict_PRB_csv = csv.reader(f)\n",
    "    conflict_PRB = list(conflict_PRB_csv)\n",
    "    conflict_PRB = [ map(lambda y: int(float(y))==1, x) for x in conflict_PRB]"
   ]
  },
  {
   "cell_type": "code",
   "execution_count": 22,
   "metadata": {
    "collapsed": true
   },
   "outputs": [],
   "source": [
    "with open('lp_x.csv', 'rb') as f:\n",
    "    lp_x_csv = csv.reader(f)\n",
    "    lp_x = list(lp_x_csv)\n",
    "    lp_x = [ map(float, t) for t in lp_x] # convert to float"
   ]
  },
  {
   "cell_type": "markdown",
   "metadata": {},
   "source": [
    "The original problem is relaxed by Lagrangian with $\\mathbf{\\lambda}>\\mathbf{0}$:"
   ]
  },
  {
   "cell_type": "markdown",
   "metadata": {},
   "source": [
    "The Lagrangian is as follows."
   ]
  },
  {
   "cell_type": "markdown",
   "metadata": {},
   "source": [
    "$$\n",
    "\\begin{align}\n",
    "g(\\mathbf{\\lambda})=\\max_{\\mathbf{x}} \\quad & \\sum_{b\\in\\mathcal{B}}\\sum_{k\\in\\mathcal{K}^{(c)}} r_{b,k}x_{b,k} + \\sum_{i\\in\\mathcal{I}}\\lambda_i(1-\\sum_{b\\in\\mathcal{B}}\\sum_{k\\in\\mathcal{K}}a_{b,i}x_{b,k})\\\\\n",
    "s.t. \\quad & \\sum_{b\\in\\mathcal{B}}r_{b,k}x_{b,k}\\geq q_{k} \\quad k\\in\\mathcal{K}^{(\\ell)} \\\\\n",
    "           & x_{b,k}\\in\\{0,1\\}\\quad b\\in\\mathcal{B},~k\\in\\mathcal{K}\n",
    "\\end{align}\n",
    "$$"
   ]
  },
  {
   "cell_type": "markdown",
   "metadata": {},
   "source": [
    "For any fixed $\\mathbf{\\lambda}$, the orginal problem decomposes to two problems in respect of $\\mathcal{K}^{(c)}$ and $\\mathcal{K}^{(\\ell)}$. For the sake of presentation, we denote \n",
    "$$\\alpha_b = \\sum_{i\\in\\mathcal{I}}\\lambda_i a_{b,i}$$ "
   ]
  },
  {
   "cell_type": "code",
   "execution_count": 23,
   "metadata": {
    "collapsed": true
   },
   "outputs": [],
   "source": [
    "def getAlpha(lam):\n",
    "    alpha=[]\n",
    "    for b in B:\n",
    "        alpha_b = sum( lam[i]*a[b][i] for i in I ) \n",
    "        alpha.append(alpha_b)\n",
    "    return alpha"
   ]
  },
  {
   "cell_type": "markdown",
   "metadata": {},
   "source": [
    "For $\\mathcal{K}^{(c)}$, the problem is as follows.\n",
    "$$\n",
    "\\begin{align}\n",
    "\\max_{\\mathbf{x}} \\quad & \\sum_{b\\in\\mathcal{B}}\\sum_{k\\in\\mathcal{K}^{(c)}} r_{b,k}x_{b,k} - \\sum_{b\\in\\mathcal{B}}\\sum_{k\\in\\mathcal{K}^{(c)}}\\alpha_{b}x_{b,k}\\\\\n",
    "s.t. \\quad & x_{b,k}\\in\\{0,1\\}\\quad b\\in\\mathcal{B},~k\\in\\mathcal{K}^{(c)}\n",
    "\\end{align}\n",
    "$$\n",
    "\n",
    "In the above formulation, it might happen that one PRB is allocated to multiple services simultaneously, which definitely leads to PRB overlap. Therefore we add an extra constraint such that the problem becomes:\n",
    "$$\n",
    "\\begin{align}\n",
    "\\max_{\\mathbf{x}} \\quad & \\sum_{b\\in\\mathcal{B}}\\sum_{k\\in\\mathcal{K}^{(c)}}x_{b,k}( r_{b,k} - \\alpha_{b})\\\\\n",
    "% s.t. \\quad & \\sum_{k\\in\\mathcal{K}^{(c)}}x_{b,k}\\leq 1 \\quad b\\in\\mathcal{B} \\\\\n",
    "           & x_{b,k}\\in\\{0,1\\}\\quad b\\in\\mathcal{B},~k\\in\\mathcal{K}^{(c)}\n",
    "\\end{align}\n",
    "$$\n",
    "\n",
    "It can be optimally solved by:\n",
    "For each $b\\in\\mathcal{B}$, we select one $k$, such that.\n",
    "$\n",
    "r_{b,k}-\\alpha_b > 0 \\text{ and } k = \\arg\\max_{k\\in\\mathcal{K}^{(c)}} r_{b,k}-\\alpha_b\n",
    "$.\n",
    "The corresponding code is as follows."
   ]
  },
  {
   "cell_type": "code",
   "execution_count": 24,
   "metadata": {
    "collapsed": true
   },
   "outputs": [],
   "source": [
    "# The argument lam is lambda\n",
    "# The function returns matrix x, with only columns in Kc being computed.\n",
    "# The columns in Kl of the returned matrix x are zero vectors.\n",
    "def solveKc( lam ):\n",
    "    PRB_alloc = [ -1 for b in B ] # PRB_alloc[b] is the index of service that PRB b should be allocated to\n",
    "                                  # PRB_alloc[b]=-1 means that PRB b is not allocated\n",
    "        \n",
    "    sol_x = [ [ 0 for k in K ] for b in B ] # variables to be returned\n",
    "    \n",
    "    alpha = getAlpha(lam)\n",
    "    for b in B:\n",
    "        tmp_list = [ r[b][k]-alpha[b] for k in Kc ]\n",
    "        if max(tmp_list) > 0:   # PRB is allocated only if r[b][k]-alpha[b] is positive\n",
    "            PRB_alloc[b] = len(Kl) + numpy.argmax(tmp_list) # Kl is added such that the value of PRB_alloc[b] is \n",
    "                                                       # coherent with the corresponding indexed position in K\n",
    "    \n",
    "    # Convert PRB_alloc to matrix x\n",
    "    for b in B:\n",
    "        k = PRB_alloc[b] # indexed service\n",
    "        if k >= 0: # indicating that PRB_alloc[b] != -1\n",
    "            sol_x[b][k] = 1\n",
    "    \n",
    "    return sol_x"
   ]
  },
  {
   "cell_type": "markdown",
   "metadata": {},
   "source": [
    "For $\\mathcal{K}^{(\\ell)}$, we have the problem below.\n",
    "$$\n",
    "\\begin{align}\n",
    "\\min_{\\mathbf{x}} \\quad &  \\sum_{b\\in\\mathcal{B}}\\sum_{k\\in\\mathcal{K}^{(\\ell)}}\\alpha_{b}x_{b,k}\\\\\n",
    "s.t. \\quad & \\sum_{b\\in\\mathcal{B}}r_{b,k}x_{b,k}\\geq q_{k} \\quad k\\in\\mathcal{K}^{(\\ell)} \\\\\n",
    "           & x_{b,k}\\in\\{0,1\\}\\quad b\\in\\mathcal{B},~k\\in\\mathcal{K}^{(\\ell)}\n",
    "\\end{align}\n",
    "$$\n",
    "\n",
    "The problem can decomposed to $|\\mathcal{K}^{(\\ell)}|$ knapsack problems and be optimally solved by dynamic programming. "
   ]
  },
  {
   "cell_type": "markdown",
   "metadata": {},
   "source": [
    "For $k\\in\\mathcal{K}^{(\\ell)}$:\n",
    "$$\n",
    "\\begin{align}\n",
    "\\min_{\\mathbf{x}} \\quad &  \\sum_{b\\in\\mathcal{B}}\\alpha_{b}x_{b,k}\\\\\n",
    "s.t. \\quad & \\sum_{b\\in\\mathcal{B}}r_{b,k}x_{b,k}\\geq q_{k}  \\\\\n",
    "           & x_{b,k}\\in\\{0,1\\}\\quad b\\in\\mathcal{B}\n",
    "\\end{align}\n",
    "$$"
   ]
  },
  {
   "cell_type": "markdown",
   "metadata": {},
   "source": [
    "Though the multiple knapsack problem can still be exactly solved by dynamic programming, here we use gurobi integer programming solver instead, without loss of optimality."
   ]
  },
  {
   "cell_type": "code",
   "execution_count": 25,
   "metadata": {
    "collapsed": true
   },
   "outputs": [],
   "source": [
    "# The argument lam is lambda\n",
    "# The function returns matrix x, with only columns in Kl being computed.\n",
    "# The columns in Kc of the returned matrix x are zero vectors.\n",
    "def solveKl( lam ):\n",
    "    # create optimization model\n",
    "    modelKl = Model('Integer Programming - Kl')\n",
    "    modelKl.modelSense = GRB.MINIMIZE\n",
    "    modelKl.setParam('OutputFlag', False) # slience output\n",
    "    \n",
    "    # create varialbes for modelKl:\n",
    "    xKl = []\n",
    "    for b in B:\n",
    "        xKl_b = []\n",
    "        for k in Kl:\n",
    "            xKl_b.append(modelKl.addVar(vtype=GRB.BINARY))\n",
    "        xKl.append(xKl_b)\n",
    "    modelKl.update()\n",
    "    \n",
    "    # add constraints \n",
    "    for k in Kl:\n",
    "        modelKl.addConstr( sum(r[b][k]*xKl[b][k] for b in B) >= q[k] )\n",
    "    modelKl.update()\n",
    "\n",
    "    # set objective function\n",
    "    alpha = getAlpha(lam)\n",
    "    modelKl.setObjective(\n",
    "        sum( alpha[b]*xKl[b][k] for k in Kl for b in B )\n",
    "    )\n",
    "    \n",
    "    # solve modelKl\n",
    "    modelKl.optimize()\n",
    "    \n",
    "    # construct variables to be returned \n",
    "    sol_x = [ [ 0 for k in K ] for b in B ]\n",
    "    for b in B:\n",
    "        for k in Kl:\n",
    "            sol_x[b][k] = int(xKl[b][k].x)\n",
    "            \n",
    "    return sol_x"
   ]
  },
  {
   "cell_type": "markdown",
   "metadata": {},
   "source": [
    "The solutions obtained by $\\texttt{solveKc}$ and $\\texttt{solveKl}$ can be merged to obtain the value of Lagrangian Dual function, by:"
   ]
  },
  {
   "cell_type": "code",
   "execution_count": 26,
   "metadata": {
    "collapsed": true
   },
   "outputs": [],
   "source": [
    "# This function evaluates the Lagrangian Dual function for any given vector lamda\n",
    "# The return is the matrix x in the original problem\n",
    "def solveG(lam):\n",
    "    return ( numpy.matrix(solveKc(lam)) + numpy.matrix(solveKl(lam)) ).tolist()\n",
    "    # The  return value is optimal to the maximization in lagrangian dual function \n",
    "    # but may not be feasible to the original problem!"
   ]
  },
  {
   "cell_type": "markdown",
   "metadata": {},
   "source": [
    "Next, we use subgradient descent method to solve the Lagrangian Dual problem, i.e., $\\min_{\\mathbf{\\lambda}\\geq\\mathbf{0}} g(\\mathbf{\\lambda})$. After the completion of the gradient descent method, the obtained solution is not guaranteed to be feasible to the primal problem. The heuristic method to obtain a feasible solution is as follows: All PRBs allocation for $\\mathcal{K}^{(\\ell)}$ is kept so as to guarantee the latency constraints being satisfied. Then we solve $\\mathcal{K}^{(c)}$ under the current lambda and fixed $\\mathcal{K}^{(\\ell)}$ solutions.\n",
    "\n",
    "To achieve this goal, we need to implement a new function that solves Kc with some PRB allocations being fixed:"
   ]
  },
  {
   "cell_type": "code",
   "execution_count": 27,
   "metadata": {
    "collapsed": true
   },
   "outputs": [],
   "source": [
    "def getHeuristicX(lam, x_count):\n",
    "    priority = [ [i[0] for i in sorted(enumerate(x_count[k]), key=lambda y:y[1],reverse=True)] for k in K ]\n",
    "    sol_x = [ [ 0 for k in K ] for b in B ] # variables to be returned\n",
    "    \n",
    "    priority_user = [i[0] for i in sorted(enumerate(map(sum,x_count)), key=lambda y:y[1],reverse=True)] \n",
    "    priority_Kl = [u for u in priority_user if u in Kl ]\n",
    "    priority_Kc = [u for u in priority_user if u in Kc ]\n",
    "    \n",
    "    collision = [ False for b in B ]\n",
    "    \n",
    "    for k in priority_Kl:\n",
    "        service_bit = sum(r[b][k]*sol_x[b][k] for b in B)\n",
    "        while service_bit < q[k] and collision.count(False)>0: \n",
    "            for pos in range(len(priority[k])):\n",
    "                b = priority[k][pos]\n",
    "                if collision[b] == False: \n",
    "                    sol_x[b][k] = 1\n",
    "                    service_bit += r[b][k]*sol_x[b][k]\n",
    "                    for p in B: # set all PRB overlapping with b to be in collision\n",
    "                        if conflict_PRB[b][p] == True:\n",
    "                            collision[p] = True\n",
    "                    break\n",
    "    \n",
    "    alpha = getAlpha(lam)\n",
    "    for b in B:\n",
    "        alloc = True\n",
    "        if collision[b]==True: # b wouldn't be allocated if in collision\n",
    "            alloc = False \n",
    "        if alloc == True: \n",
    "            tmp_list = [ r[b][k]-alpha[b] for k in Kc ]\n",
    "            user_to_alloc = len(Kl) + numpy.argmax(tmp_list) \n",
    "            sol_x[b][user_to_alloc] = 1\n",
    "            for p in B: # set all PRB overlapping with b to be in collision\n",
    "                if conflict_PRB[b][p] == True:\n",
    "                    collision[p] = True\n",
    "                    \n",
    "    return sol_x\n",
    "        "
   ]
  },
  {
   "cell_type": "markdown",
   "metadata": {},
   "source": [
    "The following function checks whether a solution is primal feasible."
   ]
  },
  {
   "cell_type": "code",
   "execution_count": 28,
   "metadata": {
    "collapsed": true
   },
   "outputs": [],
   "source": [
    "def isFeasible(x):\n",
    "    if (numpy.dot( numpy.dot(numpy.matrix(a).transpose(), \n",
    "                             numpy.matrix(x)), numpy.ones(len(K)) ) \n",
    "        > numpy.ones(len(I))).tolist()[0].count(True)>0:\n",
    "        return False\n",
    "    if (numpy.dot(numpy.multiply(numpy.matrix(r),numpy.matrix(x))[:,0:len(Kl)].transpose(),\n",
    "                  numpy.ones(len(B)))<numpy.matrix(q)).tolist()[0].count(True)>0:\n",
    "        return False\n",
    "    return True"
   ]
  },
  {
   "cell_type": "markdown",
   "metadata": {},
   "source": [
    "The gradient descent along with the heuristic afterwards is implemented as follows."
   ]
  },
  {
   "cell_type": "code",
   "execution_count": 29,
   "metadata": {
    "collapsed": true
   },
   "outputs": [],
   "source": [
    "lam = [ 1 for i in I ]\n",
    "x_prev = [ [0 for k in K ] for b in B ]\n",
    "penalty = [ 1 for i in I ]\n",
    "x_count = [ [ 0 for b in B ] for k in K ]\n",
    "best_dual_sofar = 1e10\n",
    "eta = 0.95\n",
    "step_para = default_step_para = 0.5\n",
    "no_improve_count = 0"
   ]
  },
  {
   "cell_type": "code",
   "execution_count": 30,
   "metadata": {
    "scrolled": false
   },
   "outputs": [
    {
     "name": "stdout",
     "output_type": "stream",
     "text": [
      "iteration 1 step length= 10.0 dual= 67480 step_para= 0.525\n",
      "iteration 2 step length= 7.07106781187 dual= 12250.0 step_para= 0.55125\n",
      "iteration 3 step length= 5.7735026919 dual= 11565.45166 step_para= 0.5788125\n",
      "iteration 4 step length= 5.0 dual= 10994.8196709 step_para= 0.607753125\n",
      "iteration 5 step length= 33.2334333325 dual= 10437.1787946 step_para= 0.63814078125\n",
      "iteration 6 step length= 37.3162747778 dual= 10437.1787946 step_para= 0.63814078125\n",
      "iteration 7 step length= 6.64654099698 dual= 10437.1787946 step_para= 0.606233742188\n",
      "iteration 8 step length= 3.9570055478 dual= 10437.1787946 step_para= 0.606233742188\n",
      "iteration 9 step length= 40.929243924 dual= 10437.1787946 step_para= 0.575922055078\n",
      "iteration 10 step length= 43.7834230536 dual= 10437.1787946 step_para= 0.575922055078\n",
      "iteration 11 step length= 4.14516294563 dual= 10437.1787946 step_para= 0.547125952324\n",
      "iteration 12 step length= 44.1598890055 dual= 10437.1787946 step_para= 0.547125952324\n",
      "iteration 13 step length= 42.3853758068 dual= 10437.1787946 step_para= 0.519769654708\n",
      "iteration 14 step length= 19.4942454839 dual= 10437.1787946 step_para= 0.519769654708\n",
      "iteration 15 step length= 34.8114493671 dual= 10437.1787946 step_para= 0.493781171973\n",
      "iteration 16 step length= 16.075687831 dual= 10437.1787946 step_para= 0.493781171973\n",
      "iteration 17 step length= 6.78356679617 dual= 10437.1787946 step_para= 0.469092113374\n",
      "iteration 18 step length= 17.2748970811 dual= 10437.1787946 step_para= 0.469092113374\n",
      "iteration 19 step length= 37.5210664045 dual= 10437.1787946 step_para= 0.445637507705\n",
      "iteration 20 step length= 14.9930718546 dual= 10437.1787946 step_para= 0.445637507705\n",
      "iteration 21 step length= 8.32681092599 dual= 10437.1787946 step_para= 0.42335563232\n",
      "iteration 22 step length= 6.69006349837 dual= 10437.1787946 step_para= 0.42335563232\n",
      "iteration 23 step length= 5.3163160511 dual= 10437.1787946 step_para= 0.402187850704\n",
      "iteration 24 step length= 20.3731766934 dual= 10437.1787946 step_para= 0.402187850704\n",
      "iteration 25 step length= 21.1429186547 dual= 10437.1787946 step_para= 0.382078458169\n",
      "iteration 26 step length= 6.45730331782 dual= 10437.1787946 step_para= 0.382078458169\n",
      "iteration 27 step length= 5.10179572411 dual= 10437.1787946 step_para= 0.36297453526\n",
      "iteration 28 step length= 19.3996873515 dual= 10437.1787946 step_para= 0.36297453526\n",
      "iteration 29 step length= 17.3169225059 dual= 10437.1787946 step_para= 0.344825808497\n",
      "iteration 30 step length= 6.67462023652 dual= 10437.1787946 step_para= 0.344825808497\n",
      "iteration 31 step length= 7.93144178926 dual= 10437.1787946 step_para= 0.327584518072\n",
      "iteration 32 step length= 10.9519499208 dual= 10437.1787946 step_para= 0.327584518072\n",
      "iteration 33 step length= 13.3661010263 dual= 10289.8527283 step_para= 0.343963743976\n",
      "iteration 34 step length= 6.22544386902 dual= 10239.1361976 step_para= 0.361161931175\n",
      "iteration 35 step length= 8.86164469104 dual= 9654.50321255 step_para= 0.379220027734\n",
      "iteration 36 step length= 6.24754414083 dual= 9239.31848676 step_para= 0.39818102912\n",
      "iteration 37 step length= 5.05371396203 dual= 9239.31848676 step_para= 0.39818102912\n",
      "iteration 38 step length= 7.60571078172 dual= 8954.62527584 step_para= 0.418090080576\n",
      "iteration 39 step length= 10.8615006342 dual= 8675.54347618 step_para= 0.438994584605\n",
      "iteration 40 step length= 8.91140348122 dual= 8662.8249897 step_para= 0.460944313835\n",
      "iteration 41 step length= 5.82237440845 dual= 8662.8249897 step_para= 0.460944313835\n",
      "iteration 42 step length= 7.85900615272 dual= 8456.41167964 step_para= 0.483991529527\n",
      "iteration 43 step length= 12.582499613 dual= 8086.14642999 step_para= 0.508191106004\n",
      "iteration 44 step length= 7.54072591309 dual= 8086.14642999 step_para= 0.508191106004\n",
      "iteration 45 step length= 8.86900902263 dual= 7979.6082447 step_para= 0.533600661304\n",
      "iteration 46 step length= 11.854542418 dual= 7693.65238992 step_para= 0.560280694369\n",
      "iteration 47 step length= 7.77358401115 dual= 7578.21581451 step_para= 0.588294729087\n",
      "iteration 48 step length= 6.31184347975 dual= 7578.21581451 step_para= 0.588294729087\n",
      "iteration 49 step length= 9.6635480951 dual= 7277.89236689 step_para= 0.617709465542\n",
      "iteration 50 step length= 11.9878183402 dual= 7277.89236689 step_para= 0.617709465542\n",
      "iteration 51 step length= 8.42163732498 dual= 7277.89236689 step_para= 0.586823992265\n",
      "iteration 52 step length= 5.88501745076 dual= 7277.89236689 step_para= 0.586823992265\n",
      "iteration 53 step length= 8.33479300737 dual= 7277.89236689 step_para= 0.557482792651\n",
      "iteration 54 step length= 11.0257215915 dual= 7245.69412057 step_para= 0.585356932284\n",
      "iteration 55 step length= 10.7860423245 dual= 7160.99613402 step_para= 0.614624778898\n",
      "iteration 56 step length= 8.64836217591 dual= 7160.99613402 step_para= 0.614624778898\n",
      "iteration 57 step length= 5.64756938567 dual= 7160.99613402 step_para= 0.583893539953\n",
      "iteration 58 step length= 7.75606192256 dual= 7160.99613402 step_para= 0.583893539953\n",
      "iteration 59 step length= 13.867294497 dual= 6872.42693408 step_para= 0.613088216951\n",
      "iteration 60 step length= 9.68029915528 dual= 6872.42693408 step_para= 0.613088216951\n",
      "iteration 61 step length= 5.78903999039 dual= 6872.42693408 step_para= 0.582433806103\n",
      "iteration 62 step length= 11.4663568931 dual= 6872.42693408 step_para= 0.582433806103\n",
      "iteration 63 step length= 11.6881816034 dual= 6872.42693408 step_para= 0.553312115798\n",
      "iteration 64 step length= 5.23319896985 dual= 6872.42693408 step_para= 0.553312115798\n",
      "iteration 65 step length= 8.56267123995 dual= 6872.42693408 step_para= 0.525646510008\n",
      "iteration 66 step length= 8.88052101103 dual= 6872.42693408 step_para= 0.525646510008\n",
      "iteration 67 step length= 2.97017886773 dual= 6872.42693408 step_para= 0.499364184508\n",
      "iteration 68 step length= 5.16894122506 dual= 6872.42693408 step_para= 0.499364184508\n",
      "iteration 69 step length= 8.92414822067 dual= 6872.42693408 step_para= 0.474395975283\n",
      "iteration 70 step length= 10.4876320826 dual= 6872.42693408 step_para= 0.474395975283\n",
      "iteration 71 step length= 3.60617626539 dual= 6872.42693408 step_para= 0.450676176518\n",
      "iteration 72 step length= 6.11361534604 dual= 6872.42693408 step_para= 0.450676176518\n",
      "iteration 73 step length= 11.7398148566 dual= 6872.42693408 step_para= 0.428142367692\n",
      "iteration 74 step length= 8.66013213104 dual= 6872.42693408 step_para= 0.428142367692\n",
      "iteration 75 step length= 3.50331122099 dual= 6872.42693408 step_para= 0.406735249308\n",
      "iteration 76 step length= 4.53351608296 dual= 6872.42693408 step_para= 0.406735249308\n",
      "iteration 77 step length= 9.09645579264 dual= 6872.42693408 step_para= 0.386398486842\n",
      "iteration 78 step length= 7.54074704918 dual= 6872.42693408 step_para= 0.386398486842\n",
      "iteration 79 step length= 4.64917104611 dual= 6872.42693408 step_para= 0.3670785625\n",
      "iteration 80 step length= 4.60064206517 dual= 6872.42693408 step_para= 0.3670785625\n",
      "iteration 81 step length= 5.48217234816 dual= 6675.3727398 step_para= 0.385432490625\n",
      "iteration 82 step length= 8.85390723234 dual= 6534.3263085 step_para= 0.404704115157\n",
      "iteration 83 step length= 5.89676742069 dual= 6534.3263085 step_para= 0.404704115157\n",
      "iteration 84 step length= 3.55668944107 dual= 6534.3263085 step_para= 0.384468909399\n",
      "iteration 85 step length= 4.31095269782 dual= 6534.3263085 step_para= 0.384468909399\n",
      "iteration 86 step length= 6.95623994888 dual= 6534.3263085 step_para= 0.365245463929\n",
      "iteration 87 step length= 4.82352915058 dual= 6534.3263085 step_para= 0.365245463929\n",
      "iteration 88 step length= 3.20146833408 dual= 6534.3263085 step_para= 0.346983190732\n",
      "iteration 89 step length= 6.97027598941 dual= 6449.63072744 step_para= 0.364332350269\n",
      "iteration 90 step length= 6.31557219408 dual= 6449.63072744 step_para= 0.364332350269\n",
      "iteration 91 step length= 2.72591091855 dual= 6449.63072744 step_para= 0.346115732756\n",
      "iteration 92 step length= 5.65148356299 dual= 6449.63072744 step_para= 0.346115732756\n",
      "iteration 93 step length= 6.41650079517 dual= 6449.63072744 step_para= 0.328809946118\n",
      "iteration 94 step length= 4.63214940057 dual= 6449.63072744 step_para= 0.328809946118\n",
      "iteration 95 step length= 2.65678537904 dual= 6449.63072744 step_para= 0.312369448812\n",
      "iteration 96 step length= 3.30862913156 dual= 6449.63072744 step_para= 0.312369448812\n",
      "iteration 97 step length= 8.26848425615 dual= 6232.37215359 step_para= 0.327987921252\n"
     ]
    },
    {
     "name": "stdout",
     "output_type": "stream",
     "text": [
      "iteration 98 step length= 7.04834137025 dual= 6232.37215359 step_para= 0.327987921252\n",
      "iteration 99 step length= 2.31424923254 dual= 6232.37215359 step_para= 0.31158852519\n",
      "iteration 100 step length= 2.97725257247 dual= 6232.37215359 step_para= 0.31158852519\n",
      "iteration 101 step length= 6.27255683441 dual= 6232.37215359 step_para= 0.29600909893\n",
      "iteration 102 step length= 5.09769561196 dual= 6232.37215359 step_para= 0.29600909893\n",
      "iteration 103 step length= 2.04673004013 dual= 6232.37215359 step_para= 0.281208643984\n",
      "iteration 104 step length= 4.68650438178 dual= 6232.37215359 step_para= 0.281208643984\n",
      "iteration 105 step length= 7.74592866206 dual= 6232.37215359 step_para= 0.267148211785\n",
      "iteration 106 step length= 3.81506959788 dual= 6232.37215359 step_para= 0.267148211785\n",
      "iteration 107 step length= 1.54445567429 dual= 6232.37215359 step_para= 0.253790801195\n",
      "iteration 108 step length= 2.45581940331 dual= 6232.37215359 step_para= 0.253790801195\n",
      "iteration 109 step length= 6.47185668077 dual= 6232.37215359 step_para= 0.241101261136\n",
      "iteration 110 step length= 4.91935900164 dual= 6232.37215359 step_para= 0.241101261136\n",
      "iteration 111 step length= 1.32096746644 dual= 6232.37215359 step_para= 0.229046198079\n",
      "iteration 112 step length= 3.43196653806 dual= 6232.37215359 step_para= 0.229046198079\n",
      "iteration 113 step length= 5.16852221649 dual= 6232.37215359 step_para= 0.217593888175\n",
      "iteration 114 step length= 3.94011990428 dual= 6232.37215359 step_para= 0.217593888175\n",
      "iteration 115 step length= 1.5580397853 dual= 6232.37215359 step_para= 0.206714193766\n",
      "iteration 116 step length= 2.93117241005 dual= 6232.37215359 step_para= 0.206714193766\n",
      "iteration 117 step length= 3.63532434906 dual= 6083.49876305 step_para= 0.217049903454\n",
      "iteration 118 step length= 3.91960297525 dual= 6083.49876305 step_para= 0.217049903454\n",
      "iteration 119 step length= 1.73691365246 dual= 6083.49876305 step_para= 0.206197408282\n",
      "iteration 120 step length= 3.20846882352 dual= 6083.49876305 step_para= 0.206197408282\n",
      "iteration 121 step length= 4.00571269259 dual= 6083.49876305 step_para= 0.195887537868\n",
      "iteration 122 step length= 1.94867761002 dual= 6083.49876305 step_para= 0.195887537868\n",
      "iteration 123 step length= 1.45064449831 dual= 6083.49876305 step_para= 0.186093160974\n",
      "iteration 124 step length= 3.47692161717 dual= 6060.11135924 step_para= 0.195397819023\n",
      "iteration 125 step length= 3.72024924927 dual= 6060.11135924 step_para= 0.195397819023\n",
      "iteration 126 step length= 1.66638358242 dual= 6060.11135924 step_para= 0.185627928072\n",
      "iteration 127 step length= 1.80624070311 dual= 6060.11135924 step_para= 0.185627928072\n",
      "iteration 128 step length= 2.95389618836 dual= 6018.52332306 step_para= 0.194909324475\n",
      "iteration 129 step length= 2.63503917602 dual= 6018.52332306 step_para= 0.194909324475\n",
      "iteration 130 step length= 2.82863352673 dual= 6015.10312249 step_para= 0.204654790699\n",
      "iteration 131 step length= 2.88543166321 dual= 6005.15679584 step_para= 0.214887530234\n",
      "iteration 132 step length= 2.2756059495 dual= 6005.15679584 step_para= 0.214887530234\n",
      "iteration 133 step length= 1.90474904636 dual= 6005.15679584 step_para= 0.204143153722\n",
      "iteration 134 step length= 2.76685579584 dual= 5949.44419272 step_para= 0.214350311409\n",
      "iteration 135 step length= 3.35800963376 dual= 5949.44419272 step_para= 0.214350311409\n",
      "iteration 136 step length= 1.40921986482 dual= 5949.44419272 step_para= 0.203632795838\n",
      "iteration 137 step length= 1.22057422862 dual= 5949.44419272 step_para= 0.203632795838\n",
      "iteration 138 step length= 2.7922464413 dual= 5949.44419272 step_para= 0.193451156046\n",
      "iteration 139 step length= 3.46368399569 dual= 5949.44419272 step_para= 0.193451156046\n",
      "iteration 140 step length= 1.43054450293 dual= 5949.44419272 step_para= 0.183778598244\n",
      "iteration 141 step length= 1.34559025762 dual= 5949.44419272 step_para= 0.183778598244\n",
      "iteration 142 step length= 4.14950384127 dual= 5938.98391481 step_para= 0.192967528156\n",
      "iteration 143 step length= 3.3645204775 dual= 5938.98391481 step_para= 0.192967528156\n",
      "iteration 144 step length= 0.860705342459 dual= 5938.98391481 step_para= 0.183319151748\n",
      "iteration 145 step length= 1.51906997766 dual= 5938.98391481 step_para= 0.183319151748\n",
      "iteration 146 step length= 3.62758672584 dual= 5938.98391481 step_para= 0.174153194161\n",
      "iteration 147 step length= 3.44286979955 dual= 5938.98391481 step_para= 0.174153194161\n",
      "iteration 148 step length= 1.71735264187 dual= 5938.98391481 step_para= 0.165445534453\n",
      "iteration 149 step length= 1.1556437217 dual= 5938.98391481 step_para= 0.165445534453\n",
      "iteration 150 step length= 3.490164534 dual= 5938.98391481 step_para= 0.15717325773\n"
     ]
    }
   ],
   "source": [
    "for it in range(1, 151): # k belongs to [1,100]\n",
    "    \n",
    "    xKl = solveKl(lam)\n",
    "    xKc = solveKc(lam)\n",
    "    x = (numpy.matrix(xKl) + numpy.matrix(xKc)).tolist() \n",
    "    \n",
    "    \n",
    "    # obtain the corresponding dual function value under current lambda\n",
    "    \n",
    "    dual = sum(r[b][k]*x[b][k] for k in Kc for b in B) + sum( lam[i]*(1-sum(a[b][i]*x[b][k] for k in K for b in B)) for i in I)\n",
    "    if dual < best_dual_sofar + 0.005:\n",
    "        no_improve_count = 0\n",
    "        best_dual_sofar = dual\n",
    "        step_para = min(step_para*1.05, 1.9)\n",
    "    else:\n",
    "        no_improve_count += 1\n",
    "        \n",
    "    if no_improve_count >=2:\n",
    "        step_para = 0.95*step_para\n",
    "        no_improve_count = 0\n",
    "    \n",
    "    gamma = abs(dual - 2107*0.9)\n",
    "    gk = numpy.linalg.norm(penalty, 2)**2\n",
    "    \n",
    "    if it<5:\n",
    "        step_len = 10/float(it**0.5)\n",
    "    else:\n",
    "        step_len = step_para*gamma/gk\n",
    "    \n",
    "    penalty = (numpy.ones(len(I))- numpy.dot( numpy.dot(numpy.matrix(a).transpose(), numpy.matrix(x)), numpy.ones(len(K)))).tolist()[0]\n",
    "    lam = map(lambda y:max(y,0), (numpy.matrix(lam) - step_len*numpy.matrix(penalty)).tolist()[0])\n",
    "\n",
    "    x_count = (numpy.matrix(x_count) + numpy.matrix(x).transpose()).tolist()    \n",
    "    \n",
    "    print 'iteration', it, 'step length=', step_len, 'dual=', best_dual_sofar, 'step_para=', step_para"
   ]
  },
  {
   "cell_type": "code",
   "execution_count": 31,
   "metadata": {},
   "outputs": [
    {
     "name": "stdout",
     "output_type": "stream",
     "text": [
      "calculating final solution ... \n",
      "feasibility= True \n",
      " best obj= 4637\n"
     ]
    }
   ],
   "source": [
    "best = 0\n",
    "x_count2 = numpy.multiply(numpy.matrix(lp_x).transpose(), numpy.matrix(x_count)).tolist()\n",
    "print 'calculating final solution ... '\n",
    "for i in range(400):\n",
    "    heuristic_x = getHeuristicX2(lam, x_count) \n",
    "    curr = sum(r[b][k]*heuristic_x[b][k] for k in Kc for b in B)\n",
    "    if curr > best:\n",
    "        best = curr\n",
    "print 'feasibility=', isFeasible(heuristic_x), '\\n best obj=', best"
   ]
  },
  {
   "cell_type": "code",
   "execution_count": 32,
   "metadata": {},
   "outputs": [],
   "source": [
    "# import pandas\n",
    "# heuristic_x = getHeuristicX2(lam, x_count) \n",
    "# print 'allocated blocks number:', [ sum(numpy.matrix(heuristic_x).transpose()[k].tolist()[0]) for k in K ], 'obj=', sum(r[b][k]*heuristic_x[b][k] for k in Kc for b in B)\n",
    "# indices = [ [ [i,k] for i,x in enumerate(numpy.matrix(heuristic_x)[:,k].transpose().tolist()[0]) if x==1 ] for k in K]\n",
    "# pandas.DataFrame(indices)"
   ]
  },
  {
   "cell_type": "code",
   "execution_count": null,
   "metadata": {
    "collapsed": true
   },
   "outputs": [],
   "source": []
  }
 ],
 "metadata": {
  "kernelspec": {
   "display_name": "Python 2",
   "language": "python",
   "name": "python2"
  },
  "language_info": {
   "codemirror_mode": {
    "name": "ipython",
    "version": 2
   },
   "file_extension": ".py",
   "mimetype": "text/x-python",
   "name": "python",
   "nbconvert_exporter": "python",
   "pygments_lexer": "ipython2",
   "version": "2.7.13"
  }
 },
 "nbformat": 4,
 "nbformat_minor": 2
}

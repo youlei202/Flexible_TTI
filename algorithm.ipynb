{
 "cells": [
  {
   "cell_type": "markdown",
   "metadata": {
    "collapsed": true
   },
   "source": [
    "# Algorithm Implementation\n",
    "\n",
    "by [Lei You](http://user.it.uu.se/~leiyo378)"
   ]
  },
  {
   "cell_type": "markdown",
   "metadata": {},
   "source": [
    "In this document, we solve the flexible TTI allocation problem to optimum, by using our proposed algorithm. The formulation of the original problem is as below."
   ]
  },
  {
   "cell_type": "markdown",
   "metadata": {},
   "source": [
    "$$\n",
    "\\begin{align}\n",
    "\\max_{\\mathbf{x}} \\quad & \\sum_{b\\in\\mathcal{B}}\\sum_{k\\in\\mathcal{K}^{(c)}} r_{b,k}x_{b,k} \\\\\n",
    "s.t. \\quad & \\sum_{b\\in\\mathcal{B}}r_{b,k}x_{b,k}\\geq q_{k} \\quad k\\in\\mathcal{K}^{(\\ell)} \\\\\n",
    "           & \\sum_{b\\in\\mathcal{B}}\\sum_{k\\in\\mathcal{K}}a_{b,i}x_{b,k}\\leq 1 \\quad i\\in\\mathcal{I} \\\\\n",
    "           & x_{b,k}\\in\\{0,1\\}\\quad b\\in\\mathcal{B},~k\\in\\mathcal{K}\n",
    "\\end{align}\n",
    "$$"
   ]
  },
  {
   "cell_type": "markdown",
   "metadata": {},
   "source": [
    "We have $x_{b,k}=1$ if and only if physical resource block (PRB) $b$ is allocated to service $k$."
   ]
  },
  {
   "cell_type": "markdown",
   "metadata": {},
   "source": [
    "Recall that $\\tau_k$ is the maximum tolerant latency of service $k$, and $d_b$ is the end time of the PRB $b$. The constraints for the latency is imposed, by letting $r_{b,k}$ follow the rule:\n",
    "$$\n",
    "r_{b,k}=\\left\\{\n",
    "\\begin{array}{ll}\n",
    "0 & \\text{if } \\tau_k-d_b<0 \\\\\n",
    "\\text{capacity} & \\text{otherwise}\n",
    "\\end{array}\n",
    "\\right.\n",
    "$$"
   ]
  },
  {
   "cell_type": "markdown",
   "metadata": {},
   "source": [
    "Here we go."
   ]
  },
  {
   "cell_type": "code",
   "execution_count": 66,
   "metadata": {
    "collapsed": true
   },
   "outputs": [],
   "source": [
    "import sys\n",
    "import scipy.io\n",
    "import numpy\n",
    "import math\n",
    "import csv\n",
    "from operator import add\n",
    "\n",
    "from gurobipy import *\n",
    "\n",
    "# set the directory path\n",
    "import os\n",
    "folder_name = os.getcwd()\n",
    "\n",
    "epsilon = 10e-6\n",
    "\n",
    "import time"
   ]
  },
  {
   "cell_type": "markdown",
   "metadata": {},
   "source": [
    "The sets $\\mathcal{B}$, $\\mathcal{K}^{(\\ell)}$, $\\mathcal{K}^{(c)}$, $\\mathcal{K}$, and $\\mathcal{I}$ are read by the following code."
   ]
  },
  {
   "cell_type": "code",
   "execution_count": 67,
   "metadata": {
    "collapsed": true
   },
   "outputs": [],
   "source": [
    "# # set of physical layer blocks (PRBs)\n",
    "with open('B.csv', 'rb') as f:\n",
    "    B_csv = csv.reader(f)\n",
    "    B = list(B_csv)\n",
    "    B = [item for sublist in B for item in sublist] # flatten list\n",
    "    B = map(int, map(float, B)) # convert to int\n",
    "    \n",
    "# # set of latency services    \n",
    "with open('Kl.csv', 'rb') as f:\n",
    "    Kl_csv = csv.reader(f)\n",
    "    Kl = list(Kl_csv)\n",
    "    Kl = [item for sublist in Kl for item in sublist] # flatten list\n",
    "    Kl = map(int, map(float, Kl)) # convert to int\n",
    "    \n",
    "# # set of capacity services    \n",
    "with open('Kc.csv', 'rb') as f:\n",
    "    Kc_csv = csv.reader(f)\n",
    "    Kc = list(Kc_csv)\n",
    "    Kc = [item for sublist in Kc for item in sublist] # flatten list\n",
    "    Kc = map(int, map(float, Kc)) # convert to int\n",
    "    \n",
    "# # set of all services\n",
    "K = Kl + Kc\n",
    "\n",
    "# # set of resource units (RUs)\n",
    "with open('I.csv', 'rb') as f:\n",
    "    I_csv = csv.reader(f)\n",
    "    I = list(I_csv)\n",
    "    I = [item for sublist in I for item in sublist] # flatten list\n",
    "    I = map(int, map(float, I)) # convert to int"
   ]
  },
  {
   "cell_type": "markdown",
   "metadata": {},
   "source": [
    "The parameters $\\mathbf{r}$, $\\mathbf{q}$, and $\\mathbf{a}$ are read below."
   ]
  },
  {
   "cell_type": "code",
   "execution_count": 68,
   "metadata": {
    "collapsed": true
   },
   "outputs": [],
   "source": [
    "# # matrix r\n",
    "with open('r.csv', 'rb') as f:\n",
    "    r_csv = csv.reader(f)\n",
    "    r = list(r_csv)\n",
    "    r = [ map(int,map(float,x)) for x in r] # convert to int\n",
    "\n",
    "# # vector q, only for Kl\n",
    "with open('q.csv', 'rb') as f:\n",
    "    q_csv = csv.reader(f)\n",
    "    q = list(q_csv)\n",
    "    q = [item for sublist in q for item in sublist] # flatten list\n",
    "    q = map(int, map(float, q)) # convert to int\n",
    "    \n",
    "# # matrix a\n",
    "with open('a.csv', 'rb') as f:\n",
    "    a_csv = csv.reader(f)\n",
    "    a = list(a_csv)\n",
    "    a = [ map(int,map(float,x)) for x in a] # convert to int"
   ]
  },
  {
   "cell_type": "markdown",
   "metadata": {},
   "source": [
    "The following code reads the overlapping relationship between any two PRBs."
   ]
  },
  {
   "cell_type": "code",
   "execution_count": 69,
   "metadata": {
    "collapsed": true
   },
   "outputs": [],
   "source": [
    "# if conflict_PRBs[b1][b2] == True, then the PRBs b1 b2 cannot be used simultaneously\n",
    "with open('conflict_PRB.csv', 'rb') as f:\n",
    "    conflict_PRB_csv = csv.reader(f)\n",
    "    conflict_PRB = list(conflict_PRB_csv)\n",
    "    conflict_PRB = [ map(lambda y: int(float(y))==1, x) for x in conflict_PRB]"
   ]
  },
  {
   "cell_type": "code",
   "execution_count": 70,
   "metadata": {
    "collapsed": true
   },
   "outputs": [],
   "source": [
    "with open('lp_x.csv', 'rb') as f:\n",
    "    lp_x_csv = csv.reader(f)\n",
    "    lp_x = list(lp_x_csv)\n",
    "    lp_x = [ map(float, t) for t in lp_x] # convert to float"
   ]
  },
  {
   "cell_type": "markdown",
   "metadata": {},
   "source": [
    "The original problem is relaxed by Lagrangian with $\\mathbf{\\lambda}>\\mathbf{0}$:"
   ]
  },
  {
   "cell_type": "markdown",
   "metadata": {},
   "source": [
    "The Lagrangian is as follows."
   ]
  },
  {
   "cell_type": "markdown",
   "metadata": {},
   "source": [
    "$$\n",
    "\\begin{align}\n",
    "g(\\mathbf{\\lambda})=\\max_{\\mathbf{x}} \\quad & \\sum_{b\\in\\mathcal{B}}\\sum_{k\\in\\mathcal{K}^{(c)}} r_{b,k}x_{b,k} + \\sum_{i\\in\\mathcal{I}}\\lambda_i(1-\\sum_{b\\in\\mathcal{B}}\\sum_{k\\in\\mathcal{K}}a_{b,i}x_{b,k})\\\\\n",
    "s.t. \\quad & \\sum_{b\\in\\mathcal{B}}r_{b,k}x_{b,k}\\geq q_{k} \\quad k\\in\\mathcal{K}^{(\\ell)} \\\\\n",
    "           & x_{b,k}\\in\\{0,1\\}\\quad b\\in\\mathcal{B},~k\\in\\mathcal{K}\n",
    "\\end{align}\n",
    "$$"
   ]
  },
  {
   "cell_type": "markdown",
   "metadata": {},
   "source": [
    "For any fixed $\\mathbf{\\lambda}$, the orginal problem decomposes to two problems in respect of $\\mathcal{K}^{(c)}$ and $\\mathcal{K}^{(\\ell)}$. For the sake of presentation, we denote \n",
    "$$\\alpha_b = \\sum_{i\\in\\mathcal{I}}\\lambda_i a_{b,i}$$ "
   ]
  },
  {
   "cell_type": "code",
   "execution_count": 71,
   "metadata": {
    "collapsed": true
   },
   "outputs": [],
   "source": [
    "def getAlpha(lam):\n",
    "    alpha=[]\n",
    "    for b in B:\n",
    "        alpha_b = sum( lam[i]*a[b][i] for i in I ) \n",
    "        alpha.append(alpha_b)\n",
    "    return alpha"
   ]
  },
  {
   "cell_type": "markdown",
   "metadata": {},
   "source": [
    "For $\\mathcal{K}^{(c)}$, the problem is as follows.\n",
    "$$\n",
    "\\begin{align}\n",
    "\\max_{\\mathbf{x}} \\quad & \\sum_{b\\in\\mathcal{B}}\\sum_{k\\in\\mathcal{K}^{(c)}} r_{b,k}x_{b,k} - \\sum_{b\\in\\mathcal{B}}\\sum_{k\\in\\mathcal{K}^{(c)}}\\alpha_{b}x_{b,k}\\\\\n",
    "s.t. \\quad & x_{b,k}\\in\\{0,1\\}\\quad b\\in\\mathcal{B},~k\\in\\mathcal{K}^{(c)}\n",
    "\\end{align}\n",
    "$$\n",
    "\n",
    "In the above formulation, it might happen that one PRB is allocated to multiple services simultaneously, which definitely leads to PRB overlap. Therefore we add an extra constraint such that the problem becomes:\n",
    "$$\n",
    "\\begin{align}\n",
    "\\max_{\\mathbf{x}} \\quad & \\sum_{b\\in\\mathcal{B}}\\sum_{k\\in\\mathcal{K}^{(c)}}x_{b,k}( r_{b,k} - \\alpha_{b})\\\\\n",
    "% s.t. \\quad & \\sum_{k\\in\\mathcal{K}^{(c)}}x_{b,k}\\leq 1 \\quad b\\in\\mathcal{B} \\\\\n",
    "           & x_{b,k}\\in\\{0,1\\}\\quad b\\in\\mathcal{B},~k\\in\\mathcal{K}^{(c)}\n",
    "\\end{align}\n",
    "$$\n",
    "\n",
    "It can be optimally solved by:\n",
    "For each $b\\in\\mathcal{B}$, we select one $k$, such that.\n",
    "$\n",
    "r_{b,k}-\\alpha_b > 0 \\text{ and } k = \\arg\\max_{k\\in\\mathcal{K}^{(c)}} r_{b,k}-\\alpha_b\n",
    "$.\n",
    "The corresponding code is as follows."
   ]
  },
  {
   "cell_type": "code",
   "execution_count": 72,
   "metadata": {
    "collapsed": true
   },
   "outputs": [],
   "source": [
    "# The argument lam is lambda\n",
    "# The function returns matrix x, with only columns in Kc being computed.\n",
    "# The columns in Kl of the returned matrix x are zero vectors.\n",
    "def solveP2( lam ):\n",
    "    PRB_alloc = [ -1 for b in B ] # PRB_alloc[b] is the index of service that PRB b should be allocated to\n",
    "                                  # PRB_alloc[b]=-1 means that PRB b is not allocated\n",
    "        \n",
    "    sol_x = [ [ 0 for k in K ] for b in B ] # variables to be returned\n",
    "    \n",
    "    alpha = getAlpha(lam)\n",
    "    for b in B:\n",
    "        tmp_list = [ r[b][k]-alpha[b] for k in Kc ]\n",
    "        if max(tmp_list) > 0:   # PRB is allocated only if r[b][k]-alpha[b] is positive\n",
    "            PRB_alloc[b] = len(Kl) + numpy.argmax(tmp_list) # Kl is added such that the value of PRB_alloc[b] is \n",
    "                                                       # coherent with the corresponding indexed position in K\n",
    "    \n",
    "    # Convert PRB_alloc to matrix x\n",
    "    for b in B:\n",
    "        k = PRB_alloc[b] # indexed service\n",
    "        if k >= 0: # indicating that PRB_alloc[b] != -1\n",
    "            sol_x[b][k] = 1\n",
    "    \n",
    "    return sol_x"
   ]
  },
  {
   "cell_type": "markdown",
   "metadata": {},
   "source": [
    "For $\\mathcal{K}^{(\\ell)}$, we have the problem below.\n",
    "$$\n",
    "\\begin{align}\n",
    "\\min_{\\mathbf{x}} \\quad &  \\sum_{b\\in\\mathcal{B}}\\sum_{k\\in\\mathcal{K}^{(\\ell)}}\\alpha_{b}x_{b,k}\\\\\n",
    "s.t. \\quad & \\sum_{b\\in\\mathcal{B}}r_{b,k}x_{b,k}\\geq q_{k} \\quad k\\in\\mathcal{K}^{(\\ell)} \\\\\n",
    "           & x_{b,k}\\in\\{0,1\\}\\quad b\\in\\mathcal{B},~k\\in\\mathcal{K}^{(\\ell)}\n",
    "\\end{align}\n",
    "$$\n",
    "\n",
    "The problem can decomposed to $|\\mathcal{K}^{(\\ell)}|$ knapsack problems and be optimally solved by dynamic programming. "
   ]
  },
  {
   "cell_type": "markdown",
   "metadata": {},
   "source": [
    "For $k\\in\\mathcal{K}^{(\\ell)}$:\n",
    "$$\n",
    "\\begin{align}\n",
    "\\min_{\\mathbf{x}} \\quad &  \\sum_{b\\in\\mathcal{B}}\\alpha_{b}x_{b,k}\\\\\n",
    "s.t. \\quad & \\sum_{b\\in\\mathcal{B}}r_{b,k}x_{b,k}\\geq q_{k}  \\\\\n",
    "           & x_{b,k}\\in\\{0,1\\}\\quad b\\in\\mathcal{B}\n",
    "\\end{align}\n",
    "$$"
   ]
  },
  {
   "cell_type": "markdown",
   "metadata": {},
   "source": [
    "Though the multiple knapsack problem can still be exactly solved by dynamic programming, here we use gurobi integer programming solver instead, without loss of optimality."
   ]
  },
  {
   "cell_type": "code",
   "execution_count": 73,
   "metadata": {
    "collapsed": true
   },
   "outputs": [],
   "source": [
    "# The argument lam is lambda\n",
    "# The function returns matrix x, with only columns in Kl being computed.\n",
    "# The columns in Kc of the returned matrix x are zero vectors.\n",
    "def solveP3( lam ):\n",
    "    # create optimization model\n",
    "    modelKl = Model('Integer Programming - Kl')\n",
    "    modelKl.modelSense = GRB.MINIMIZE\n",
    "    modelKl.setParam('OutputFlag', False) # slience output\n",
    "    \n",
    "    # create varialbes for modelKl:\n",
    "    xKl = []\n",
    "    for b in B:\n",
    "        xKl_b = []\n",
    "        for k in Kl:\n",
    "            xKl_b.append(modelKl.addVar(vtype=GRB.BINARY))\n",
    "        xKl.append(xKl_b)\n",
    "    modelKl.update()\n",
    "    \n",
    "    # add constraints \n",
    "    for k in Kl:\n",
    "        modelKl.addConstr( sum(r[b][k]*xKl[b][k] for b in B) >= q[k] )\n",
    "    modelKl.update()\n",
    "\n",
    "    # set objective function\n",
    "    alpha = getAlpha(lam)\n",
    "    modelKl.setObjective(\n",
    "        sum( alpha[b]*xKl[b][k] for k in Kl for b in B )\n",
    "    )\n",
    "    \n",
    "    # solve modelKl\n",
    "    modelKl.optimize()\n",
    "    \n",
    "    # construct variables to be returned \n",
    "    sol_x = [ [ 0 for k in K ] for b in B ]\n",
    "    for b in B:\n",
    "        for k in Kl:\n",
    "            sol_x[b][k] = int(xKl[b][k].x)\n",
    "            \n",
    "    return sol_x"
   ]
  },
  {
   "cell_type": "markdown",
   "metadata": {},
   "source": [
    "The solutions obtained by $\\texttt{solveP2}$ and $\\texttt{solveP3}$ can be merged to obtain the value of Lagrangian Dual function, by:"
   ]
  },
  {
   "cell_type": "markdown",
   "metadata": {},
   "source": [
    "Next, we use subgradient descent method to solve the Lagrangian Dual problem, i.e., $\\min_{\\mathbf{\\lambda}\\geq\\mathbf{0}} g(\\mathbf{\\lambda})$. After the completion of the gradient descent method, the obtained solution is not guaranteed to be feasible to the primal problem. The heuristic method to obtain a feasible solution is as follows: All PRBs allocation for $\\mathcal{K}^{(\\ell)}$ is kept so as to guarantee the latency constraints being satisfied. Then we solve $\\mathcal{K}^{(c)}$ under the current lambda and fixed $\\mathcal{K}^{(\\ell)}$ solutions.\n",
    "\n",
    "To achieve this goal, we need to implement a new function that solves Kc with some PRB allocations being fixed:"
   ]
  },
  {
   "cell_type": "code",
   "execution_count": 74,
   "metadata": {
    "collapsed": true
   },
   "outputs": [],
   "source": [
    "def assignBlockLD(lam, x_count):\n",
    "    priority = [ [i[0] for i in sorted(enumerate(x_count[k]), key=lambda y:y[1],reverse=True)] for k in K ]\n",
    "    \n",
    "    best = 0\n",
    "    sol_x_best = []\n",
    "    for i in range(400):\n",
    "        sol_x = [ [ 0 for k in K ] for b in B ] # variables to be returned\n",
    "        collision = [ False for b in B ]\n",
    "\n",
    "        Kl_rand = numpy.random.permutation(Kl)\n",
    "        Kc_rand = numpy.random.permutation(Kc)\n",
    "        B_rand = numpy.random.permutation(B)\n",
    "\n",
    "        for k in Kl_rand:\n",
    "            service_bit = sum(r[b][k]*sol_x[b][k] for b in B)\n",
    "            while service_bit < q[k] and collision.count(False)>0: \n",
    "                for pos in range(len(priority[k])):\n",
    "                    b = priority[k][pos]\n",
    "                    if collision[b] == False: \n",
    "                        sol_x[b][k] = 1\n",
    "                        service_bit += r[b][k]*sol_x[b][k]\n",
    "                        for p in B: # set all PRB overlapping with b to be in collision\n",
    "                            if conflict_PRB[b][p] == True:\n",
    "                                collision[p] = True\n",
    "                        break\n",
    "\n",
    "        alpha = getAlpha(lam)\n",
    "        for b in B_rand:\n",
    "            alloc = True\n",
    "            if collision[b]==True: # b wouldn't be allocated if in collision\n",
    "                alloc = False \n",
    "            if alloc == True: \n",
    "                tmp_list = [ r[b][k]-alpha[b] for k in Kc ]\n",
    "                user_to_alloc = len(Kl) + numpy.argmax(tmp_list) \n",
    "                sol_x[b][user_to_alloc] = 1\n",
    "                for p in B: # set all PRB overlapping with b to be in collision\n",
    "                    if conflict_PRB[b][p] == True:\n",
    "                        collision[p] = True\n",
    "                        \n",
    "        curr = sum(r[b][k]*sol_x[b][k] for k in Kc for b in B)\n",
    "        if curr > best:\n",
    "            best = curr\n",
    "            sol_x_best = sol_x\n",
    "                    \n",
    "    return sol_x_best"
   ]
  },
  {
   "cell_type": "code",
   "execution_count": 75,
   "metadata": {},
   "outputs": [],
   "source": [
    "def assignBlockLP(x_count):\n",
    "    sol_x = [ [ 0 for k in K ] for b in B ]\n",
    "    collision = [ False for b in B ]\n",
    "    priority = [ [i[0] for i in sorted(enumerate(x_count[k]), key=lambda y:y[1],reverse=True)] for k in K ]\n",
    "    best_sol = [];\n",
    "    \n",
    "    best = 0\n",
    "    for k in range(400):\n",
    "        Kl_rand = numpy.random.permutation(Kl)\n",
    "        Kc_rand = numpy.random.permutation(Kc)\n",
    "        B_rand = numpy.random.permutation(B)\n",
    "\n",
    "        for k in Kl_rand:\n",
    "            service_bit = sum(r[b][k]*sol_x[b][k] for b in B)\n",
    "            while service_bit < q[k] and collision.count(False)>0: \n",
    "                for pos in range(len(priority[k])):\n",
    "                    b = priority[k][pos]\n",
    "                    if collision[b] == False: \n",
    "                        sol_x[b][k] = 1\n",
    "                        service_bit += r[b][k]*sol_x[b][k]\n",
    "                        for p in B: # set all PRB overlapping with b to be in collision\n",
    "                            if conflict_PRB[b][p] == True:\n",
    "                                collision[p] = True\n",
    "                        break\n",
    "                \n",
    "        for k in Kc_rand:\n",
    "            for b in B_rand:\n",
    "                if collision[b] == False and x_count[k][b] >= 0.5:\n",
    "                    sol_x[b][k]=1\n",
    "                    for p in B:\n",
    "                        if conflict_PRB[b][p] == True:\n",
    "                            collision[p] = True\n",
    "\n",
    "        while collision.count(False)>0:\n",
    "            for k in Kc_rand:\n",
    "                for pos in range(len(priority[k])):\n",
    "                    b = priority[k][pos]\n",
    "                    if collision[b] == False:\n",
    "                        sol_x[b][k] = 1\n",
    "                        for p in B:\n",
    "                            if conflict_PRB[b][p] == True:\n",
    "                                collision[p] = True\n",
    "                        break\n",
    "\n",
    "        obj = sum( r[b][k]*int(sol_x[b][k]) for k in Kc for b in B )\n",
    "        if obj > best:\n",
    "            best = obj\n",
    "            best_sol = sol_x\n",
    "\n",
    "    return best_sol"
   ]
  },
  {
   "cell_type": "markdown",
   "metadata": {},
   "source": [
    "The following function checks whether a solution is primal feasible."
   ]
  },
  {
   "cell_type": "code",
   "execution_count": 76,
   "metadata": {
    "collapsed": true
   },
   "outputs": [],
   "source": [
    "def isFeasible(x):\n",
    "    if (numpy.dot( numpy.dot(numpy.matrix(a).transpose(), \n",
    "                             numpy.matrix(x)), numpy.ones(len(K)) ) \n",
    "        > numpy.ones(len(I))).tolist()[0].count(True)>0:\n",
    "        return False\n",
    "    if (numpy.dot(numpy.multiply(numpy.matrix(r),numpy.matrix(x))[:,0:len(Kl)].transpose(),\n",
    "                  numpy.ones(len(B)))<numpy.matrix(q)).tolist()[0].count(True)>0:\n",
    "        return False\n",
    "    return True"
   ]
  },
  {
   "cell_type": "markdown",
   "metadata": {},
   "source": [
    "The gradient descent along with the heuristic afterwards is implemented as follows."
   ]
  },
  {
   "cell_type": "code",
   "execution_count": 77,
   "metadata": {
    "collapsed": true
   },
   "outputs": [],
   "source": [
    "def LPBased(rho):\n",
    "    model = Model('Linear Programming')\n",
    "    model.modelSense = GRB.MAXIMIZE\n",
    "    model.setParam('OutputFlag', False) # slience output\n",
    "\n",
    "    x = []\n",
    "    for b in B:\n",
    "        x_b = []\n",
    "        for k in K:\n",
    "            x_b.append(model.addVar(vtype=GRB.CONTINUOUS, lb=0, ub=1))\n",
    "        x.append(x_b)\n",
    "\n",
    "    model.update()\n",
    "\n",
    "    for k in Kl:\n",
    "        model.addConstr( sum(r[b][k]*x[b][k] for b in B) >= q[k] )\n",
    "    model.update()\n",
    "\n",
    "    for i in I:\n",
    "        model.addConstr( sum(a[b][i]*x[b][k] for k in K for b in B ) <= 1 )\n",
    "    model.update()\n",
    "\n",
    "    model.setObjective(\n",
    "        sum( r[b][k]*x[b][k] for k in Kc for b in B )\n",
    "    )\n",
    "\n",
    "    model.optimize()\n",
    "    \n",
    "    x_count = [ [ x[b][k].x for b in B] for k in K ]\n",
    "    for b in B:\n",
    "        for k in K:\n",
    "            if x[b][k].x < rho:\n",
    "                x_count[k][b] = 0\n",
    "    \n",
    "    return x_count"
   ]
  },
  {
   "cell_type": "code",
   "execution_count": 78,
   "metadata": {
    "collapsed": true,
    "scrolled": false
   },
   "outputs": [],
   "source": [
    "def LDBased(M, varphi, beta, gamma):\n",
    "    start_time = time.time()\n",
    "    x_count_LP = LPBased(0)\n",
    "    x_LP = assignBlockLP(x_count_LP)\n",
    "    obj_LP =  sum(r[b][k]*x_LP[b][k] for k in Kc for b in B)\n",
    "    \n",
    "    lam = [1 for i in I]\n",
    "    x_prev = [ [0 for k in K ] for b in B ]\n",
    "    penalty = [ 1 for i in I ]\n",
    "    x_count = [ [ 0 for b in B ] for k in K ]\n",
    "    best_dual_sofar = 1e10\n",
    "    eta = 0.95\n",
    "    no_improve_count = 0\n",
    "    \n",
    "    for j in range(1, M+1): # k belongs to [1,100]\n",
    "        \n",
    "        xKc = solveP2(lam)\n",
    "        xKl = solveP3(lam)\n",
    "        x = (numpy.matrix(xKl) + numpy.matrix(xKc)).tolist() \n",
    "\n",
    "        # obtain the corresponding dual function value under current lambda\n",
    "\n",
    "        dual = sum(r[b][k]*x[b][k] for k in Kc for b in B) + sum( lam[i]*(1-sum(a[b][i]*x[b][k] for k in K for b in B)) for i in I)\n",
    "        if dual < best_dual_sofar + 0.005:\n",
    "            no_improve_count = 0\n",
    "            best_dual_sofar = dual\n",
    "            gamma = min(gamma*1.05, 1.9)\n",
    "        else:\n",
    "            no_improve_count += 1\n",
    "\n",
    "        if no_improve_count >=1:\n",
    "            gamma = 0.95*gamma\n",
    "            no_improve_count = 0\n",
    "\n",
    "        numurator = abs(dual - obj_LP*beta)\n",
    "        denominator = numpy.linalg.norm(penalty, 2)**2\n",
    "\n",
    "        if j<varphi:\n",
    "            mu = 10/float(j**0.5)\n",
    "        else:\n",
    "            mu = gamma*numurator/denominator\n",
    "\n",
    "        penalty = (numpy.ones(len(I))- numpy.dot( numpy.dot(numpy.matrix(a).transpose(), numpy.matrix(x)), numpy.ones(len(K)))).tolist()[0]\n",
    "        lam = map(lambda y:max(y,0), (numpy.matrix(lam) - mu*numpy.matrix(penalty)).tolist()[0])\n",
    "\n",
    "        x_count = (numpy.matrix(x_count) + numpy.matrix(x).transpose()).tolist()    \n",
    "        \n",
    "        print 'iteration', j, 'step length=', mu, 'dual=', best_dual_sofar, 'gamma=', gamma\n",
    "        \n",
    "    print 'LD upper bound = ', best_dual_sofar\n",
    "    print 'Solving LD costs', time.time()-start_time, 'seconds'\n",
    "    return [lam, x_count]"
   ]
  },
  {
   "cell_type": "code",
   "execution_count": 79,
   "metadata": {},
   "outputs": [
    {
     "name": "stdout",
     "output_type": "stream",
     "text": [
      "LP upper bound = 2113.94816513\n",
      "calculating final solution (LP)... \n",
      "feasibility= True \n",
      " obj= 631\n"
     ]
    }
   ],
   "source": [
    "x_count_LP = LPBased(0)\n",
    "print 'LP upper bound =', sum(r[b][k]*x_count_LP[k][b] for k in Kc for b in B)\n",
    "print 'calculating final solution (LP)... '\n",
    "x_LP = assignBlockLP(x_count_LP)\n",
    "print 'feasibility=', isFeasible(x_LP), '\\n obj=', sum(r[b][k]*x_LP[b][k] for k in Kc for b in B)"
   ]
  },
  {
   "cell_type": "code",
   "execution_count": 81,
   "metadata": {},
   "outputs": [
    {
     "name": "stdout",
     "output_type": "stream",
     "text": [
      "iteration 1 step length= 10.0 dual= 65924 gamma= 0.525 time= 1.13276600838\n",
      "iteration 2 step length= 7.07106781187 dual= 9490.0 gamma= 0.55125 time= 1.11248898506\n",
      "iteration 3 step length= 5.7735026919 dual= 8283.97979746 gamma= 0.5788125 time= 1.19303297997\n",
      "iteration 4 step length= 5.0 dual= 7264.24312632 gamma= 0.607753125 time= 1.22663378716\n",
      "iteration 5 step length= 16.510694024 dual= 6959.65785623 gamma= 0.63814078125 time= 1.21214199066\n",
      "iteration 6 step length= 13.2988419855 dual= 6959.65785623 gamma= 0.606233742188 time= 1.30058383942\n",
      "iteration 7 step length= 6.77836580982 dual= 6959.65785623 gamma= 0.575922055078 time= 1.17031693459\n",
      "iteration 8 step length= 4.10887830679 dual= 6934.83153662 gamma= 0.604718157832 time= 1.27388596535\n",
      "iteration 9 step length= 5.41409360755 dual= 6149.62392803 gamma= 0.634954065724 time= 1.51522183418\n",
      "iteration 10 step length= 10.8670460601 dual= 5788.00053345 gamma= 0.66670176901 time= 2.16960000992\n",
      "iteration 11 step length= 13.158470842 dual= 5669.57312474 gamma= 0.70003685746 time= 1.60756707191\n",
      "iteration 12 step length= 9.78810478103 dual= 5640.6437637 gamma= 0.735038700333 time= 1.5178668499\n",
      "iteration 13 step length= 8.32835228059 dual= 5640.6437637 gamma= 0.698286765317 time= 1.48494100571\n",
      "iteration 14 step length= 6.13240508002 dual= 5640.6437637 gamma= 0.663372427051 time= 1.29393577576\n",
      "iteration 15 step length= 2.64877726983 dual= 5626.44991997 gamma= 0.696541048403 time= 1.34550094604\n",
      "iteration 16 step length= 5.98978460057 dual= 5225.83880687 gamma= 0.731368100824 time= 1.50732803345\n",
      "iteration 17 step length= 7.76432559506 dual= 5094.66853474 gamma= 0.767936505865 time= 1.37367796898\n",
      "iteration 18 step length= 9.89920816535 dual= 5091.62750329 gamma= 0.806333331158 time= 1.42711687088\n",
      "iteration 19 step length= 6.31906564762 dual= 5091.62750329 gamma= 0.7660166646 time= 1.4191160202\n",
      "iteration 20 step length= 4.87806365232 dual= 5020.64898601 gamma= 0.80431749783 time= 1.53872489929\n",
      "iteration 21 step length= 5.97516295416 dual= 4708.96770482 gamma= 0.844533372722 time= 1.39447188377\n",
      "iteration 22 step length= 8.99942935213 dual= 4565.12267446 gamma= 0.886760041358 time= 1.44224500656\n",
      "iteration 23 step length= 6.58548531462 dual= 4565.12267446 gamma= 0.84242203929 time= 1.81859397888\n",
      "iteration 24 step length= 3.60416559862 dual= 4565.12267446 gamma= 0.800300937325 time= 1.55370402336\n",
      "iteration 25 step length= 6.03469991297 dual= 4565.12267446 gamma= 0.760285890459 time= 1.55970311165\n",
      "iteration 26 step length= 8.69187441513 dual= 4405.43525192 gamma= 0.798300184982 time= 1.53728604317\n",
      "iteration 27 step length= 6.01109328163 dual= 4405.43525192 gamma= 0.758385175733 time= 1.97534799576\n",
      "iteration 28 step length= 4.61322013958 dual= 4405.43525192 gamma= 0.720465916946 time= 1.39069485664\n",
      "iteration 29 step length= 7.65501108631 dual= 4390.4571993 gamma= 0.756489212794 time= 1.25607419014\n",
      "iteration 30 step length= 5.15695627401 dual= 4390.4571993 gamma= 0.718664752154 time= 1.48201298714\n",
      "iteration 31 step length= 3.82642199145 dual= 4298.3965998 gamma= 0.754597989762 time= 1.69618797302\n",
      "iteration 32 step length= 3.19762216178 dual= 4200.48799677 gamma= 0.79232788925 time= 1.21445989609\n",
      "iteration 33 step length= 7.23331598524 dual= 3971.68963737 gamma= 0.831944283712 time= 1.46571302414\n",
      "iteration 34 step length= 10.8506492146 dual= 3971.68963737 gamma= 0.790347069526 time= 1.76188206673\n",
      "iteration 35 step length= 5.03641852559 dual= 3971.68963737 gamma= 0.75082971605 time= 1.29372882843\n",
      "iteration 36 step length= 2.66714878637 dual= 3971.68963737 gamma= 0.713288230248 time= 1.34697008133\n",
      "iteration 37 step length= 3.98836986026 dual= 3971.68963737 gamma= 0.677623818735 time= 1.47738695145\n",
      "iteration 38 step length= 5.69876255876 dual= 3971.68963737 gamma= 0.643742627799 time= 1.60708379745\n",
      "iteration 39 step length= 3.77244133278 dual= 3971.68963737 gamma= 0.611555496409 time= 0.638630867004\n",
      "iteration 40 step length= 2.49306244016 dual= 3971.68963737 gamma= 0.580977721588 time= 0.60706114769\n",
      "iteration 41 step length= 3.88587985345 dual= 3926.46998844 gamma= 0.610026607668 time= 0.677037000656\n",
      "iteration 42 step length= 6.57018660225 dual= 3853.0689467 gamma= 0.640527938051 time= 0.593749046326\n",
      "iteration 43 step length= 5.50724691222 dual= 3853.0689467 gamma= 0.608501541148 time= 0.593607902527\n",
      "iteration 44 step length= 3.87576647963 dual= 3853.0689467 gamma= 0.578076464091 time= 0.576432943344\n",
      "iteration 45 step length= 3.33300594115 dual= 3853.0689467 gamma= 0.549172640886 time= 0.695894002914\n",
      "iteration 46 step length= 2.22108194727 dual= 3763.09595074 gamma= 0.576631272931 time= 0.529536008835\n",
      "iteration 47 step length= 6.03153252701 dual= 3448.38819142 gamma= 0.605462836577 time= 0.561926841736\n",
      "iteration 48 step length= 9.50169600181 dual= 3448.38819142 gamma= 0.575189694748 time= 0.59104681015\n",
      "iteration 49 step length= 4.18561389287 dual= 3448.38819142 gamma= 0.546430210011 time= 0.572774887085\n",
      "iteration 50 step length= 1.65128700744 dual= 3448.38819142 gamma= 0.51910869951 time= 0.608469963074\n",
      "iteration 51 step length= 1.22391436514 dual= 3448.38819142 gamma= 0.493153264535 time= 0.605095148087\n",
      "iteration 52 step length= 3.23993451577 dual= 3448.38819142 gamma= 0.468495601308 time= 0.953235864639\n",
      "iteration 53 step length= 4.51424002468 dual= 3448.38819142 gamma= 0.445070821243 time= 0.652249097824\n",
      "iteration 54 step length= 3.06712641399 dual= 3448.38819142 gamma= 0.422817280181 time= 0.558679103851\n",
      "iteration 55 step length= 2.26111182222 dual= 3440.46756321 gamma= 0.44395814419 time= 0.687054872513\n",
      "iteration 56 step length= 3.36413882069 dual= 3298.54261384 gamma= 0.466156051399 time= 0.590687990189\n",
      "iteration 57 step length= 5.40766735464 dual= 3208.09157535 gamma= 0.489463853969 time= 0.565817117691\n",
      "iteration 58 step length= 4.67171197245 dual= 3208.09157535 gamma= 0.464990661271 time= 0.800135850906\n",
      "iteration 59 step length= 1.81208102167 dual= 3208.09157535 gamma= 0.441741128207 time= 0.615770816803\n",
      "iteration 60 step length= 2.22650152291 dual= 3208.09157535 gamma= 0.419654071797 time= 0.569905042648\n",
      "iteration 61 step length= 3.37282050858 dual= 3074.27210024 gamma= 0.440636775387 time= 0.916120052338\n",
      "iteration 62 step length= 4.00561189384 dual= 3072.54713492 gamma= 0.462668614156 time= 0.605141162872\n",
      "iteration 63 step length= 3.03293753932 dual= 3072.54713492 gamma= 0.439535183448 time= 0.607820987701\n",
      "iteration 64 step length= 1.99210308519 dual= 3072.54713492 gamma= 0.417558424276 time= 0.549174070358\n",
      "iteration 65 step length= 2.13958110479 dual= 3021.0755826 gamma= 0.43843634549 time= 0.559799909592\n",
      "iteration 66 step length= 2.90687435354 dual= 2933.96776475 gamma= 0.460358162764 time= 0.545477867126\n",
      "iteration 67 step length= 3.45736220856 dual= 2813.03131419 gamma= 0.483376070902 time= 0.604119062424\n",
      "iteration 68 step length= 4.61531623899 dual= 2813.03131419 gamma= 0.459207267357 time= 0.656008958817\n",
      "iteration 69 step length= 2.79289227751 dual= 2813.03131419 gamma= 0.436246903989 time= 0.598335027695\n",
      "iteration 70 step length= 2.53716358489 dual= 2813.03131419 gamma= 0.41443455879 time= 0.901788949966\n",
      "iteration 71 step length= 3.16042907788 dual= 2813.03131419 gamma= 0.39371283085 time= 0.61901307106\n",
      "iteration 72 step length= 2.18513216063 dual= 2813.03131419 gamma= 0.374027189308 time= 0.876861810684\n",
      "iteration 73 step length= 1.91270292109 dual= 2762.15504587 gamma= 0.392728548773 time= 0.617085933685\n",
      "iteration 74 step length= 2.86143462995 dual= 2665.09156965 gamma= 0.412364976212 time= 0.613955974579\n",
      "iteration 75 step length= 2.38019685264 dual= 2665.09156965 gamma= 0.391746727401 time= 1.04539895058\n",
      "iteration 76 step length= 1.3866402306 dual= 2665.09156965 gamma= 0.372159391031 time= 1.01741814613\n",
      "iteration 77 step length= 2.72719912614 dual= 2665.09156965 gamma= 0.35355142148 time= 0.588035106659\n",
      "iteration 78 step length= 2.48832139761 dual= 2665.09156965 gamma= 0.335873850406 time= 0.752737998962\n",
      "iteration 79 step length= 1.33553522286 dual= 2665.09156965 gamma= 0.319080157885 time= 0.582875013351\n",
      "iteration 80 step length= 1.61946182864 dual= 2636.43048906 gamma= 0.33503416578 time= 1.08688998222\n",
      "iteration 81 step length= 2.08430409157 dual= 2621.96812987 gamma= 0.351785874069 time= 0.69017291069\n"
     ]
    },
    {
     "name": "stdout",
     "output_type": "stream",
     "text": [
      "iteration 82 step length= 1.6077064399 dual= 2621.96812987 gamma= 0.334196580365 time= 0.772906064987\n",
      "iteration 83 step length= 3.03848908206 dual= 2553.45856895 gamma= 0.350906409383 time= 0.636418104172\n",
      "iteration 84 step length= 2.43470904988 dual= 2553.45856895 gamma= 0.333361088914 time= 0.639989852905\n",
      "iteration 85 step length= 2.17690873567 dual= 2553.45856895 gamma= 0.316693034469 time= 0.573061943054\n",
      "iteration 86 step length= 2.09429855229 dual= 2536.3960717 gamma= 0.332527686192 time= 0.879805088043\n",
      "iteration 87 step length= 2.8933959071 dual= 2534.3723122 gamma= 0.349154070502 time= 0.9099650383\n",
      "iteration 88 step length= 1.83678428396 dual= 2534.3723122 gamma= 0.331696366976 time= 0.85849905014\n",
      "iteration 89 step length= 1.39504081462 dual= 2534.3723122 gamma= 0.315111548628 time= 1.06116199493\n",
      "iteration 90 step length= 1.46120912208 dual= 2534.3723122 gamma= 0.299355971196 time= 0.821566104889\n",
      "iteration 91 step length= 1.29738527367 dual= 2525.34514336 gamma= 0.314323769756 time= 0.793357849121\n",
      "iteration 92 step length= 2.52597596725 dual= 2461.65667639 gamma= 0.330039958244 time= 0.955609083176\n",
      "iteration 93 step length= 2.05523182126 dual= 2461.65667639 gamma= 0.313537960332 time= 1.06405615807\n",
      "iteration 94 step length= 1.88203258948 dual= 2461.65667639 gamma= 0.297861062315 time= 1.08836913109\n",
      "iteration 95 step length= 1.39578505345 dual= 2461.65667639 gamma= 0.282968009199 time= 0.907711982727\n",
      "iteration 96 step length= 1.34396684942 dual= 2461.65667639 gamma= 0.268819608739 time= 0.844163894653\n",
      "iteration 97 step length= 2.41739909346 dual= 2407.64999062 gamma= 0.282260589176 time= 0.826143026352\n",
      "iteration 98 step length= 2.05485408572 dual= 2407.64999062 gamma= 0.268147559718 time= 1.02184081078\n",
      "iteration 99 step length= 1.17447090234 dual= 2407.64999062 gamma= 0.254740181732 time= 0.820155143738\n",
      "iteration 100 step length= 1.09146044828 dual= 2407.64999062 gamma= 0.242003172645 time= 1.30515193939\n",
      "iteration 101 step length= 2.54866628829 dual= 2387.50855017 gamma= 0.254103331277 time= 0.953849077225\n",
      "iteration 102 step length= 1.76915569242 dual= 2387.50855017 gamma= 0.241398164713 time= 1.44699001312\n",
      "iteration 103 step length= 2.35523381492 dual= 2387.50855017 gamma= 0.229328256478 time= 0.75372505188\n",
      "iteration 104 step length= 1.76664294149 dual= 2387.50855017 gamma= 0.217861843654 time= 0.839627981186\n",
      "iteration 105 step length= 0.833783676718 dual= 2387.50855017 gamma= 0.206968751471 time= 0.945034980774\n",
      "iteration 106 step length= 1.72792940635 dual= 2387.50855017 gamma= 0.196620313898 time= 0.869020938873\n",
      "iteration 107 step length= 2.4167632768 dual= 2381.66807902 gamma= 0.206451329593 time= 1.1572201252\n",
      "iteration 108 step length= 1.30864760097 dual= 2381.66807902 gamma= 0.196128763113 time= 0.74494099617\n",
      "iteration 109 step length= 0.662352909947 dual= 2381.66807902 gamma= 0.186322324957 time= 0.704739809036\n",
      "iteration 110 step length= 1.9242751664 dual= 2364.46415185 gamma= 0.195638441205 time= 1.19562411308\n",
      "iteration 111 step length= 2.08118756381 dual= 2364.46415185 gamma= 0.185856519145 time= 1.05165600777\n",
      "iteration 112 step length= 1.31045913589 dual= 2364.46415185 gamma= 0.176563693188 time= 0.999592065811\n",
      "iteration 113 step length= 0.899634587578 dual= 2364.46415185 gamma= 0.167735508528 time= 0.807687997818\n",
      "iteration 114 step length= 1.05266947772 dual= 2344.54643007 gamma= 0.176122283955 time= 1.00725603104\n",
      "iteration 115 step length= 1.12305177291 dual= 2318.56099753 gamma= 0.184928398152 time= 1.23571300507\n",
      "iteration 116 step length= 0.917754371021 dual= 2318.56099753 gamma= 0.175681978245 time= 1.05510783195\n",
      "iteration 117 step length= 1.58093952601 dual= 2306.34771642 gamma= 0.184466077157 time= 1.31403899193\n",
      "iteration 118 step length= 1.14249237265 dual= 2306.34771642 gamma= 0.175242773299 time= 0.625647068024\n",
      "iteration 119 step length= 0.867553824097 dual= 2306.34771642 gamma= 0.166480634634 time= 1.10264992714\n",
      "iteration 120 step length= 1.40810527755 dual= 2291.39047139 gamma= 0.174804666366 time= 0.915128946304\n",
      "iteration 121 step length= 1.31573556915 dual= 2291.39047139 gamma= 0.166064433048 time= 1.13811802864\n",
      "iteration 122 step length= 0.987933730252 dual= 2291.39047139 gamma= 0.157761211395 time= 1.17239809036\n",
      "iteration 123 step length= 1.19034970865 dual= 2291.39047139 gamma= 0.149873150825 time= 1.24476289749\n",
      "iteration 124 step length= 1.39509338554 dual= 2291.39047139 gamma= 0.142379493284 time= 1.04443287849\n",
      "iteration 125 step length= 0.615299660008 dual= 2291.39047139 gamma= 0.13526051862 time= 1.15933322906\n",
      "iteration 126 step length= 1.4000128507 dual= 2290.42874749 gamma= 0.142023544551 time= 1.23265814781\n",
      "iteration 127 step length= 1.3756691213 dual= 2290.42874749 gamma= 0.134922367323 time= 0.813077926636\n",
      "iteration 128 step length= 0.972394078209 dual= 2290.42874749 gamma= 0.128176248957 time= 1.19573712349\n",
      "iteration 129 step length= 0.602441802245 dual= 2290.42874749 gamma= 0.121767436509 time= 0.925215959549\n",
      "iteration 130 step length= 0.859426025185 dual= 2264.66976593 gamma= 0.127855808335 time= 1.22357296944\n",
      "iteration 131 step length= 1.08105674447 dual= 2258.48324978 gamma= 0.134248598752 time= 1.25700187683\n",
      "iteration 132 step length= 1.03457685149 dual= 2258.48324978 gamma= 0.127536168814 time= 0.867202997208\n",
      "iteration 133 step length= 0.645346118568 dual= 2258.48324978 gamma= 0.121159360373 time= 1.34603595734\n",
      "iteration 134 step length= 0.647377213359 dual= 2257.11010745 gamma= 0.127217328392 time= 1.11560201645\n",
      "iteration 135 step length= 1.13364912294 dual= 2251.67499728 gamma= 0.133578194812 time= 0.86998796463\n",
      "iteration 136 step length= 0.816085537802 dual= 2251.67499728 gamma= 0.126899285071 time= 1.14218401909\n",
      "iteration 137 step length= 0.92749855577 dual= 2251.67499728 gamma= 0.120554320817 time= 1.02583003044\n",
      "iteration 138 step length= 0.921521617654 dual= 2251.67499728 gamma= 0.114526604777 time= 1.18197894096\n",
      "iteration 139 step length= 0.801188853669 dual= 2251.67499728 gamma= 0.108800274538 time= 1.18619513512\n",
      "iteration 140 step length= 0.769482783081 dual= 2242.00939669 gamma= 0.114240288265 time= 1.03111600876\n",
      "iteration 141 step length= 0.653972310396 dual= 2242.00939669 gamma= 0.108528273851 time= 0.985076189041\n",
      "iteration 142 step length= 1.20158093521 dual= 2226.5087104 gamma= 0.113954687544 time= 1.15740895271\n",
      "iteration 143 step length= 0.909799171386 dual= 2226.5087104 gamma= 0.108256953167 time= 1.15353012085\n",
      "iteration 144 step length= 0.590561567607 dual= 2226.5087104 gamma= 0.102844105508 time= 1.01084709167\n",
      "iteration 145 step length= 0.716203038414 dual= 2226.5087104 gamma= 0.097701900233 time= 1.32241106033\n",
      "iteration 146 step length= 0.815874293765 dual= 2226.5087104 gamma= 0.0928168052214 time= 1.13897299767\n",
      "iteration 147 step length= 0.586738714996 dual= 2226.5087104 gamma= 0.0881759649603 time= 1.0721540451\n",
      "iteration 148 step length= 0.801040778745 dual= 2222.76539159 gamma= 0.0925847632083 time= 1.02362585068\n",
      "iteration 149 step length= 0.537635162159 dual= 2222.76539159 gamma= 0.0879555250479 time= 1.25901913643\n",
      "iteration 150 step length= 0.673256241742 dual= 2222.10204729 gamma= 0.0923533013003 time= 1.19475102425\n",
      "iteration 151 step length= 0.76017955926 dual= 2222.10204729 gamma= 0.0877356362353 time= 1.42815995216\n",
      "iteration 152 step length= 0.505560275495 dual= 2222.10204729 gamma= 0.0833488544235 time= 1.16044306755\n",
      "iteration 153 step length= 0.712381323987 dual= 2215.89618708 gamma= 0.0875162971447 time= 1.21704506874\n",
      "iteration 154 step length= 0.914982727701 dual= 2215.89618708 gamma= 0.0831404822875 time= 1.08344101906\n",
      "iteration 155 step length= 0.44500454352 dual= 2215.89618708 gamma= 0.0789834581731 time= 1.2338039875\n",
      "iteration 156 step length= 0.346415082462 dual= 2215.89618708 gamma= 0.0750342852644 time= 1.21268105507\n",
      "iteration 157 step length= 0.725693940073 dual= 2207.30910534 gamma= 0.0787859995277 time= 1.08657193184\n",
      "iteration 158 step length= 0.886745368063 dual= 2207.30910534 gamma= 0.0748466995513 time= 1.21470499039\n",
      "iteration 159 step length= 0.408246013594 dual= 2207.30910534 gamma= 0.0711043645737 time= 1.45551800728\n",
      "iteration 160 step length= 0.426200236443 dual= 2207.30910534 gamma= 0.067549146345 time= 1.16759419441\n",
      "iteration 161 step length= 0.65862832015 dual= 2205.25992109 gamma= 0.0709266036623 time= 1.2090549469\n"
     ]
    },
    {
     "name": "stdout",
     "output_type": "stream",
     "text": [
      "iteration 162 step length= 0.778234175628 dual= 2205.25992109 gamma= 0.0673802734792 time= 1.20182514191\n",
      "iteration 163 step length= 0.526518923697 dual= 2205.25992109 gamma= 0.0640112598052 time= 1.07208800316\n",
      "iteration 164 step length= 0.575944346228 dual= 2203.20589882 gamma= 0.0672118227955 time= 1.57635188103\n",
      "iteration 165 step length= 0.805186609769 dual= 2188.94868953 gamma= 0.0705724139352 time= 1.12516903877\n",
      "iteration 166 step length= 0.799305293532 dual= 2188.94868953 gamma= 0.0670437932385 time= 1.30876302719\n",
      "iteration 167 step length= 0.538260745672 dual= 2188.94868953 gamma= 0.0636916035766 time= 1.04886293411\n",
      "iteration 168 step length= 0.450777278858 dual= 2188.94868953 gamma= 0.0605070233977 time= 1.34435415268\n",
      "iteration 169 step length= 0.334959145549 dual= 2188.94868953 gamma= 0.0574816722278 time= 1.25525403023\n",
      "iteration 170 step length= 0.576137737779 dual= 2185.49630157 gamma= 0.0603557558392 time= 1.66474413872\n",
      "iteration 171 step length= 0.718855757666 dual= 2185.49630157 gamma= 0.0573379680473 time= 1.2980389595\n",
      "iteration 172 step length= 0.397036429338 dual= 2185.49630157 gamma= 0.0544710696449 time= 1.47418999672\n",
      "iteration 173 step length= 0.39485216649 dual= 2185.49630157 gamma= 0.0517475161627 time= 1.4596760273\n",
      "iteration 174 step length= 0.421606992844 dual= 2185.49630157 gamma= 0.0491601403545 time= 1.22297000885\n",
      "iteration 175 step length= 0.360583482846 dual= 2185.49630157 gamma= 0.0467021333368 time= 1.09986996651\n",
      "iteration 176 step length= 0.268424898457 dual= 2185.49630157 gamma= 0.04436702667 time= 1.40813398361\n",
      "iteration 177 step length= 0.474722891689 dual= 2178.21526841 gamma= 0.0465853780035 time= 1.09194111824\n",
      "iteration 178 step length= 0.340987667713 dual= 2178.21526841 gamma= 0.0442561091033 time= 1.08522605896\n",
      "iteration 179 step length= 0.239595714568 dual= 2178.21526841 gamma= 0.0420433036481 time= 1.02897882462\n",
      "iteration 180 step length= 0.346673315044 dual= 2175.55594893 gamma= 0.0441454688305 time= 1.09692883492\n",
      "iteration 181 step length= 0.568129040558 dual= 2166.47625847 gamma= 0.0463527422721 time= 1.15193295479\n",
      "iteration 182 step length= 0.674955297341 dual= 2166.47625847 gamma= 0.0440351051585 time= 1.09375905991\n",
      "iteration 183 step length= 0.334110143959 dual= 2166.47625847 gamma= 0.0418333499005 time= 1.19809412956\n",
      "iteration 184 step length= 0.265361872239 dual= 2166.47625847 gamma= 0.0397416824055 time= 1.12698888779\n",
      "iteration 185 step length= 0.400412760445 dual= 2166.47625847 gamma= 0.0377545982852 time= 0.996871948242\n",
      "iteration 186 step length= 0.415902921907 dual= 2166.47625847 gamma= 0.035866868371 time= 1.31705093384\n",
      "iteration 187 step length= 0.295883263987 dual= 2166.47625847 gamma= 0.0340735249524 time= 1.16821193695\n",
      "iteration 188 step length= 0.248404241763 dual= 2166.47625847 gamma= 0.0323698487048 time= 1.03863120079\n",
      "iteration 189 step length= 0.383263118355 dual= 2165.53080479 gamma= 0.03398834114 time= 1.08291006088\n",
      "iteration 190 step length= 0.491673650507 dual= 2164.8017425 gamma= 0.035687758197 time= 1.19232296944\n",
      "iteration 191 step length= 0.327759568241 dual= 2164.8017425 gamma= 0.0339033702872 time= 1.30306887627\n",
      "iteration 192 step length= 0.193462832736 dual= 2164.8017425 gamma= 0.0322082017728 time= 1.24873900414\n",
      "iteration 193 step length= 0.297788734516 dual= 2164.8017425 gamma= 0.0305977916842 time= 1.27034211159\n",
      "iteration 194 step length= 0.334865413011 dual= 2161.2616682 gamma= 0.0321276812684 time= 1.21508598328\n",
      "iteration 195 step length= 0.412319364809 dual= 2160.96781697 gamma= 0.0337340653318 time= 1.27702403069\n",
      "iteration 196 step length= 0.297954162044 dual= 2160.96781697 gamma= 0.0320473620652 time= 1.19832706451\n",
      "iteration 197 step length= 0.287672079589 dual= 2160.96781697 gamma= 0.030444993962 time= 1.01840686798\n",
      "iteration 198 step length= 0.326046794113 dual= 2159.58414088 gamma= 0.0319672436601 time= 1.24199223518\n",
      "iteration 199 step length= 0.28953476169 dual= 2159.58414088 gamma= 0.0303688814771 time= 1.20867300034\n",
      "iteration 200 step length= 0.271882836069 dual= 2159.58414088 gamma= 0.0288504374032 time= 1.1008951664\n",
      "LD upper bound =  2159.58414088\n",
      "calculating final solution ... \n",
      "feasibility= True \n",
      " obj= 1397\n"
     ]
    }
   ],
   "source": [
    "# lam = [1 for i in I]\n",
    "result = LDBased(M=200, varphi=5, beta=0.9, gamma=0.5)\n",
    "lam = result[0]\n",
    "x_count_LD = result[1]\n",
    "print 'calculating final solution ... '\n",
    "x_LD = assignBlockLD(lam,x_count_LD)\n",
    "print 'feasibility=', isFeasible(x_LD), '\\n obj=', sum(r[b][k]*x_LD[b][k] for k in Kc for b in B)"
   ]
  },
  {
   "cell_type": "code",
   "execution_count": null,
   "metadata": {
    "collapsed": true
   },
   "outputs": [],
   "source": []
  }
 ],
 "metadata": {
  "kernelspec": {
   "display_name": "Python 2",
   "language": "python",
   "name": "python2"
  },
  "language_info": {
   "codemirror_mode": {
    "name": "ipython",
    "version": 2
   },
   "file_extension": ".py",
   "mimetype": "text/x-python",
   "name": "python",
   "nbconvert_exporter": "python",
   "pygments_lexer": "ipython2",
   "version": "2.7.13"
  }
 },
 "nbformat": 4,
 "nbformat_minor": 2
}

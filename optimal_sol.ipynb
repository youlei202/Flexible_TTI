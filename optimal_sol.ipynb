{
 "cells": [
  {
   "cell_type": "markdown",
   "metadata": {},
   "source": [
    "# Optimal Solution by Integer Programming\n",
    "\n",
    "by [Lei You](http://user.it.uu.se/~leiyo378)"
   ]
  },
  {
   "cell_type": "markdown",
   "metadata": {},
   "source": [
    "In this document, we solve the flexible TTI allocation problem to optimum, by using integer programming solver gurobi.\n",
    "The formulation of the original problem is as below."
   ]
  },
  {
   "cell_type": "markdown",
   "metadata": {},
   "source": [
    "$$\n",
    "\\begin{align}\n",
    "\\max_{\\mathbf{x}} \\quad & \\sum_{b\\in\\mathcal{B}}\\sum_{k\\in\\mathcal{K}^{(c)}} r_{b,k}x_{b,k} \\\\\n",
    "s.t. \\quad & \\sum_{b\\in\\mathcal{B}}r_{b,k}x_{b,k}\\geq q_{k} \\quad k\\in\\mathcal{K}^{(\\ell)} \\\\\n",
    "           & \\sum_{b\\in\\mathcal{B}}\\sum_{k\\in\\mathcal{K}}a_{b,i}x_{b,k}\\leq 1 \\quad i\\in\\mathcal{I} \\\\\n",
    "           & x_{b,k}\\in\\{0,1\\}\\quad b\\in\\mathcal{B},~k\\in\\mathcal{K}\n",
    "\\end{align}\n",
    "$$"
   ]
  },
  {
   "cell_type": "markdown",
   "metadata": {},
   "source": [
    "We have $x_{b,k}=1$ if and only if physical resource block (PRB) $b$ is allocated to service $k$."
   ]
  },
  {
   "cell_type": "markdown",
   "metadata": {},
   "source": [
    "Recall that $\\tau_k$ is the maximum tolerant latency of service $k$, and $d_b$ is the end time of the PRB $b$. The constraints for the latency is imposed, by letting $r_{b,k}$ follow the rule:\n",
    "$$\n",
    "r_{b,k}=\\left\\{\n",
    "\\begin{array}{ll}\n",
    "0 & \\text{if } \\tau_k-d_b<0 \\\\\n",
    "\\text{capacity} & \\text{otherwise}\n",
    "\\end{array}\n",
    "\\right.\n",
    "$$"
   ]
  },
  {
   "cell_type": "markdown",
   "metadata": {},
   "source": [
    "Now let's start :)"
   ]
  },
  {
   "cell_type": "code",
   "execution_count": 150,
   "metadata": {
    "collapsed": true
   },
   "outputs": [],
   "source": [
    "import sys\n",
    "import scipy.io\n",
    "import numpy\n",
    "import math\n",
    "import csv\n",
    "\n",
    "from gurobipy import *\n",
    "\n",
    "# set the directory path\n",
    "import os\n",
    "folder_name = os.getcwd()"
   ]
  },
  {
   "cell_type": "markdown",
   "metadata": {},
   "source": [
    "The sets $\\mathcal{B}$, $\\mathcal{K}^{(\\ell)}$, $\\mathcal{K}^{(c)}$, $\\mathcal{K}$, and $\\mathcal{I}$ are read by the following code."
   ]
  },
  {
   "cell_type": "code",
   "execution_count": 151,
   "metadata": {
    "collapsed": true
   },
   "outputs": [],
   "source": [
    "# # set of physical layer blocks (PRBs)\n",
    "with open('B.csv', 'rb') as f:\n",
    "    B_csv = csv.reader(f)\n",
    "    B = list(B_csv)\n",
    "    B = [item for sublist in B for item in sublist] # flatten list\n",
    "    B = map(int, map(float, B)) # convert to int\n",
    "    \n",
    "# # set of latency services    \n",
    "with open('Kl.csv', 'rb') as f:\n",
    "    Kl_csv = csv.reader(f)\n",
    "    Kl = list(Kl_csv)\n",
    "    Kl = [item for sublist in Kl for item in sublist] # flatten list\n",
    "    Kl = map(int, map(float, Kl)) # convert to int\n",
    "    \n",
    "# # set of capacity services    \n",
    "with open('Kc.csv', 'rb') as f:\n",
    "    Kc_csv = csv.reader(f)\n",
    "    Kc = list(Kc_csv)\n",
    "    Kc = [item for sublist in Kc for item in sublist] # flatten list\n",
    "    Kc = map(int, map(float, Kc)) # convert to int\n",
    "    \n",
    "# # set of all services\n",
    "K = Kl + Kc\n",
    "\n",
    "# # set of resource units (RUs)\n",
    "with open('I.csv', 'rb') as f:\n",
    "    I_csv = csv.reader(f)\n",
    "    I = list(I_csv)\n",
    "    I = [item for sublist in I for item in sublist] # flatten list\n",
    "    I = map(int, map(float, I)) # convert to int"
   ]
  },
  {
   "cell_type": "markdown",
   "metadata": {},
   "source": [
    "The parameters $\\mathbf{r}$, $\\mathbf{q}$, and $\\mathbf{a}$ are read below."
   ]
  },
  {
   "cell_type": "code",
   "execution_count": 152,
   "metadata": {
    "collapsed": true
   },
   "outputs": [],
   "source": [
    "# # matrix r\n",
    "with open('r.csv', 'rb') as f:\n",
    "    r_csv = csv.reader(f)\n",
    "    r = list(r_csv)\n",
    "    r = [ map(int,map(float,x)) for x in r] # convert to int\n",
    "\n",
    "# # vector q, only for Kl\n",
    "with open('q.csv', 'rb') as f:\n",
    "    q_csv = csv.reader(f)\n",
    "    q = list(q_csv)\n",
    "    q = [item for sublist in q for item in sublist] # flatten list\n",
    "    q = map(int, map(float, q)) # convert to int\n",
    "    \n",
    "# # matrix a\n",
    "with open('a.csv', 'rb') as f:\n",
    "    a_csv = csv.reader(f)\n",
    "    a = list(a_csv)\n",
    "    a = [ map(int,map(float,x)) for x in a] # convert to int"
   ]
  },
  {
   "cell_type": "markdown",
   "metadata": {},
   "source": [
    "The model is created below in gurobi."
   ]
  },
  {
   "cell_type": "code",
   "execution_count": 153,
   "metadata": {
    "collapsed": true
   },
   "outputs": [],
   "source": [
    "model = Model('Interger Programming')\n",
    "model.modelSense = GRB.MAXIMIZE\n",
    "# model.setParam('OutputFlag', False) # slience output"
   ]
  },
  {
   "cell_type": "markdown",
   "metadata": {},
   "source": [
    "The variables $x_{b,k}$ ($b\\in\\mathcal{B}$, $k\\in\\mathcal{K}$) are added to the model by the following loop. And $\\mathbf{x}$ is imposed to be binary."
   ]
  },
  {
   "cell_type": "code",
   "execution_count": 154,
   "metadata": {
    "collapsed": true
   },
   "outputs": [],
   "source": [
    "x = []\n",
    "for b in B:\n",
    "    x_b = []\n",
    "    for k in K:\n",
    "#         x_b.append(model.addVar(vtype=GRB.CONTINUOUS, lb=0, ub=1))\n",
    "        x_b.append(model.addVar(vtype=GRB.BINARY))\n",
    "    x.append(x_b)\n",
    "    \n",
    "model.update()"
   ]
  },
  {
   "cell_type": "markdown",
   "metadata": {},
   "source": [
    "The first constraint, $\\sum_{b\\in\\mathcal{B}}r_{b,k}x_{b,k}\\geq q_{k}$ for all services $k\\in\\mathcal{K}^{(\\ell)}$, is added below."
   ]
  },
  {
   "cell_type": "code",
   "execution_count": 155,
   "metadata": {
    "collapsed": true
   },
   "outputs": [],
   "source": [
    "for k in Kl:\n",
    "    model.addConstr( sum(r[b][k]*x[b][k] for b in B) >= q[k] )\n",
    "model.update()"
   ]
  },
  {
   "cell_type": "markdown",
   "metadata": {},
   "source": [
    "The second constraint, $\\sum_{b\\in\\mathcal{B}}\\sum_{k\\in\\mathcal{K}}a_{b,i}x_{b,k}\\leq 1$ for all resource units $i\\in\\mathcal{I}$, is added as follows."
   ]
  },
  {
   "cell_type": "code",
   "execution_count": 156,
   "metadata": {
    "collapsed": true
   },
   "outputs": [],
   "source": [
    "for i in I:\n",
    "    model.addConstr( sum(a[b][i]*x[b][k] for k in K for b in B ) <= 1 )\n",
    "model.update()"
   ]
  },
  {
   "cell_type": "markdown",
   "metadata": {},
   "source": [
    "The objective function $\\sum_{b\\in\\mathcal{B}}\\sum_{k\\in\\mathcal{K}^{(c)}} r_{b,k}x_{b,k}$, is added below."
   ]
  },
  {
   "cell_type": "code",
   "execution_count": 157,
   "metadata": {
    "collapsed": true
   },
   "outputs": [],
   "source": [
    "model.setObjective(\n",
    "    sum( r[b][k]*x[b][k] for k in Kc for b in B )\n",
    ")"
   ]
  },
  {
   "cell_type": "markdown",
   "metadata": {},
   "source": [
    "Now the problem can be solved by the solver:"
   ]
  },
  {
   "cell_type": "code",
   "execution_count": 158,
   "metadata": {
    "scrolled": true
   },
   "outputs": [
    {
     "name": "stdout",
     "output_type": "stream",
     "text": [
      "Optimize a model with 181 rows, 5490 columns and 23538 nonzeros\n",
      "Variable types: 0 continuous, 5490 integer (5490 binary)\n",
      "Coefficient statistics:\n",
      "  Matrix range     [1e+00, 2e+02]\n",
      "  Objective range  [1e+02, 2e+02]\n",
      "  Bounds range     [1e+00, 1e+00]\n",
      "  RHS range        [1e+00, 1e+03]\n",
      "Found heuristic solution: objective -0.0000000\n",
      "Presolve removed 63 rows and 4392 columns\n",
      "Presolve time: 0.04s\n",
      "Presolved: 118 rows, 1098 columns, 5107 nonzeros\n",
      "Found heuristic solution: objective 1056.0000000\n",
      "Variable types: 0 continuous, 1098 integer (1098 binary)\n",
      "\n",
      "Root relaxation: objective 1.986472e+03, 511 iterations, 0.01 seconds\n",
      "\n",
      "    Nodes    |    Current Node    |     Objective Bounds      |     Work\n",
      " Expl Unexpl |  Obj  Depth IntInf | Incumbent    BestBd   Gap | It/Node Time\n",
      "\n",
      "     0     0 1986.47183    0   13 1056.00000 1986.47183  88.1%     -    0s\n",
      "H    0     0                    1336.0000000 1986.47183  48.7%     -    0s\n",
      "H    0     0                    1601.0000000 1986.47183  24.1%     -    0s\n",
      "     0     0 1982.99299    0   38 1601.00000 1982.99299  23.9%     -    0s\n",
      "     0     0 1982.99299    0   59 1601.00000 1982.99299  23.9%     -    0s\n",
      "     0     0 1982.78754    0   61 1601.00000 1982.78754  23.8%     -    0s\n",
      "     0     0 1982.58734    0   38 1601.00000 1982.58734  23.8%     -    0s\n",
      "     0     0 1980.86839    0   57 1601.00000 1980.86839  23.7%     -    0s\n",
      "     0     0 1980.86839    0   59 1601.00000 1980.86839  23.7%     -    0s\n",
      "     0     0 1980.62316    0   76 1601.00000 1980.62316  23.7%     -    0s\n",
      "     0     0 1980.62316    0   76 1601.00000 1980.62316  23.7%     -    0s\n",
      "     0     0 1980.49416    0   79 1601.00000 1980.49416  23.7%     -    0s\n",
      "     0     0 1980.25585    0   88 1601.00000 1980.25585  23.7%     -    0s\n",
      "     0     0 1980.06068    0   86 1601.00000 1980.06068  23.7%     -    0s\n",
      "     0     0 1980.05815    0   88 1601.00000 1980.05815  23.7%     -    1s\n",
      "     0     0 1979.94940    0   91 1601.00000 1979.94940  23.7%     -    1s\n",
      "     0     0 1979.89931    0   85 1601.00000 1979.89931  23.7%     -    1s\n",
      "     0     0 1979.89641    0   89 1601.00000 1979.89641  23.7%     -    1s\n",
      "     0     0 1979.87600    0   86 1601.00000 1979.87600  23.7%     -    1s\n",
      "     0     0 1979.87600    0   78 1601.00000 1979.87600  23.7%     -    1s\n",
      "     0     2 1979.87600    0   77 1601.00000 1979.87600  23.7%     -    1s\n",
      "H   65    67                    1670.0000000 1978.36457  18.5%  11.4    1s\n",
      "H   66    67                    1776.0000000 1978.36457  11.4%  11.7    1s\n",
      "H  759   618                    1798.0000000 1977.43370  10.0%   8.1    2s\n",
      "H  765   591                    1802.0000000 1977.43370  9.74%   8.0    3s\n",
      "   803   617 1962.83705   25   82 1802.00000 1971.32296  9.40%   7.6    5s\n",
      "H  845   611                    1823.0000000 1970.27704  8.08%  11.5    6s\n",
      "H  846   582                    1864.0000000 1970.27704  5.70%  11.5    6s\n",
      "H 1458   847                    1895.0000000 1970.27704  3.97%  11.6    7s\n",
      "  5612  3798 1958.16240   36   69 1895.00000 1967.13117  3.81%  11.7   10s\n",
      " 10517  7621 1965.92908   31   86 1895.00000 1965.92908  3.74%  11.7   15s\n",
      "H10520  7243                    1914.0000000 1965.92908  2.71%  11.7   15s\n",
      "H17039  9169                    1926.0000000 1963.17751  1.93%  12.1   19s\n",
      " 17280  9216 1957.94356   39   46 1926.00000 1963.15878  1.93%  12.0   20s\n",
      "H18597  9090                    1929.0000000 1962.80839  1.75%  12.1   21s\n",
      " 20792  9920 1934.74565   62   78 1929.00000 1962.15788  1.72%  12.3   27s\n",
      " 20824  9941 1951.13090   42   97 1929.00000 1962.15788  1.72%  12.3   30s\n",
      " 20867  9970 1949.52884   48  115 1929.00000 1962.15788  1.72%  12.3   35s\n",
      " 20890  9985 1936.46329   71  106 1929.00000 1962.15788  1.72%  12.3   40s\n",
      " 23213 10986 1955.64034   58   85 1929.00000 1961.31213  1.68%  12.7   45s\n",
      " 31213 14144 1946.32887   60   32 1929.00000 1957.33453  1.47%  13.3   50s\n",
      " 38677 17056 1937.87165   69   28 1929.00000 1955.87132  1.39%  13.3   55s\n",
      " 47472 20292 1953.27559   51   69 1929.00000 1954.83380  1.34%  13.4   60s\n",
      " 55970 25079 1933.46445   75   24 1929.00000 1954.13942  1.30%  13.4   65s\n",
      " 63826 30452 1951.87207   56   33 1929.00000 1953.64950  1.28%  13.4   70s\n",
      " 70829 35187 1943.90404   87   26 1929.00000 1953.31648  1.26%  13.3   75s\n",
      " 77454 39665 1944.31291   65   72 1929.00000 1953.06424  1.25%  13.2   80s\n",
      " 85169 44954 1933.88977   84   13 1929.00000 1952.83829  1.24%  13.2   85s\n",
      " 94400 51326 1946.17793   73   29 1929.00000 1952.59919  1.22%  13.1   90s\n",
      " 102276 56502 1936.15076   80   19 1929.00000 1952.40162  1.21%  13.0   95s\n",
      " 108478 60579 1937.87695   76   31 1929.00000 1952.24604  1.21%  12.9  100s\n",
      " 115065 64957 1946.61006   64   23 1929.00000 1952.12204  1.20%  12.9  105s\n",
      " 123849 70791 1948.49117   76   44 1929.00000 1951.94167  1.19%  12.8  110s\n",
      " 129177 74313 1931.48070   90   37 1929.00000 1951.85335  1.18%  12.7  115s\n",
      " 138995 80790 1944.95176   87   30 1929.00000 1951.71186  1.18%  12.7  120s\n",
      " 149893 88206 1946.29443   79   40 1929.00000 1951.56139  1.17%  12.6  125s\n",
      "H153063 83676                    1932.0000000 1951.52695  1.01%  12.6  126s\n",
      " 158941 87452 1934.42451   78    8 1932.00000 1951.45208  1.01%  12.5  130s\n",
      " 167642 93077 1945.34232   71   34 1932.00000 1951.33505  1.00%  12.5  135s\n",
      "\n",
      "Cutting planes:\n",
      "  Gomory: 15\n",
      "  Cover: 1\n",
      "  MIR: 86\n",
      "  StrongCG: 45\n",
      "  Flow cover: 11\n",
      "  GUB cover: 7\n",
      "  Inf proof: 2\n",
      "  Zero half: 11\n",
      "\n",
      "Explored 172893 nodes (2156791 simplex iterations) in 138.18 seconds\n",
      "Thread count was 4 (of 4 available processors)\n",
      "\n",
      "Solution count 10: 1932 1929 1926 ... 1776\n",
      "\n",
      "Solve interrupted\n",
      "Best objective 1.932000000000e+03, best bound 1.951000000000e+03, gap 0.9834%\n",
      "11\n"
     ]
    }
   ],
   "source": [
    "model.optimize()\n",
    "print model.Status"
   ]
  },
  {
   "cell_type": "code",
   "execution_count": 159,
   "metadata": {
    "collapsed": true
   },
   "outputs": [],
   "source": [
    "def getAssignment(x):\n",
    "    solK = []\n",
    "    for k in K:\n",
    "        sol = [i for i,j in enumerate([int(x[b][k]) for b in B]) if j > 0]\n",
    "        solK.append(sol)\n",
    "    return solK"
   ]
  },
  {
   "cell_type": "code",
   "execution_count": 160,
   "metadata": {},
   "outputs": [
    {
     "data": {
      "text/plain": [
       "[[2, 81, 149, 179, 225],\n",
       " [92, 105, 131, 143, 218],\n",
       " [177, 188, 253, 283, 533, 542, 544],\n",
       " [429, 446, 447, 448, 471, 543],\n",
       " [26, 55, 68, 529, 530],\n",
       " [15, 449, 450, 451, 452],\n",
       " [],\n",
       " [118, 285],\n",
       " [547, 548],\n",
       " [255]]"
      ]
     },
     "execution_count": 160,
     "metadata": {},
     "output_type": "execute_result"
    }
   ],
   "source": [
    "sol_x = [ [ x[b][k].X for k in K] for b in B ]\n",
    "getAssignment(sol_x)"
   ]
  },
  {
   "cell_type": "code",
   "execution_count": 161,
   "metadata": {},
   "outputs": [
    {
     "data": {
      "text/plain": [
       "[1049, 1049, 1050, 1051, 1050, 945, 0, 440, 350, 197]"
      ]
     },
     "execution_count": 161,
     "metadata": {},
     "output_type": "execute_result"
    }
   ],
   "source": [
    "[ sum(int(r[b][k]*sol_x[b][k]) for b in B) for k in K]"
   ]
  },
  {
   "cell_type": "code",
   "execution_count": 162,
   "metadata": {},
   "outputs": [
    {
     "data": {
      "text/plain": [
       "[1048, 1048, 1048, 1048, 1048]"
      ]
     },
     "execution_count": 162,
     "metadata": {},
     "output_type": "execute_result"
    }
   ],
   "source": [
    "q"
   ]
  },
  {
   "cell_type": "code",
   "execution_count": null,
   "metadata": {
    "collapsed": true
   },
   "outputs": [],
   "source": []
  }
 ],
 "metadata": {
  "kernelspec": {
   "display_name": "Python 2",
   "language": "python",
   "name": "python2"
  },
  "language_info": {
   "codemirror_mode": {
    "name": "ipython",
    "version": 2
   },
   "file_extension": ".py",
   "mimetype": "text/x-python",
   "name": "python",
   "nbconvert_exporter": "python",
   "pygments_lexer": "ipython2",
   "version": "2.7.14"
  }
 },
 "nbformat": 4,
 "nbformat_minor": 2
}

{
 "cells": [
  {
   "cell_type": "markdown",
   "metadata": {},
   "source": [
    "# Optimal Solution by Integer Programming\n",
    "\n",
    "by [Lei You](http://user.it.uu.se/~leiyo378)"
   ]
  },
  {
   "cell_type": "markdown",
   "metadata": {},
   "source": [
    "In this document, we solve the flexible TTI allocation problem to optimum, by using integer programming solver gurobi.\n",
    "The formulation of the original problem is as below."
   ]
  },
  {
   "cell_type": "markdown",
   "metadata": {},
   "source": [
    "$$\n",
    "\\begin{align}\n",
    "\\max_{\\mathbf{x}} \\quad & \\sum_{b\\in\\mathcal{B}}\\sum_{k\\in\\mathcal{K}^{(c)}} r_{b,k}x_{b,k} \\\\\n",
    "s.t. \\quad & \\sum_{b\\in\\mathcal{B}}r_{b,k}x_{b,k}\\geq q_{k} \\quad k\\in\\mathcal{K}^{(\\ell)} \\\\\n",
    "           & \\sum_{b\\in\\mathcal{B}}\\sum_{k\\in\\mathcal{K}}a_{b,i}x_{b,k}\\leq 1 \\quad i\\in\\mathcal{I} \\\\\n",
    "           & x_{b,k}\\in\\{0,1\\}\\quad b\\in\\mathcal{B},~k\\in\\mathcal{K}\n",
    "\\end{align}\n",
    "$$"
   ]
  },
  {
   "cell_type": "markdown",
   "metadata": {},
   "source": [
    "We have $x_{b,k}=1$ if and only if physical resource block (PRB) $b$ is allocated to service $k$."
   ]
  },
  {
   "cell_type": "markdown",
   "metadata": {},
   "source": [
    "Recall that $\\tau_k$ is the maximum tolerant latency of service $k$, and $d_b$ is the end time of the PRB $b$. The constraints for the latency is imposed, by letting $r_{b,k}$ follow the rule:\n",
    "$$\n",
    "r_{b,k}=\\left\\{\n",
    "\\begin{array}{ll}\n",
    "0 & \\text{if } \\tau_k-d_b<0 \\\\\n",
    "\\text{capacity} & \\text{otherwise}\n",
    "\\end{array}\n",
    "\\right.\n",
    "$$"
   ]
  },
  {
   "cell_type": "markdown",
   "metadata": {},
   "source": [
    "Now let's start :)"
   ]
  },
  {
   "cell_type": "code",
   "execution_count": 15,
   "metadata": {
    "collapsed": true
   },
   "outputs": [],
   "source": [
    "import sys\n",
    "import scipy.io\n",
    "import numpy\n",
    "import math\n",
    "import csv\n",
    "\n",
    "from gurobipy import *\n",
    "\n",
    "# set the directory path\n",
    "import os\n",
    "folder_name = os.getcwd()"
   ]
  },
  {
   "cell_type": "markdown",
   "metadata": {},
   "source": [
    "The sets $\\mathcal{B}$, $\\mathcal{K}^{(\\ell)}$, $\\mathcal{K}^{(c)}$, $\\mathcal{K}$, and $\\mathcal{I}$ are read by the following code."
   ]
  },
  {
   "cell_type": "code",
   "execution_count": 16,
   "metadata": {
    "collapsed": true
   },
   "outputs": [],
   "source": [
    "# # set of physical layer blocks (PRBs)\n",
    "with open('B.csv', 'rb') as f:\n",
    "    B_csv = csv.reader(f)\n",
    "    B = list(B_csv)\n",
    "    B = [item for sublist in B for item in sublist] # flatten list\n",
    "    B = map(int, map(float, B)) # convert to int\n",
    "    \n",
    "# # set of latency services    \n",
    "with open('Kl.csv', 'rb') as f:\n",
    "    Kl_csv = csv.reader(f)\n",
    "    Kl = list(Kl_csv)\n",
    "    Kl = [item for sublist in Kl for item in sublist] # flatten list\n",
    "    Kl = map(int, map(float, Kl)) # convert to int\n",
    "    \n",
    "# # set of capacity services    \n",
    "with open('Kc.csv', 'rb') as f:\n",
    "    Kc_csv = csv.reader(f)\n",
    "    Kc = list(Kc_csv)\n",
    "    Kc = [item for sublist in Kc for item in sublist] # flatten list\n",
    "    Kc = map(int, map(float, Kc)) # convert to int\n",
    "    \n",
    "# # set of all services\n",
    "K = Kl + Kc\n",
    "\n",
    "# # set of resource units (RUs)\n",
    "with open('I.csv', 'rb') as f:\n",
    "    I_csv = csv.reader(f)\n",
    "    I = list(I_csv)\n",
    "    I = [item for sublist in I for item in sublist] # flatten list\n",
    "    I = map(int, map(float, I)) # convert to int"
   ]
  },
  {
   "cell_type": "markdown",
   "metadata": {},
   "source": [
    "The parameters $\\mathbf{r}$, $\\mathbf{q}$, and $\\mathbf{a}$ are read below."
   ]
  },
  {
   "cell_type": "code",
   "execution_count": 17,
   "metadata": {
    "collapsed": true
   },
   "outputs": [],
   "source": [
    "# # matrix r\n",
    "with open('r.csv', 'rb') as f:\n",
    "    r_csv = csv.reader(f)\n",
    "    r = list(r_csv)\n",
    "    r = [ map(int,map(float,x)) for x in r] # convert to int\n",
    "\n",
    "# # vector q, only for Kl\n",
    "with open('q.csv', 'rb') as f:\n",
    "    q_csv = csv.reader(f)\n",
    "    q = list(q_csv)\n",
    "    q = [item for sublist in q for item in sublist] # flatten list\n",
    "    q = map(int, map(float, q)) # convert to int\n",
    "    \n",
    "# # matrix a\n",
    "with open('a.csv', 'rb') as f:\n",
    "    a_csv = csv.reader(f)\n",
    "    a = list(a_csv)\n",
    "    a = [ map(int,map(float,x)) for x in a] # convert to int"
   ]
  },
  {
   "cell_type": "markdown",
   "metadata": {},
   "source": [
    "The model is created below in gurobi."
   ]
  },
  {
   "cell_type": "code",
   "execution_count": 18,
   "metadata": {
    "collapsed": true
   },
   "outputs": [],
   "source": [
    "model = Model('Interger Programming')\n",
    "model.modelSense = GRB.MAXIMIZE\n",
    "# model.setParam('OutputFlag', False) # slience output"
   ]
  },
  {
   "cell_type": "markdown",
   "metadata": {},
   "source": [
    "The variables $x_{b,k}$ ($b\\in\\mathcal{B}$, $k\\in\\mathcal{K}$) are added to the model by the following loop. And $\\mathbf{x}$ is imposed to be binary."
   ]
  },
  {
   "cell_type": "code",
   "execution_count": 19,
   "metadata": {
    "collapsed": true
   },
   "outputs": [],
   "source": [
    "x = []\n",
    "for b in B:\n",
    "    x_b = []\n",
    "    for k in K:\n",
    "#         x_b.append(model.addVar(vtype=GRB.CONTINUOUS, lb=0, ub=1))\n",
    "        x_b.append(model.addVar(vtype=GRB.BINARY))\n",
    "    x.append(x_b)\n",
    "    \n",
    "model.update()"
   ]
  },
  {
   "cell_type": "markdown",
   "metadata": {},
   "source": [
    "The first constraint, $\\sum_{b\\in\\mathcal{B}}r_{b,k}x_{b,k}\\geq q_{k}$ for all services $k\\in\\mathcal{K}^{(\\ell)}$, is added below."
   ]
  },
  {
   "cell_type": "code",
   "execution_count": 20,
   "metadata": {
    "collapsed": true
   },
   "outputs": [],
   "source": [
    "for k in Kl:\n",
    "    model.addConstr( sum(r[b][k]*x[b][k] for b in B) >= q[k] )\n",
    "model.update()"
   ]
  },
  {
   "cell_type": "markdown",
   "metadata": {},
   "source": [
    "The second constraint, $\\sum_{b\\in\\mathcal{B}}\\sum_{k\\in\\mathcal{K}}a_{b,i}x_{b,k}\\leq 1$ for all resource units $i\\in\\mathcal{I}$, is added as follows."
   ]
  },
  {
   "cell_type": "code",
   "execution_count": 21,
   "metadata": {
    "collapsed": true
   },
   "outputs": [],
   "source": [
    "for i in I:\n",
    "    model.addConstr( sum(a[b][i]*x[b][k] for k in K for b in B ) <= 1 )\n",
    "model.update()"
   ]
  },
  {
   "cell_type": "markdown",
   "metadata": {},
   "source": [
    "The objective function $\\sum_{b\\in\\mathcal{B}}\\sum_{k\\in\\mathcal{K}^{(c)}} r_{b,k}x_{b,k}$, is added below."
   ]
  },
  {
   "cell_type": "code",
   "execution_count": 22,
   "metadata": {
    "collapsed": true
   },
   "outputs": [],
   "source": [
    "model.setObjective(\n",
    "    sum( r[b][k]*x[b][k] for k in Kc for b in B )\n",
    ")"
   ]
  },
  {
   "cell_type": "markdown",
   "metadata": {},
   "source": [
    "Now the problem can be solved by the solver:"
   ]
  },
  {
   "cell_type": "code",
   "execution_count": 23,
   "metadata": {},
   "outputs": [
    {
     "name": "stdout",
     "output_type": "stream",
     "text": [
      "Optimize a model with 180 rows, 5490 columns and 23158 nonzeros\n",
      "Variable types: 0 continuous, 5490 integer (5490 binary)\n",
      "Coefficient statistics:\n",
      "  Matrix range     [1e+00, 2e+02]\n",
      "  Objective range  [1e+02, 2e+02]\n",
      "  Bounds range     [1e+00, 1e+00]\n",
      "  RHS range        [1e+00, 6e+02]\n",
      "Found heuristic solution: objective 4207\n",
      "Presolve removed 73 rows and 4621 columns\n",
      "Presolve time: 0.04s\n",
      "Presolved: 107 rows, 869 columns, 4020 nonzeros\n",
      "Found heuristic solution: objective 4489.0000000\n",
      "Variable types: 0 continuous, 869 integer (868 binary)\n",
      "\n",
      "Root relaxation: objective 5.601128e+03, 319 iterations, 0.01 seconds\n",
      "\n",
      "    Nodes    |    Current Node    |     Objective Bounds      |     Work\n",
      " Expl Unexpl |  Obj  Depth IntInf | Incumbent    BestBd   Gap | It/Node Time\n",
      "\n",
      "     0     0 5601.12767    0    7 4489.00000 5601.12767  24.8%     -    0s\n",
      "H    0     0                    5379.0000000 5601.12767  4.13%     -    0s\n",
      "H    0     0                    5402.0000000 5601.12767  3.69%     -    0s\n",
      "     0     0 5592.38022    0   37 5402.00000 5592.38022  3.52%     -    0s\n",
      "H    0     0                    5415.0000000 5592.38022  3.28%     -    0s\n",
      "H    0     0                    5569.0000000 5592.38022  0.42%     -    0s\n",
      "     0     0 5588.33603    0    9 5569.00000 5588.33603  0.35%     -    0s\n",
      "     0     0 5588.33603    0    6 5569.00000 5588.33603  0.35%     -    0s\n",
      "     0     0 5587.30910    0    8 5569.00000 5587.30910  0.33%     -    0s\n",
      "     0     0 5583.67000    0   12 5569.00000 5583.67000  0.26%     -    0s\n",
      "     0     0 5583.67000    0   51 5569.00000 5583.67000  0.26%     -    0s\n",
      "     0     0 5579.29545    0   33 5569.00000 5579.29545  0.18%     -    0s\n",
      "     0     0 5577.29545    0   41 5569.00000 5577.29545  0.15%     -    0s\n",
      "     0     0 5577.24528    0   37 5569.00000 5577.24528  0.15%     -    0s\n",
      "     0     0 5576.83594    0   11 5569.00000 5576.83594  0.14%     -    0s\n",
      "     0     0 5576.82825    0   25 5569.00000 5576.82825  0.14%     -    0s\n",
      "     0     0 5576.82825    0   27 5569.00000 5576.82825  0.14%     -    0s\n",
      "     0     0 5576.80984    0   35 5569.00000 5576.80984  0.14%     -    0s\n",
      "     0     0 5576.39230    0   31 5569.00000 5576.39230  0.13%     -    0s\n",
      "     0     0 5576.39199    0   34 5569.00000 5576.39199  0.13%     -    0s\n",
      "     0     0 5576.38562    0   37 5569.00000 5576.38562  0.13%     -    0s\n",
      "     0     0 5576.38562    0   11 5569.00000 5576.38562  0.13%     -    0s\n",
      "     0     0 5576.38562    0    7 5569.00000 5576.38562  0.13%     -    0s\n",
      "     0     0 5576.38562    0   11 5569.00000 5576.38562  0.13%     -    0s\n",
      "     0     0 5576.38562    0   32 5569.00000 5576.38562  0.13%     -    0s\n",
      "     0     0 5576.38562    0   34 5569.00000 5576.38562  0.13%     -    0s\n",
      "     0     0 5576.38562    0   52 5569.00000 5576.38562  0.13%     -    0s\n",
      "     0     0 5576.38562    0   35 5569.00000 5576.38562  0.13%     -    0s\n",
      "     0     0 5576.35994    0   58 5569.00000 5576.35994  0.13%     -    0s\n",
      "     0     0 5576.05185    0   51 5569.00000 5576.05185  0.13%     -    0s\n",
      "     0     0 5576.05185    0   56 5569.00000 5576.05185  0.13%     -    0s\n",
      "     0     0 5575.96264    0   53 5569.00000 5575.96264  0.13%     -    0s\n",
      "     0     0 5575.96264    0   33 5569.00000 5575.96264  0.13%     -    0s\n",
      "     0     2 5575.96264    0   33 5569.00000 5575.96264  0.13%     -    0s\n",
      "H   97    14                    5574.0000000 5575.49115  0.03%   6.8    0s\n",
      "*  103    11               6    5575.0000000 5575.21852  0.00%   7.3    0s\n",
      "\n",
      "Cutting planes:\n",
      "  Gomory: 3\n",
      "  Cover: 2\n",
      "  MIR: 5\n",
      "  StrongCG: 3\n",
      "\n",
      "Explored 113 nodes (2243 simplex iterations) in 0.59 seconds\n",
      "Thread count was 4 (of 4 available processors)\n",
      "\n",
      "Solution count 8: 5575 5574 5569 ... 4227\n",
      "\n",
      "Optimal solution found (tolerance 1.00e-04)\n",
      "Best objective 5.575000000000e+03, best bound 5.575000000000e+03, gap 0.0000%\n"
     ]
    }
   ],
   "source": [
    "model.optimize()"
   ]
  },
  {
   "cell_type": "code",
   "execution_count": 24,
   "metadata": {
    "collapsed": true
   },
   "outputs": [],
   "source": [
    "def isFeasible(x):\n",
    "    if (numpy.dot( numpy.dot(numpy.matrix(a).transpose(), \n",
    "                             numpy.matrix(x)), numpy.ones(len(K)) ) \n",
    "        > numpy.ones(len(I))).tolist()[0].count(True)>0:\n",
    "        return False\n",
    "    if (numpy.dot(numpy.multiply(numpy.matrix(r),numpy.matrix(x))[:,0:len(Kl)].transpose(),\n",
    "                  numpy.ones(len(B)))<numpy.matrix(q)).tolist()[0].count(True)>0:\n",
    "        return False\n",
    "    return True"
   ]
  },
  {
   "cell_type": "code",
   "execution_count": 25,
   "metadata": {
    "collapsed": true
   },
   "outputs": [],
   "source": [
    "numpy.savetxt(\"opt_x.csv\", [ [ int(x[b][k].x) for k in K] for b in B ], delimiter=\",\")\n",
    "numpy.savetxt(\"lp_x.csv\", [ [ x[b][k].x for k in K] for b in B ], delimiter=\",\")"
   ]
  },
  {
   "cell_type": "code",
   "execution_count": 26,
   "metadata": {
    "collapsed": true
   },
   "outputs": [],
   "source": [
    "# if conflict_PRBs[b1][b2] == True, then the PRBs b1 b2 cannot be used simultaneously\n",
    "with open('conflict_PRB.csv', 'rb') as f:\n",
    "    conflict_PRB_csv = csv.reader(f)\n",
    "    conflict_PRB = list(conflict_PRB_csv)\n",
    "    conflict_PRB = [ map(lambda y: int(float(y))==1, t) for t in conflict_PRB]"
   ]
  },
  {
   "cell_type": "code",
   "execution_count": 27,
   "metadata": {},
   "outputs": [
    {
     "name": "stdout",
     "output_type": "stream",
     "text": [
      "5575 True\n"
     ]
    }
   ],
   "source": [
    "x_count = [ [ x[b][k].x for b in B] for k in K ]\n",
    "sol_x = [ [ 0 for k in K ] for b in B ]\n",
    "collision = [ False for b in B ]\n",
    "priority = [ [i[0] for i in sorted(enumerate(x_count[k]), key=lambda y:y[1],reverse=True)] for k in K ]\n",
    "\n",
    "\n",
    "best = 0\n",
    "for k in range(400):\n",
    "    Kl_rand = numpy.random.permutation(Kl)\n",
    "    Kc_rand = numpy.random.permutation(Kc)\n",
    "    B_rand = numpy.random.permutation(B)\n",
    "    \n",
    "    for k in Kl_rand:\n",
    "        service_bit = sum(r[b][k]*sol_x[b][k] for b in B)\n",
    "        while service_bit < q[k] and collision.count(False)>0: \n",
    "            for pos in range(len(priority[k])):\n",
    "                b = priority[k][pos]\n",
    "                if collision[b] == False: \n",
    "                    sol_x[b][k] = 1\n",
    "                    service_bit += r[b][k]*sol_x[b][k]\n",
    "                    for p in B: # set all PRB overlapping with b to be in collision\n",
    "                        if conflict_PRB[b][p] == True:\n",
    "                            collision[p] = True\n",
    "                    break\n",
    "                    \n",
    "    for k in Kc_rand:\n",
    "        for b in B_rand:\n",
    "            if collision[b] == False and x[b][k].x >= 0.5:\n",
    "                sol_x[b][k]=1\n",
    "                for p in B:\n",
    "                    if conflict_PRB[b][p] == True:\n",
    "                        collision[p] = True\n",
    "                        \n",
    "    while collision.count(False)>0:\n",
    "        for k in Kc_rand:\n",
    "            for pos in range(len(priority[k])):\n",
    "                b = priority[k][pos]\n",
    "                if collision[b] == False:\n",
    "                    sol_x[b][k] = 1\n",
    "                    for p in B:\n",
    "                        if conflict_PRB[b][p] == True:\n",
    "                            collision[p] = True\n",
    "                    break\n",
    "                        \n",
    "    obj = sum( r[b][k]*int(sol_x[b][k]) for k in Kc for b in B )\n",
    "    if obj > best:\n",
    "        best = obj\n",
    "                \n",
    "    \n",
    "print best, isFeasible(sol_x)\n"
   ]
  },
  {
   "cell_type": "code",
   "execution_count": 28,
   "metadata": {
    "scrolled": true
   },
   "outputs": [
    {
     "name": "stdout",
     "output_type": "stream",
     "text": [
      "allocated blocks number: [2, 3, 3, 2, 24, 2, 0, 4, 0, 2] obj= 5575\n"
     ]
    },
    {
     "data": {
      "text/html": [
       "<div>\n",
       "<style>\n",
       "    .dataframe thead tr:only-child th {\n",
       "        text-align: right;\n",
       "    }\n",
       "\n",
       "    .dataframe thead th {\n",
       "        text-align: left;\n",
       "    }\n",
       "\n",
       "    .dataframe tbody tr th {\n",
       "        vertical-align: top;\n",
       "    }\n",
       "</style>\n",
       "<table border=\"1\" class=\"dataframe\">\n",
       "  <thead>\n",
       "    <tr style=\"text-align: right;\">\n",
       "      <th></th>\n",
       "      <th>0</th>\n",
       "      <th>1</th>\n",
       "      <th>2</th>\n",
       "      <th>3</th>\n",
       "      <th>4</th>\n",
       "      <th>5</th>\n",
       "      <th>6</th>\n",
       "      <th>7</th>\n",
       "      <th>8</th>\n",
       "      <th>9</th>\n",
       "      <th>...</th>\n",
       "      <th>14</th>\n",
       "      <th>15</th>\n",
       "      <th>16</th>\n",
       "      <th>17</th>\n",
       "      <th>18</th>\n",
       "      <th>19</th>\n",
       "      <th>20</th>\n",
       "      <th>21</th>\n",
       "      <th>22</th>\n",
       "      <th>23</th>\n",
       "    </tr>\n",
       "  </thead>\n",
       "  <tbody>\n",
       "    <tr>\n",
       "      <th>0</th>\n",
       "      <td>[0, 0]</td>\n",
       "      <td>[223, 0]</td>\n",
       "      <td>None</td>\n",
       "      <td>None</td>\n",
       "      <td>None</td>\n",
       "      <td>None</td>\n",
       "      <td>None</td>\n",
       "      <td>None</td>\n",
       "      <td>None</td>\n",
       "      <td>None</td>\n",
       "      <td>...</td>\n",
       "      <td>None</td>\n",
       "      <td>None</td>\n",
       "      <td>None</td>\n",
       "      <td>None</td>\n",
       "      <td>None</td>\n",
       "      <td>None</td>\n",
       "      <td>None</td>\n",
       "      <td>None</td>\n",
       "      <td>None</td>\n",
       "      <td>None</td>\n",
       "    </tr>\n",
       "    <tr>\n",
       "      <th>1</th>\n",
       "      <td>[13, 1]</td>\n",
       "      <td>[79, 1]</td>\n",
       "      <td>[510, 1]</td>\n",
       "      <td>None</td>\n",
       "      <td>None</td>\n",
       "      <td>None</td>\n",
       "      <td>None</td>\n",
       "      <td>None</td>\n",
       "      <td>None</td>\n",
       "      <td>None</td>\n",
       "      <td>...</td>\n",
       "      <td>None</td>\n",
       "      <td>None</td>\n",
       "      <td>None</td>\n",
       "      <td>None</td>\n",
       "      <td>None</td>\n",
       "      <td>None</td>\n",
       "      <td>None</td>\n",
       "      <td>None</td>\n",
       "      <td>None</td>\n",
       "      <td>None</td>\n",
       "    </tr>\n",
       "    <tr>\n",
       "      <th>2</th>\n",
       "      <td>[189, 2]</td>\n",
       "      <td>[279, 2]</td>\n",
       "      <td>[533, 2]</td>\n",
       "      <td>None</td>\n",
       "      <td>None</td>\n",
       "      <td>None</td>\n",
       "      <td>None</td>\n",
       "      <td>None</td>\n",
       "      <td>None</td>\n",
       "      <td>None</td>\n",
       "      <td>...</td>\n",
       "      <td>None</td>\n",
       "      <td>None</td>\n",
       "      <td>None</td>\n",
       "      <td>None</td>\n",
       "      <td>None</td>\n",
       "      <td>None</td>\n",
       "      <td>None</td>\n",
       "      <td>None</td>\n",
       "      <td>None</td>\n",
       "      <td>None</td>\n",
       "    </tr>\n",
       "    <tr>\n",
       "      <th>3</th>\n",
       "      <td>[303, 3]</td>\n",
       "      <td>[341, 3]</td>\n",
       "      <td>None</td>\n",
       "      <td>None</td>\n",
       "      <td>None</td>\n",
       "      <td>None</td>\n",
       "      <td>None</td>\n",
       "      <td>None</td>\n",
       "      <td>None</td>\n",
       "      <td>None</td>\n",
       "      <td>...</td>\n",
       "      <td>None</td>\n",
       "      <td>None</td>\n",
       "      <td>None</td>\n",
       "      <td>None</td>\n",
       "      <td>None</td>\n",
       "      <td>None</td>\n",
       "      <td>None</td>\n",
       "      <td>None</td>\n",
       "      <td>None</td>\n",
       "      <td>None</td>\n",
       "    </tr>\n",
       "    <tr>\n",
       "      <th>4</th>\n",
       "      <td>[55, 4]</td>\n",
       "      <td>[66, 4]</td>\n",
       "      <td>[92, 4]</td>\n",
       "      <td>[139, 4]</td>\n",
       "      <td>[148, 4]</td>\n",
       "      <td>[150, 4]</td>\n",
       "      <td>[178, 4]</td>\n",
       "      <td>[180, 4]</td>\n",
       "      <td>[210, 4]</td>\n",
       "      <td>[253, 4]</td>\n",
       "      <td>...</td>\n",
       "      <td>[433, 4]</td>\n",
       "      <td>[434, 4]</td>\n",
       "      <td>[435, 4]</td>\n",
       "      <td>[436, 4]</td>\n",
       "      <td>[527, 4]</td>\n",
       "      <td>[528, 4]</td>\n",
       "      <td>[529, 4]</td>\n",
       "      <td>[530, 4]</td>\n",
       "      <td>[531, 4]</td>\n",
       "      <td>[532, 4]</td>\n",
       "    </tr>\n",
       "    <tr>\n",
       "      <th>5</th>\n",
       "      <td>[61, 5]</td>\n",
       "      <td>[133, 5]</td>\n",
       "      <td>None</td>\n",
       "      <td>None</td>\n",
       "      <td>None</td>\n",
       "      <td>None</td>\n",
       "      <td>None</td>\n",
       "      <td>None</td>\n",
       "      <td>None</td>\n",
       "      <td>None</td>\n",
       "      <td>...</td>\n",
       "      <td>None</td>\n",
       "      <td>None</td>\n",
       "      <td>None</td>\n",
       "      <td>None</td>\n",
       "      <td>None</td>\n",
       "      <td>None</td>\n",
       "      <td>None</td>\n",
       "      <td>None</td>\n",
       "      <td>None</td>\n",
       "      <td>None</td>\n",
       "    </tr>\n",
       "    <tr>\n",
       "      <th>6</th>\n",
       "      <td>None</td>\n",
       "      <td>None</td>\n",
       "      <td>None</td>\n",
       "      <td>None</td>\n",
       "      <td>None</td>\n",
       "      <td>None</td>\n",
       "      <td>None</td>\n",
       "      <td>None</td>\n",
       "      <td>None</td>\n",
       "      <td>None</td>\n",
       "      <td>...</td>\n",
       "      <td>None</td>\n",
       "      <td>None</td>\n",
       "      <td>None</td>\n",
       "      <td>None</td>\n",
       "      <td>None</td>\n",
       "      <td>None</td>\n",
       "      <td>None</td>\n",
       "      <td>None</td>\n",
       "      <td>None</td>\n",
       "      <td>None</td>\n",
       "    </tr>\n",
       "    <tr>\n",
       "      <th>7</th>\n",
       "      <td>[26, 7]</td>\n",
       "      <td>[120, 7]</td>\n",
       "      <td>[217, 7]</td>\n",
       "      <td>[285, 7]</td>\n",
       "      <td>None</td>\n",
       "      <td>None</td>\n",
       "      <td>None</td>\n",
       "      <td>None</td>\n",
       "      <td>None</td>\n",
       "      <td>None</td>\n",
       "      <td>...</td>\n",
       "      <td>None</td>\n",
       "      <td>None</td>\n",
       "      <td>None</td>\n",
       "      <td>None</td>\n",
       "      <td>None</td>\n",
       "      <td>None</td>\n",
       "      <td>None</td>\n",
       "      <td>None</td>\n",
       "      <td>None</td>\n",
       "      <td>None</td>\n",
       "    </tr>\n",
       "    <tr>\n",
       "      <th>8</th>\n",
       "      <td>None</td>\n",
       "      <td>None</td>\n",
       "      <td>None</td>\n",
       "      <td>None</td>\n",
       "      <td>None</td>\n",
       "      <td>None</td>\n",
       "      <td>None</td>\n",
       "      <td>None</td>\n",
       "      <td>None</td>\n",
       "      <td>None</td>\n",
       "      <td>...</td>\n",
       "      <td>None</td>\n",
       "      <td>None</td>\n",
       "      <td>None</td>\n",
       "      <td>None</td>\n",
       "      <td>None</td>\n",
       "      <td>None</td>\n",
       "      <td>None</td>\n",
       "      <td>None</td>\n",
       "      <td>None</td>\n",
       "      <td>None</td>\n",
       "    </tr>\n",
       "    <tr>\n",
       "      <th>9</th>\n",
       "      <td>[75, 9]</td>\n",
       "      <td>[105, 9]</td>\n",
       "      <td>None</td>\n",
       "      <td>None</td>\n",
       "      <td>None</td>\n",
       "      <td>None</td>\n",
       "      <td>None</td>\n",
       "      <td>None</td>\n",
       "      <td>None</td>\n",
       "      <td>None</td>\n",
       "      <td>...</td>\n",
       "      <td>None</td>\n",
       "      <td>None</td>\n",
       "      <td>None</td>\n",
       "      <td>None</td>\n",
       "      <td>None</td>\n",
       "      <td>None</td>\n",
       "      <td>None</td>\n",
       "      <td>None</td>\n",
       "      <td>None</td>\n",
       "      <td>None</td>\n",
       "    </tr>\n",
       "  </tbody>\n",
       "</table>\n",
       "<p>10 rows × 24 columns</p>\n",
       "</div>"
      ],
      "text/plain": [
       "         0         1         2         3         4         5         6   \\\n",
       "0    [0, 0]  [223, 0]      None      None      None      None      None   \n",
       "1   [13, 1]   [79, 1]  [510, 1]      None      None      None      None   \n",
       "2  [189, 2]  [279, 2]  [533, 2]      None      None      None      None   \n",
       "3  [303, 3]  [341, 3]      None      None      None      None      None   \n",
       "4   [55, 4]   [66, 4]   [92, 4]  [139, 4]  [148, 4]  [150, 4]  [178, 4]   \n",
       "5   [61, 5]  [133, 5]      None      None      None      None      None   \n",
       "6      None      None      None      None      None      None      None   \n",
       "7   [26, 7]  [120, 7]  [217, 7]  [285, 7]      None      None      None   \n",
       "8      None      None      None      None      None      None      None   \n",
       "9   [75, 9]  [105, 9]      None      None      None      None      None   \n",
       "\n",
       "         7         8         9     ...           14        15        16  \\\n",
       "0      None      None      None    ...         None      None      None   \n",
       "1      None      None      None    ...         None      None      None   \n",
       "2      None      None      None    ...         None      None      None   \n",
       "3      None      None      None    ...         None      None      None   \n",
       "4  [180, 4]  [210, 4]  [253, 4]    ...     [433, 4]  [434, 4]  [435, 4]   \n",
       "5      None      None      None    ...         None      None      None   \n",
       "6      None      None      None    ...         None      None      None   \n",
       "7      None      None      None    ...         None      None      None   \n",
       "8      None      None      None    ...         None      None      None   \n",
       "9      None      None      None    ...         None      None      None   \n",
       "\n",
       "         17        18        19        20        21        22        23  \n",
       "0      None      None      None      None      None      None      None  \n",
       "1      None      None      None      None      None      None      None  \n",
       "2      None      None      None      None      None      None      None  \n",
       "3      None      None      None      None      None      None      None  \n",
       "4  [436, 4]  [527, 4]  [528, 4]  [529, 4]  [530, 4]  [531, 4]  [532, 4]  \n",
       "5      None      None      None      None      None      None      None  \n",
       "6      None      None      None      None      None      None      None  \n",
       "7      None      None      None      None      None      None      None  \n",
       "8      None      None      None      None      None      None      None  \n",
       "9      None      None      None      None      None      None      None  \n",
       "\n",
       "[10 rows x 24 columns]"
      ]
     },
     "execution_count": 28,
     "metadata": {},
     "output_type": "execute_result"
    }
   ],
   "source": [
    "import pandas\n",
    "heuristic_x = sol_x\n",
    "print 'allocated blocks number:', [ sum(numpy.matrix(heuristic_x).transpose()[k].tolist()[0]) for k in K ], 'obj=', sum(r[b][k]*heuristic_x[b][k] for k in Kc for b in B)\n",
    "indices = [ [ [i,k] for i,t in enumerate(numpy.matrix(heuristic_x)[:,k].transpose().tolist()[0]) if t==1 ] for k in K]\n",
    "pandas.DataFrame(indices)"
   ]
  },
  {
   "cell_type": "code",
   "execution_count": null,
   "metadata": {
    "collapsed": true
   },
   "outputs": [],
   "source": []
  }
 ],
 "metadata": {
  "kernelspec": {
   "display_name": "Python 2",
   "language": "python",
   "name": "python2"
  },
  "language_info": {
   "codemirror_mode": {
    "name": "ipython",
    "version": 2
   },
   "file_extension": ".py",
   "mimetype": "text/x-python",
   "name": "python",
   "nbconvert_exporter": "python",
   "pygments_lexer": "ipython2",
   "version": "2.7.13"
  }
 },
 "nbformat": 4,
 "nbformat_minor": 2
}

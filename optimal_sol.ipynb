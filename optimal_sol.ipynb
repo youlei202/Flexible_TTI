{
 "cells": [
  {
   "cell_type": "markdown",
   "metadata": {},
   "source": [
    "# Optimal Solution by Integer Programming\n",
    "\n",
    "by [Lei You](http://user.it.uu.se/~leiyo378)"
   ]
  },
  {
   "cell_type": "markdown",
   "metadata": {},
   "source": [
    "In this document, we solve the flexible TTI allocation problem to optimum, by using integer programming solver gurobi.\n",
    "The formulation of the original problem is as below."
   ]
  },
  {
   "cell_type": "markdown",
   "metadata": {},
   "source": [
    "$$\n",
    "\\begin{align}\n",
    "\\max_{\\mathbf{x}} \\quad & \\sum_{b\\in\\mathcal{B}}\\sum_{k\\in\\mathcal{K}^{(c)}} r_{b,k}x_{b,k} \\\\\n",
    "s.t. \\quad & \\sum_{b\\in\\mathcal{B}}r_{b,k}x_{b,k}\\geq q_{k} \\quad k\\in\\mathcal{K}^{(\\ell)} \\\\\n",
    "           & \\sum_{b\\in\\mathcal{B}}\\sum_{k\\in\\mathcal{K}}a_{b,i}x_{b,k}\\leq 1 \\quad i\\in\\mathcal{I} \\\\\n",
    "           & x_{b,k}\\in\\{0,1\\}\\quad b\\in\\mathcal{B},~k\\in\\mathcal{K}\n",
    "\\end{align}\n",
    "$$"
   ]
  },
  {
   "cell_type": "markdown",
   "metadata": {},
   "source": [
    "We have $x_{b,k}=1$ if and only if physical resource block (PRB) $b$ is allocated to service $k$."
   ]
  },
  {
   "cell_type": "markdown",
   "metadata": {},
   "source": [
    "Recall that $\\tau_k$ is the maximum tolerant latency of service $k$, and $d_b$ is the end time of the PRB $b$. The constraints for the latency is imposed, by letting $r_{b,k}$ follow the rule:\n",
    "$$\n",
    "r_{b,k}=\\left\\{\n",
    "\\begin{array}{ll}\n",
    "0 & \\text{if } \\tau_k-d_b<0 \\\\\n",
    "\\text{capacity} & \\text{otherwise}\n",
    "\\end{array}\n",
    "\\right.\n",
    "$$"
   ]
  },
  {
   "cell_type": "markdown",
   "metadata": {},
   "source": [
    "Now let's start :)"
   ]
  },
  {
   "cell_type": "code",
   "execution_count": 203,
   "metadata": {
    "collapsed": true
   },
   "outputs": [],
   "source": [
    "import sys\n",
    "import scipy.io\n",
    "import numpy\n",
    "import math\n",
    "import csv\n",
    "\n",
    "from gurobipy import *\n",
    "\n",
    "# set the directory path\n",
    "import os\n",
    "folder_name = os.getcwd()"
   ]
  },
  {
   "cell_type": "markdown",
   "metadata": {},
   "source": [
    "The sets $\\mathcal{B}$, $\\mathcal{K}^{(\\ell)}$, $\\mathcal{K}^{(c)}$, $\\mathcal{K}$, and $\\mathcal{I}$ are read by the following code."
   ]
  },
  {
   "cell_type": "code",
   "execution_count": 204,
   "metadata": {
    "collapsed": true
   },
   "outputs": [],
   "source": [
    "# # set of physical layer blocks (PRBs)\n",
    "with open('B.csv', 'rb') as f:\n",
    "    B_csv = csv.reader(f)\n",
    "    B = list(B_csv)\n",
    "    B = [item for sublist in B for item in sublist] # flatten list\n",
    "    B = map(int, map(float, B)) # convert to int\n",
    "    \n",
    "# # set of latency services    \n",
    "with open('Kl.csv', 'rb') as f:\n",
    "    Kl_csv = csv.reader(f)\n",
    "    Kl = list(Kl_csv)\n",
    "    Kl = [item for sublist in Kl for item in sublist] # flatten list\n",
    "    Kl = map(int, map(float, Kl)) # convert to int\n",
    "    \n",
    "# # set of capacity services    \n",
    "with open('Kc.csv', 'rb') as f:\n",
    "    Kc_csv = csv.reader(f)\n",
    "    Kc = list(Kc_csv)\n",
    "    Kc = [item for sublist in Kc for item in sublist] # flatten list\n",
    "    Kc = map(int, map(float, Kc)) # convert to int\n",
    "    \n",
    "# # set of all services\n",
    "K = Kl + Kc\n",
    "\n",
    "# # set of resource units (RUs)\n",
    "with open('I.csv', 'rb') as f:\n",
    "    I_csv = csv.reader(f)\n",
    "    I = list(I_csv)\n",
    "    I = [item for sublist in I for item in sublist] # flatten list\n",
    "    I = map(int, map(float, I)) # convert to int"
   ]
  },
  {
   "cell_type": "markdown",
   "metadata": {},
   "source": [
    "The parameters $\\mathbf{r}$, $\\mathbf{q}$, and $\\mathbf{a}$ are read below."
   ]
  },
  {
   "cell_type": "code",
   "execution_count": 205,
   "metadata": {
    "collapsed": true
   },
   "outputs": [],
   "source": [
    "# # matrix r\n",
    "with open('r.csv', 'rb') as f:\n",
    "    r_csv = csv.reader(f)\n",
    "    r = list(r_csv)\n",
    "    r = [ map(int,map(float,x)) for x in r] # convert to int\n",
    "\n",
    "# # vector q, only for Kl\n",
    "with open('q.csv', 'rb') as f:\n",
    "    q_csv = csv.reader(f)\n",
    "    q = list(q_csv)\n",
    "    q = [item for sublist in q for item in sublist] # flatten list\n",
    "    q = map(int, map(float, q)) # convert to int\n",
    "    \n",
    "# # matrix a\n",
    "with open('a.csv', 'rb') as f:\n",
    "    a_csv = csv.reader(f)\n",
    "    a = list(a_csv)\n",
    "    a = [ map(int,map(float,x)) for x in a] # convert to int"
   ]
  },
  {
   "cell_type": "markdown",
   "metadata": {},
   "source": [
    "The model is created below in gurobi."
   ]
  },
  {
   "cell_type": "code",
   "execution_count": 206,
   "metadata": {
    "collapsed": true
   },
   "outputs": [],
   "source": [
    "model = Model('Interger Programming')\n",
    "model.modelSense = GRB.MAXIMIZE\n",
    "# model.setParam('OutputFlag', False) # slience output"
   ]
  },
  {
   "cell_type": "markdown",
   "metadata": {},
   "source": [
    "The variables $x_{b,k}$ ($b\\in\\mathcal{B}$, $k\\in\\mathcal{K}$) are added to the model by the following loop. And $\\mathbf{x}$ is imposed to be binary."
   ]
  },
  {
   "cell_type": "code",
   "execution_count": 207,
   "metadata": {
    "collapsed": true
   },
   "outputs": [],
   "source": [
    "x = []\n",
    "for b in B:\n",
    "    x_b = []\n",
    "    for k in K:\n",
    "#         x_b.append(model.addVar(vtype=GRB.CONTINUOUS, lb=0, ub=1))\n",
    "        x_b.append(model.addVar(vtype=GRB.BINARY))\n",
    "    x.append(x_b)\n",
    "    \n",
    "model.update()"
   ]
  },
  {
   "cell_type": "markdown",
   "metadata": {},
   "source": [
    "The first constraint, $\\sum_{b\\in\\mathcal{B}}r_{b,k}x_{b,k}\\geq q_{k}$ for all services $k\\in\\mathcal{K}^{(\\ell)}$, is added below."
   ]
  },
  {
   "cell_type": "code",
   "execution_count": 208,
   "metadata": {
    "collapsed": true
   },
   "outputs": [],
   "source": [
    "for k in Kl:\n",
    "    model.addConstr( sum(r[b][k]*x[b][k] for b in B) >= q[k] )\n",
    "model.update()"
   ]
  },
  {
   "cell_type": "markdown",
   "metadata": {},
   "source": [
    "The second constraint, $\\sum_{b\\in\\mathcal{B}}\\sum_{k\\in\\mathcal{K}}a_{b,i}x_{b,k}\\leq 1$ for all resource units $i\\in\\mathcal{I}$, is added as follows."
   ]
  },
  {
   "cell_type": "code",
   "execution_count": 209,
   "metadata": {},
   "outputs": [],
   "source": [
    "for i in I:\n",
    "    model.addConstr( sum(a[b][i]*x[b][k] for k in K for b in B ) <= 1 )\n",
    "model.update()"
   ]
  },
  {
   "cell_type": "markdown",
   "metadata": {},
   "source": [
    "The objective function $\\sum_{b\\in\\mathcal{B}}\\sum_{k\\in\\mathcal{K}^{(c)}} r_{b,k}x_{b,k}$, is added below."
   ]
  },
  {
   "cell_type": "code",
   "execution_count": 210,
   "metadata": {
    "collapsed": true
   },
   "outputs": [],
   "source": [
    "model.setObjective(\n",
    "    sum( r[b][k]*x[b][k] for k in Kc for b in B )\n",
    ")"
   ]
  },
  {
   "cell_type": "markdown",
   "metadata": {},
   "source": [
    "Now the problem can be solved by the solver:"
   ]
  },
  {
   "cell_type": "code",
   "execution_count": 211,
   "metadata": {
    "scrolled": true
   },
   "outputs": [
    {
     "name": "stdout",
     "output_type": "stream",
     "text": [
      "Optimize a model with 181 rows, 5490 columns and 23538 nonzeros\n",
      "Variable types: 0 continuous, 5490 integer (5490 binary)\n",
      "Coefficient statistics:\n",
      "  Matrix range     [1e+00, 2e+02]\n",
      "  Objective range  [1e+02, 2e+02]\n",
      "  Bounds range     [1e+00, 1e+00]\n",
      "  RHS range        [1e+00, 1e+03]\n",
      "Presolve removed 63 rows and 4392 columns\n",
      "Presolve time: 0.04s\n",
      "Presolved: 118 rows, 1098 columns, 5107 nonzeros\n",
      "Variable types: 0 continuous, 1098 integer (1098 binary)\n",
      "\n",
      "Root relaxation: objective 5.729751e+02, 510 iterations, 0.01 seconds\n",
      "\n",
      "    Nodes    |    Current Node    |     Objective Bounds      |     Work\n",
      " Expl Unexpl |  Obj  Depth IntInf | Incumbent    BestBd   Gap | It/Node Time\n",
      "\n",
      "     0     0  572.97512    0   56          -  572.97512      -     -    0s\n",
      "     0     0  572.06627    0   61          -  572.06627      -     -    0s\n",
      "     0     0  571.53266    0   73          -  571.53266      -     -    0s\n",
      "     0     0  570.77839    0   75          -  570.77839      -     -    0s\n",
      "     0     0  569.45774    0   72          -  569.45774      -     -    0s\n",
      "     0     0  569.45019    0   75          -  569.45019      -     -    0s\n",
      "     0     0  569.27341    0   72          -  569.27341      -     -    0s\n",
      "     0     0  569.26927    0   78          -  569.26927      -     -    0s\n",
      "     0     0  569.26927    0   80          -  569.26927      -     -    0s\n",
      "     0     0  568.74396    0   81          -  568.74396      -     -    0s\n",
      "H    0     0                     410.0000000  568.74396  38.7%     -    0s\n",
      "H    0     0                     435.0000000  568.74396  30.7%     -    0s\n",
      "     0     0  568.74129    0   83  435.00000  568.74129  30.7%     -    0s\n",
      "     0     0  568.73182    0   80  435.00000  568.73182  30.7%     -    0s\n",
      "     0     0  568.73182    0   76  435.00000  568.73182  30.7%     -    0s\n",
      "     0     2  568.73182    0   76  435.00000  568.73182  30.7%     -    0s\n",
      "H   29    31                     475.0000000  567.77708  19.5%  12.0    0s\n",
      "  3077  1812  507.37888   77   33  475.00000  557.42541  17.4%  12.1    5s\n",
      " 14355 10853  520.28131   63   10  475.00000  552.97005  16.4%  11.4   10s\n",
      " 20871 16041  536.15543   37   76  475.00000  551.96046  16.2%  11.1   17s\n",
      " 20898 16059  500.44075   78  108  475.00000  551.96046  16.2%  11.1   20s\n",
      " 20926 16078  493.57397   43  109  475.00000  551.96046  16.2%  11.0   25s\n",
      " 20969 16104  545.13978   31   49  475.00000  550.08209  15.8%  11.2   30s\n",
      " 26850 18869  531.73676   50   68  475.00000  541.49805  14.0%  12.2   35s\n",
      " 37624 23990  525.51337   67   35  475.00000  538.15080  13.3%  12.6   40s\n",
      " 46776 28058  509.99820   59   62  475.00000  536.64281  13.0%  12.9   45s\n",
      " 53271 30848  530.72738   50   52  475.00000  536.04415  12.9%  13.0   50s\n",
      " 64148 35819  518.89872   87   62  475.00000  535.23783  12.7%  13.0   55s\n",
      " 75374 43017  510.08124  119   27  475.00000  534.75129  12.6%  12.9   60s\n",
      " 85698 51185  477.12278   65   14  475.00000  534.41383  12.5%  12.9   65s\n",
      " 99805 62604  492.71394   96   23  475.00000  534.00272  12.4%  12.8   70s\n",
      " 111072 71396  518.91677   39   37  475.00000  533.72533  12.4%  12.8   75s\n",
      " 125799 82856  493.44765   95   35  475.00000  533.35264  12.3%  12.7   80s\n",
      " 137550 91874  522.29716   57   43  475.00000  533.14509  12.2%  12.7   86s\n",
      "H137551 89807                     480.0000000  533.14509  11.1%  12.7   86s\n",
      " 145078 95616  523.83127   47   66  480.00000  533.00966  11.0%  12.7   90s\n",
      " 158583 105832  490.99921   75   24  480.00000  532.81526  11.0%  12.8   95s\n",
      " 169918 114373  518.62397   60   56  480.00000  532.64990  11.0%  12.8  100s\n",
      " 179927 121930  504.25580   79   22  480.00000  532.51174  10.9%  12.8  105s\n",
      " 191944 130938  518.63602   50   38  480.00000  532.35448  10.9%  12.8  110s\n",
      " 202548 139073  496.12405   80   38  480.00000  532.22545  10.9%  12.7  115s\n",
      " 213139 146991     cutoff  119       480.00000  532.09976  10.9%  12.7  120s\n",
      " 223081 154409  514.26001   68   35  480.00000  531.99519  10.8%  12.7  125s\n",
      " 234060 162486  528.26073   77   45  480.00000  531.88582  10.8%  12.8  130s\n",
      " 248245 172902  510.83245   76   32  480.00000  531.77462  10.8%  12.7  135s\n",
      " 263452 184182  520.23731   68   29  480.00000  531.65028  10.8%  12.7  140s\n",
      " 279110 195915  509.81568  100   33  480.00000  531.51141  10.7%  12.7  145s\n",
      " 290232 204231  522.00649   71   35  480.00000  531.42906  10.7%  12.7  150s\n",
      " 305963 216025  486.28571   91   15  480.00000  531.31264  10.7%  12.7  155s\n",
      " 319406 225974  504.82464   70   32  480.00000  531.21790  10.7%  12.7  160s\n",
      " 331759 235144  523.16187   44   55  480.00000  531.13350  10.7%  12.7  165s\n",
      " 345371 245226  497.50708   57   46  480.00000  531.04641  10.6%  12.7  170s\n",
      " 358872 255314  527.70548   68   55  480.00000  530.96143  10.6%  12.7  175s\n",
      " 374556 266769  520.15839   51   43  480.00000  530.87796  10.6%  12.7  180s\n",
      " 386277 275240  499.05889   73   27  480.00000  530.81943  10.6%  12.7  185s\n",
      " 400085 285493  509.68394   70   17  480.00000  530.75939  10.6%  12.7  190s\n",
      " 410078 292864     cutoff   62       480.00000  530.71080  10.6%  12.7  195s\n",
      " 421588 301250  512.93404   72   73  480.00000  530.65212  10.6%  12.7  200s\n",
      " 433821 310239  521.67460   46   22  480.00000  530.59789  10.5%  12.7  205s\n",
      " 448165 320822  511.94556   57   32  480.00000  530.52380  10.5%  12.6  210s\n",
      " 460233 329684  497.93632   53   22  480.00000  530.47039  10.5%  12.6  216s\n",
      " 469884 336726  526.97465   65   36  480.00000  530.43671  10.5%  12.6  220s\n",
      " 484027 347060  508.88524   83   35  480.00000  530.37144  10.5%  12.6  225s\n",
      " 497130 356646  491.85756   66   32  480.00000  530.31746  10.5%  12.6  230s\n",
      " 509665 365926  515.85354   50   24  480.00000  530.26305  10.5%  12.6  235s\n",
      " 520936 374332  524.87227   57   41  480.00000  530.21150  10.5%  12.6  240s\n",
      " 532266 382718  497.92843   72   32  480.00000  530.17742  10.5%  12.6  245s\n",
      " 546276 392850  492.42616   61   26  480.00000  530.12545  10.4%  12.6  250s\n",
      " 561367 403945  496.75176   57   30  480.00000  530.07687  10.4%  12.6  255s\n",
      " 573526 412712  518.17507   61   32  480.00000  530.04045  10.4%  12.6  260s\n",
      " 584333 420556     cutoff   89       480.00000  530.00263  10.4%  12.6  265s\n",
      " 599243 431434  493.35162   94   25  480.00000  529.94923  10.4%  12.6  270s\n",
      " 614240 442339  508.79354  100   31  480.00000  529.89847  10.4%  12.6  275s\n",
      " 627628 452263  520.87011   80   39  480.00000  529.85674  10.4%  12.6  280s\n",
      " 642317 463044  522.33798   60   24  480.00000  529.81104  10.4%  12.6  285s\n",
      " 657591 474163  510.99741   69   19  480.00000  529.77016  10.4%  12.6  290s\n",
      " 670963 483947  500.43855   78   31  480.00000  529.73018  10.4%  12.6  296s\n",
      " 681516 491815  506.44695  102   43  480.00000  529.69693  10.4%  12.6  300s\n",
      " 694761 501450  489.46919   77   29  480.00000  529.65642  10.3%  12.6  305s\n",
      " 708195 511208  520.70572   59   26  480.00000  529.61761  10.3%  12.6  310s\n",
      " 720382 519981  519.37111   51   27  480.00000  529.58032  10.3%  12.6  315s\n",
      " 731550 527871  517.81749   58   18  480.00000  529.56308  10.3%  12.6  320s\n",
      " 745016 537650  524.42443   76   32  480.00000  529.52511  10.3%  12.6  325s\n",
      " 759028 547899  524.47960   64   31  480.00000  529.49263  10.3%  12.6  330s\n",
      " 771914 557244  528.65538   52   43  480.00000  529.46028  10.3%  12.6  335s\n",
      " 779373 562657  526.88862   79   32  480.00000  529.44106  10.3%  12.6  340s\n",
      " 789299 569693     cutoff   70       480.00000  529.41750  10.3%  12.6  345s\n",
      " 799976 577419  523.08366   47   35  480.00000  529.39272  10.3%  12.6  350s\n",
      " 812354 586415  527.89543   63   37  480.00000  529.36547  10.3%  12.6  355s\n",
      " 824960 595523  513.37150   90   36  480.00000  529.33154  10.3%  12.6  360s\n",
      " 835775 603230  511.32960   60   25  480.00000  529.30819  10.3%  12.5  365s\n",
      " 846840 611132  511.59347   65   28  480.00000  529.27748  10.3%  12.5  370s\n",
      " 857693 618831  504.24500   62   24  480.00000  529.25049  10.3%  12.5  375s\n",
      " 869732 627623  495.12719   62   27  480.00000  529.22444  10.3%  12.5  380s\n",
      " 884461 638335  510.55578   94   31  480.00000  529.19097  10.2%  12.5  385s\n",
      " 896170 646697  527.42181   65   33  480.00000  529.16580  10.2%  12.5  390s\n",
      " 910198 656787  510.48512   50   30  480.00000  529.13399  10.2%  12.5  395s\n",
      " 926596 668552  515.01003   64   24  480.00000  529.09685  10.2%  12.5  400s\n",
      " 941473 679241  528.60598   53   45  480.00000  529.06201  10.2%  12.5  405s\n"
     ]
    },
    {
     "name": "stdout",
     "output_type": "stream",
     "text": [
      " 954075 688143  502.31337   92   26  480.00000  529.03198  10.2%  12.5  410s\n",
      " 968993 698582  500.66681   49   33  480.00000  529.00324  10.2%  12.5  415s\n",
      " 983839 709181  523.52275   70   52  480.00000  528.97236  10.2%  12.5  420s\n",
      " 999682 720423     cutoff  114       480.00000  528.94390  10.2%  12.5  425s\n",
      " 1012818 729785  515.12991   61   36  480.00000  528.91972  10.2%  12.5  430s\n",
      " 1027601 740430  502.99613   97   25  480.00000  528.89398  10.2%  12.5  435s\n",
      " 1040180 749375  511.06706  100   27  480.00000  528.86897  10.2%  12.5  440s\n",
      " 1050996 757045  506.15042   60   57  480.00000  528.85092  10.2%  12.5  445s\n",
      " 1061705 764594     cutoff   74       480.00000  528.82889  10.2%  12.5  450s\n",
      " 1070874 771270  517.83398   59   44  480.00000  528.81104  10.2%  12.5  455s\n",
      " 1078176 776414  493.30695  104   34  480.00000  528.79621  10.2%  12.5  460s\n",
      "\n",
      "Cutting planes:\n",
      "  Gomory: 15\n",
      "  Cover: 3\n",
      "  MIR: 70\n",
      "  StrongCG: 34\n",
      "  Flow cover: 18\n",
      "  GUB cover: 12\n",
      "  Zero half: 10\n",
      "\n",
      "Explored 1083893 nodes (13507966 simplex iterations) in 463.67 seconds\n",
      "Thread count was 4 (of 4 available processors)\n",
      "\n",
      "Solution count 4: 480 475 435 410 \n",
      "\n",
      "Solve interrupted\n",
      "Best objective 4.800000000000e+02, best bound 5.280000000000e+02, gap 10.0000%\n"
     ]
    }
   ],
   "source": [
    "model.optimize()"
   ]
  }
 ],
 "metadata": {
  "kernelspec": {
   "display_name": "Python 2",
   "language": "python",
   "name": "python2"
  },
  "language_info": {
   "codemirror_mode": {
    "name": "ipython",
    "version": 2
   },
   "file_extension": ".py",
   "mimetype": "text/x-python",
   "name": "python",
   "nbconvert_exporter": "python",
   "pygments_lexer": "ipython2",
   "version": "2.7.13"
  }
 },
 "nbformat": 4,
 "nbformat_minor": 2
}

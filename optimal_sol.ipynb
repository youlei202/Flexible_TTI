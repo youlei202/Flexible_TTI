{
 "cells": [
  {
   "cell_type": "markdown",
   "metadata": {},
   "source": [
    "# Optimal Solution by Integer Programming\n",
    "\n",
    "by [Lei You](http://user.it.uu.se/~leiyo378)"
   ]
  },
  {
   "cell_type": "markdown",
   "metadata": {},
   "source": [
    "In this document, we solve the flexible TTI allocation problem to optimum, by using integer programming solver gurobi.\n",
    "The formulation of the original problem is as below."
   ]
  },
  {
   "cell_type": "markdown",
   "metadata": {},
   "source": [
    "$$\n",
    "\\begin{align}\n",
    "\\max_{\\mathbf{x}} \\quad & \\sum_{b\\in\\mathcal{B}}\\sum_{k\\in\\mathcal{K}^{(c)}} r_{b,k}x_{b,k} \\\\\n",
    "s.t. \\quad & \\sum_{b\\in\\mathcal{B}}r_{b,k}x_{b,k}\\geq q_{k} \\quad k\\in\\mathcal{K}^{(\\ell)} \\\\\n",
    "           & \\sum_{b\\in\\mathcal{B}}\\sum_{k\\in\\mathcal{K}}a_{b,i}x_{b,k}\\leq 1 \\quad i\\in\\mathcal{I} \\\\\n",
    "           & x_{b,k}\\in\\{0,1\\}\\quad b\\in\\mathcal{B},~k\\in\\mathcal{K}\n",
    "\\end{align}\n",
    "$$"
   ]
  },
  {
   "cell_type": "markdown",
   "metadata": {},
   "source": [
    "We have $x_{b,k}=1$ if and only if physical resource block (PRB) $b$ is allocated to service $k$."
   ]
  },
  {
   "cell_type": "markdown",
   "metadata": {},
   "source": [
    "Recall that $\\tau_k$ is the maximum tolerant latency of service $k$, and $d_b$ is the end time of the PRB $b$. The constraints for the latency is imposed, by letting $r_{b,k}$ follow the rule:\n",
    "$$\n",
    "r_{b,k}=\\left\\{\n",
    "\\begin{array}{ll}\n",
    "0 & \\text{if } \\tau_k-d_b<0 \\\\\n",
    "\\text{capacity} & \\text{otherwise}\n",
    "\\end{array}\n",
    "\\right.\n",
    "$$"
   ]
  },
  {
   "cell_type": "markdown",
   "metadata": {},
   "source": [
    "Now let's start :)"
   ]
  },
  {
   "cell_type": "code",
   "execution_count": 294,
   "metadata": {
    "collapsed": true
   },
   "outputs": [],
   "source": [
    "import sys\n",
    "import scipy.io\n",
    "import numpy\n",
    "import math\n",
    "import csv\n",
    "\n",
    "from gurobipy import *\n",
    "\n",
    "# set the directory path\n",
    "import os\n",
    "folder_name = os.getcwd()"
   ]
  },
  {
   "cell_type": "markdown",
   "metadata": {},
   "source": [
    "The sets $\\mathcal{B}$, $\\mathcal{K}^{(\\ell)}$, $\\mathcal{K}^{(c)}$, $\\mathcal{K}$, and $\\mathcal{I}$ are read by the following code."
   ]
  },
  {
   "cell_type": "code",
   "execution_count": 295,
   "metadata": {
    "collapsed": true
   },
   "outputs": [],
   "source": [
    "# # set of physical layer blocks (PRBs)\n",
    "with open('B.csv', 'rb') as f:\n",
    "    B_csv = csv.reader(f)\n",
    "    B = list(B_csv)\n",
    "    B = [item for sublist in B for item in sublist] # flatten list\n",
    "    B = map(int, map(float, B)) # convert to int\n",
    "    \n",
    "# # set of latency services    \n",
    "with open('Kl.csv', 'rb') as f:\n",
    "    Kl_csv = csv.reader(f)\n",
    "    Kl = list(Kl_csv)\n",
    "    Kl = [item for sublist in Kl for item in sublist] # flatten list\n",
    "    Kl = map(int, map(float, Kl)) # convert to int\n",
    "    \n",
    "# # set of capacity services    \n",
    "with open('Kc.csv', 'rb') as f:\n",
    "    Kc_csv = csv.reader(f)\n",
    "    Kc = list(Kc_csv)\n",
    "    Kc = [item for sublist in Kc for item in sublist] # flatten list\n",
    "    Kc = map(int, map(float, Kc)) # convert to int\n",
    "    \n",
    "# # set of all services\n",
    "K = Kl + Kc\n",
    "\n",
    "# # set of resource units (RUs)\n",
    "with open('I.csv', 'rb') as f:\n",
    "    I_csv = csv.reader(f)\n",
    "    I = list(I_csv)\n",
    "    I = [item for sublist in I for item in sublist] # flatten list\n",
    "    I = map(int, map(float, I)) # convert to int"
   ]
  },
  {
   "cell_type": "markdown",
   "metadata": {},
   "source": [
    "The parameters $\\mathbf{r}$, $\\mathbf{q}$, and $\\mathbf{a}$ are read below."
   ]
  },
  {
   "cell_type": "code",
   "execution_count": 296,
   "metadata": {
    "collapsed": true
   },
   "outputs": [],
   "source": [
    "# # matrix r\n",
    "with open('r.csv', 'rb') as f:\n",
    "    r_csv = csv.reader(f)\n",
    "    r = list(r_csv)\n",
    "    r = [ map(int,map(float,x)) for x in r] # convert to int\n",
    "\n",
    "# # vector q, only for Kl\n",
    "with open('q.csv', 'rb') as f:\n",
    "    q_csv = csv.reader(f)\n",
    "    q = list(q_csv)\n",
    "    q = [item for sublist in q for item in sublist] # flatten list\n",
    "    q = map(int, map(float, q)) # convert to int\n",
    "    \n",
    "# # matrix a\n",
    "with open('a.csv', 'rb') as f:\n",
    "    a_csv = csv.reader(f)\n",
    "    a = list(a_csv)\n",
    "    a = [ map(int,map(float,x)) for x in a] # convert to int"
   ]
  },
  {
   "cell_type": "markdown",
   "metadata": {},
   "source": [
    "The model is created below in gurobi."
   ]
  },
  {
   "cell_type": "code",
   "execution_count": 297,
   "metadata": {
    "collapsed": true
   },
   "outputs": [],
   "source": [
    "model = Model('Interger Programming')\n",
    "model.modelSense = GRB.MAXIMIZE\n",
    "# model.setParam('OutputFlag', False) # slience output"
   ]
  },
  {
   "cell_type": "markdown",
   "metadata": {},
   "source": [
    "The variables $x_{b,k}$ ($b\\in\\mathcal{B}$, $k\\in\\mathcal{K}$) are added to the model by the following loop. And $\\mathbf{x}$ is imposed to be binary."
   ]
  },
  {
   "cell_type": "code",
   "execution_count": 298,
   "metadata": {
    "collapsed": true
   },
   "outputs": [],
   "source": [
    "x = []\n",
    "for b in B:\n",
    "    x_b = []\n",
    "    for k in K:\n",
    "#         x_b.append(model.addVar(vtype=GRB.CONTINUOUS, lb=0, ub=1))\n",
    "        x_b.append(model.addVar(vtype=GRB.BINARY))\n",
    "    x.append(x_b)\n",
    "    \n",
    "model.update()"
   ]
  },
  {
   "cell_type": "markdown",
   "metadata": {},
   "source": [
    "The first constraint, $\\sum_{b\\in\\mathcal{B}}r_{b,k}x_{b,k}\\geq q_{k}$ for all services $k\\in\\mathcal{K}^{(\\ell)}$, is added below."
   ]
  },
  {
   "cell_type": "code",
   "execution_count": 299,
   "metadata": {
    "collapsed": true
   },
   "outputs": [],
   "source": [
    "for k in Kl:\n",
    "    model.addConstr( sum(r[b][k]*x[b][k] for b in B) >= q[k] )\n",
    "model.update()"
   ]
  },
  {
   "cell_type": "markdown",
   "metadata": {},
   "source": [
    "The second constraint, $\\sum_{b\\in\\mathcal{B}}\\sum_{k\\in\\mathcal{K}}a_{b,i}x_{b,k}\\leq 1$ for all resource units $i\\in\\mathcal{I}$, is added as follows."
   ]
  },
  {
   "cell_type": "code",
   "execution_count": 300,
   "metadata": {
    "collapsed": true
   },
   "outputs": [],
   "source": [
    "for i in I:\n",
    "    model.addConstr( sum(a[b][i]*x[b][k] for k in K for b in B ) <= 1 )\n",
    "model.update()"
   ]
  },
  {
   "cell_type": "markdown",
   "metadata": {},
   "source": [
    "The objective function $\\sum_{b\\in\\mathcal{B}}\\sum_{k\\in\\mathcal{K}^{(c)}} r_{b,k}x_{b,k}$, is added below."
   ]
  },
  {
   "cell_type": "code",
   "execution_count": 301,
   "metadata": {
    "collapsed": true
   },
   "outputs": [],
   "source": [
    "model.setObjective(\n",
    "    sum( r[b][k]*x[b][k] for k in Kc for b in B )\n",
    ")"
   ]
  },
  {
   "cell_type": "markdown",
   "metadata": {},
   "source": [
    "Now the problem can be solved by the solver:"
   ]
  },
  {
   "cell_type": "code",
   "execution_count": 302,
   "metadata": {},
   "outputs": [
    {
     "name": "stdout",
     "output_type": "stream",
     "text": [
      "Optimize a model with 92 rows, 2530 columns and 10695 nonzeros\n",
      "Variable types: 0 continuous, 2530 integer (2530 binary)\n",
      "Coefficient statistics:\n",
      "  Matrix range     [1e+00, 2e+02]\n",
      "  Objective range  [1e+02, 2e+02]\n",
      "  Bounds range     [1e+00, 1e+00]\n",
      "  RHS range        [1e+00, 6e+02]\n",
      "Found heuristic solution: objective 770\n",
      "Presolve removed 31 rows and 2088 columns\n",
      "Presolve time: 0.02s\n",
      "Presolved: 61 rows, 442 columns, 2092 nonzeros\n",
      "Found heuristic solution: objective 895.0000000\n",
      "Variable types: 0 continuous, 442 integer (441 binary)\n",
      "\n",
      "Root relaxation: objective 1.998815e+03, 168 iterations, 0.00 seconds\n",
      "\n",
      "    Nodes    |    Current Node    |     Objective Bounds      |     Work\n",
      " Expl Unexpl |  Obj  Depth IntInf | Incumbent    BestBd   Gap | It/Node Time\n",
      "\n",
      "     0     0 1998.81520    0   15  895.00000 1998.81520   123%     -    0s\n",
      "H    0     0                    1676.0000000 1998.81520  19.3%     -    0s\n",
      "     0     0 1977.66643    0   35 1676.00000 1977.66643  18.0%     -    0s\n",
      "H    0     0                    1901.0000000 1977.66643  4.03%     -    0s\n",
      "     0     0 1949.95813    0   35 1901.00000 1949.95813  2.58%     -    0s\n",
      "     0     0 1949.80467    0   36 1901.00000 1949.80467  2.57%     -    0s\n",
      "     0     0 1934.33082    0   37 1901.00000 1934.33082  1.75%     -    0s\n",
      "     0     0 1934.33082    0   15 1901.00000 1934.33082  1.75%     -    0s\n",
      "H    0     0                    1907.0000000 1934.33082  1.43%     -    0s\n",
      "     0     0 1934.33082    0   19 1907.00000 1934.33082  1.43%     -    0s\n",
      "     0     0 1911.00000    0   16 1907.00000 1911.00000  0.21%     -    0s\n",
      "*    0     0               0    1911.0000000 1911.00000  0.00%     -    0s\n",
      "     0     0          -    0      1911.00000 1911.00000  0.00%     -    0s\n",
      "\n",
      "Cutting planes:\n",
      "  Gomory: 1\n",
      "  Cover: 2\n",
      "  MIR: 1\n",
      "  StrongCG: 1\n",
      "  GUB cover: 1\n",
      "\n",
      "Explored 1 nodes (638 simplex iterations) in 0.20 seconds\n",
      "Thread count was 4 (of 4 available processors)\n",
      "\n",
      "Solution count 5: 1911 1907 1901 ... 895\n",
      "\n",
      "Optimal solution found (tolerance 1.00e-04)\n",
      "Best objective 1.911000000000e+03, best bound 1.911000000000e+03, gap 0.0000%\n"
     ]
    }
   ],
   "source": [
    "model.optimize()"
   ]
  },
  {
   "cell_type": "code",
   "execution_count": 303,
   "metadata": {
    "collapsed": true
   },
   "outputs": [],
   "source": [
    "def isFeasible(x):\n",
    "    if (numpy.dot( numpy.dot(numpy.matrix(a).transpose(), \n",
    "                             numpy.matrix(x)), numpy.ones(len(K)) ) \n",
    "        > numpy.ones(len(I))).tolist()[0].count(True)>0:\n",
    "        return False\n",
    "    if (numpy.dot(numpy.multiply(numpy.matrix(r),numpy.matrix(x))[:,0:len(Kl)].transpose(),\n",
    "                  numpy.ones(len(B)))<numpy.matrix(q)).tolist()[0].count(True)>0:\n",
    "        return False\n",
    "    return True"
   ]
  },
  {
   "cell_type": "code",
   "execution_count": 304,
   "metadata": {},
   "outputs": [],
   "source": [
    "numpy.savetxt(\"opt_x.csv\", [ [ int(x[b][k].x) for k in K] for b in B ], delimiter=\",\")\n",
    "numpy.savetxt(\"lp_x.csv\", [ [ x[b][k].x for k in K] for b in B ], delimiter=\",\")"
   ]
  },
  {
   "cell_type": "code",
   "execution_count": 305,
   "metadata": {
    "collapsed": true
   },
   "outputs": [],
   "source": [
    "# if conflict_PRBs[b1][b2] == True, then the PRBs b1 b2 cannot be used simultaneously\n",
    "with open('conflict_PRB.csv', 'rb') as f:\n",
    "    conflict_PRB_csv = csv.reader(f)\n",
    "    conflict_PRB = list(conflict_PRB_csv)\n",
    "    conflict_PRB = [ map(lambda y: int(float(y))==1, t) for t in conflict_PRB]"
   ]
  },
  {
   "cell_type": "code",
   "execution_count": 306,
   "metadata": {},
   "outputs": [
    {
     "name": "stdout",
     "output_type": "stream",
     "text": [
      "1911 True\n"
     ]
    }
   ],
   "source": [
    "x_count = [ [ x[b][k].x for b in B] for k in K ]\n",
    "sol_x = [ [ 0 for k in K ] for b in B ]\n",
    "collision = [ False for b in B ]\n",
    "priority = [ [i[0] for i in sorted(enumerate(x_count[k]), key=lambda y:y[1],reverse=True)] for k in K ]\n",
    "\n",
    "\n",
    "best = 0\n",
    "for k in range(400):\n",
    "    Kl_rand = numpy.random.permutation(Kl)\n",
    "    Kc_rand = numpy.random.permutation(Kc)\n",
    "    B_rand = numpy.random.permutation(B)\n",
    "    \n",
    "    for k in Kl_rand:\n",
    "        service_bit = sum(r[b][k]*sol_x[b][k] for b in B)\n",
    "        while service_bit < q[k] and collision.count(False)>0: \n",
    "            for pos in range(len(priority[k])):\n",
    "                b = priority[k][pos]\n",
    "                if collision[b] == False: \n",
    "                    sol_x[b][k] = 1\n",
    "                    service_bit += r[b][k]*sol_x[b][k]\n",
    "                    for p in B: # set all PRB overlapping with b to be in collision\n",
    "                        if conflict_PRB[b][p] == True:\n",
    "                            collision[p] = True\n",
    "                    break\n",
    "                    \n",
    "    for k in Kc_rand:\n",
    "        for b in B_rand:\n",
    "            if collision[b] == False and x[b][k].x >= 0.5:\n",
    "                sol_x[b][k]=1\n",
    "                for p in B:\n",
    "                    if conflict_PRB[b][p] == True:\n",
    "                        collision[p] = True\n",
    "                        \n",
    "    while collision.count(False)>0:\n",
    "        for k in Kc_rand:\n",
    "            for pos in range(len(priority[k])):\n",
    "                b = priority[k][pos]\n",
    "                if collision[b] == False:\n",
    "                    sol_x[b][k] = 1\n",
    "                    for p in B:\n",
    "                        if conflict_PRB[b][p] == True:\n",
    "                            collision[p] = True\n",
    "                    break\n",
    "                        \n",
    "    obj = sum( r[b][k]*int(sol_x[b][k]) for k in Kc for b in B )\n",
    "    if obj > best:\n",
    "        best = obj\n",
    "                \n",
    "    \n",
    "print best, isFeasible(sol_x)\n"
   ]
  },
  {
   "cell_type": "code",
   "execution_count": 307,
   "metadata": {
    "scrolled": true
   },
   "outputs": [
    {
     "name": "stdout",
     "output_type": "stream",
     "text": [
      "allocated blocks number: [2, 3, 3, 2, 6, 2, 0, 3, 0, 0] obj= 1911\n"
     ]
    },
    {
     "data": {
      "text/html": [
       "<div>\n",
       "<style>\n",
       "    .dataframe thead tr:only-child th {\n",
       "        text-align: right;\n",
       "    }\n",
       "\n",
       "    .dataframe thead th {\n",
       "        text-align: left;\n",
       "    }\n",
       "\n",
       "    .dataframe tbody tr th {\n",
       "        vertical-align: top;\n",
       "    }\n",
       "</style>\n",
       "<table border=\"1\" class=\"dataframe\">\n",
       "  <thead>\n",
       "    <tr style=\"text-align: right;\">\n",
       "      <th></th>\n",
       "      <th>0</th>\n",
       "      <th>1</th>\n",
       "      <th>2</th>\n",
       "      <th>3</th>\n",
       "      <th>4</th>\n",
       "      <th>5</th>\n",
       "    </tr>\n",
       "  </thead>\n",
       "  <tbody>\n",
       "    <tr>\n",
       "      <th>0</th>\n",
       "      <td>[0, 0]</td>\n",
       "      <td>[40, 0]</td>\n",
       "      <td>None</td>\n",
       "      <td>None</td>\n",
       "      <td>None</td>\n",
       "      <td>None</td>\n",
       "    </tr>\n",
       "    <tr>\n",
       "      <th>1</th>\n",
       "      <td>[15, 1]</td>\n",
       "      <td>[25, 1]</td>\n",
       "      <td>[30, 1]</td>\n",
       "      <td>None</td>\n",
       "      <td>None</td>\n",
       "      <td>None</td>\n",
       "    </tr>\n",
       "    <tr>\n",
       "      <th>2</th>\n",
       "      <td>[20, 2]</td>\n",
       "      <td>[210, 2]</td>\n",
       "      <td>[250, 2]</td>\n",
       "      <td>None</td>\n",
       "      <td>None</td>\n",
       "      <td>None</td>\n",
       "    </tr>\n",
       "    <tr>\n",
       "      <th>3</th>\n",
       "      <td>[185, 3]</td>\n",
       "      <td>[217, 3]</td>\n",
       "      <td>None</td>\n",
       "      <td>None</td>\n",
       "      <td>None</td>\n",
       "      <td>None</td>\n",
       "    </tr>\n",
       "    <tr>\n",
       "      <th>4</th>\n",
       "      <td>[35, 4]</td>\n",
       "      <td>[89, 4]</td>\n",
       "      <td>[195, 4]</td>\n",
       "      <td>[196, 4]</td>\n",
       "      <td>[243, 4]</td>\n",
       "      <td>[244, 4]</td>\n",
       "    </tr>\n",
       "    <tr>\n",
       "      <th>5</th>\n",
       "      <td>[5, 5]</td>\n",
       "      <td>[50, 5]</td>\n",
       "      <td>None</td>\n",
       "      <td>None</td>\n",
       "      <td>None</td>\n",
       "      <td>None</td>\n",
       "    </tr>\n",
       "    <tr>\n",
       "      <th>6</th>\n",
       "      <td>None</td>\n",
       "      <td>None</td>\n",
       "      <td>None</td>\n",
       "      <td>None</td>\n",
       "      <td>None</td>\n",
       "      <td>None</td>\n",
       "    </tr>\n",
       "    <tr>\n",
       "      <th>7</th>\n",
       "      <td>[11, 7]</td>\n",
       "      <td>[45, 7]</td>\n",
       "      <td>[59, 7]</td>\n",
       "      <td>None</td>\n",
       "      <td>None</td>\n",
       "      <td>None</td>\n",
       "    </tr>\n",
       "    <tr>\n",
       "      <th>8</th>\n",
       "      <td>None</td>\n",
       "      <td>None</td>\n",
       "      <td>None</td>\n",
       "      <td>None</td>\n",
       "      <td>None</td>\n",
       "      <td>None</td>\n",
       "    </tr>\n",
       "    <tr>\n",
       "      <th>9</th>\n",
       "      <td>None</td>\n",
       "      <td>None</td>\n",
       "      <td>None</td>\n",
       "      <td>None</td>\n",
       "      <td>None</td>\n",
       "      <td>None</td>\n",
       "    </tr>\n",
       "  </tbody>\n",
       "</table>\n",
       "</div>"
      ],
      "text/plain": [
       "          0         1         2         3         4         5\n",
       "0    [0, 0]   [40, 0]      None      None      None      None\n",
       "1   [15, 1]   [25, 1]   [30, 1]      None      None      None\n",
       "2   [20, 2]  [210, 2]  [250, 2]      None      None      None\n",
       "3  [185, 3]  [217, 3]      None      None      None      None\n",
       "4   [35, 4]   [89, 4]  [195, 4]  [196, 4]  [243, 4]  [244, 4]\n",
       "5    [5, 5]   [50, 5]      None      None      None      None\n",
       "6      None      None      None      None      None      None\n",
       "7   [11, 7]   [45, 7]   [59, 7]      None      None      None\n",
       "8      None      None      None      None      None      None\n",
       "9      None      None      None      None      None      None"
      ]
     },
     "execution_count": 307,
     "metadata": {},
     "output_type": "execute_result"
    }
   ],
   "source": [
    "import pandas\n",
    "heuristic_x = sol_x\n",
    "print 'allocated blocks number:', [ sum(numpy.matrix(heuristic_x).transpose()[k].tolist()[0]) for k in K ], 'obj=', sum(r[b][k]*heuristic_x[b][k] for k in Kc for b in B)\n",
    "indices = [ [ [i,k] for i,t in enumerate(numpy.matrix(heuristic_x)[:,k].transpose().tolist()[0]) if t==1 ] for k in K]\n",
    "pandas.DataFrame(indices)"
   ]
  },
  {
   "cell_type": "code",
   "execution_count": null,
   "metadata": {
    "collapsed": true
   },
   "outputs": [],
   "source": []
  }
 ],
 "metadata": {
  "kernelspec": {
   "display_name": "Python 2",
   "language": "python",
   "name": "python2"
  },
  "language_info": {
   "codemirror_mode": {
    "name": "ipython",
    "version": 2
   },
   "file_extension": ".py",
   "mimetype": "text/x-python",
   "name": "python",
   "nbconvert_exporter": "python",
   "pygments_lexer": "ipython2",
   "version": "2.7.13"
  }
 },
 "nbformat": 4,
 "nbformat_minor": 2
}

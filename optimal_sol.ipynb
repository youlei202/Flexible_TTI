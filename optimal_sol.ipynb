{
 "cells": [
  {
   "cell_type": "markdown",
   "metadata": {},
   "source": [
    "# Optimal Solution by Integer Programming\n",
    "\n",
    "by [Lei You](http://user.it.uu.se/~leiyo378)"
   ]
  },
  {
   "cell_type": "markdown",
   "metadata": {},
   "source": [
    "In this document, we solve the flexible TTI allocation problem to optimum, by using integer programming solver gurobi.\n",
    "The formulation of the original problem is as below."
   ]
  },
  {
   "cell_type": "markdown",
   "metadata": {},
   "source": [
    "$$\n",
    "\\begin{align}\n",
    "\\max_{\\mathbf{x}} \\quad & \\sum_{b\\in\\mathcal{B}}\\sum_{k\\in\\mathcal{K}^{(c)}} r_{b,k}x_{b,k} \\\\\n",
    "s.t. \\quad & \\sum_{b\\in\\mathcal{B}}r_{b,k}x_{b,k}\\geq q_{k} \\quad k\\in\\mathcal{K}^{(\\ell)} \\\\\n",
    "           & \\sum_{b\\in\\mathcal{B}}\\sum_{k\\in\\mathcal{K}}a_{b,i}x_{b,k}\\leq 1 \\quad i\\in\\mathcal{I} \\\\\n",
    "           & x_{b,k}\\in\\{0,1\\}\\quad b\\in\\mathcal{B},~k\\in\\mathcal{K}\n",
    "\\end{align}\n",
    "$$"
   ]
  },
  {
   "cell_type": "markdown",
   "metadata": {},
   "source": [
    "We have $x_{b,k}=1$ if and only if physical resource block (PRB) $b$ is allocated to service $k$."
   ]
  },
  {
   "cell_type": "markdown",
   "metadata": {},
   "source": [
    "Recall that $\\tau_k$ is the maximum tolerant latency of service $k$, and $d_b$ is the end time of the PRB $b$. The constraints for the latency is imposed, by letting $r_{b,k}$ follow the rule:\n",
    "$$\n",
    "r_{b,k}=\\left\\{\n",
    "\\begin{array}{ll}\n",
    "0 & \\text{if } \\tau_k-d_b<0 \\\\\n",
    "\\text{capacity} & \\text{otherwise}\n",
    "\\end{array}\n",
    "\\right.\n",
    "$$"
   ]
  },
  {
   "cell_type": "markdown",
   "metadata": {},
   "source": [
    "Now let's start :)"
   ]
  },
  {
   "cell_type": "code",
   "execution_count": 203,
   "metadata": {
    "collapsed": true
   },
   "outputs": [],
   "source": [
    "import sys\n",
    "import scipy.io\n",
    "import numpy\n",
    "import math\n",
    "import csv\n",
    "\n",
    "from gurobipy import *\n",
    "\n",
    "# set the directory path\n",
    "import os\n",
    "folder_name = os.getcwd()"
   ]
  },
  {
   "cell_type": "markdown",
   "metadata": {},
   "source": [
    "The sets $\\mathcal{B}$, $\\mathcal{K}^{(\\ell)}$, $\\mathcal{K}^{(c)}$, $\\mathcal{K}$, and $\\mathcal{I}$ are read by the following code."
   ]
  },
  {
   "cell_type": "code",
   "execution_count": 204,
   "metadata": {
    "collapsed": true
   },
   "outputs": [],
   "source": [
    "# # set of physical layer blocks (PRBs)\n",
    "with open('B.csv', 'rb') as f:\n",
    "    B_csv = csv.reader(f)\n",
    "    B = list(B_csv)\n",
    "    B = [item for sublist in B for item in sublist] # flatten list\n",
    "    B = map(int, map(float, B)) # convert to int\n",
    "    \n",
    "# # set of latency services    \n",
    "with open('Kl.csv', 'rb') as f:\n",
    "    Kl_csv = csv.reader(f)\n",
    "    Kl = list(Kl_csv)\n",
    "    Kl = [item for sublist in Kl for item in sublist] # flatten list\n",
    "    Kl = map(int, map(float, Kl)) # convert to int\n",
    "    \n",
    "# # set of capacity services    \n",
    "with open('Kc.csv', 'rb') as f:\n",
    "    Kc_csv = csv.reader(f)\n",
    "    Kc = list(Kc_csv)\n",
    "    Kc = [item for sublist in Kc for item in sublist] # flatten list\n",
    "    Kc = map(int, map(float, Kc)) # convert to int\n",
    "    \n",
    "# # set of all services\n",
    "K = Kl + Kc\n",
    "\n",
    "# # set of resource units (RUs)\n",
    "with open('I.csv', 'rb') as f:\n",
    "    I_csv = csv.reader(f)\n",
    "    I = list(I_csv)\n",
    "    I = [item for sublist in I for item in sublist] # flatten list\n",
    "    I = map(int, map(float, I)) # convert to int"
   ]
  },
  {
   "cell_type": "markdown",
   "metadata": {},
   "source": [
    "The parameters $\\mathbf{r}$, $\\mathbf{q}$, and $\\mathbf{a}$ are read below."
   ]
  },
  {
   "cell_type": "code",
   "execution_count": 205,
   "metadata": {
    "collapsed": true
   },
   "outputs": [],
   "source": [
    "# # matrix r\n",
    "with open('r.csv', 'rb') as f:\n",
    "    r_csv = csv.reader(f)\n",
    "    r = list(r_csv)\n",
    "    r = [ map(int,map(float,x)) for x in r] # convert to int\n",
    "\n",
    "# # vector q, only for Kl\n",
    "with open('q.csv', 'rb') as f:\n",
    "    q_csv = csv.reader(f)\n",
    "    q = list(q_csv)\n",
    "    q = [item for sublist in q for item in sublist] # flatten list\n",
    "    q = map(int, map(float, q)) # convert to int\n",
    "    \n",
    "# # matrix a\n",
    "with open('a.csv', 'rb') as f:\n",
    "    a_csv = csv.reader(f)\n",
    "    a = list(a_csv)\n",
    "    a = [ map(int,map(float,x)) for x in a] # convert to int"
   ]
  },
  {
   "cell_type": "markdown",
   "metadata": {},
   "source": [
    "The model is created below in gurobi."
   ]
  },
  {
   "cell_type": "code",
   "execution_count": 206,
   "metadata": {
    "collapsed": true
   },
   "outputs": [],
   "source": [
    "model = Model('Interger Programming')\n",
    "model.modelSense = GRB.MAXIMIZE\n",
    "# model.setParam('OutputFlag', False) # slience output"
   ]
  },
  {
   "cell_type": "markdown",
   "metadata": {},
   "source": [
    "The variables $x_{b,k}$ ($b\\in\\mathcal{B}$, $k\\in\\mathcal{K}$) are added to the model by the following loop. And $\\mathbf{x}$ is imposed to be binary."
   ]
  },
  {
   "cell_type": "code",
   "execution_count": 207,
   "metadata": {
    "collapsed": true
   },
   "outputs": [],
   "source": [
    "x = []\n",
    "for b in B:\n",
    "    x_b = []\n",
    "    for k in K:\n",
    "#         x_b.append(model.addVar(vtype=GRB.CONTINUOUS, lb=0, ub=1))\n",
    "        x_b.append(model.addVar(vtype=GRB.BINARY))\n",
    "    x.append(x_b)\n",
    "    \n",
    "model.update()"
   ]
  },
  {
   "cell_type": "markdown",
   "metadata": {},
   "source": [
    "The first constraint, $\\sum_{b\\in\\mathcal{B}}r_{b,k}x_{b,k}\\geq q_{k}$ for all services $k\\in\\mathcal{K}^{(\\ell)}$, is added below."
   ]
  },
  {
   "cell_type": "code",
   "execution_count": 208,
   "metadata": {
    "collapsed": true
   },
   "outputs": [],
   "source": [
    "for k in Kl:\n",
    "    model.addConstr( sum(r[b][k]*x[b][k] for b in B) >= q[k] )\n",
    "model.update()"
   ]
  },
  {
   "cell_type": "markdown",
   "metadata": {},
   "source": [
    "The second constraint, $\\sum_{b\\in\\mathcal{B}}\\sum_{k\\in\\mathcal{K}}a_{b,i}x_{b,k}\\leq 1$ for all resource units $i\\in\\mathcal{I}$, is added as follows."
   ]
  },
  {
   "cell_type": "code",
   "execution_count": 209,
   "metadata": {},
   "outputs": [],
   "source": [
    "for i in I:\n",
    "    model.addConstr( sum(a[b][i]*x[b][k] for k in K for b in B ) <= 1 )\n",
    "model.update()"
   ]
  },
  {
   "cell_type": "markdown",
   "metadata": {},
   "source": [
    "The objective function $\\sum_{b\\in\\mathcal{B}}\\sum_{k\\in\\mathcal{K}^{(c)}} r_{b,k}x_{b,k}$, is added below."
   ]
  },
  {
   "cell_type": "code",
   "execution_count": 210,
   "metadata": {
    "collapsed": true
   },
   "outputs": [],
   "source": [
    "model.setObjective(\n",
    "    sum( r[b][k]*x[b][k] for k in Kc for b in B )\n",
    ")"
   ]
  },
  {
   "cell_type": "markdown",
   "metadata": {},
   "source": [
    "Now the problem can be solved by the solver:"
   ]
  },
  {
   "cell_type": "code",
   "execution_count": 212,
   "metadata": {
    "scrolled": true
   },
   "outputs": [
    {
     "name": "stdout",
     "output_type": "stream",
     "text": [
      "Optimize a model with 181 rows, 5490 columns and 23538 nonzeros\n",
      "Variable types: 0 continuous, 5490 integer (5490 binary)\n",
      "Coefficient statistics:\n",
      "  Matrix range     [1e+00, 2e+02]\n",
      "  Objective range  [1e+02, 2e+02]\n",
      "  Bounds range     [1e+00, 1e+00]\n",
      "  RHS range        [1e+00, 1e+03]\n",
      "Presolved: 118 rows, 1098 columns, 5107 nonzeros\n",
      "\n",
      "Continuing optimization...\n",
      "\n",
      " 1083893 780517  510.79174   67   49  480.00000  528.78450  10.2%  12.5  464s\n",
      " 1085252 781443  503.58382   82   26  480.00000  528.78185  10.2%  12.5  465s\n",
      " 1096253 789382  483.63110   67   17  480.00000  528.75888  10.2%  12.5  470s\n",
      " 1108931 798244  489.13764   63   29  480.00000  528.73641  10.2%  12.5  475s\n",
      " 1119737 805813  501.06040   59   41  480.00000  528.71728  10.1%  12.4  480s\n",
      " 1132561 814870  525.61576   42   47  480.00000  528.69543  10.1%  12.4  485s\n",
      " 1144348 823294  507.33942  134   13  480.00000  528.67136  10.1%  12.4  490s\n",
      " 1156883 832104  526.54162   47   52  480.00000  528.64895  10.1%  12.4  495s\n",
      " 1165447 838295  517.05481   64   26  480.00000  528.63449  10.1%  12.4  500s\n",
      " 1174449 844729  526.99996   56   44  480.00000  528.62057  10.1%  12.4  505s\n",
      "\n",
      "Cutting planes:\n",
      "  Gomory: 15\n",
      "  Cover: 3\n",
      "  MIR: 70\n",
      "  StrongCG: 34\n",
      "  Flow cover: 18\n",
      "  GUB cover: 12\n",
      "  Zero half: 10\n",
      "\n",
      "Explored 1175227 nodes (14613241 simplex iterations) in 41.64 seconds\n",
      "Thread count was 4 (of 4 available processors)\n",
      "\n",
      "Solution count 4: 480 475 435 410 \n",
      "\n",
      "Solve interrupted\n",
      "Best objective 4.800000000000e+02, best bound 5.280000000000e+02, gap 10.0000%\n",
      "11\n"
     ]
    }
   ],
   "source": [
    "model.optimize()\n",
    "print model.Status"
   ]
  },
  {
   "cell_type": "code",
   "execution_count": null,
   "metadata": {
    "collapsed": true
   },
   "outputs": [],
   "source": []
  }
 ],
 "metadata": {
  "kernelspec": {
   "display_name": "Python 2",
   "language": "python",
   "name": "python2"
  },
  "language_info": {
   "codemirror_mode": {
    "name": "ipython",
    "version": 2
   },
   "file_extension": ".py",
   "mimetype": "text/x-python",
   "name": "python",
   "nbconvert_exporter": "python",
   "pygments_lexer": "ipython2",
   "version": "2.7.13"
  }
 },
 "nbformat": 4,
 "nbformat_minor": 2
}

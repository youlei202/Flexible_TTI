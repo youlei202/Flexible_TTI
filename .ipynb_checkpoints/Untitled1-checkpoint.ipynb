{
 "cells": [
  {
   "cell_type": "code",
   "execution_count": 151,
   "metadata": {},
   "outputs": [],
   "source": [
    "from operator import *\n",
    "\n",
    "sample_num = 40\n",
    "rate = [ 0.032, 0.064, 0.128, 0.256, 0.512, 1.024 ]\n",
    "\n",
    "f = open('data.txt', 'r')\n",
    "data_set = []\n",
    "data_set2 = []\n",
    "for i in range(len(rate)):\n",
    "    rate_group = []\n",
    "    accumulate = [ 0, 0, 0, 0, 0, 0 ]\n",
    "    c = 0\n",
    "    while c<sample_num:\n",
    "        c = c + 1\n",
    "        line = f.readline()\n",
    "        line = line.strip()\n",
    "        columns = line.split()\n",
    "        sample = map( float, [ columns[5], columns[8], columns[11], columns[14], columns[17], columns[20] ] )\n",
    "        rate_group.append(sample)\n",
    "        accumulate = map(add, accumulate, sample)           \n",
    "        \n",
    "    accumulate = map(div, accumulate, [float(sample_num) for j in range(len(accumulate)) ])\n",
    "    data_set2.append(accumulate)\n",
    "    data_set.append(rate_group)"
   ]
  },
  {
   "cell_type": "code",
   "execution_count": 176,
   "metadata": {},
   "outputs": [
    {
     "data": {
      "text/plain": [
       "<matplotlib.text.Text at 0x116f3fe90>"
      ]
     },
     "execution_count": 176,
     "metadata": {},
     "output_type": "execute_result"
    }
   ],
   "source": [
    "import matplotlib.pyplot as plt\n",
    "import numpy as np\n",
    "\n",
    "# create some randomly ddistributed data:\n",
    "data = [ data_set[i][j][0] for j in range(sample_num) for i in range(len(rate)) ]\n",
    "\n"
   ]
  },
  {
   "cell_type": "code",
   "execution_count": 160,
   "metadata": {
    "scrolled": false
   },
   "outputs": [
    {
     "name": "stdout",
     "output_type": "stream",
     "text": [
      "[0.027384537311730506, 0.009706611391932999, 0.011327801151545002, 0.013333764398702996, 0.014401181352804502, 0.068506747168865]\n"
     ]
    }
   ],
   "source": [
    "print [data_set2[i][5] for i in range(len(data_set2))]"
   ]
  },
  {
   "cell_type": "code",
   "execution_count": null,
   "metadata": {
    "collapsed": true
   },
   "outputs": [],
   "source": []
  }
 ],
 "metadata": {
  "kernelspec": {
   "display_name": "Python 2",
   "language": "python",
   "name": "python2"
  },
  "language_info": {
   "codemirror_mode": {
    "name": "ipython",
    "version": 2
   },
   "file_extension": ".py",
   "mimetype": "text/x-python",
   "name": "python",
   "nbconvert_exporter": "python",
   "pygments_lexer": "ipython2",
   "version": "2.7.13"
  }
 },
 "nbformat": 4,
 "nbformat_minor": 2
}

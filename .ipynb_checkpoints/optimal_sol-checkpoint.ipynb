{
 "cells": [
  {
   "cell_type": "markdown",
   "metadata": {},
   "source": [
    "# Optimal Solution by Integer Programming\n",
    "\n",
    "by [Lei You](http://user.it.uu.se/~leiyo378)"
   ]
  },
  {
   "cell_type": "markdown",
   "metadata": {},
   "source": [
    "In this document, we solve the flexible TTI allocation problem to optimum, by using integer programming solver gurobi.\n",
    "The formulation of the original problem is as below."
   ]
  },
  {
   "cell_type": "markdown",
   "metadata": {},
   "source": [
    "$$\n",
    "\\begin{align}\n",
    "\\max_{\\mathbf{x}} \\quad & \\sum_{b\\in\\mathcal{B}}\\sum_{k\\in\\mathcal{K}^{(c)}} r_{b,k}x_{b,k} \\\\\n",
    "s.t. \\quad & \\sum_{b\\in\\mathcal{B}}r_{b,k}x_{b,k}\\geq q_{k} \\quad k\\in\\mathcal{K}^{(\\ell)} \\\\\n",
    "           & \\sum_{b\\in\\mathcal{B}}\\sum_{k\\in\\mathcal{K}}a_{b,i}x_{b,k}\\leq 1 \\quad i\\in\\mathcal{I} \\\\\n",
    "           & x_{b,k}\\in\\{0,1\\}\\quad b\\in\\mathcal{B},~k\\in\\mathcal{K}\n",
    "\\end{align}\n",
    "$$"
   ]
  },
  {
   "cell_type": "markdown",
   "metadata": {},
   "source": [
    "We have $x_{b,k}=1$ if and only if physical resource block (PRB) $b$ is allocated to service $k$."
   ]
  },
  {
   "cell_type": "markdown",
   "metadata": {},
   "source": [
    "Recall that $\\tau_k$ is the maximum tolerant latency of service $k$, and $d_b$ is the end time of the PRB $b$. The constraints for the latency is imposed, by letting $r_{b,k}$ follow the rule:\n",
    "$$\n",
    "r_{b,k}=\\left\\{\n",
    "\\begin{array}{ll}\n",
    "0 & \\text{if } \\tau_k-d_b<0 \\\\\n",
    "\\text{capacity} & \\text{otherwise}\n",
    "\\end{array}\n",
    "\\right.\n",
    "$$"
   ]
  },
  {
   "cell_type": "markdown",
   "metadata": {},
   "source": [
    "Now let's start :)"
   ]
  },
  {
   "cell_type": "code",
   "execution_count": 74,
   "metadata": {
    "collapsed": true
   },
   "outputs": [],
   "source": [
    "import sys\n",
    "import scipy.io\n",
    "import numpy\n",
    "import math\n",
    "import csv\n",
    "\n",
    "from gurobipy import *\n",
    "\n",
    "# set the directory path\n",
    "import os\n",
    "folder_name = os.getcwd()"
   ]
  },
  {
   "cell_type": "markdown",
   "metadata": {},
   "source": [
    "The sets $\\mathcal{B}$, $\\mathcal{K}^{(\\ell)}$, $\\mathcal{K}^{(c)}$, $\\mathcal{K}$, and $\\mathcal{I}$ are read by the following code."
   ]
  },
  {
   "cell_type": "code",
   "execution_count": 75,
   "metadata": {
    "collapsed": true
   },
   "outputs": [],
   "source": [
    "# # set of physical layer blocks (PRBs)\n",
    "with open('B.csv', 'rb') as f:\n",
    "    B_csv = csv.reader(f)\n",
    "    B = list(B_csv)\n",
    "    B = [item for sublist in B for item in sublist] # flatten list\n",
    "    B = map(int, map(float, B)) # convert to int\n",
    "    \n",
    "# # set of latency services    \n",
    "with open('Kl.csv', 'rb') as f:\n",
    "    Kl_csv = csv.reader(f)\n",
    "    Kl = list(Kl_csv)\n",
    "    Kl = [item for sublist in Kl for item in sublist] # flatten list\n",
    "    Kl = map(int, map(float, Kl)) # convert to int\n",
    "    \n",
    "# # set of capacity services    \n",
    "with open('Kc.csv', 'rb') as f:\n",
    "    Kc_csv = csv.reader(f)\n",
    "    Kc = list(Kc_csv)\n",
    "    Kc = [item for sublist in Kc for item in sublist] # flatten list\n",
    "    Kc = map(int, map(float, Kc)) # convert to int\n",
    "    \n",
    "# # set of all services\n",
    "K = Kl + Kc\n",
    "\n",
    "# # set of resource units (RUs)\n",
    "with open('I.csv', 'rb') as f:\n",
    "    I_csv = csv.reader(f)\n",
    "    I = list(I_csv)\n",
    "    I = [item for sublist in I for item in sublist] # flatten list\n",
    "    I = map(int, map(float, I)) # convert to int"
   ]
  },
  {
   "cell_type": "markdown",
   "metadata": {},
   "source": [
    "The parameters $\\mathbf{r}$, $\\mathbf{q}$, and $\\mathbf{a}$ are read below."
   ]
  },
  {
   "cell_type": "code",
   "execution_count": 76,
   "metadata": {
    "collapsed": true
   },
   "outputs": [],
   "source": [
    "# # matrix r\n",
    "with open('r.csv', 'rb') as f:\n",
    "    r_csv = csv.reader(f)\n",
    "    r = list(r_csv)\n",
    "    r = [ map(int,map(float,x)) for x in r] # convert to int\n",
    "\n",
    "# # vector q, only for Kl\n",
    "with open('q.csv', 'rb') as f:\n",
    "    q_csv = csv.reader(f)\n",
    "    q = list(q_csv)\n",
    "    q = [item for sublist in q for item in sublist] # flatten list\n",
    "    q = map(int, map(float, q)) # convert to int\n",
    "    \n",
    "# # matrix a\n",
    "with open('a.csv', 'rb') as f:\n",
    "    a_csv = csv.reader(f)\n",
    "    a = list(a_csv)\n",
    "    a = [ map(int,map(float,x)) for x in a] # convert to int"
   ]
  },
  {
   "cell_type": "markdown",
   "metadata": {},
   "source": [
    "The model is created below in gurobi."
   ]
  },
  {
   "cell_type": "code",
   "execution_count": 77,
   "metadata": {
    "collapsed": true
   },
   "outputs": [],
   "source": [
    "model = Model('Interger Programming')\n",
    "model.modelSense = GRB.MAXIMIZE\n",
    "# model.setParam('OutputFlag', False) # slience output"
   ]
  },
  {
   "cell_type": "markdown",
   "metadata": {},
   "source": [
    "The variables $x_{b,k}$ ($b\\in\\mathcal{B}$, $k\\in\\mathcal{K}$) are added to the model by the following loop. And $\\mathbf{x}$ is imposed to be binary."
   ]
  },
  {
   "cell_type": "code",
   "execution_count": 78,
   "metadata": {
    "collapsed": true
   },
   "outputs": [],
   "source": [
    "x = []\n",
    "for b in B:\n",
    "    x_b = []\n",
    "    for k in K:\n",
    "#         x_b.append(model.addVar(vtype=GRB.CONTINUOUS, lb=0, ub=1))\n",
    "        x_b.append(model.addVar(vtype=GRB.BINARY))\n",
    "    x.append(x_b)\n",
    "    \n",
    "model.update()"
   ]
  },
  {
   "cell_type": "markdown",
   "metadata": {},
   "source": [
    "The first constraint, $\\sum_{b\\in\\mathcal{B}}r_{b,k}x_{b,k}\\geq q_{k}$ for all services $k\\in\\mathcal{K}^{(\\ell)}$, is added below."
   ]
  },
  {
   "cell_type": "code",
   "execution_count": 79,
   "metadata": {
    "collapsed": true
   },
   "outputs": [],
   "source": [
    "for k in Kl:\n",
    "    model.addConstr( sum(r[b][k]*x[b][k] for b in B) >= q[k] )\n",
    "model.update()"
   ]
  },
  {
   "cell_type": "markdown",
   "metadata": {},
   "source": [
    "The second constraint, $\\sum_{b\\in\\mathcal{B}}\\sum_{k\\in\\mathcal{K}}a_{b,i}x_{b,k}\\leq 1$ for all resource units $i\\in\\mathcal{I}$, is added as follows."
   ]
  },
  {
   "cell_type": "code",
   "execution_count": 80,
   "metadata": {
    "collapsed": true
   },
   "outputs": [],
   "source": [
    "for i in I:\n",
    "    model.addConstr( sum(a[b][i]*x[b][k] for k in K for b in B ) <= 1 )\n",
    "model.update()"
   ]
  },
  {
   "cell_type": "markdown",
   "metadata": {},
   "source": [
    "The objective function $\\sum_{b\\in\\mathcal{B}}\\sum_{k\\in\\mathcal{K}^{(c)}} r_{b,k}x_{b,k}$, is added below."
   ]
  },
  {
   "cell_type": "code",
   "execution_count": 81,
   "metadata": {
    "collapsed": true
   },
   "outputs": [],
   "source": [
    "model.setObjective(\n",
    "    sum( r[b][k]*x[b][k] for k in Kc for b in B )\n",
    ")"
   ]
  },
  {
   "cell_type": "markdown",
   "metadata": {},
   "source": [
    "Now the problem can be solved by the solver:"
   ]
  },
  {
   "cell_type": "code",
   "execution_count": 82,
   "metadata": {
    "scrolled": true
   },
   "outputs": [
    {
     "name": "stdout",
     "output_type": "stream",
     "text": [
      "Optimize a model with 180 rows, 5490 columns and 23158 nonzeros\n",
      "Coefficient statistics:\n",
      "  Matrix range     [1e+00, 2e+02]\n",
      "  Objective range  [1e+02, 2e+02]\n",
      "  Bounds range     [1e+00, 1e+00]\n",
      "  RHS range        [1e+00, 6e+02]\n",
      "Presolve removed 0 rows and 4088 columns\n",
      "Presolve time: 0.02s\n",
      "Presolved: 180 rows, 1402 columns, 6758 nonzeros\n",
      "\n",
      "Iteration    Objective       Primal Inf.    Dual Inf.      Time\n",
      "       0    2.1256000e+04   3.816250e+02   0.000000e+00      0s\n",
      "     400    5.7124470e+03   0.000000e+00   0.000000e+00      0s\n",
      "\n",
      "Solved in 400 iterations and 0.05 seconds\n",
      "Optimal objective  5.712447030e+03\n"
     ]
    }
   ],
   "source": [
    "model.optimize()"
   ]
  }
 ],
 "metadata": {
  "kernelspec": {
   "display_name": "Python 2",
   "language": "python",
   "name": "python2"
  },
  "language_info": {
   "codemirror_mode": {
    "name": "ipython",
    "version": 2
   },
   "file_extension": ".py",
   "mimetype": "text/x-python",
   "name": "python",
   "nbconvert_exporter": "python",
   "pygments_lexer": "ipython2",
   "version": "2.7.13"
  }
 },
 "nbformat": 4,
 "nbformat_minor": 2
}

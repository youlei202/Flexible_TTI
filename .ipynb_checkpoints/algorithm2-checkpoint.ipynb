{
 "cells": [
  {
   "cell_type": "markdown",
   "metadata": {
    "collapsed": true
   },
   "source": [
    "# Algorithm Implementation\n",
    "\n",
    "by [Lei You](http://user.it.uu.se/~leiyo378)"
   ]
  },
  {
   "cell_type": "markdown",
   "metadata": {},
   "source": [
    "In this document, we solve the flexible TTI allocation problem to optimum, by using our proposed algorithm. The formulation of the original problem is as below."
   ]
  },
  {
   "cell_type": "markdown",
   "metadata": {},
   "source": [
    "$$\n",
    "\\begin{align}\n",
    "[\\text{P0}] \\quad\\max_{\\mathbf{x}} \\quad & \\sum_{b\\in\\mathcal{B}}\\sum_{k\\in\\mathcal{K}^{(c)}} r_{b,k}x_{b,k} \\\\\n",
    "s.t. \\quad & \\sum_{b\\in\\mathcal{B}}r_{b,k}x_{b,k}\\geq q_{k} \\quad k\\in\\mathcal{K}^{(\\ell)} \\\\\n",
    "           & \\sum_{b\\in\\mathcal{B}}\\sum_{k\\in\\mathcal{K}}a_{b,i}x_{b,k}\\leq 1 \\quad i\\in\\mathcal{I} \\\\\n",
    "           & x_{b,k}\\in\\{0,1\\}\\quad b\\in\\mathcal{B},~k\\in\\mathcal{K}\n",
    "\\end{align}\n",
    "$$"
   ]
  },
  {
   "cell_type": "markdown",
   "metadata": {},
   "source": [
    "We have $x_{b,k}=1$ if and only if physical resource block (PRB) $b$ is allocated to service $k$."
   ]
  },
  {
   "cell_type": "markdown",
   "metadata": {},
   "source": [
    "Recall that $\\tau_k$ is the maximum tolerant latency of service $k$, and $d_b$ is the end time of the PRB $b$. The constraints for the latency is imposed, by letting $r_{b,k}$ follow the rule:\n",
    "$$\n",
    "r_{b,k}=\\left\\{\n",
    "\\begin{array}{ll}\n",
    "0 & \\text{if } \\tau_k-d_b<0 \\\\\n",
    "\\text{capacity} & \\text{otherwise}\n",
    "\\end{array}\n",
    "\\right.\n",
    "$$"
   ]
  },
  {
   "cell_type": "markdown",
   "metadata": {},
   "source": [
    "Here we go."
   ]
  },
  {
   "cell_type": "code",
   "execution_count": 14,
   "metadata": {
    "collapsed": true
   },
   "outputs": [],
   "source": [
    "import sys\n",
    "import scipy.io\n",
    "import numpy\n",
    "import math\n",
    "import csv\n",
    "from operator import add\n",
    "\n",
    "from gurobipy import *\n",
    "\n",
    "# set the directory path\n",
    "import os\n",
    "folder_name = os.getcwd()\n",
    "\n",
    "epsilon = 10e-6"
   ]
  },
  {
   "cell_type": "markdown",
   "metadata": {},
   "source": [
    "The sets $\\mathcal{B}$, $\\mathcal{K}^{(\\ell)}$, $\\mathcal{K}^{(c)}$, $\\mathcal{K}$, and $\\mathcal{I}$ are read by the following code."
   ]
  },
  {
   "cell_type": "code",
   "execution_count": 15,
   "metadata": {
    "collapsed": true
   },
   "outputs": [],
   "source": [
    "# # set of physical layer blocks (PRBs)\n",
    "with open('B.csv', 'rb') as f:\n",
    "    B_csv = csv.reader(f)\n",
    "    B = list(B_csv)\n",
    "    B = [item for sublist in B for item in sublist] # flatten list\n",
    "    B = map(int, map(float, B)) # convert to int\n",
    "    \n",
    "# # set of latency services    \n",
    "with open('Kl.csv', 'rb') as f:\n",
    "    Kl_csv = csv.reader(f)\n",
    "    Kl = list(Kl_csv)\n",
    "    Kl = [item for sublist in Kl for item in sublist] # flatten list\n",
    "    Kl = map(int, map(float, Kl)) # convert to int\n",
    "    \n",
    "# # set of capacity services    \n",
    "with open('Kc.csv', 'rb') as f:\n",
    "    Kc_csv = csv.reader(f)\n",
    "    Kc = list(Kc_csv)\n",
    "    Kc = [item for sublist in Kc for item in sublist] # flatten list\n",
    "    Kc = map(int, map(float, Kc)) # convert to int\n",
    "    \n",
    "# # set of all services\n",
    "K = Kl + Kc\n",
    "\n",
    "# # set of resource units (RUs)\n",
    "with open('I.csv', 'rb') as f:\n",
    "    I_csv = csv.reader(f)\n",
    "    I = list(I_csv)\n",
    "    I = [item for sublist in I for item in sublist] # flatten list\n",
    "    I = map(int, map(float, I)) # convert to int"
   ]
  },
  {
   "cell_type": "markdown",
   "metadata": {},
   "source": [
    "The parameters $\\mathbf{r}$, $\\mathbf{q}$, and $\\mathbf{a}$ are read below."
   ]
  },
  {
   "cell_type": "code",
   "execution_count": 16,
   "metadata": {},
   "outputs": [],
   "source": [
    "# # matrix r\n",
    "with open('r.csv', 'rb') as f:\n",
    "    r_csv = csv.reader(f)\n",
    "    r = list(r_csv)\n",
    "    r = [ map(int,map(float,x)) for x in r] # convert to int\n",
    "    r = numpy.matrix(r)\n",
    "\n",
    "# # vector q, only for Kl\n",
    "with open('q.csv', 'rb') as f:\n",
    "    q_csv = csv.reader(f)\n",
    "    q = list(q_csv)\n",
    "    q = [item for sublist in q for item in sublist] # flatten list\n",
    "    q = map(int, map(float, q)) # convert to int\n",
    "    q = numpy.array(q)\n",
    "    \n",
    "# # matrix a\n",
    "with open('a.csv', 'rb') as f:\n",
    "    a_csv = csv.reader(f)\n",
    "    a = list(a_csv)\n",
    "    a = [ map(int,map(float,x)) for x in a] # convert to int"
   ]
  },
  {
   "cell_type": "markdown",
   "metadata": {},
   "source": [
    "The following code reads the overlapping relationship between any two PRBs."
   ]
  },
  {
   "cell_type": "code",
   "execution_count": 17,
   "metadata": {
    "collapsed": true
   },
   "outputs": [],
   "source": [
    "# if conflict_PRBs[b1][b2] == True, then the PRBs b1 b2 cannot be used simultaneously\n",
    "with open('conflict_PRB.csv', 'rb') as f:\n",
    "    conflict_PRB_csv = csv.reader(f)\n",
    "    conflict_PRB = list(conflict_PRB_csv)\n",
    "    conflict_PRB = [ map(lambda y: int(float(y))==1, x) for x in conflict_PRB]"
   ]
  },
  {
   "cell_type": "code",
   "execution_count": 18,
   "metadata": {
    "collapsed": true
   },
   "outputs": [],
   "source": [
    "with open('lp_x.csv', 'rb') as f:\n",
    "    lp_x_csv = csv.reader(f)\n",
    "    lp_x = list(lp_x_csv)\n",
    "    lp_x = [ map(float, t) for t in lp_x] # convert to float"
   ]
  },
  {
   "cell_type": "markdown",
   "metadata": {},
   "source": [
    "The original problem is relaxed by Lagrangian with $\\mathbf{\\lambda}>\\mathbf{0}$:"
   ]
  },
  {
   "cell_type": "markdown",
   "metadata": {},
   "source": [
    "The Lagrangian is as follows."
   ]
  },
  {
   "cell_type": "markdown",
   "metadata": {},
   "source": [
    "$$\n",
    "\\begin{align}\n",
    "[\\text{P1}]\\quad g(\\mathbf{\\lambda})=\\max_{\\mathbf{x}} \\quad & \\sum_{b\\in\\mathcal{B}}\\sum_{k\\in\\mathcal{K}^{(c)}} r_{b,k}x_{b,k} + \\sum_{i\\in\\mathcal{I}}\\lambda_i(1-\\sum_{b\\in\\mathcal{B}}\\sum_{k\\in\\mathcal{K}}a_{b,i}x_{b,k})\\\\\n",
    "s.t. \\quad & \\sum_{b\\in\\mathcal{B}}r_{b,k}x_{b,k}\\geq q_{k} \\quad k\\in\\mathcal{K}^{(\\ell)} \\\\\n",
    "           & x_{b,k}\\in\\{0,1\\}\\quad b\\in\\mathcal{B},~k\\in\\mathcal{K}\n",
    "\\end{align}\n",
    "$$"
   ]
  },
  {
   "cell_type": "markdown",
   "metadata": {},
   "source": [
    "For any fixed $\\mathbf{\\lambda}$, the orginal problem decomposes to two problems in respect of $\\mathcal{K}^{(c)}$ and $\\mathcal{K}^{(\\ell)}$. For the sake of presentation, we denote \n",
    "$$\\alpha_b = \\sum_{i\\in\\mathcal{I}}\\lambda_i a_{b,i}$$ "
   ]
  },
  {
   "cell_type": "code",
   "execution_count": 19,
   "metadata": {
    "collapsed": true
   },
   "outputs": [],
   "source": [
    "def getAlpha(lam):\n",
    "    alpha=[]\n",
    "    for b in B:\n",
    "        alpha_b = sum( lam[i]*a[b,i] for i in I ) \n",
    "        alpha.append(alpha_b)\n",
    "    return alpha"
   ]
  },
  {
   "cell_type": "markdown",
   "metadata": {},
   "source": [
    "For $\\mathcal{K}^{(c)}$, the problem is as follows.\n",
    "$$\n",
    "\\begin{align}\n",
    "[\\text{P2}]\\quad\\max_{\\mathbf{x}} \\quad & \\sum_{b\\in\\mathcal{B}}\\sum_{k\\in\\mathcal{K}^{(c)}} r_{b,k}x_{b,k} - \\sum_{b\\in\\mathcal{B}}\\sum_{k\\in\\mathcal{K}^{(c)}}\\alpha_{b}x_{b,k}\\\\\n",
    "s.t. \\quad & x_{b,k}\\in\\{0,1\\}\\quad b\\in\\mathcal{B},~k\\in\\mathcal{K}^{(c)}\n",
    "\\end{align}\n",
    "$$\n",
    "\n",
    "In the above formulation, it might happen that one PRB is allocated to multiple services simultaneously, which definitely leads to PRB overlap. Therefore we add an extra constraint such that the problem becomes:\n",
    "$$\n",
    "\\begin{align}\n",
    "[\\text{P2}]\\quad\\max_{\\mathbf{x}} \\quad & \\sum_{b\\in\\mathcal{B}}\\sum_{k\\in\\mathcal{K}^{(c)}}x_{b,k}( r_{b,k} - \\alpha_{b})\\\\\n",
    "s.t. \\quad & \\sum_{k\\in\\mathcal{K}^{(c)}}x_{b,k}\\leq 1 \\quad b\\in\\mathcal{B} \\\\\n",
    "           & x_{b,k}\\in\\{0,1\\}\\quad b\\in\\mathcal{B},~k\\in\\mathcal{K}^{(c)}\n",
    "\\end{align}\n",
    "$$\n",
    "\n",
    "It can be optimally solved by:\n",
    "For each $b\\in\\mathcal{B}$, we select one $k$, such that.\n",
    "$\n",
    "r_{b,k}-\\alpha_b > 0 \\text{ and } k = \\arg\\max_{k\\in\\mathcal{K}^{(c)}} r_{b,k}-\\alpha_b\n",
    "$.\n",
    "The corresponding code is as follows."
   ]
  },
  {
   "cell_type": "code",
   "execution_count": 20,
   "metadata": {
    "collapsed": true
   },
   "outputs": [],
   "source": [
    "# The argument lam is lambda\n",
    "# The function returns matrix x, with only columns in Kc being computed.\n",
    "# The columns in Kl of the returned matrix x are zero vectors.\n",
    "def solveP2( lam ):\n",
    "    PRB_alloc = [ -1 for b in B ] # PRB_alloc[b] is the index of service that PRB b should be allocated to\n",
    "                                  # PRB_alloc[b]=-1 means that PRB b is not allocated\n",
    "        \n",
    "    sol_x = [ [ 0 for k in K ] for b in B ] # variables to be returned\n",
    "    \n",
    "    alpha = getAlpha(lam)\n",
    "    for b in B:\n",
    "        tmp_list = [ r[b,k]-alpha[b] for k in Kc ]\n",
    "        if max(tmp_list) > 0:   # PRB is allocated only if r[b][k]-alpha[b] is positive\n",
    "            PRB_alloc[b] = len(Kl) + numpy.argmax(tmp_list) # Kl is added such that the value of PRB_alloc[b] is \n",
    "                                                       # coherent with the corresponding indexed position in K\n",
    "    \n",
    "    # Convert PRB_alloc to matrix x\n",
    "    for b in B:\n",
    "        k = PRB_alloc[b] # indexed service\n",
    "        if k >= 0: # indicating that PRB_alloc[b] != -1\n",
    "            sol_x[b][k] = 1\n",
    "    \n",
    "    return sol_x"
   ]
  },
  {
   "cell_type": "markdown",
   "metadata": {},
   "source": [
    "For $\\mathcal{K}^{(\\ell)}$, we have the problem below.\n",
    "$$\n",
    "\\begin{align}\n",
    "[\\text{P3}]\\quad\\min_{\\mathbf{x}} \\quad &  \\sum_{b\\in\\mathcal{B}}\\sum_{k\\in\\mathcal{K}^{(\\ell)}}\\alpha_{b}x_{b,k}\\\\\n",
    "s.t. \\quad & \\sum_{b\\in\\mathcal{B}}r_{b,k}x_{b,k}\\geq q_{k} \\quad k\\in\\mathcal{K}^{(\\ell)} \\\\\n",
    "           & x_{b,k}\\in\\{0,1\\}\\quad b\\in\\mathcal{B},~k\\in\\mathcal{K}^{(\\ell)}\n",
    "\\end{align}\n",
    "$$\n",
    "\n",
    "The problem can decomposed to $|\\mathcal{K}^{(\\ell)}|$ knapsack problems and be optimally solved by dynamic programming. "
   ]
  },
  {
   "cell_type": "markdown",
   "metadata": {},
   "source": [
    "For $k\\in\\mathcal{K}^{(\\ell)}$:\n",
    "$$\n",
    "\\begin{align}\n",
    "[\\text{P3[$k$]}]\\quad\\min_{\\mathbf{x}} \\quad &  \\sum_{b\\in\\mathcal{B}}\\alpha_{b}x_{b,k}\\\\\n",
    "s.t. \\quad & \\sum_{b\\in\\mathcal{B}}r_{b,k}x_{b,k}\\geq q_{k}  \\\\\n",
    "           & x_{b,k}\\in\\{0,1\\}\\quad b\\in\\mathcal{B}\n",
    "\\end{align}\n",
    "$$"
   ]
  },
  {
   "cell_type": "markdown",
   "metadata": {},
   "source": [
    "Though the multiple knapsack problem can still be exactly solved by dynamic programming, here we use gurobi integer programming solver instead, without loss of optimality."
   ]
  },
  {
   "cell_type": "code",
   "execution_count": 21,
   "metadata": {
    "collapsed": true
   },
   "outputs": [],
   "source": [
    "# The argument lam is lambda\n",
    "# The function returns matrix x, with only columns in Kl being computed.\n",
    "# The columns in Kc of the returned matrix x are zero vectors.\n",
    "def solveP3( lam ):\n",
    "    # create optimization model\n",
    "    modelKl = Model('Integer Programming - Kl')\n",
    "    modelKl.modelSense = GRB.MINIMIZE\n",
    "    modelKl.setParam('OutputFlag', False) # slience output\n",
    "    \n",
    "    # create varialbes for modelKl:\n",
    "    xP3 = []\n",
    "    for b in B:\n",
    "        xP3_b = []\n",
    "        for k in Kl:\n",
    "            xP3_b.append(modelKl.addVar(vtype=GRB.BINARY))\n",
    "        xP3.append(xP3_b)\n",
    "    modelKl.update()\n",
    "    \n",
    "    # add constraints \n",
    "    for k in Kl:\n",
    "        modelKl.addConstr( sum(r[b,k]*xP3[b][k] for b in B) >= q[k] )\n",
    "    modelKl.update()\n",
    "\n",
    "    # set objective function\n",
    "    alpha = getAlpha(lam)\n",
    "    modelKl.setObjective(\n",
    "        sum( alpha[b]*xP3[b][k] for k in Kl for b in B )\n",
    "    )\n",
    "    \n",
    "    # solve modelKl\n",
    "    modelKl.optimize()\n",
    "    \n",
    "    # construct variables to be returned \n",
    "    sol_x = [ [ 0 for k in K ] for b in B ]\n",
    "    for b in B:\n",
    "        for k in Kl:\n",
    "            sol_x[b][k] = int(xP3[b][k].x)\n",
    "            \n",
    "    return sol_x"
   ]
  },
  {
   "cell_type": "markdown",
   "metadata": {},
   "source": [
    "The solutions obtained by $\\texttt{solveP2}$ and $\\texttt{solveP3}$ can be merged to obtain the value of Lagrangian Dual function, by:"
   ]
  },
  {
   "cell_type": "code",
   "execution_count": 22,
   "metadata": {
    "collapsed": true
   },
   "outputs": [],
   "source": [
    "# This function evaluates the Lagrangian Dual function for any given vector lamda\n",
    "# The return is the matrix x in the original problem\n",
    "def solveG(lam):\n",
    "    return ( numpy.matrix(solveP2(lam)) + numpy.matrix(solveP3(lam)) ).tolist()\n",
    "    # The  return value is optimal to the maximization in lagrangian dual function \n",
    "    # but may not be feasible to the original problem!"
   ]
  },
  {
   "cell_type": "markdown",
   "metadata": {},
   "source": [
    "Next, we use subgradient descent method to solve the Lagrangian Dual problem, i.e., $\\min_{\\mathbf{\\lambda}\\geq\\mathbf{0}} g(\\mathbf{\\lambda})$. After the completion of the gradient descent method, the obtained solution is not guaranteed to be feasible to the primal problem. The heuristic method to obtain a feasible solution is as follows: All PRBs allocation for $\\mathcal{K}^{(\\ell)}$ is kept so as to guarantee the latency constraints being satisfied. Then we solve $\\mathcal{K}^{(c)}$ under the current lambda and fixed $\\mathcal{K}^{(\\ell)}$ solutions.\n",
    "\n",
    "To achieve this goal, we need to implement a new function that solves Kc with some PRB allocations being fixed:"
   ]
  },
  {
   "cell_type": "code",
   "execution_count": 23,
   "metadata": {
    "collapsed": true
   },
   "outputs": [],
   "source": [
    "def getHeuristicX(lam, x_count):\n",
    "    priority = [ [i[0] for i in sorted(enumerate(x_count[k]), key=lambda y:y[1],reverse=True)] for k in K ]\n",
    "    sol_x = [ [ 0 for k in K ] for b in B ] # variables to be returned\n",
    "    \n",
    "    priority_user = [i[0] for i in sorted(enumerate(map(sum,x_count)), key=lambda y:y[1],reverse=True)] \n",
    "    priority_Kl = [u for u in priority_user if u in Kl ]\n",
    "    priority_Kc = [u for u in priority_user if u in Kc ]\n",
    "    \n",
    "    collision = [ False for b in B ]\n",
    "    \n",
    "    for k in priority_Kl:\n",
    "        service_bit = sum(r[b,k]*sol_x[b][k] for b in B)\n",
    "        while service_bit < q[k] and collision.count(False)>0: \n",
    "            for pos in range(len(priority[k])):\n",
    "                b = priority[k][pos]\n",
    "                if collision[b] == False: \n",
    "                    sol_x[b][k] = 1\n",
    "                    service_bit += r[b,k]*sol_x[b][k]\n",
    "                    for p in B: # set all PRB overlapping with b to be in collision\n",
    "                        if conflict_PRB[b][p] == True:\n",
    "                            collision[p] = True\n",
    "                    break\n",
    "    \n",
    "    alpha = getAlpha(lam)\n",
    "    for b in B:\n",
    "        alloc = True\n",
    "        if collision[b]==True: # b wouldn't be allocated if in collision\n",
    "            alloc = False \n",
    "        if alloc == True: \n",
    "            tmp_list = [ r[b,k]-alpha[b] for k in Kc ]\n",
    "            user_to_alloc = len(Kl) + numpy.argmax(tmp_list) \n",
    "            sol_x[b][user_to_alloc] = 1\n",
    "            for p in B: # set all PRB overlapping with b to be in collision\n",
    "                if conflict_PRB[b][p] == True:\n",
    "                    collision[p] = True\n",
    "                    \n",
    "    return sol_x\n",
    "        "
   ]
  },
  {
   "cell_type": "markdown",
   "metadata": {},
   "source": [
    "The following function checks whether a solution is primal feasible."
   ]
  },
  {
   "cell_type": "code",
   "execution_count": 24,
   "metadata": {
    "collapsed": true
   },
   "outputs": [],
   "source": [
    "def isFeasible(x):\n",
    "    if (numpy.dot( numpy.dot(a.transpose(), \n",
    "                             numpy.matrix(x)), numpy.ones(len(K)) ) \n",
    "        > numpy.ones(len(I))).tolist()[0].count(True)>0:\n",
    "        return False\n",
    "    if (numpy.dot(numpy.multiply(r,numpy.matrix(x))[:,0:len(Kl)].transpose(),\n",
    "                  numpy.ones(len(B)))<q).tolist()[0].count(True)>0:\n",
    "        return False\n",
    "    return True"
   ]
  },
  {
   "cell_type": "markdown",
   "metadata": {},
   "source": [
    "The gradient descent along with the heuristic afterwards is implemented as follows."
   ]
  },
  {
   "cell_type": "code",
   "execution_count": 25,
   "metadata": {
    "collapsed": true
   },
   "outputs": [],
   "source": [
    "lam = [ 1 for i in I ]\n",
    "x_prev = [ [0 for k in K ] for b in B ]\n",
    "penalty = [ 1 for i in I ]\n",
    "x_count = [ [ 0 for b in B ] for k in K ]\n",
    "best_dual_sofar = 1e10\n",
    "eta = 0.95\n",
    "step_para = default_step_para = 0.5\n",
    "no_improve_count = 0"
   ]
  },
  {
   "cell_type": "code",
   "execution_count": 26,
   "metadata": {
    "scrolled": false
   },
   "outputs": [
    {
     "ename": "TypeError",
     "evalue": "list indices must be integers, not tuple",
     "output_type": "error",
     "traceback": [
      "\u001b[0;31m---------------------------------------------------------------------------\u001b[0m",
      "\u001b[0;31mTypeError\u001b[0m                                 Traceback (most recent call last)",
      "\u001b[0;32m<ipython-input-26-cb808896038c>\u001b[0m in \u001b[0;36m<module>\u001b[0;34m()\u001b[0m\n\u001b[1;32m      1\u001b[0m \u001b[0;32mfor\u001b[0m \u001b[0mit\u001b[0m \u001b[0;32min\u001b[0m \u001b[0mrange\u001b[0m\u001b[0;34m(\u001b[0m\u001b[0;36m1\u001b[0m\u001b[0;34m,\u001b[0m \u001b[0;36m151\u001b[0m\u001b[0;34m)\u001b[0m\u001b[0;34m:\u001b[0m \u001b[0;31m# k belongs to [1,100]\u001b[0m\u001b[0;34m\u001b[0m\u001b[0m\n\u001b[1;32m      2\u001b[0m \u001b[0;34m\u001b[0m\u001b[0m\n\u001b[0;32m----> 3\u001b[0;31m     \u001b[0mxP3\u001b[0m \u001b[0;34m=\u001b[0m \u001b[0msolveP3\u001b[0m\u001b[0;34m(\u001b[0m\u001b[0mlam\u001b[0m\u001b[0;34m)\u001b[0m\u001b[0;34m\u001b[0m\u001b[0m\n\u001b[0m\u001b[1;32m      4\u001b[0m     \u001b[0mxP2\u001b[0m \u001b[0;34m=\u001b[0m \u001b[0msolveP2\u001b[0m\u001b[0;34m(\u001b[0m\u001b[0mlam\u001b[0m\u001b[0;34m)\u001b[0m\u001b[0;34m\u001b[0m\u001b[0m\n\u001b[1;32m      5\u001b[0m     \u001b[0mx\u001b[0m \u001b[0;34m=\u001b[0m \u001b[0;34m(\u001b[0m\u001b[0mnumpy\u001b[0m\u001b[0;34m.\u001b[0m\u001b[0mmatrix\u001b[0m\u001b[0;34m(\u001b[0m\u001b[0mxP3\u001b[0m\u001b[0;34m)\u001b[0m \u001b[0;34m+\u001b[0m \u001b[0mnumpy\u001b[0m\u001b[0;34m.\u001b[0m\u001b[0mmatrix\u001b[0m\u001b[0;34m(\u001b[0m\u001b[0mxP2\u001b[0m\u001b[0;34m)\u001b[0m\u001b[0;34m)\u001b[0m\u001b[0;34m.\u001b[0m\u001b[0mtolist\u001b[0m\u001b[0;34m(\u001b[0m\u001b[0;34m)\u001b[0m\u001b[0;34m\u001b[0m\u001b[0m\n",
      "\u001b[0;32m<ipython-input-21-46eaff76a0ab>\u001b[0m in \u001b[0;36msolveP3\u001b[0;34m(lam)\u001b[0m\n\u001b[1;32m     23\u001b[0m \u001b[0;34m\u001b[0m\u001b[0m\n\u001b[1;32m     24\u001b[0m     \u001b[0;31m# set objective function\u001b[0m\u001b[0;34m\u001b[0m\u001b[0;34m\u001b[0m\u001b[0m\n\u001b[0;32m---> 25\u001b[0;31m     \u001b[0malpha\u001b[0m \u001b[0;34m=\u001b[0m \u001b[0mgetAlpha\u001b[0m\u001b[0;34m(\u001b[0m\u001b[0mlam\u001b[0m\u001b[0;34m)\u001b[0m\u001b[0;34m\u001b[0m\u001b[0m\n\u001b[0m\u001b[1;32m     26\u001b[0m     modelKl.setObjective(\n\u001b[1;32m     27\u001b[0m         \u001b[0msum\u001b[0m\u001b[0;34m(\u001b[0m \u001b[0malpha\u001b[0m\u001b[0;34m[\u001b[0m\u001b[0mb\u001b[0m\u001b[0;34m]\u001b[0m\u001b[0;34m*\u001b[0m\u001b[0mxP3\u001b[0m\u001b[0;34m[\u001b[0m\u001b[0mb\u001b[0m\u001b[0;34m]\u001b[0m\u001b[0;34m[\u001b[0m\u001b[0mk\u001b[0m\u001b[0;34m]\u001b[0m \u001b[0;32mfor\u001b[0m \u001b[0mk\u001b[0m \u001b[0;32min\u001b[0m \u001b[0mKl\u001b[0m \u001b[0;32mfor\u001b[0m \u001b[0mb\u001b[0m \u001b[0;32min\u001b[0m \u001b[0mB\u001b[0m \u001b[0;34m)\u001b[0m\u001b[0;34m\u001b[0m\u001b[0m\n",
      "\u001b[0;32m<ipython-input-19-020a6b03628e>\u001b[0m in \u001b[0;36mgetAlpha\u001b[0;34m(lam)\u001b[0m\n\u001b[1;32m      2\u001b[0m     \u001b[0malpha\u001b[0m\u001b[0;34m=\u001b[0m\u001b[0;34m[\u001b[0m\u001b[0;34m]\u001b[0m\u001b[0;34m\u001b[0m\u001b[0m\n\u001b[1;32m      3\u001b[0m     \u001b[0;32mfor\u001b[0m \u001b[0mb\u001b[0m \u001b[0;32min\u001b[0m \u001b[0mB\u001b[0m\u001b[0;34m:\u001b[0m\u001b[0;34m\u001b[0m\u001b[0m\n\u001b[0;32m----> 4\u001b[0;31m         \u001b[0malpha_b\u001b[0m \u001b[0;34m=\u001b[0m \u001b[0msum\u001b[0m\u001b[0;34m(\u001b[0m \u001b[0mlam\u001b[0m\u001b[0;34m[\u001b[0m\u001b[0mi\u001b[0m\u001b[0;34m]\u001b[0m\u001b[0;34m*\u001b[0m\u001b[0ma\u001b[0m\u001b[0;34m[\u001b[0m\u001b[0mb\u001b[0m\u001b[0;34m,\u001b[0m\u001b[0mi\u001b[0m\u001b[0;34m]\u001b[0m \u001b[0;32mfor\u001b[0m \u001b[0mi\u001b[0m \u001b[0;32min\u001b[0m \u001b[0mI\u001b[0m \u001b[0;34m)\u001b[0m\u001b[0;34m\u001b[0m\u001b[0m\n\u001b[0m\u001b[1;32m      5\u001b[0m         \u001b[0malpha\u001b[0m\u001b[0;34m.\u001b[0m\u001b[0mappend\u001b[0m\u001b[0;34m(\u001b[0m\u001b[0malpha_b\u001b[0m\u001b[0;34m)\u001b[0m\u001b[0;34m\u001b[0m\u001b[0m\n\u001b[1;32m      6\u001b[0m     \u001b[0;32mreturn\u001b[0m \u001b[0malpha\u001b[0m\u001b[0;34m\u001b[0m\u001b[0m\n",
      "\u001b[0;32m<ipython-input-19-020a6b03628e>\u001b[0m in \u001b[0;36m<genexpr>\u001b[0;34m((i,))\u001b[0m\n\u001b[1;32m      2\u001b[0m     \u001b[0malpha\u001b[0m\u001b[0;34m=\u001b[0m\u001b[0;34m[\u001b[0m\u001b[0;34m]\u001b[0m\u001b[0;34m\u001b[0m\u001b[0m\n\u001b[1;32m      3\u001b[0m     \u001b[0;32mfor\u001b[0m \u001b[0mb\u001b[0m \u001b[0;32min\u001b[0m \u001b[0mB\u001b[0m\u001b[0;34m:\u001b[0m\u001b[0;34m\u001b[0m\u001b[0m\n\u001b[0;32m----> 4\u001b[0;31m         \u001b[0malpha_b\u001b[0m \u001b[0;34m=\u001b[0m \u001b[0msum\u001b[0m\u001b[0;34m(\u001b[0m \u001b[0mlam\u001b[0m\u001b[0;34m[\u001b[0m\u001b[0mi\u001b[0m\u001b[0;34m]\u001b[0m\u001b[0;34m*\u001b[0m\u001b[0ma\u001b[0m\u001b[0;34m[\u001b[0m\u001b[0mb\u001b[0m\u001b[0;34m,\u001b[0m\u001b[0mi\u001b[0m\u001b[0;34m]\u001b[0m \u001b[0;32mfor\u001b[0m \u001b[0mi\u001b[0m \u001b[0;32min\u001b[0m \u001b[0mI\u001b[0m \u001b[0;34m)\u001b[0m\u001b[0;34m\u001b[0m\u001b[0m\n\u001b[0m\u001b[1;32m      5\u001b[0m         \u001b[0malpha\u001b[0m\u001b[0;34m.\u001b[0m\u001b[0mappend\u001b[0m\u001b[0;34m(\u001b[0m\u001b[0malpha_b\u001b[0m\u001b[0;34m)\u001b[0m\u001b[0;34m\u001b[0m\u001b[0m\n\u001b[1;32m      6\u001b[0m     \u001b[0;32mreturn\u001b[0m \u001b[0malpha\u001b[0m\u001b[0;34m\u001b[0m\u001b[0m\n",
      "\u001b[0;31mTypeError\u001b[0m: list indices must be integers, not tuple"
     ]
    }
   ],
   "source": [
    "for it in range(1, 151): # k belongs to [1,100]\n",
    "    \n",
    "    xP3 = solveP3(lam)\n",
    "    xP2 = solveP2(lam)\n",
    "    x = (numpy.matrix(xP3) + numpy.matrix(xKc)).tolist() \n",
    "    \n",
    "    \n",
    "    # obtain the corresponding dual function value under current lambda\n",
    "    \n",
    "    dual = sum(r[b][k]*x[b][k] for k in Kc for b in B) + sum( lam[i]*(1-sum(a[b][i]*x[b][k] for k in K for b in B)) for i in I)\n",
    "    if dual < best_dual_sofar + 0.005:\n",
    "        no_improve_count = 0\n",
    "        best_dual_sofar = dual\n",
    "        step_para = min(step_para*1.05, 1.9)\n",
    "    else:\n",
    "        no_improve_count += 1\n",
    "        \n",
    "    if no_improve_count >=2:\n",
    "        step_para = 0.95*step_para\n",
    "        no_improve_count = 0\n",
    "    \n",
    "    gamma = abs(dual - 2107*0.9)\n",
    "    gk = numpy.linalg.norm(penalty, 2)**2\n",
    "    \n",
    "    if it<5:\n",
    "        step_len = 10/float(it**0.5)\n",
    "    else:\n",
    "        step_len = step_para*gamma/gk\n",
    "    \n",
    "    penalty = (numpy.ones(len(I))- numpy.dot( numpy.dot(numpy.matrix(a).transpose(), numpy.matrix(x)), numpy.ones(len(K)))).tolist()[0]\n",
    "    lam = map(lambda y:max(y,0), (numpy.matrix(lam) - step_len*numpy.matrix(penalty)).tolist()[0])\n",
    "\n",
    "    x_count = (numpy.matrix(x_count) + numpy.matrix(x).transpose()).tolist()    \n",
    "    \n",
    "    print 'iteration', it, 'step length=', step_len, 'dual=', best_dual_sofar, 'step_para=', step_para"
   ]
  },
  {
   "cell_type": "code",
   "execution_count": null,
   "metadata": {
    "collapsed": true
   },
   "outputs": [],
   "source": [
    "best = 0\n",
    "x_count2 = numpy.multiply(numpy.matrix(lp_x).transpose(), numpy.matrix(x_count)).tolist()\n",
    "print 'calculating final solution ... '\n",
    "for i in range(400):\n",
    "    heuristic_x = getHeuristicX2(lam, x_count) \n",
    "    curr = sum(r[b,k]*heuristic_x[b][k] for k in Kc for b in B)\n",
    "    if curr > best:\n",
    "        best = curr\n",
    "print 'feasibility=', isFeasible(heuristic_x), '\\n best obj=', best"
   ]
  },
  {
   "cell_type": "code",
   "execution_count": null,
   "metadata": {
    "collapsed": true
   },
   "outputs": [],
   "source": [
    "# import pandas\n",
    "# heuristic_x = getHeuristicX2(lam, x_count) \n",
    "# print 'allocated blocks number:', [ sum(numpy.matrix(heuristic_x).transpose()[k].tolist()[0]) for k in K ], 'obj=', sum(r[b][k]*heuristic_x[b][k] for k in Kc for b in B)\n",
    "# indices = [ [ [i,k] for i,x in enumerate(numpy.matrix(heuristic_x)[:,k].transpose().tolist()[0]) if x==1 ] for k in K]\n",
    "# pandas.DataFrame(indices)"
   ]
  }
 ],
 "metadata": {
  "kernelspec": {
   "display_name": "Python 2",
   "language": "python",
   "name": "python2"
  },
  "language_info": {
   "codemirror_mode": {
    "name": "ipython",
    "version": 2
   },
   "file_extension": ".py",
   "mimetype": "text/x-python",
   "name": "python",
   "nbconvert_exporter": "python",
   "pygments_lexer": "ipython2",
   "version": "2.7.13"
  }
 },
 "nbformat": 4,
 "nbformat_minor": 2
}

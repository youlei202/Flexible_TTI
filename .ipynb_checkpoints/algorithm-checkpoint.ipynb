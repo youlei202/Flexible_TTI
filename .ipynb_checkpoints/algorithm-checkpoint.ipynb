{
 "cells": [
  {
   "cell_type": "markdown",
   "metadata": {
    "collapsed": true
   },
   "source": [
    "# Algorithm Implementation\n",
    "\n",
    "by [Lei You](http://user.it.uu.se/~leiyo378)"
   ]
  },
  {
   "cell_type": "markdown",
   "metadata": {},
   "source": [
    "In this document, we solve the flexible TTI allocation problem to optimum, by using our proposed algorithm. The formulation of the original problem is as below."
   ]
  },
  {
   "cell_type": "markdown",
   "metadata": {},
   "source": [
    "$$\n",
    "\\begin{align}\n",
    "\\max_{\\mathbf{x}} \\quad & \\sum_{b\\in\\mathcal{B}}\\sum_{k\\in\\mathcal{K}^{(c)}} r_{b,k}x_{b,k} \\\\\n",
    "s.t. \\quad & \\sum_{b\\in\\mathcal{B}}r_{b,k}x_{b,k}\\geq q_{k} \\quad k\\in\\mathcal{K}^{(\\ell)} \\\\\n",
    "           & \\sum_{b\\in\\mathcal{B}}\\sum_{k\\in\\mathcal{K}}a_{b,i}x_{b,k}\\leq 1 \\quad i\\in\\mathcal{I} \\\\\n",
    "           & x_{b,k}\\in\\{0,1\\}\\quad b\\in\\mathcal{B},~k\\in\\mathcal{K}\n",
    "\\end{align}\n",
    "$$"
   ]
  },
  {
   "cell_type": "markdown",
   "metadata": {},
   "source": [
    "We have $x_{b,k}=1$ if and only if physical resource block (PRB) $b$ is allocated to service $k$."
   ]
  },
  {
   "cell_type": "markdown",
   "metadata": {},
   "source": [
    "Recall that $\\tau_k$ is the maximum tolerant latency of service $k$, and $d_b$ is the end time of the PRB $b$. The constraints for the latency is imposed, by letting $r_{b,k}$ follow the rule:\n",
    "$$\n",
    "r_{b,k}=\\left\\{\n",
    "\\begin{array}{ll}\n",
    "0 & \\text{if } \\tau_k-d_b<0 \\\\\n",
    "\\text{capacity} & \\text{otherwise}\n",
    "\\end{array}\n",
    "\\right.\n",
    "$$"
   ]
  },
  {
   "cell_type": "markdown",
   "metadata": {},
   "source": [
    "Here we go."
   ]
  },
  {
   "cell_type": "code",
   "execution_count": 112,
   "metadata": {
    "collapsed": true
   },
   "outputs": [],
   "source": [
    "import sys\n",
    "import scipy.io\n",
    "import numpy\n",
    "import math\n",
    "import csv\n",
    "from operator import add\n",
    "\n",
    "from gurobipy import *\n",
    "\n",
    "# set the directory path\n",
    "import os\n",
    "folder_name = os.getcwd()\n",
    "\n",
    "epsilon = 10e-6\n",
    "\n",
    "import time"
   ]
  },
  {
   "cell_type": "markdown",
   "metadata": {},
   "source": [
    "The sets $\\mathcal{B}$, $\\mathcal{K}^{(\\ell)}$, $\\mathcal{K}^{(c)}$, $\\mathcal{K}$, and $\\mathcal{I}$ are read by the following code."
   ]
  },
  {
   "cell_type": "code",
   "execution_count": 113,
   "metadata": {
    "collapsed": true
   },
   "outputs": [],
   "source": [
    "# # set of physical layer blocks (PRBs)\n",
    "with open('B.csv', 'rb') as f:\n",
    "    B_csv = csv.reader(f)\n",
    "    B = list(B_csv)\n",
    "    B = [item for sublist in B for item in sublist] # flatten list\n",
    "    B = map(int, map(float, B)) # convert to int\n",
    "    \n",
    "# # set of latency services    \n",
    "with open('Kl.csv', 'rb') as f:\n",
    "    Kl_csv = csv.reader(f)\n",
    "    Kl = list(Kl_csv)\n",
    "    Kl = [item for sublist in Kl for item in sublist] # flatten list\n",
    "    Kl = map(int, map(float, Kl)) # convert to int\n",
    "    \n",
    "# # set of capacity services    \n",
    "with open('Kc.csv', 'rb') as f:\n",
    "    Kc_csv = csv.reader(f)\n",
    "    Kc = list(Kc_csv)\n",
    "    Kc = [item for sublist in Kc for item in sublist] # flatten list\n",
    "    Kc = map(int, map(float, Kc)) # convert to int\n",
    "    \n",
    "# # set of all services\n",
    "K = Kl + Kc\n",
    "\n",
    "# # set of resource units (RUs)\n",
    "with open('I.csv', 'rb') as f:\n",
    "    I_csv = csv.reader(f)\n",
    "    I = list(I_csv)\n",
    "    I = [item for sublist in I for item in sublist] # flatten list\n",
    "    I = map(int, map(float, I)) # convert to int"
   ]
  },
  {
   "cell_type": "markdown",
   "metadata": {},
   "source": [
    "The parameters $\\mathbf{r}$, $\\mathbf{q}$, and $\\mathbf{a}$ are read below."
   ]
  },
  {
   "cell_type": "code",
   "execution_count": 114,
   "metadata": {
    "collapsed": true
   },
   "outputs": [],
   "source": [
    "# # matrix r\n",
    "with open('r.csv', 'rb') as f:\n",
    "    r_csv = csv.reader(f)\n",
    "    r = list(r_csv)\n",
    "    r = [ map(int,map(float,x)) for x in r] # convert to int\n",
    "\n",
    "# # vector q, only for Kl\n",
    "with open('q.csv', 'rb') as f:\n",
    "    q_csv = csv.reader(f)\n",
    "    q = list(q_csv)\n",
    "    q = [item for sublist in q for item in sublist] # flatten list\n",
    "    q = map(int, map(float, q)) # convert to int\n",
    "    \n",
    "# # matrix a\n",
    "with open('a.csv', 'rb') as f:\n",
    "    a_csv = csv.reader(f)\n",
    "    a = list(a_csv)\n",
    "    a = [ map(int,map(float,x)) for x in a] # convert to int"
   ]
  },
  {
   "cell_type": "markdown",
   "metadata": {},
   "source": [
    "The following code reads the overlapping relationship between any two PRBs."
   ]
  },
  {
   "cell_type": "code",
   "execution_count": 115,
   "metadata": {
    "collapsed": true
   },
   "outputs": [],
   "source": [
    "# if conflict_PRBs[b1][b2] == True, then the PRBs b1 b2 cannot be used simultaneously\n",
    "with open('conflict_PRB.csv', 'rb') as f:\n",
    "    conflict_PRB_csv = csv.reader(f)\n",
    "    conflict_PRB = list(conflict_PRB_csv)\n",
    "    conflict_PRB = [ map(lambda y: int(float(y))==1, x) for x in conflict_PRB]"
   ]
  },
  {
   "cell_type": "markdown",
   "metadata": {},
   "source": [
    "The original problem is relaxed by Lagrangian with $\\mathbf{\\lambda}>\\mathbf{0}$:"
   ]
  },
  {
   "cell_type": "markdown",
   "metadata": {},
   "source": [
    "The Lagrangian is as follows."
   ]
  },
  {
   "cell_type": "markdown",
   "metadata": {},
   "source": [
    "$$\n",
    "\\begin{align}\n",
    "g(\\mathbf{\\lambda})=\\max_{\\mathbf{x}} \\quad & \\sum_{b\\in\\mathcal{B}}\\sum_{k\\in\\mathcal{K}^{(c)}} r_{b,k}x_{b,k} + \\sum_{i\\in\\mathcal{I}}\\lambda_i(1-\\sum_{b\\in\\mathcal{B}}\\sum_{k\\in\\mathcal{K}}a_{b,i}x_{b,k})\\\\\n",
    "s.t. \\quad & \\sum_{b\\in\\mathcal{B}}r_{b,k}x_{b,k}\\geq q_{k} \\quad k\\in\\mathcal{K}^{(\\ell)} \\\\\n",
    "           & x_{b,k}\\in\\{0,1\\}\\quad b\\in\\mathcal{B},~k\\in\\mathcal{K}\n",
    "\\end{align}\n",
    "$$"
   ]
  },
  {
   "cell_type": "markdown",
   "metadata": {},
   "source": [
    "For any fixed $\\mathbf{\\lambda}$, the orginal problem decomposes to two problems in respect of $\\mathcal{K}^{(c)}$ and $\\mathcal{K}^{(\\ell)}$. For the sake of presentation, we denote \n",
    "$$\\alpha_b = \\sum_{i\\in\\mathcal{I}}\\lambda_i a_{b,i}$$ "
   ]
  },
  {
   "cell_type": "code",
   "execution_count": 117,
   "metadata": {
    "collapsed": true
   },
   "outputs": [],
   "source": [
    "def getAlpha(lam):\n",
    "    alpha=[]\n",
    "    for b in B:\n",
    "        alpha_b = sum( lam[i]*a[b][i] for i in I ) \n",
    "        alpha.append(alpha_b)\n",
    "    return alpha"
   ]
  },
  {
   "cell_type": "markdown",
   "metadata": {},
   "source": [
    "For $\\mathcal{K}^{(c)}$, the problem is as follows.\n",
    "$$\n",
    "\\begin{align}\n",
    "\\max_{\\mathbf{x}} \\quad & \\sum_{b\\in\\mathcal{B}}\\sum_{k\\in\\mathcal{K}^{(c)}} r_{b,k}x_{b,k} - \\sum_{b\\in\\mathcal{B}}\\sum_{k\\in\\mathcal{K}^{(c)}}\\alpha_{b}x_{b,k}\\\\\n",
    "s.t. \\quad & x_{b,k}\\in\\{0,1\\}\\quad b\\in\\mathcal{B},~k\\in\\mathcal{K}^{(c)}\n",
    "\\end{align}\n",
    "$$\n",
    "\n",
    "In the above formulation, it might happen that one PRB is allocated to multiple services simultaneously, which definitely leads to PRB overlap. Therefore we add an extra constraint such that the problem becomes:\n",
    "$$\n",
    "\\begin{align}\n",
    "\\max_{\\mathbf{x}} \\quad & \\sum_{b\\in\\mathcal{B}}\\sum_{k\\in\\mathcal{K}^{(c)}}x_{b,k}( r_{b,k} - \\alpha_{b})\\\\\n",
    "% s.t. \\quad & \\sum_{k\\in\\mathcal{K}^{(c)}}x_{b,k}\\leq 1 \\quad b\\in\\mathcal{B} \\\\\n",
    "           & x_{b,k}\\in\\{0,1\\}\\quad b\\in\\mathcal{B},~k\\in\\mathcal{K}^{(c)}\n",
    "\\end{align}\n",
    "$$\n",
    "\n",
    "It can be optimally solved by:\n",
    "For each $b\\in\\mathcal{B}$, we select one $k$, such that.\n",
    "$\n",
    "r_{b,k}-\\alpha_b > 0 \\text{ and } k = \\arg\\max_{k\\in\\mathcal{K}^{(c)}} r_{b,k}-\\alpha_b\n",
    "$.\n",
    "The corresponding code is as follows."
   ]
  },
  {
   "cell_type": "code",
   "execution_count": 118,
   "metadata": {
    "collapsed": true
   },
   "outputs": [],
   "source": [
    "# The argument lam is lambda\n",
    "# The function returns matrix x, with only columns in Kc being computed.\n",
    "# The columns in Kl of the returned matrix x are zero vectors.\n",
    "def solveP2( lam ):\n",
    "    PRB_alloc = [ -1 for b in B ] # PRB_alloc[b] is the index of service that PRB b should be allocated to\n",
    "                                  # PRB_alloc[b]=-1 means that PRB b is not allocated\n",
    "        \n",
    "    sol_x = [ [ 0 for k in K ] for b in B ] # variables to be returned\n",
    "    \n",
    "    alpha = getAlpha(lam)\n",
    "    for b in B:\n",
    "        tmp_list = [ r[b][k]-alpha[b] for k in Kc ]\n",
    "        if max(tmp_list) > 0:   # PRB is allocated only if r[b][k]-alpha[b] is positive\n",
    "            PRB_alloc[b] = len(Kl) + numpy.argmax(tmp_list) # Kl is added such that the value of PRB_alloc[b] is \n",
    "                                                       # coherent with the corresponding indexed position in K\n",
    "    \n",
    "    # Convert PRB_alloc to matrix x\n",
    "    for b in B:\n",
    "        k = PRB_alloc[b] # indexed service\n",
    "        if k >= 0: # indicating that PRB_alloc[b] != -1\n",
    "            sol_x[b][k] = 1\n",
    "    \n",
    "    return sol_x"
   ]
  },
  {
   "cell_type": "markdown",
   "metadata": {},
   "source": [
    "For $\\mathcal{K}^{(\\ell)}$, we have the problem below.\n",
    "$$\n",
    "\\begin{align}\n",
    "\\min_{\\mathbf{x}} \\quad &  \\sum_{b\\in\\mathcal{B}}\\sum_{k\\in\\mathcal{K}^{(\\ell)}}\\alpha_{b}x_{b,k}\\\\\n",
    "s.t. \\quad & \\sum_{b\\in\\mathcal{B}}r_{b,k}x_{b,k}\\geq q_{k} \\quad k\\in\\mathcal{K}^{(\\ell)} \\\\\n",
    "           & x_{b,k}\\in\\{0,1\\}\\quad b\\in\\mathcal{B},~k\\in\\mathcal{K}^{(\\ell)}\n",
    "\\end{align}\n",
    "$$\n",
    "\n",
    "The problem can decomposed to $|\\mathcal{K}^{(\\ell)}|$ knapsack problems and be optimally solved by dynamic programming. "
   ]
  },
  {
   "cell_type": "markdown",
   "metadata": {},
   "source": [
    "For $k\\in\\mathcal{K}^{(\\ell)}$:\n",
    "$$\n",
    "\\begin{align}\n",
    "\\min_{\\mathbf{x}} \\quad &  \\sum_{b\\in\\mathcal{B}}\\alpha_{b}x_{b,k}\\\\\n",
    "s.t. \\quad & \\sum_{b\\in\\mathcal{B}}r_{b,k}x_{b,k}\\geq q_{k}  \\\\\n",
    "           & x_{b,k}\\in\\{0,1\\}\\quad b\\in\\mathcal{B}\n",
    "\\end{align}\n",
    "$$"
   ]
  },
  {
   "cell_type": "markdown",
   "metadata": {},
   "source": [
    "Though the multiple knapsack problem can still be exactly solved by dynamic programming, here we use gurobi integer programming solver instead, without loss of optimality."
   ]
  },
  {
   "cell_type": "code",
   "execution_count": 119,
   "metadata": {
    "collapsed": true
   },
   "outputs": [],
   "source": [
    "# The argument lam is lambda\n",
    "# The function returns matrix x, with only columns in Kl being computed.\n",
    "# The columns in Kc of the returned matrix x are zero vectors.\n",
    "def solveP3( lam ):\n",
    "    # create optimization model\n",
    "    modelKl = Model('Integer Programming - Kl')\n",
    "    modelKl.modelSense = GRB.MINIMIZE\n",
    "    modelKl.setParam('OutputFlag', False) # slience output\n",
    "    \n",
    "    # create varialbes for modelKl:\n",
    "    xKl = []\n",
    "    for b in B:\n",
    "        xKl_b = []\n",
    "        for k in Kl:\n",
    "            xKl_b.append(modelKl.addVar(vtype=GRB.BINARY))\n",
    "        xKl.append(xKl_b)\n",
    "    modelKl.update()\n",
    "    \n",
    "    # add constraints \n",
    "    for k in Kl:\n",
    "        modelKl.addConstr( sum(r[b][k]*xKl[b][k] for b in B) >= q[k] )\n",
    "    modelKl.update()\n",
    "\n",
    "    # set objective function\n",
    "    alpha = getAlpha(lam)\n",
    "    modelKl.setObjective(\n",
    "        sum( alpha[b]*xKl[b][k] for k in Kl for b in B )\n",
    "    )\n",
    "    \n",
    "    # solve modelKl\n",
    "    modelKl.optimize()\n",
    "    \n",
    "    # construct variables to be returned \n",
    "    sol_x = [ [ 0 for k in K ] for b in B ]\n",
    "    for b in B:\n",
    "        for k in Kl:\n",
    "            sol_x[b][k] = int(xKl[b][k].x)\n",
    "            \n",
    "    return sol_x"
   ]
  },
  {
   "cell_type": "markdown",
   "metadata": {},
   "source": [
    "The solutions obtained by $\\texttt{solveP2}$ and $\\texttt{solveP3}$ can be merged to obtain the value of Lagrangian Dual function, by:"
   ]
  },
  {
   "cell_type": "markdown",
   "metadata": {},
   "source": [
    "Next, we use subgradient descent method to solve the Lagrangian Dual problem, i.e., $\\min_{\\mathbf{\\lambda}\\geq\\mathbf{0}} g(\\mathbf{\\lambda})$. After the completion of the gradient descent method, the obtained solution is not guaranteed to be feasible to the primal problem. The heuristic method to obtain a feasible solution is as follows: All PRBs allocation for $\\mathcal{K}^{(\\ell)}$ is kept so as to guarantee the latency constraints being satisfied. Then we solve $\\mathcal{K}^{(c)}$ under the current lambda and fixed $\\mathcal{K}^{(\\ell)}$ solutions.\n",
    "\n",
    "To achieve this goal, we need to implement a new function that solves Kc with some PRB allocations being fixed:"
   ]
  },
  {
   "cell_type": "code",
   "execution_count": 130,
   "metadata": {
    "collapsed": true
   },
   "outputs": [],
   "source": [
    "def assignBlockLD(lam, x_count):\n",
    "    priority = [ [i[0] for i in sorted(enumerate(x_count[k]), key=lambda y:y[1],reverse=True)] for k in K ]\n",
    "    \n",
    "    best = -1\n",
    "    sol_x_best = []\n",
    "    for i in range(400):\n",
    "        sol_x = [ [ 0 for k in K ] for b in B ] # variables to be returned\n",
    "        collision = [ False for b in B ]\n",
    "\n",
    "        Kl_rand = numpy.random.permutation(Kl)\n",
    "        Kc_rand = numpy.random.permutation(Kc)\n",
    "        B_rand = numpy.random.permutation(B)\n",
    "\n",
    "        for k in Kl_rand:\n",
    "            service_bit = sum(r[b][k]*sol_x[b][k] for b in B)\n",
    "            while service_bit < q[k] and collision.count(False)>0: \n",
    "                for pos in range(len(priority[k])):\n",
    "                    b = priority[k][pos]\n",
    "                    if collision[b] == False: \n",
    "                        sol_x[b][k] = 1\n",
    "                        service_bit += r[b][k]*sol_x[b][k]\n",
    "                        for p in B: # set all PRB overlapping with b to be in collision\n",
    "                            if conflict_PRB[b][p] == True:\n",
    "                                collision[p] = True\n",
    "                        break\n",
    "\n",
    "        alpha = getAlpha(lam)\n",
    "        for b in B_rand:\n",
    "            alloc = True\n",
    "            if collision[b]==True: # b wouldn't be allocated if in collision\n",
    "                alloc = False \n",
    "            if alloc == True: \n",
    "                tmp_list = [ r[b][k]-alpha[b] for k in Kc ]\n",
    "                user_to_alloc = len(Kl) + numpy.argmax(tmp_list) \n",
    "                sol_x[b][user_to_alloc] = 1\n",
    "                for p in B: # set all PRB overlapping with b to be in collision\n",
    "                    if conflict_PRB[b][p] == True:\n",
    "                        collision[p] = True\n",
    "                        \n",
    "        curr = sum(r[b][k]*sol_x[b][k] for k in Kc for b in B)\n",
    "        if curr > best:\n",
    "            best = curr\n",
    "            sol_x_best = sol_x\n",
    "                    \n",
    "    return sol_x_best"
   ]
  },
  {
   "cell_type": "code",
   "execution_count": 129,
   "metadata": {},
   "outputs": [],
   "source": [
    "def assignBlockLP(x_count):\n",
    "    sol_x = [ [ 0 for k in K ] for b in B ]\n",
    "    collision = [ False for b in B ]\n",
    "    priority = [ [i[0] for i in sorted(enumerate(x_count[k]), key=lambda y:y[1],reverse=True)] for k in K ]\n",
    "    best_sol = [];\n",
    "    \n",
    "    best = -1\n",
    "    for k in range(400):\n",
    "        Kl_rand = numpy.random.permutation(Kl)\n",
    "        Kc_rand = numpy.random.permutation(Kc)\n",
    "        B_rand = numpy.random.permutation(B)\n",
    "\n",
    "        for k in Kl_rand:\n",
    "            service_bit = sum(r[b][k]*sol_x[b][k] for b in B)\n",
    "            while service_bit < q[k] and collision.count(False)>0: \n",
    "                for pos in range(len(priority[k])):\n",
    "                    b = priority[k][pos]\n",
    "                    if collision[b] == False: \n",
    "                        sol_x[b][k] = 1\n",
    "                        service_bit += r[b][k]*sol_x[b][k]\n",
    "                        for p in B: # set all PRB overlapping with b to be in collision\n",
    "                            if conflict_PRB[b][p] == True:\n",
    "                                collision[p] = True\n",
    "                        break\n",
    "                \n",
    "        for k in Kc_rand:\n",
    "            for b in B_rand:\n",
    "                if collision[b] == False and x_count[k][b] >= 0.5:\n",
    "                    sol_x[b][k]=1\n",
    "                    for p in B:\n",
    "                        if conflict_PRB[b][p] == True:\n",
    "                            collision[p] = True\n",
    "\n",
    "        while collision.count(False)>0:\n",
    "            for k in Kc_rand:\n",
    "                for pos in range(len(priority[k])):\n",
    "                    b = priority[k][pos]\n",
    "                    if collision[b] == False:\n",
    "                        sol_x[b][k] = 1\n",
    "                        for p in B:\n",
    "                            if conflict_PRB[b][p] == True:\n",
    "                                collision[p] = True\n",
    "                        break\n",
    "\n",
    "        obj = sum( r[b][k]*int(sol_x[b][k]) for k in Kc for b in B )\n",
    "        if obj > best:\n",
    "            best = obj\n",
    "            best_sol = sol_x\n",
    "\n",
    "    return best_sol"
   ]
  },
  {
   "cell_type": "markdown",
   "metadata": {},
   "source": [
    "The following function checks whether a solution is primal feasible."
   ]
  },
  {
   "cell_type": "code",
   "execution_count": 122,
   "metadata": {
    "collapsed": true
   },
   "outputs": [],
   "source": [
    "def isFeasible(x):\n",
    "    if (numpy.dot( numpy.dot(numpy.matrix(a).transpose(), \n",
    "                             numpy.matrix(x)), numpy.ones(len(K)) ) \n",
    "        > numpy.ones(len(I))).tolist()[0].count(True)>0:\n",
    "        return False\n",
    "    if (numpy.dot(numpy.multiply(numpy.matrix(r),numpy.matrix(x))[:,0:len(Kl)].transpose(),\n",
    "                  numpy.ones(len(B)))<numpy.matrix(q)).tolist()[0].count(True)>0:\n",
    "        return False\n",
    "    return True"
   ]
  },
  {
   "cell_type": "markdown",
   "metadata": {},
   "source": [
    "The gradient descent along with the heuristic afterwards is implemented as follows."
   ]
  },
  {
   "cell_type": "code",
   "execution_count": 123,
   "metadata": {
    "collapsed": true
   },
   "outputs": [],
   "source": [
    "def LPBased(rho):\n",
    "    model = Model('Linear Programming')\n",
    "    model.modelSense = GRB.MAXIMIZE\n",
    "    model.setParam('OutputFlag', False) # slience output\n",
    "\n",
    "    x = []\n",
    "    for b in B:\n",
    "        x_b = []\n",
    "        for k in K:\n",
    "            x_b.append(model.addVar(vtype=GRB.CONTINUOUS, lb=0, ub=1))\n",
    "        x.append(x_b)\n",
    "\n",
    "    model.update()\n",
    "\n",
    "    for k in Kl:\n",
    "        model.addConstr( sum(r[b][k]*x[b][k] for b in B) >= q[k] )\n",
    "    model.update()\n",
    "\n",
    "    for i in I:\n",
    "        model.addConstr( sum(a[b][i]*x[b][k] for k in K for b in B ) <= 1 )\n",
    "    model.update()\n",
    "\n",
    "    model.setObjective(\n",
    "        sum( r[b][k]*x[b][k] for k in Kc for b in B )\n",
    "    )\n",
    "\n",
    "    model.optimize()\n",
    "    \n",
    "    x_count = [ [ x[b][k].x for b in B] for k in K ]\n",
    "    for b in B:\n",
    "        for k in K:\n",
    "            if x[b][k].x < rho:\n",
    "                x_count[k][b] = 0\n",
    "    \n",
    "    return x_count"
   ]
  },
  {
   "cell_type": "code",
   "execution_count": 124,
   "metadata": {
    "collapsed": true,
    "scrolled": false
   },
   "outputs": [],
   "source": [
    "def LDBased(M, varphi, beta, gamma):\n",
    "    start_time = time.time()\n",
    "    x_count_LP = LPBased(0)\n",
    "    x_LP = assignBlockLP(x_count_LP)\n",
    "    obj_LP =  sum(r[b][k]*x_LP[b][k] for k in Kc for b in B)\n",
    "    \n",
    "    lam = [1 for i in I]\n",
    "    x_prev = [ [0 for k in K ] for b in B ]\n",
    "    penalty = [ 1 for i in I ]\n",
    "    x_count = [ [ 0 for b in B ] for k in K ]\n",
    "    best_dual_sofar = 1e10\n",
    "    eta = 0.95\n",
    "    no_improve_count = 0\n",
    "    \n",
    "    for j in range(1, M+1): # k belongs to [1,100]\n",
    "        \n",
    "        xKc = solveP2(lam)\n",
    "        xKl = solveP3(lam)\n",
    "        x = (numpy.matrix(xKl) + numpy.matrix(xKc)).tolist() \n",
    "\n",
    "        # obtain the corresponding dual function value under current lambda\n",
    "\n",
    "        dual = sum(r[b][k]*x[b][k] for k in Kc for b in B) + sum( lam[i]*(1-sum(a[b][i]*x[b][k] for k in K for b in B)) for i in I)\n",
    "        if dual < best_dual_sofar + 0.005:\n",
    "            no_improve_count = 0\n",
    "            best_dual_sofar = dual\n",
    "            gamma = min(gamma*1.05, 1.9)\n",
    "        else:\n",
    "            no_improve_count += 1\n",
    "\n",
    "        if no_improve_count >=1:\n",
    "            gamma = 0.95*gamma\n",
    "            no_improve_count = 0\n",
    "\n",
    "        numurator = abs(dual - obj_LP*beta)\n",
    "        denominator = numpy.linalg.norm(penalty, 2)**2\n",
    "\n",
    "        if j<varphi:\n",
    "            mu = 10/float(j**0.5)\n",
    "        else:\n",
    "            mu = gamma*numurator/denominator\n",
    "\n",
    "        penalty = (numpy.ones(len(I))- numpy.dot( numpy.dot(numpy.matrix(a).transpose(), numpy.matrix(x)), numpy.ones(len(K)))).tolist()[0]\n",
    "        lam = map(lambda y:max(y,0), (numpy.matrix(lam) - mu*numpy.matrix(penalty)).tolist()[0])\n",
    "\n",
    "        x_count = (numpy.matrix(x_count) + numpy.matrix(x).transpose()).tolist()    \n",
    "        \n",
    "        print 'iteration', j, 'step length=', mu, 'dual=', best_dual_sofar, 'gamma=', gamma\n",
    "        \n",
    "    print 'LD upper bound = ', best_dual_sofar\n",
    "    print 'Solving LD costs', time.time()-start_time, 'seconds'\n",
    "    return [lam, x_count]"
   ]
  },
  {
   "cell_type": "code",
   "execution_count": 131,
   "metadata": {
    "scrolled": true
   },
   "outputs": [
    {
     "name": "stdout",
     "output_type": "stream",
     "text": [
      "LP upper bound = 572.97511821\n",
      "calculating final solution (LP)... \n",
      "feasibility= True \n",
      " obj= 0\n"
     ]
    }
   ],
   "source": [
    "x_count_LP = LPBased(0)\n",
    "print 'LP upper bound =', sum(r[b][k]*x_count_LP[k][b] for k in Kc for b in B)\n",
    "print 'calculating final solution (LP)... '\n",
    "x_LP = assignBlockLP(x_count_LP)\n",
    "print 'feasibility=', isFeasible(x_LP), '\\n obj=', sum(r[b][k]*x_LP[b][k] for k in Kc for b in B)"
   ]
  },
  {
   "cell_type": "code",
   "execution_count": 132,
   "metadata": {},
   "outputs": [
    {
     "name": "stdout",
     "output_type": "stream",
     "text": [
      "iteration 1 step length= 10.0 dual= 65900 gamma= 0.525\n",
      "iteration 2 step length= 7.07106781187 dual= 8198.0 gamma= 0.55125\n",
      "iteration 3 step length= 5.7735026919 dual= 6304.33008589 gamma= 0.5788125\n",
      "iteration 4 step length= 5.0 dual= 5454.4194544 gamma= 0.607753125\n",
      "iteration 5 step length= 4.79147340643 dual= 4985.63708095 gamma= 0.63814078125\n",
      "iteration 6 step length= 6.93734842053 dual= 4162.1119874 gamma= 0.670047820313\n",
      "iteration 7 step length= 7.5242750361 dual= 4162.1119874 gamma= 0.636545429297\n",
      "iteration 8 step length= 6.94417766176 dual= 4093.53343668 gamma= 0.668372700762\n",
      "iteration 9 step length= 4.91863559519 dual= 4008.96878734 gamma= 0.7017913358\n",
      "iteration 10 step length= 9.24915039058 dual= 3665.11318798 gamma= 0.73688090259\n",
      "iteration 11 step length= 8.52854349661 dual= 3665.11318798 gamma= 0.70003685746\n",
      "iteration 12 step length= 8.0066304473 dual= 3594.62440061 gamma= 0.735038700333\n",
      "iteration 13 step length= 9.62908677445 dual= 3418.50452099 gamma= 0.77179063535\n",
      "iteration 14 step length= 8.69573141917 dual= 3418.50452099 gamma= 0.733201103582\n",
      "iteration 15 step length= 6.98545534301 dual= 3248.3688576 gamma= 0.769861158762\n",
      "iteration 16 step length= 8.23456696365 dual= 3198.66461159 gamma= 0.8083542167\n",
      "iteration 17 step length= 4.38111556982 dual= 3198.66461159 gamma= 0.767936505865\n",
      "iteration 18 step length= 7.92634876577 dual= 3066.9956448 gamma= 0.806333331158\n",
      "iteration 19 step length= 8.56405874243 dual= 3066.9956448 gamma= 0.7660166646\n",
      "iteration 20 step length= 3.81968669494 dual= 3066.9956448 gamma= 0.72771583137\n",
      "iteration 21 step length= 4.74151031165 dual= 3066.9956448 gamma= 0.691330039802\n",
      "iteration 22 step length= 5.55146550225 dual= 3013.20819423 gamma= 0.725896541792\n",
      "iteration 23 step length= 7.0293003029 dual= 2766.74622276 gamma= 0.762191368881\n",
      "iteration 24 step length= 8.77639900763 dual= 2766.74622276 gamma= 0.724081800437\n",
      "iteration 25 step length= 5.41260384428 dual= 2766.74622276 gamma= 0.687877710415\n",
      "iteration 26 step length= 4.2550539187 dual= 2766.74622276 gamma= 0.653483824895\n",
      "iteration 27 step length= 5.58980610223 dual= 2525.42395619 gamma= 0.686158016139\n",
      "iteration 28 step length= 4.53010952201 dual= 2427.07147468 gamma= 0.720465916946\n",
      "iteration 29 step length= 3.92359535063 dual= 2365.08260743 gamma= 0.756489212794\n",
      "iteration 30 step length= 5.06599880636 dual= 2181.21838982 gamma= 0.794313673433\n",
      "iteration 31 step length= 5.04189765777 dual= 2181.21838982 gamma= 0.754597989762\n",
      "iteration 32 step length= 3.98216980269 dual= 2050.57186746 gamma= 0.79232788925\n",
      "iteration 33 step length= 7.96919871534 dual= 1973.27509486 gamma= 0.831944283712\n",
      "iteration 34 step length= 6.34820229765 dual= 1973.27509486 gamma= 0.790347069526\n",
      "iteration 35 step length= 3.58979088484 dual= 1973.27509486 gamma= 0.75082971605\n",
      "iteration 36 step length= 3.78408861244 dual= 1973.27509486 gamma= 0.713288230248\n",
      "iteration 37 step length= 2.83397509074 dual= 1960.06932234 gamma= 0.74895264176\n",
      "iteration 38 step length= 6.08558027939 dual= 1888.20075164 gamma= 0.786400273848\n",
      "iteration 39 step length= 4.95522553764 dual= 1888.20075164 gamma= 0.747080260156\n",
      "iteration 40 step length= 3.51109806547 dual= 1888.20075164 gamma= 0.709726247148\n",
      "iteration 41 step length= 2.78938948482 dual= 1888.20075164 gamma= 0.67423993479\n",
      "iteration 42 step length= 3.2223704765 dual= 1720.53494859 gamma= 0.70795193153\n",
      "iteration 43 step length= 3.64832385741 dual= 1668.70370481 gamma= 0.743349528106\n",
      "iteration 44 step length= 3.30722842696 dual= 1668.70370481 gamma= 0.706182051701\n",
      "iteration 45 step length= 2.63004066913 dual= 1539.38134502 gamma= 0.741491154286\n",
      "iteration 46 step length= 3.35576435131 dual= 1439.60269 gamma= 0.778565712001\n",
      "iteration 47 step length= 4.61881115037 dual= 1439.60269 gamma= 0.739637426401\n",
      "iteration 48 step length= 2.87037152041 dual= 1439.60269 gamma= 0.70265555508\n",
      "iteration 49 step length= 2.33136027604 dual= 1439.60269 gamma= 0.667522777326\n",
      "iteration 50 step length= 2.20653991254 dual= 1439.60269 gamma= 0.63414663846\n",
      "iteration 51 step length= 3.0969076502 dual= 1386.00732414 gamma= 0.665853970383\n",
      "iteration 52 step length= 2.58283371714 dual= 1386.00732414 gamma= 0.632561271864\n",
      "iteration 53 step length= 2.14310096963 dual= 1386.00732414 gamma= 0.600933208271\n",
      "iteration 54 step length= 1.86735474373 dual= 1319.91566932 gamma= 0.630979868684\n",
      "iteration 55 step length= 2.66828949664 dual= 1240.44884978 gamma= 0.662528862119\n",
      "iteration 56 step length= 2.5164614813 dual= 1240.44884978 gamma= 0.629402419013\n",
      "iteration 57 step length= 2.92359057209 dual= 1238.67358785 gamma= 0.660872539963\n",
      "iteration 58 step length= 2.17665421464 dual= 1238.67358785 gamma= 0.627828912965\n",
      "iteration 59 step length= 2.31928991836 dual= 1238.67358785 gamma= 0.596437467317\n",
      "iteration 60 step length= 2.39838481223 dual= 1171.88791426 gamma= 0.626259340683\n",
      "iteration 61 step length= 1.73979900955 dual= 1171.88791426 gamma= 0.594946373649\n",
      "iteration 62 step length= 2.39521976304 dual= 1127.26383983 gamma= 0.624693692331\n",
      "iteration 63 step length= 2.41618946063 dual= 1127.26383983 gamma= 0.593459007714\n",
      "iteration 64 step length= 1.45644370264 dual= 1127.26383983 gamma= 0.563786057329\n",
      "iteration 65 step length= 1.5285508564 dual= 1127.26383983 gamma= 0.535596754462\n",
      "iteration 66 step length= 1.48984732307 dual= 1117.961841 gamma= 0.562376592185\n",
      "iteration 67 step length= 2.79869792417 dual= 1033.22756613 gamma= 0.590495421795\n",
      "iteration 68 step length= 2.64062375453 dual= 1033.22756613 gamma= 0.560970650705\n",
      "iteration 69 step length= 2.68499586694 dual= 1033.22756613 gamma= 0.53292211817\n",
      "iteration 70 step length= 0.739031230877 dual= 1033.22756613 gamma= 0.506276012261\n",
      "iteration 71 step length= 0.981038283422 dual= 1033.22756613 gamma= 0.480962211648\n",
      "iteration 72 step length= 2.11213814349 dual= 1033.22756613 gamma= 0.456914101066\n",
      "iteration 73 step length= 2.16673548911 dual= 1033.22756613 gamma= 0.434068396012\n",
      "iteration 74 step length= 0.872199377075 dual= 1033.22756613 gamma= 0.412364976212\n",
      "iteration 75 step length= 0.695846717182 dual= 1033.22756613 gamma= 0.391746727401\n",
      "iteration 76 step length= 1.96225624127 dual= 1033.22756613 gamma= 0.372159391031\n",
      "iteration 77 step length= 2.40104079241 dual= 1033.22756613 gamma= 0.35355142148\n",
      "iteration 78 step length= 1.02608217587 dual= 1033.22756613 gamma= 0.335873850406\n",
      "iteration 79 step length= 0.862429446732 dual= 1033.22756613 gamma= 0.319080157885\n",
      "iteration 80 step length= 1.26769725004 dual= 998.919239272 gamma= 0.33503416578\n",
      "iteration 81 step length= 1.49074370271 dual= 983.133674554 gamma= 0.351785874069\n",
      "iteration 82 step length= 2.15974998724 dual= 970.608013646 gamma= 0.369375167772\n",
      "iteration 83 step length= 1.14347346041 dual= 970.608013646 gamma= 0.350906409383\n",
      "iteration 84 step length= 0.56931507776 dual= 970.608013646 gamma= 0.333361088914\n",
      "iteration 85 step length= 0.946596310336 dual= 951.926168318 gamma= 0.35002914336\n",
      "iteration 86 step length= 1.72444350141 dual= 929.010571607 gamma= 0.367530600528\n",
      "iteration 87 step length= 1.77037069258 dual= 929.010571607 gamma= 0.349154070502\n",
      "iteration 88 step length= 1.26791960127 dual= 929.010571607 gamma= 0.331696366976\n",
      "iteration 89 step length= 0.815275747802 dual= 929.010571607 gamma= 0.315111548628\n",
      "iteration 90 step length= 0.831790703977 dual= 900.001990438 gamma= 0.330867126059\n",
      "iteration 91 step length= 1.08177688843 dual= 853.189188231 gamma= 0.347410482362\n",
      "iteration 92 step length= 1.25272917178 dual= 851.680402989 gamma= 0.36478100648\n",
      "iteration 93 step length= 1.3153959095 dual= 851.680402989 gamma= 0.346541956156\n",
      "iteration 94 step length= 0.914401840023 dual= 851.680402989 gamma= 0.329214858348\n",
      "iteration 95 step length= 0.830796664632 dual= 851.680402989 gamma= 0.312754115431\n",
      "iteration 96 step length= 1.14531893173 dual= 816.11237772 gamma= 0.328391821202\n",
      "iteration 97 step length= 1.06361388345 dual= 816.11237772 gamma= 0.311972230142\n",
      "iteration 98 step length= 1.12011822812 dual= 816.11237772 gamma= 0.296373618635\n",
      "iteration 99 step length= 0.823364443088 dual= 816.11237772 gamma= 0.281554937703\n",
      "iteration 100 step length= 0.596303351737 dual= 816.11237772 gamma= 0.267477190818\n",
      "iteration 101 step length= 0.735212043796 dual= 811.518181204 gamma= 0.280851050359\n",
      "iteration 102 step length= 1.02712007736 dual= 780.196298206 gamma= 0.294893602877\n"
     ]
    },
    {
     "name": "stdout",
     "output_type": "stream",
     "text": [
      "iteration 103 step length= 1.36184598562 dual= 780.196298206 gamma= 0.280148922733\n",
      "iteration 104 step length= 0.904300282143 dual= 780.196298206 gamma= 0.266141476597\n",
      "iteration 105 step length= 0.489361044839 dual= 780.196298206 gamma= 0.252834402767\n",
      "iteration 106 step length= 0.535112121726 dual= 780.196298206 gamma= 0.240192682628\n",
      "iteration 107 step length= 0.846663485158 dual= 772.128520024 gamma= 0.25220231676\n",
      "iteration 108 step length= 0.893111167465 dual= 772.128520024 gamma= 0.239592200922\n",
      "iteration 109 step length= 1.03296060574 dual= 772.128520024 gamma= 0.227612590876\n",
      "iteration 110 step length= 0.68785420076 dual= 772.128520024 gamma= 0.216231961332\n",
      "iteration 111 step length= 0.779325038167 dual= 772.128520024 gamma= 0.205420363265\n",
      "iteration 112 step length= 0.530045470074 dual= 772.128520024 gamma= 0.195149345102\n",
      "iteration 113 step length= 0.593873738483 dual= 759.344785527 gamma= 0.204906812357\n",
      "iteration 114 step length= 0.741986799528 dual= 758.705379607 gamma= 0.215152152975\n",
      "iteration 115 step length= 0.501117536516 dual= 758.705379607 gamma= 0.204394545326\n",
      "iteration 116 step length= 0.544302430253 dual= 755.784423169 gamma= 0.214614272593\n",
      "iteration 117 step length= 0.970187241153 dual= 740.51882971 gamma= 0.225344986222\n",
      "iteration 118 step length= 0.600295165023 dual= 740.51882971 gamma= 0.214077736911\n",
      "iteration 119 step length= 0.55069641693 dual= 740.51882971 gamma= 0.203373850066\n",
      "iteration 120 step length= 0.707598419994 dual= 740.51882971 gamma= 0.193205157562\n",
      "iteration 121 step length= 0.801434267226 dual= 740.51882971 gamma= 0.183544899684\n",
      "iteration 122 step length= 0.479384009491 dual= 740.51882971 gamma= 0.1743676547\n",
      "iteration 123 step length= 0.498746773337 dual= 740.51882971 gamma= 0.165649271965\n",
      "iteration 124 step length= 0.525798692686 dual= 737.616287218 gamma= 0.173931735563\n",
      "iteration 125 step length= 0.467272422041 dual= 736.876163689 gamma= 0.182628322341\n",
      "iteration 126 step length= 0.380610750195 dual= 734.387618091 gamma= 0.191759738458\n",
      "iteration 127 step length= 0.610131841932 dual= 721.197014293 gamma= 0.201347725381\n",
      "iteration 128 step length= 0.771217639838 dual= 721.197014293 gamma= 0.191280339112\n",
      "iteration 129 step length= 0.483966767374 dual= 721.197014293 gamma= 0.181716322157\n",
      "iteration 130 step length= 0.54174411397 dual= 721.197014293 gamma= 0.172630506049\n",
      "iteration 131 step length= 0.659069811579 dual= 719.929163983 gamma= 0.181262031351\n",
      "iteration 132 step length= 0.476260074623 dual= 719.929163983 gamma= 0.172198929784\n",
      "iteration 133 step length= 0.46429543931 dual= 719.929163983 gamma= 0.163588983295\n",
      "iteration 134 step length= 0.636284738804 dual= 711.228880076 gamma= 0.171768432459\n",
      "iteration 135 step length= 0.49409011885 dual= 711.228880076 gamma= 0.163180010836\n",
      "iteration 136 step length= 0.398513591473 dual= 711.228880076 gamma= 0.155021010295\n",
      "iteration 137 step length= 0.469003303175 dual= 708.812138935 gamma= 0.162772060809\n",
      "iteration 138 step length= 0.307368749591 dual= 708.812138935 gamma= 0.154633457769\n",
      "iteration 139 step length= 0.397697527727 dual= 705.427868174 gamma= 0.162365130657\n",
      "iteration 140 step length= 0.648881749206 dual= 700.32772003 gamma= 0.17048338719\n",
      "iteration 141 step length= 0.528081706545 dual= 700.32772003 gamma= 0.161959217831\n",
      "iteration 142 step length= 0.353877326464 dual= 700.32772003 gamma= 0.153861256939\n",
      "iteration 143 step length= 0.215970094627 dual= 700.32772003 gamma= 0.146168194092\n",
      "iteration 144 step length= 0.430775325653 dual= 700.32772003 gamma= 0.138859784387\n",
      "iteration 145 step length= 0.523381205791 dual= 696.39247191 gamma= 0.145802773607\n",
      "iteration 146 step length= 0.590352975342 dual= 696.39247191 gamma= 0.138512634927\n",
      "iteration 147 step length= 0.50696609738 dual= 696.39247191 gamma= 0.13158700318\n",
      "iteration 148 step length= 0.373263220666 dual= 696.39247191 gamma= 0.125007653021\n",
      "iteration 149 step length= 0.33635643125 dual= 691.890869556 gamma= 0.131258035672\n",
      "iteration 150 step length= 0.544075486016 dual= 686.899511166 gamma= 0.137820937456\n",
      "iteration 151 step length= 0.529065699474 dual= 686.899511166 gamma= 0.130929890583\n",
      "iteration 152 step length= 0.369982409406 dual= 686.899511166 gamma= 0.124383396054\n",
      "iteration 153 step length= 0.271221791003 dual= 686.899511166 gamma= 0.118164226251\n",
      "iteration 154 step length= 0.396125137432 dual= 683.236189077 gamma= 0.124072437564\n",
      "iteration 155 step length= 0.415534595263 dual= 683.236189077 gamma= 0.117868815686\n",
      "iteration 156 step length= 0.469419156328 dual= 682.723881652 gamma= 0.12376225647\n",
      "iteration 157 step length= 0.501776096308 dual= 679.587087212 gamma= 0.129950369293\n",
      "iteration 158 step length= 0.419415484709 dual= 679.587087212 gamma= 0.123452850829\n",
      "iteration 159 step length= 0.233950135869 dual= 679.587087212 gamma= 0.117280208287\n",
      "iteration 160 step length= 0.451322173583 dual= 679.587087212 gamma= 0.111416197873\n",
      "iteration 161 step length= 0.343861330039 dual= 679.587087212 gamma= 0.105845387979\n",
      "iteration 162 step length= 0.288594899089 dual= 679.587087212 gamma= 0.10055311858\n",
      "iteration 163 step length= 0.230590034603 dual= 677.044765577 gamma= 0.105580774509\n",
      "iteration 164 step length= 0.331619084302 dual= 670.059534797 gamma= 0.110859813235\n",
      "iteration 165 step length= 0.300277963259 dual= 670.059534797 gamma= 0.105316822573\n",
      "iteration 166 step length= 0.252730067439 dual= 670.059534797 gamma= 0.100050981444\n",
      "iteration 167 step length= 0.341111275116 dual= 668.886826823 gamma= 0.105053530517\n",
      "iteration 168 step length= 0.367492409656 dual= 668.886826823 gamma= 0.0998008539908\n",
      "iteration 169 step length= 0.312199217452 dual= 668.886826823 gamma= 0.0948108112912\n",
      "iteration 170 step length= 0.251434619941 dual= 668.886826823 gamma= 0.0900702707267\n",
      "iteration 171 step length= 0.295449267464 dual= 662.289715808 gamma= 0.094573784263\n",
      "iteration 172 step length= 0.253916395758 dual= 662.289715808 gamma= 0.0898450950498\n",
      "iteration 173 step length= 0.234216263127 dual= 662.289715808 gamma= 0.0853528402974\n",
      "iteration 174 step length= 0.201016406797 dual= 662.289715808 gamma= 0.0810851982825\n",
      "iteration 175 step length= 0.217679778531 dual= 659.639890253 gamma= 0.0851394581966\n",
      "iteration 176 step length= 0.345539970289 dual= 657.093289095 gamma= 0.0893964311064\n",
      "iteration 177 step length= 0.319057346131 dual= 657.093289095 gamma= 0.0849266095511\n",
      "iteration 178 step length= 0.211631306423 dual= 657.093289095 gamma= 0.0806802790736\n",
      "iteration 179 step length= 0.274142585348 dual= 657.093289095 gamma= 0.0766462651199\n",
      "iteration 180 step length= 0.311464161435 dual= 657.093289095 gamma= 0.0728139518639\n",
      "iteration 181 step length= 0.236621515723 dual= 657.093289095 gamma= 0.0691732542707\n",
      "iteration 182 step length= 0.191896877949 dual= 657.093289095 gamma= 0.0657145915572\n",
      "iteration 183 step length= 0.21972382966 dual= 655.984032615 gamma= 0.069000321135\n",
      "iteration 184 step length= 0.211476172468 dual= 655.984032615 gamma= 0.0655503050783\n",
      "iteration 185 step length= 0.310797936822 dual= 650.244373371 gamma= 0.0688278203322\n",
      "iteration 186 step length= 0.262275776216 dual= 650.244373371 gamma= 0.0653864293156\n",
      "iteration 187 step length= 0.126440779753 dual= 650.244373371 gamma= 0.0621171078498\n",
      "iteration 188 step length= 0.165730641184 dual= 650.244373371 gamma= 0.0590112524573\n",
      "iteration 189 step length= 0.204354377132 dual= 650.244373371 gamma= 0.0560606898344\n",
      "iteration 190 step length= 0.147802608479 dual= 650.244373371 gamma= 0.0532576553427\n",
      "iteration 191 step length= 0.179955057572 dual= 650.045991298 gamma= 0.0559205381099\n",
      "iteration 192 step length= 0.177909224899 dual= 648.412830663 gamma= 0.0587165650153\n",
      "iteration 193 step length= 0.355912287772 dual= 646.563322504 gamma= 0.0616523932661\n",
      "iteration 194 step length= 0.238081701558 dual= 646.563322504 gamma= 0.0585697736028\n",
      "iteration 195 step length= 0.167193988664 dual= 646.563322504 gamma= 0.0556412849227\n",
      "iteration 196 step length= 0.110503727773 dual= 646.563322504 gamma= 0.0528592206765\n",
      "iteration 197 step length= 0.136958979088 dual= 646.563322504 gamma= 0.0502162596427\n",
      "iteration 198 step length= 0.156258979793 dual= 646.563322504 gamma= 0.0477054466606\n",
      "iteration 199 step length= 0.173863101632 dual= 645.599375558 gamma= 0.0500907189936\n",
      "iteration 200 step length= 0.177045781993 dual= 645.599375558 gamma= 0.0475861830439\n",
      "LD upper bound =  645.599375558\n",
      "Solving LD costs 197.457834005 seconds\n",
      "calculating final solution ... \n"
     ]
    },
    {
     "name": "stdout",
     "output_type": "stream",
     "text": [
      "feasibility= True \n",
      " obj= 201\n"
     ]
    }
   ],
   "source": [
    "# lam = [1 for i in I]\n",
    "result = LDBased(M=200, varphi=5, beta=0.9, gamma=0.5)\n",
    "lam = result[0]\n",
    "x_count_LD = result[1]\n",
    "print 'calculating final solution ... '\n",
    "x_LD = assignBlockLD(lam,x_count_LD)\n",
    "print 'feasibility=', isFeasible(x_LD), '\\n obj=', sum(r[b][k]*x_LD[b][k] for k in Kc for b in B)"
   ]
  },
  {
   "cell_type": "code",
   "execution_count": 135,
   "metadata": {},
   "outputs": [
    {
     "data": {
      "text/plain": [
       "[11, 28, 21, 25, 12, 16, 27, 15, 19, 13]"
      ]
     },
     "execution_count": 135,
     "metadata": {},
     "output_type": "execute_result"
    }
   ],
   "source": []
  },
  {
   "cell_type": "code",
   "execution_count": null,
   "metadata": {
    "collapsed": true
   },
   "outputs": [],
   "source": []
  }
 ],
 "metadata": {
  "kernelspec": {
   "display_name": "Python 2",
   "language": "python",
   "name": "python2"
  },
  "language_info": {
   "codemirror_mode": {
    "name": "ipython",
    "version": 2
   },
   "file_extension": ".py",
   "mimetype": "text/x-python",
   "name": "python",
   "nbconvert_exporter": "python",
   "pygments_lexer": "ipython2",
   "version": "2.7.13"
  }
 },
 "nbformat": 4,
 "nbformat_minor": 2
}

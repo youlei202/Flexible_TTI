{
 "cells": [
  {
   "cell_type": "markdown",
   "metadata": {},
   "source": [
    "# Dataset Generation\n",
    "by [Lei You](http://user.it.uu.se/~leiyo378)"
   ]
  },
  {
   "cell_type": "markdown",
   "metadata": {},
   "source": [
    "In this document, we generate the dataset, i.e., for the formulation below\n",
    "$$\n",
    "\\begin{align}\n",
    "\\max_{\\mathbf{x}} \\quad & \\sum_{b\\in\\mathcal{B}}\\sum_{k\\in\\mathcal{K}^{(c)}} r_{b,k}x_{b,k} \\\\\n",
    "s.t. \\quad & \\sum_{b\\in\\mathcal{B}}r_{b,k}x_{b,k}\\geq q_{k} \\quad k\\in\\mathcal{K}^{(\\ell)} \\\\\n",
    "           & \\sum_{b\\in\\mathcal{B}}\\sum_{k\\in\\mathcal{K}}a_{b,i}x_{b,k}\\leq 1 \\quad i\\in\\mathcal{I} \\\\\n",
    "           & x_{b,k}\\in\\{0,1\\}\\quad b\\in\\mathcal{B},~k\\in\\mathcal{K}\n",
    "\\end{align}\n",
    "$$\n",
    "we generate the parameters $\\mathcal{I}$, $\\mathcal{B}$, $\\mathcal{K}^{(\\ell)}$, $\\mathcal{K}^{(\\ell)}$, $\\mathbf{r}$, $\\mathbf{q}$, $\\mathbf{a}$."
   ]
  },
  {
   "cell_type": "code",
   "execution_count": 476,
   "metadata": {
    "collapsed": true
   },
   "outputs": [],
   "source": [
    "import csv\n",
    "import numpy\n",
    "import scipy.io\n",
    "from operator import add"
   ]
  },
  {
   "cell_type": "markdown",
   "metadata": {},
   "source": [
    "We set the default time length and frequency bandwidth."
   ]
  },
  {
   "cell_type": "code",
   "execution_count": 477,
   "metadata": {
    "collapsed": true
   },
   "outputs": [],
   "source": [
    "time_length = 2*1e-3 # in s\n",
    "frequency_length = 2000 # in kHz\n",
    "\n",
    "subcarrier_bw = 15 # subcarrier bandwidth (kHz)\n",
    "unit_tl = 0.5*1e-3 # in s\n",
    "unit_fl = 15*12 # in kHz\n",
    "\n",
    "num_fq_unit = int(frequency_length/unit_fl)\n",
    "num_tm_unit = int(time_length/unit_tl)\n",
    "\n",
    "snr_mat = numpy.matrix(scipy.io.loadmat(\"snr.mat\")['Expression1'])\n",
    "if snr_mat.shape[0] != num_fq_unit:\n",
    "    print 'row dimension of SNR matrix does not match the frequency'"
   ]
  },
  {
   "cell_type": "code",
   "execution_count": 478,
   "metadata": {},
   "outputs": [
    {
     "data": {
      "text/plain": [
       "11"
      ]
     },
     "execution_count": 478,
     "metadata": {},
     "output_type": "execute_result"
    }
   ],
   "source": [
    "num_fq_unit"
   ]
  },
  {
   "cell_type": "code",
   "execution_count": 479,
   "metadata": {
    "collapsed": true
   },
   "outputs": [],
   "source": [
    "# # vector q, only for Kl\n",
    "q = [ q_elem * 1024 * 1.024 for q_elem in [ 1, 1, 1, 1, 1 ] ] # Kbps\n",
    "\n",
    "numpy.savetxt(\"q.csv\", q, delimiter=\",\")"
   ]
  },
  {
   "cell_type": "code",
   "execution_count": 480,
   "metadata": {
    "collapsed": true
   },
   "outputs": [],
   "source": [
    "num_latency = len(q) # the number of services constrained by latency\n",
    "num_capacity = 10-num_latency # the number of services to maximize capacity\n",
    "num_service = num_latency + num_capacity # total number of services"
   ]
  },
  {
   "cell_type": "code",
   "execution_count": 481,
   "metadata": {
    "collapsed": true
   },
   "outputs": [],
   "source": [
    "tti = [ x * 1e-3 for x in [0.5, 0.25, 0.125, 0.125, 0.15] ]\n",
    "\n",
    "num_of_shapes = len(tti)\n",
    "\n",
    "subcarrier_num = [ 12, 24, 48, 48, 12] # one subcarrier is 15 kHz\n",
    "shape_bw = [ n*subcarrier_bw for n in subcarrier_num ]\n",
    "num_shape_fq_unit = [ int(bw/unit_fl) for bw in shape_bw ]\n",
    "num_shape_tm_unit = [ int(tl/unit_tl) for tl in tti ] "
   ]
  },
  {
   "cell_type": "code",
   "execution_count": 482,
   "metadata": {
    "collapsed": true
   },
   "outputs": [],
   "source": [
    "tau = [ t*time_length for t in [1.0, 0.7, 0.8, 0.75, 1.0, 1.0, 1.0, 1.0, 1.0, 1.0] ]"
   ]
  },
  {
   "cell_type": "markdown",
   "metadata": {},
   "source": [
    "The vector $\\mathbf{q}$ is set as follows."
   ]
  },
  {
   "cell_type": "markdown",
   "metadata": {},
   "source": [
    "The sets $\\mathcal{K}$, $\\mathcal{K}^{(\\ell)}$, and $\\mathcal{K}^{(c)}$ are generated as follows."
   ]
  },
  {
   "cell_type": "code",
   "execution_count": 483,
   "metadata": {
    "collapsed": true
   },
   "outputs": [],
   "source": [
    "# sets of services\n",
    "Kl = range(num_latency)\n",
    "Kc = range(num_latency,num_service)\n",
    "K = Kl + Kc\n",
    "\n",
    "numpy.savetxt(\"Kl.csv\", Kl, delimiter=\",\")\n",
    "numpy.savetxt(\"Kc.csv\", Kc, delimiter=\",\")"
   ]
  },
  {
   "cell_type": "code",
   "execution_count": 484,
   "metadata": {
    "collapsed": true
   },
   "outputs": [],
   "source": [
    "with open('SNR_list.csv', 'rb') as f:\n",
    "    snr_csv = csv.reader(f)\n",
    "    snr_table = list(snr_csv)\n",
    "    snr_table = [item for sublist in snr_table for item in sublist] # flatten list\n",
    "    snr_table = map(float, snr_table) # convert to float"
   ]
  },
  {
   "cell_type": "code",
   "execution_count": 485,
   "metadata": {
    "collapsed": true
   },
   "outputs": [],
   "source": [
    "with open('DataVol_list.csv', 'rb') as f:\n",
    "    datavol_csv = csv.reader(f)\n",
    "    datavol_table = list(datavol_csv)\n",
    "    datavol_table = [ map(float,x) for x in datavol_table] # convert to float\n",
    "    datavol_table = map(list, zip(*datavol_table)) # transpose table"
   ]
  },
  {
   "cell_type": "markdown",
   "metadata": {},
   "source": [
    "We do interplotation for the two tables."
   ]
  },
  {
   "cell_type": "code",
   "execution_count": 486,
   "metadata": {
    "collapsed": true
   },
   "outputs": [],
   "source": [
    "from scipy.interpolate import interp1d\n",
    "\n",
    "# interplotation for snr_table\n",
    "x = snr_table\n",
    "y = range(1,31)\n",
    "snr_interpld = interp1d(x, y)"
   ]
  },
  {
   "cell_type": "code",
   "execution_count": 487,
   "metadata": {
    "collapsed": true
   },
   "outputs": [],
   "source": [
    "# interplotation for datavol_table\n",
    "x = range(1,31)\n",
    "y1 = datavol_table[0] # for shape 1\n",
    "y2 = datavol_table[1] # for shape 2\n",
    "y3 = datavol_table[2] # for shape 3\n",
    "y4 = datavol_table[3] # for shape 4\n",
    "y5 = datavol_table[4] # for shape 5\n",
    "\n",
    "datavol_interpld = [interp1d(x,y1), interp1d(x,y2), interp1d(x,y3), interp1d(x,y4), interp1d(x,y5)]"
   ]
  },
  {
   "cell_type": "markdown",
   "metadata": {},
   "source": [
    "The function that computes the data volume for a given shape and average SNR is implemented as follows."
   ]
  },
  {
   "cell_type": "code",
   "execution_count": 488,
   "metadata": {
    "collapsed": true
   },
   "outputs": [],
   "source": [
    "def shapeCapacity(PRB_shape, avg_snr): \n",
    "    if PRB_shape < 0 or PRB_shape > 4:\n",
    "        print 'shape_index is out of range: valid index is between 0--4'\n",
    "        return\n",
    "    return datavol_interpld[PRB_shape](avg_snr)  # capacity is in bit"
   ]
  },
  {
   "cell_type": "markdown",
   "metadata": {},
   "source": [
    "The set $\\mathcal{B}$ is generated as follows."
   ]
  },
  {
   "cell_type": "code",
   "execution_count": 489,
   "metadata": {
    "collapsed": true
   },
   "outputs": [],
   "source": [
    "# The function returns a tuple: The first element is the set B; \n",
    "#                               The second is the number of each shape in B\n",
    "def getB():\n",
    "    n_frequency = [ num_fq_unit - num_shape_fq_unit[i] + 1 for i in range(num_of_shapes) ]\n",
    "    n_time = [ num_tm_unit - num_shape_tm_unit[i] + 1 for i in range(num_of_shapes) ]\n",
    "    n = [ int(a*b) for a,b in zip(n_frequency,n_time) ]\n",
    "    \n",
    "    B1 = range(n[0]) # indices of shape 1\n",
    "    B2 = range(n[0],n[0]+n[1]) # indices of shape 2\n",
    "    B3 = range(n[0]+n[1],n[0]+n[1]+n[2]) # indices of shape 3 \n",
    "    B4 = range(n[0]+n[1]+n[2],n[0]+n[1]+n[2]+n[3]) # indices of shape 4\n",
    "    B5 = range(n[0]+n[1]+n[2]+n[3], n[0]+n[1]+n[2]+n[3]+n[4]) # indices of shape 5\n",
    "    \n",
    "    B = B1 + B2 + B3 + B4 + B5\n",
    "    return [B, n]"
   ]
  },
  {
   "cell_type": "code",
   "execution_count": 490,
   "metadata": {
    "collapsed": true
   },
   "outputs": [],
   "source": [
    "tmp = getB()\n",
    "B = tmp[0]\n",
    "nB = tmp[1]\n",
    "\n",
    "numpy.savetxt(\"B.csv\", B, delimiter=\",\")\n",
    "numpy.savetxt(\"nB.csv\", nB, delimiter=\",\")"
   ]
  },
  {
   "cell_type": "markdown",
   "metadata": {},
   "source": [
    "The following function gets the set $\\mathcal{I}$."
   ]
  },
  {
   "cell_type": "code",
   "execution_count": 491,
   "metadata": {
    "collapsed": true
   },
   "outputs": [],
   "source": [
    "# The function returns I\n",
    "def getI():\n",
    "    n = num_fq_unit * num_tm_unit\n",
    "    return range(n)"
   ]
  },
  {
   "cell_type": "code",
   "execution_count": 492,
   "metadata": {
    "collapsed": true
   },
   "outputs": [],
   "source": [
    "I = getI()\n",
    "\n",
    "numpy.savetxt(\"I.csv\", I, delimiter=\",\")"
   ]
  },
  {
   "cell_type": "markdown",
   "metadata": {},
   "source": [
    "The following function calculates the matrix $\\mathbf{a}$. We use a function named $\\texttt{unitInPRB}$ to check whether a resource unit belongs to a PRB. The function $\\texttt{unitInPRB}$ returns $\\texttt{True}$ if the resource unit locates inside the PRB. "
   ]
  },
  {
   "cell_type": "code",
   "execution_count": 493,
   "metadata": {
    "collapsed": true
   },
   "outputs": [],
   "source": [
    "def getPRBShape(PRB_index):\n",
    "    if PRB_index < nB[0]:\n",
    "        PRB_shape = 0\n",
    "    elif PRB_index < nB[0]+nB[1]:\n",
    "        PRB_shape = 1\n",
    "    elif PRB_index < nB[0]+nB[1]+nB[2]:\n",
    "        PRB_shape = 2\n",
    "    elif PRB_index < nB[0]+nB[1]+nB[2]+nB[3]:\n",
    "        PRB_shape = 3\n",
    "    else:\n",
    "        PRB_shape = 4\n",
    "    return PRB_shape"
   ]
  },
  {
   "cell_type": "code",
   "execution_count": 494,
   "metadata": {
    "collapsed": true
   },
   "outputs": [],
   "source": [
    "def unitInPRB(PRB_index, unit_index):\n",
    "    \n",
    "    # compute the indices of row and column for the given index of resource unit\n",
    "    unit_row = unit_index / num_tm_unit # starting from 0 \n",
    "    unit_column = unit_index % num_tm_unit # starting from 0\n",
    "    \n",
    "    # compute the indices range of row and column for the given index of PRB\n",
    "        # we first compute the \"row position\" and \"column position\" in terms of \n",
    "        # PRB shape as we do in function \"getB\"\n",
    "    PRB_shape = getPRBShape(PRB_index)\n",
    "    \n",
    "    shifted_PRB_index = PRB_index\n",
    "    for i in range(PRB_shape):\n",
    "        shifted_PRB_index -= nB[i]\n",
    "    \n",
    "    num_frequency = num_fq_unit - num_shape_fq_unit[PRB_shape] + 1\n",
    "    num_time = num_tm_unit - num_shape_tm_unit[PRB_shape] + 1\n",
    "        \n",
    "        # we then compute the range of row and column for the PRB\n",
    "    PRB_row_start = shifted_PRB_index / num_time  # starting from 0\n",
    "    PRB_row_end = PRB_row_start + num_shape_fq_unit[PRB_shape] - 1\n",
    "    PRB_column_start = shifted_PRB_index % num_time\n",
    "    PRB_column_end = PRB_column_start + num_shape_tm_unit[PRB_shape] - 1\n",
    "    \n",
    "    if unit_row >= PRB_row_start and unit_row <= PRB_row_end and unit_column >= PRB_column_start and unit_column <= PRB_column_end:\n",
    "        return True\n",
    "    else:\n",
    "        return False"
   ]
  },
  {
   "cell_type": "markdown",
   "metadata": {},
   "source": [
    "The following function computes the matrix $\\mathbf{a}$."
   ]
  },
  {
   "cell_type": "code",
   "execution_count": 495,
   "metadata": {
    "collapsed": true
   },
   "outputs": [],
   "source": [
    "def geta():\n",
    "    a = [ [ 0 for i in I ] for b in B ]\n",
    "    for b in B:\n",
    "        for i in I:\n",
    "            if unitInPRB(b,i) == True:\n",
    "                a[b][i] = 1\n",
    "    return a"
   ]
  },
  {
   "cell_type": "code",
   "execution_count": 496,
   "metadata": {
    "collapsed": true
   },
   "outputs": [],
   "source": [
    "a = geta()\n",
    "\n",
    "numpy.savetxt(\"a.csv\", a, delimiter=\",\")"
   ]
  },
  {
   "cell_type": "markdown",
   "metadata": {},
   "source": [
    "The following code calculates a matrix for PRB confliction relationship."
   ]
  },
  {
   "cell_type": "code",
   "execution_count": 497,
   "metadata": {},
   "outputs": [],
   "source": [
    "# if conflict_PRBs[b1][b2] == True, then the PRBs b1 b2 cannot be used simultaneously\n",
    "conflict_PRB = [ [ 0 for b in B ] for b in B ]\n",
    "for b1 in range(len(B)-1):\n",
    "    conflict_PRB[b1][b1] = 1\n",
    "    for b2 in range(b1+1,len(B)):\n",
    "        if b1!=b2 and max(map(add,a[b1],a[b2]))>1: # there is at least one RU overlap between b1 and b2\n",
    "            conflict_PRB[b1][b2]=conflict_PRB[b2][b1]=1\n",
    "conflict_PRB[len(B)-1][len(B)-1] = 1\n",
    "\n",
    "numpy.savetxt(\"conflict_PRB.csv\", conflict_PRB, delimiter=\",\")"
   ]
  },
  {
   "cell_type": "markdown",
   "metadata": {},
   "source": [
    "The following function gets the matrix $\\mathbf{r}$."
   ]
  },
  {
   "cell_type": "code",
   "execution_count": 498,
   "metadata": {
    "collapsed": true
   },
   "outputs": [],
   "source": [
    "def getr(snr_mat):\n",
    "\n",
    "    r = [ [ 0 for k in K ] for b in B ]\n",
    "    \n",
    "    for b in B:\n",
    "        PRB_shape = getPRBShape(b)\n",
    "        \n",
    "        shifted_PRB_index = b\n",
    "        for i in range(PRB_shape):\n",
    "            shifted_PRB_index -= nB[i]\n",
    "        \n",
    "        num_frequency = num_fq_unit - num_shape_fq_unit[PRB_shape] + 1\n",
    "        num_time = num_tm_unit - num_shape_tm_unit[PRB_shape] + 1\n",
    "    \n",
    "        PRB_pos_column = shifted_PRB_index % num_time\n",
    "        PRB_endtime = (PRB_pos_column+1)*tti[PRB_shape]\n",
    "        \n",
    "        PRB_row_start = shifted_PRB_index / num_time # starting from 0\n",
    "        PRB_row_end = PRB_row_start + num_shape_fq_unit[PRB_shape] - 1\n",
    "        \n",
    "        for k in K:\n",
    "            avg_snr = sum(snr_mat[i,k] for i in range(PRB_row_start,PRB_row_end+1) )/( PRB_row_end-PRB_row_start+1 )\n",
    "            r[b][k] = shapeCapacity(PRB_shape, avg_snr)   \n",
    "        for k in K:\n",
    "            if tau[k] < PRB_endtime: # the latency of service k cannot be satisfied by PRB b\n",
    "                r[b][k] = 0\n",
    "        \n",
    "    return r"
   ]
  },
  {
   "cell_type": "code",
   "execution_count": 499,
   "metadata": {
    "collapsed": true,
    "scrolled": true
   },
   "outputs": [],
   "source": [
    "r = getr(snr_mat)\n",
    "\n",
    "numpy.savetxt(\"r.csv\", r, delimiter=\",\")"
   ]
  },
  {
   "cell_type": "code",
   "execution_count": null,
   "metadata": {
    "collapsed": true
   },
   "outputs": [],
   "source": []
  }
 ],
 "metadata": {
  "kernelspec": {
   "display_name": "Python 2",
   "language": "python",
   "name": "python2"
  },
  "language_info": {
   "codemirror_mode": {
    "name": "ipython",
    "version": 2
   },
   "file_extension": ".py",
   "mimetype": "text/x-python",
   "name": "python",
   "nbconvert_exporter": "python",
   "pygments_lexer": "ipython2",
   "version": "2.7.14"
  }
 },
 "nbformat": 4,
 "nbformat_minor": 2
}

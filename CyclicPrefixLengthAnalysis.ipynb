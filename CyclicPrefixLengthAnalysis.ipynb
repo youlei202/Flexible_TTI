{
 "cells": [
  {
   "cell_type": "markdown",
   "metadata": {},
   "source": [
    "\n",
    "# Cyclic Prefix Length Analysis for New Radio\n",
    "# Numerical Analysis\n",
    "\n",
    "by [Qi Liao](https://www.linkedin.com/in/qiliao-belllabs/)\n",
    "\n"
   ]
  },
  {
   "cell_type": "markdown",
   "metadata": {},
   "source": [
    "## Introduction\n",
    "\n",
    "In this document we will show how cyclic prefix (CP) length and symbol duration affect the SINR and the channel capacity by taking the inter-symbol interference (ISI) and inter-channel interference (ICI) into account. \n",
    "\n",
    "\n",
    "Note that the OFDM receiver is assumed to remove the CP an demoudlate the data only over the symbol udration. Therefore, the CP is seen at the system level as pure overhead."
   ]
  },
  {
   "cell_type": "code",
   "execution_count": 2,
   "metadata": {},
   "outputs": [
    {
     "data": {
      "text/html": [
       "<div>\n",
       "<style>\n",
       "    .dataframe thead tr:only-child th {\n",
       "        text-align: right;\n",
       "    }\n",
       "\n",
       "    .dataframe thead th {\n",
       "        text-align: left;\n",
       "    }\n",
       "\n",
       "    .dataframe tbody tr th {\n",
       "        vertical-align: top;\n",
       "    }\n",
       "</style>\n",
       "<table border=\"1\" class=\"dataframe\">\n",
       "  <thead>\n",
       "    <tr style=\"text-align: right;\">\n",
       "      <th></th>\n",
       "      <th>shape 1</th>\n",
       "      <th>shape 2</th>\n",
       "      <th>shape 3</th>\n",
       "      <th>shape 3-ECP</th>\n",
       "    </tr>\n",
       "  </thead>\n",
       "  <tbody>\n",
       "    <tr>\n",
       "      <th>SubcarrierSpacing</th>\n",
       "      <td>1.500000e+04</td>\n",
       "      <td>3.000000e+04</td>\n",
       "      <td>6.000000e+04</td>\n",
       "      <td>6.000000e+04</td>\n",
       "    </tr>\n",
       "    <tr>\n",
       "      <th>SymbolDuration</th>\n",
       "      <td>6.670000e-05</td>\n",
       "      <td>3.330000e-05</td>\n",
       "      <td>1.670000e-05</td>\n",
       "      <td>1.670000e-05</td>\n",
       "    </tr>\n",
       "    <tr>\n",
       "      <th>CP</th>\n",
       "      <td>4.700000e-06</td>\n",
       "      <td>2.300000e-06</td>\n",
       "      <td>1.200000e-06</td>\n",
       "      <td>4.170000e-06</td>\n",
       "    </tr>\n",
       "    <tr>\n",
       "      <th>NumSymbol</th>\n",
       "      <td>7.000000e+00</td>\n",
       "      <td>7.000000e+00</td>\n",
       "      <td>7.000000e+00</td>\n",
       "      <td>6.000000e+00</td>\n",
       "    </tr>\n",
       "    <tr>\n",
       "      <th>FFTSize</th>\n",
       "      <td>2.048000e+03</td>\n",
       "      <td>1.024000e+03</td>\n",
       "      <td>5.120000e+02</td>\n",
       "      <td>5.120000e+02</td>\n",
       "    </tr>\n",
       "    <tr>\n",
       "      <th>NumEffectiveChannels</th>\n",
       "      <td>1.200000e+03</td>\n",
       "      <td>6.000000e+02</td>\n",
       "      <td>3.000000e+02</td>\n",
       "      <td>3.000000e+02</td>\n",
       "    </tr>\n",
       "    <tr>\n",
       "      <th>SampleRate</th>\n",
       "      <td>3.072000e+07</td>\n",
       "      <td>3.072000e+07</td>\n",
       "      <td>3.072000e+07</td>\n",
       "      <td>3.072000e+07</td>\n",
       "    </tr>\n",
       "    <tr>\n",
       "      <th>TTIDuration</th>\n",
       "      <td>5.000000e-04</td>\n",
       "      <td>2.500000e-04</td>\n",
       "      <td>1.250000e-04</td>\n",
       "      <td>1.250000e-04</td>\n",
       "    </tr>\n",
       "  </tbody>\n",
       "</table>\n",
       "</div>"
      ],
      "text/plain": [
       "                           shape 1       shape 2       shape 3   shape 3-ECP\n",
       "SubcarrierSpacing     1.500000e+04  3.000000e+04  6.000000e+04  6.000000e+04\n",
       "SymbolDuration        6.670000e-05  3.330000e-05  1.670000e-05  1.670000e-05\n",
       "CP                    4.700000e-06  2.300000e-06  1.200000e-06  4.170000e-06\n",
       "NumSymbol             7.000000e+00  7.000000e+00  7.000000e+00  6.000000e+00\n",
       "FFTSize               2.048000e+03  1.024000e+03  5.120000e+02  5.120000e+02\n",
       "NumEffectiveChannels  1.200000e+03  6.000000e+02  3.000000e+02  3.000000e+02\n",
       "SampleRate            3.072000e+07  3.072000e+07  3.072000e+07  3.072000e+07\n",
       "TTIDuration           5.000000e-04  2.500000e-04  1.250000e-04  1.250000e-04"
      ]
     },
     "execution_count": 2,
     "metadata": {},
     "output_type": "execute_result"
    }
   ],
   "source": [
    "%matplotlib inline\n",
    "import matplotlib.pyplot as plt\n",
    "import numpy as np\n",
    "import pandas as pd \n",
    "\n",
    "# total bandwidth in Hz, assume 20 MHz\n",
    "global TotalBW\n",
    "TotalBW = 20e6 \n",
    "# symbol timing: the time that the FFT starts\n",
    "global epsilon\n",
    "epsilon = 0\n",
    "\n",
    "\n",
    "# subcarrier spacing (frequency resolution) = sample rate / FFT size\n",
    "# number of samples allocated for cycllic predic = CP duration * FFT/IFFT size / FFT/IFFT period \n",
    "# symbol interval in sec = FFT length in samples * sample interval in sec\n",
    "\n",
    "# define data struture of 15 kHz, 30 kHz, and 60 kHz\n",
    "# extended CP (ECP) only defined for 60 kHz.\n",
    "\n",
    "# subcarrier spacing in Hz; symbol duration, cyclic prefix duration, and TTI duration in sec\n",
    "data = {'shape 1' : pd.Series([15e3, 66.7e-6, 4.7e-6, 7, 0.5e-3, 2048, 1200, 30.72e6], index = ['SubcarrierSpacing', 'SymbolDuration', 'CP', 'NumSymbol', 'TTIDuration', 'FFTSize', 'NumEffectiveChannels', 'SampleRate']),\n",
    "        'shape 2' : pd.Series([30e3, 33.3e-6, 2.3e-6, 7, 0.25e-3, 1024, 600, 30.72e6], index = ['SubcarrierSpacing', 'SymbolDuration', 'CP', 'NumSymbol', 'TTIDuration', 'FFTSize', 'NumEffectiveChannels', 'SampleRate']),\n",
    "        'shape 3' : pd.Series([60e3, 16.7e-6, 1.2e-6, 7, 0.125e-3, 512, 300, 30.72e6], index = ['SubcarrierSpacing', 'SymbolDuration', 'CP', 'NumSymbol', 'TTIDuration', 'FFTSize', 'NumEffectiveChannels', 'SampleRate']),\n",
    "        'shape 3-ECP' : pd.Series([60e3, 16.7e-6, 4.17e-6, 6, 0.125e-3, 512, 300, 30.72e6], index = ['SubcarrierSpacing', 'SymbolDuration', 'CP', 'NumSymbol', 'TTIDuration', 'FFTSize', 'NumEffectiveChannels', 'SampleRate'])\n",
    "       }\n",
    "\n",
    "df = pd.DataFrame(data, index=['SubcarrierSpacing', 'SymbolDuration', 'CP', 'NumSymbol', 'FFTSize', 'NumEffectiveChannels', 'SampleRate', 'TTIDuration'])\n",
    "\n",
    "df"
   ]
  },
  {
   "cell_type": "code",
   "execution_count": 3,
   "metadata": {
    "collapsed": true
   },
   "outputs": [],
   "source": [
    "# define bias function\n",
    "def BiasFunction( SymbolDuration, CPDuration, tau, N_path ):\n",
    "    '''- input: SymbolDuration, CP duration, tau, where tau is a vector of the channel delay\n",
    "       - output: c(tau)''' \n",
    "    c = np.ones( N_path )\n",
    "    \n",
    "    idx_1 = ( tau<-SymbolDuration )\n",
    "    c[idx_1] = 0\n",
    "    idx_2 = ( tau>=-SymbolDuration) & ( tau<0 )\n",
    "    y = (SymbolDuration + tau)/SymbolDuration\n",
    "    c[idx_2] = y[idx_2]\n",
    "    idx_3 = ( tau>=0 ) & ( tau<CPDuration )\n",
    "    c[idx_3] = 1\n",
    "    idx_4 = ( tau>=CPDuration ) & ( tau<SymbolDuration + CPDuration )\n",
    "    y = (SymbolDuration - (tau - CPDuration))/SymbolDuration\n",
    "    c[idx_4] = y[idx_4]\n",
    "    idx_5 =( tau>=SymbolDuration + CPDuration )\n",
    "    c[idx_5] = 0\n",
    "    return c\n",
    "\n",
    "\n",
    "# Compute useful power gain and intereference power gain \n",
    "def CalculatePow( SymbolDuration, CPDuration, tau, Ea, N_path ):\n",
    "    c = BiasFunction( SymbolDuration, CPDuration, tau, N_path )\n",
    "    # define UsefulPow function: received useful signal\n",
    "        # Ea = E[|alpha_m|^2]\n",
    "    Ps = np.sum( np.multiply( np.square(c), Ea ) )\n",
    "    # define InterferencePow function: received interference signal including both ISI and ICI\n",
    "    Pi = np.sum(np.multiply( (1-np.square(c)), Ea ) )\n",
    "    return Ps, Pi\n",
    "\n",
    "# Compute SINR \n",
    "def SINR( Ps, Pi, SigmaRatioLinearInverse ):\n",
    "    sinr = Ps / ( Pi + SigmaRatioLinearInverse )\n",
    "    return sinr\n",
    "\n",
    "# define auxiliary functions\n",
    "def dB2Linear( ArrayInDB ):\n",
    "    ArrayInLinear = np.power( 10, ArrayInDB/10 )\n",
    "    return ArrayInLinear\n",
    "\n",
    "def Linear2dB( ArrayInLinear ):\n",
    "    ArrayInDB = 10 * np.log10( ArrayInLinear )\n",
    "    return ArrayInDB\n",
    "\n"
   ]
  },
  {
   "cell_type": "markdown",
   "metadata": {},
   "source": [
    "## Example: two-ray channel \n",
    "\n",
    "We show first the dependency of SINR (including both ICI and ISI) on symbol duration and delay spread, given fixed CP and SNR ratio.\n",
    "\n",
    "We assume two-ray channel with equal-gain channel impulse response. \n",
    "\n",
    "The calculation is based on the paper:\n",
    "M. Batariere, K. Baum, and T. P. Frauss, \"Cyclic Prefix Length Anaylsis for 4G OFDM Systems\",  IEEE VTC Fall, 2004"
   ]
  },
  {
   "cell_type": "code",
   "execution_count": 4,
   "metadata": {},
   "outputs": [
    {
     "data": {
      "text/plain": [
       "<matplotlib.text.Text at 0x9c3af28>"
      ]
     },
     "execution_count": 4,
     "metadata": {},
     "output_type": "execute_result"
    },
    {
     "data": {
      "image/png": "[encoded data removed]",
      "text/plain": [
       "<matplotlib.figure.Figure at 0x9be1c18>"
      ]
     },
     "metadata": {},
     "output_type": "display_data"
    }
   ],
   "source": [
    "# all time duration in µs\n",
    "CP_length = 4.7\n",
    "Ea = 1\n",
    "N_path = 2\n",
    "\n",
    "\n",
    "mat_df = df.values\n",
    "# convert the symbol duration in µs\n",
    "SymbolDuration_list = 1e6*mat_df[1, 0:3]\n",
    "tau_lists = [np.array([0, x]) for x in range(40)]\n",
    "\n",
    "Ps_list = np.zeros( ( len(SymbolDuration_list), len(tau_lists) ) )\n",
    "Pi_list = np.zeros( ( len(SymbolDuration_list), len(tau_lists) ) )\n",
    "\n",
    "i = -1\n",
    "for SymbolDuration in SymbolDuration_list:\n",
    "    i += 1\n",
    "    j = -1\n",
    "    for tau in tau_lists:\n",
    "        j += 1\n",
    "        Ps, Pi = CalculatePow( SymbolDuration, CP_length, tau, Ea, N_path )\n",
    "        Ps_list[i][j] = Ps\n",
    "        Pi_list[i][j] = Pi\n",
    "\n",
    "# convert SNR in dB to linear scale: low SNR and high SNR \n",
    "SigmaRatioDB_list = np.array([3, 20])\n",
    "# SigmaRatioLinear_list = dB2Linear( SigmaRatioDB_list )\n",
    "\n",
    "#for SigmaRatioLinear in SigmaRatioLinear_list: \n",
    "SINR_list = np.array([], dtype=np.int64).reshape( len(tau_lists) ,0 )\n",
    "for SigmaRatioDB in SigmaRatioDB_list:\n",
    "    SigmaRatioLinear =  dB2Linear(SigmaRatioDB)\n",
    "    a = np.transpose( Linear2dB ( SINR( Ps_list, Pi_list, 1/SigmaRatioLinear ) ) )\n",
    "    SINR_list = np.hstack([SINR_list, a])\n",
    "\n",
    "# plot figure \n",
    "lineObjects = plt.plot( SINR_list )\n",
    "label_list = []\n",
    "for SigmaRatioDB in SigmaRatioDB_list:\n",
    "    for SymbolDuration in SymbolDuration_list:\n",
    "        label_list.append( 'SNR ' + str(int(SigmaRatioDB)) + ', Symbol Duration '+ str(int(SymbolDuration)) + 'µs')\n",
    "\n",
    "plt.legend(iter(lineObjects), label_list, shadow = True, fancybox = True) \n",
    "plt.xlabel('Delay of 2nd ray in µs')\n",
    "plt.ylabel('SINR in dB')\n",
    "plt.title('CP length ' + str(int(CP_length)) + 'µs')"
   ]
  },
  {
   "cell_type": "markdown",
   "metadata": {
    "collapsed": true
   },
   "source": [
    "## Analysis Based on Our Simulation Model\n",
    "\n",
    "Given the following variables \n",
    "- Channel gain characterized by power-delay profile, and SNR\n",
    "- Symbol duration and the corresponding CP length for the 3 shapes given in the data frame in Introduction\n",
    "\n",
    "### Multipath Channel Fading Modeling with Tapped Delay\n",
    "We apply tapped delay line model to represent the impulse response of a multipath channel.\n",
    "$$h(t, \\tau) = \\sum_{i = 0}^{N-1} c_i(t) \\delta(\\tau - \\tau_i)$$\n",
    "Note that the coefficient $c_i(t)$ is time-variant.\n",
    "\n",
    "The model is implemented following 3GPP TR 36.803 Table B.2.2.1-4 Extended Typical Urban model, with 9 multipath components. The table is given in below."
   ]
  },
  {
   "cell_type": "code",
   "execution_count": 5,
   "metadata": {},
   "outputs": [
    {
     "data": {
      "text/html": [
       "<div>\n",
       "<style>\n",
       "    .dataframe thead tr:only-child th {\n",
       "        text-align: right;\n",
       "    }\n",
       "\n",
       "    .dataframe thead th {\n",
       "        text-align: left;\n",
       "    }\n",
       "\n",
       "    .dataframe tbody tr th {\n",
       "        vertical-align: top;\n",
       "    }\n",
       "</style>\n",
       "<table border=\"1\" class=\"dataframe\">\n",
       "  <thead>\n",
       "    <tr style=\"text-align: right;\">\n",
       "      <th></th>\n",
       "      <th>Tap delay in µs</th>\n",
       "      <th>Relative (average) power in dB</th>\n",
       "    </tr>\n",
       "  </thead>\n",
       "  <tbody>\n",
       "    <tr>\n",
       "      <th>0</th>\n",
       "      <td>0.00</td>\n",
       "      <td>-1.0</td>\n",
       "    </tr>\n",
       "    <tr>\n",
       "      <th>1</th>\n",
       "      <td>0.05</td>\n",
       "      <td>-1.0</td>\n",
       "    </tr>\n",
       "    <tr>\n",
       "      <th>2</th>\n",
       "      <td>0.12</td>\n",
       "      <td>-1.0</td>\n",
       "    </tr>\n",
       "    <tr>\n",
       "      <th>3</th>\n",
       "      <td>0.20</td>\n",
       "      <td>0.0</td>\n",
       "    </tr>\n",
       "    <tr>\n",
       "      <th>4</th>\n",
       "      <td>0.23</td>\n",
       "      <td>0.0</td>\n",
       "    </tr>\n",
       "    <tr>\n",
       "      <th>5</th>\n",
       "      <td>0.50</td>\n",
       "      <td>0.0</td>\n",
       "    </tr>\n",
       "    <tr>\n",
       "      <th>6</th>\n",
       "      <td>1.60</td>\n",
       "      <td>-3.0</td>\n",
       "    </tr>\n",
       "    <tr>\n",
       "      <th>7</th>\n",
       "      <td>2.30</td>\n",
       "      <td>-5.0</td>\n",
       "    </tr>\n",
       "    <tr>\n",
       "      <th>8</th>\n",
       "      <td>5.00</td>\n",
       "      <td>-7.0</td>\n",
       "    </tr>\n",
       "  </tbody>\n",
       "</table>\n",
       "</div>"
      ],
      "text/plain": [
       "   Tap delay in µs  Relative (average) power in dB\n",
       "0             0.00                            -1.0\n",
       "1             0.05                            -1.0\n",
       "2             0.12                            -1.0\n",
       "3             0.20                             0.0\n",
       "4             0.23                             0.0\n",
       "5             0.50                             0.0\n",
       "6             1.60                            -3.0\n",
       "7             2.30                            -5.0\n",
       "8             5.00                            -7.0"
      ]
     },
     "execution_count": 5,
     "metadata": {},
     "output_type": "execute_result"
    }
   ],
   "source": [
    "data = {'Tap delay in µs' : pd.Series([0, 0.05, 0.12, 0.2, 0.23, 0.5, 1.6, 2.3, 5]),\n",
    "        'Relative (average) power in dB' : pd.Series([-1.0, -1.0, -1.0, 0.0, 0.0, 0.0, -3.0, -5.0, -7.0])\n",
    "       }\n",
    "df_PowProfile = pd.DataFrame(data, columns = ['Tap delay in µs', 'Relative (average) power in dB'])\n",
    "\n",
    "df_PowProfile"
   ]
  },
  {
   "cell_type": "markdown",
   "metadata": {
    "collapsed": true
   },
   "source": [
    "In multipath environment, the received power $r$ has a Rician distribution, whose pdf is given by \n",
    "$$P(r) = \\frac{r}{\\sigma^2}\\exp\\left(-\\frac{r^2+A^2}{2\\sigma^2}\\right)I_0\\left(\\frac{rA}{\\sigma^2}\\right)$$\n",
    "where $I_0(x)$ is the modified Bessel function of the first kind, zero order.\n",
    "\n",
    "If there is no LOS, $A = 0$ and we have the pdf as Rayleight distribution:\n",
    "$$P(r) = \\frac{r}{\\sigma^2}\\exp\\left(-\\frac{r^2}{2\\sigma^2}\\right)$$\n",
    "\n",
    "\n",
    "Since the channel is time-varying, assuming NLOS, each tap can be modeled to have a Rayleigh distribution with a mean value of relative power described in the table above. "
   ]
  },
  {
   "cell_type": "code",
   "execution_count": 6,
   "metadata": {
    "collapsed": true
   },
   "outputs": [],
   "source": [
    "# define function to generate multipath, given tap delay and average power in the above table\n",
    "\n",
    "def GenerateMultipath( mat_df_PowProfile ):\n",
    "    # - inputs: array of tap delay in µs and relative average power in dB\n",
    "    # - outputs: vector of Ea in linear scale\n",
    "    N_path = mat_df_PowProfile.shape[0]\n",
    "    meanvalue = mat_df_PowProfile[:,1]\n",
    "    modevalue = np.sqrt( 2/np.pi ) * dB2Linear( meanvalue )\n",
    "    # create the multipath tap gain in each tap, with the corresponding average power gain respectively\n",
    "    s = np.random.rayleigh( modevalue )\n",
    "    return s"
   ]
  },
  {
   "cell_type": "markdown",
   "metadata": {},
   "source": [
    "### Estimation of Capacity \n",
    "Because the OFDM receiver is assumed to remove the CP and demodulate the data only over the symbol duration, the CP is seen at the system level as the pure overhead. \n",
    "$$C' = \\frac{SymbolDuration}{SymbolDuration + CP}C$$\n",
    "\n",
    "Two approaches to estimate capacity $C$ per block: \n",
    "- [Approach 1] Assume ideal adaptive modulation and coding (AMC) and a certain degradation fatcor form the Shannon limit $\\alpha$, e.g., $\\alpha = 2$dB. A symbol is limited to a maximum capacity based on the highest modulation and coding scheme (MCS), e.g., $6$ b/s/Hz for 256-QAM with code rate 3/4. \n",
    "- [Approach 2] Consider the mapping from SINR interval to MCS, and then the corresponding symbol error rate.\n",
    "\n",
    "For simplility we use the first approach.\n",
    "\n",
    "Note that the amount of data transmitted on each shape is $Capacity [b/s/Hz] * TTI [s] * SCS [Hz]$.\n",
    "\n",
    "The amount of data transmitted on each PRB is $Capacity [b/s/Hz] * TTI [s] * SCS [Hz/subcarrier] * 12 [subcarrier]$."
   ]
  },
  {
   "cell_type": "code",
   "execution_count": 7,
   "metadata": {
    "collapsed": true
   },
   "outputs": [],
   "source": [
    "# define function to compute capacity on each shape\n",
    "def CalculateCapacity( SINR_array, SymbolDuration, alpha, CP_length, maxCapacity ):\n",
    "    C = np.minimum( np.log10( 1 + alpha*SINR_array ), maxCapacity )\n",
    "    Capacity = (SymbolDuration/(SymbolDuration + CP_length)) * C\n",
    "    return Capacity"
   ]
  },
  {
   "cell_type": "code",
   "execution_count": 8,
   "metadata": {
    "collapsed": true
   },
   "outputs": [],
   "source": [
    "# convert data frame to matrix\n",
    "mat_df_PowProfile = df_PowProfile.values\n",
    "\n",
    "#   number of the taps \n",
    "N_path = mat_df_PowProfile.shape[0]\n",
    "\n",
    "# We analyze the SINR (including the ISI and ICI) depending on the SNR for the following 4 shapes:\n",
    "# - shape 1, 2, and shape 3 with normal or extended CP\n",
    "\n",
    "# Note that the SNR takes only pathloss gain into account but not the multipath channel gain\n",
    "SNR_list = np.linspace(5, 20, 30)\n",
    "tau = mat_df_PowProfile[:, 0]\n",
    "# number of randomly generated channels\n",
    "N_GenRand = 5000\n",
    "\n",
    "SINR_list = np.zeros([len(SNR_list), mat_df.shape[1]])\n",
    "Capacity_list = np.zeros([len(SNR_list), mat_df.shape[1]])\n",
    "DataVol_list = np.zeros([len(SNR_list), mat_df.shape[1]])\n",
    "\n",
    "#  degradation fatcor for Shannon limit\n",
    "alpha = dB2Linear(2)\n",
    "# maximum capacity in b/s/hz\n",
    "maxCapacity = 6\n",
    "    \n",
    "# for each shape\n",
    "i = -1\n",
    "for idx_shape in range(4):\n",
    "    i += 1\n",
    "    # read the symbol duration, CP duration,  and TTI duration in each shape. all convert to µs since tau in µs \n",
    "    SubcarrierSpacing = mat_df[0][idx_shape]\n",
    "    SymbolDuration = 1e6*mat_df[1][idx_shape]\n",
    "    CP_length = 1e6*mat_df[2][idx_shape]\n",
    "    TTILength = 1e6*mat_df[7][idx_shape]\n",
    "    \n",
    "    # for each SNR\n",
    "    j = -1\n",
    "    for SNR in SNR_list:\n",
    "        j += 1\n",
    "        SigmaRatioLinear =  dB2Linear(SNR)\n",
    "        # since each tap follows Rayleigh distribution,  Ps and Pi are weighted sums of the i.i.d. rayleigh distributed rv.s\n",
    "        # monte carlo\n",
    "        SINR_collect = np.zeros([N_GenRand, 1])\n",
    "        for idx_randomGeneration in range( N_GenRand ):\n",
    "            Ea = GenerateMultipath( mat_df_PowProfile )  \n",
    "            Ps, Pi = CalculatePow( SymbolDuration, CP_length, tau, Ea, N_path )\n",
    "            SINR_collect[idx_randomGeneration] =   SINR( Ps, Pi, 1/SigmaRatioLinear )\n",
    "        AverageSINR = np.mean(SINR_collect)\n",
    "        # calculate SINR\n",
    "        SINR_list[j][i] =  AverageSINR\n",
    "        # calculate capacity on this shape in b/s/Hz\n",
    "        Capacity_list[j][i] = CalculateCapacity( AverageSINR, SymbolDuration, alpha, CP_length, maxCapacity )\n",
    "        # Calculate data volume per PRB composed of the shape in b/PRB\n",
    "        DataVol_list[j][i] = Capacity_list[j][i] * (TTILength*1e-6) * SubcarrierSpacing *12\n"
   ]
  },
  {
   "cell_type": "code",
   "execution_count": 9,
   "metadata": {},
   "outputs": [
    {
     "data": {
      "text/plain": [
       "<matplotlib.text.Text at 0x9c20080>"
      ]
     },
     "execution_count": 9,
     "metadata": {},
     "output_type": "execute_result"
    },
    {
     "data": {
      "image/png": "[encoded data removed]",
      "text/plain": [
       "<matplotlib.figure.Figure at 0xa01fc18>"
      ]
     },
     "metadata": {},
     "output_type": "display_data"
    }
   ],
   "source": [
    "# plot SINR on each shape\n",
    "lineObjects = plt.plot( Linear2dB(SINR_list) )\n",
    "label_list = ['Shape 1', 'Shape 2', 'Shape 3', 'Shape 3-ECP']\n",
    "plt.legend(iter(lineObjects), label_list, shadow = True, fancybox = True) \n",
    "plt.xlabel('SNR in dB')\n",
    "plt.ylabel('SINR in dB')"
   ]
  },
  {
   "cell_type": "code",
   "execution_count": 10,
   "metadata": {},
   "outputs": [
    {
     "data": {
      "text/plain": [
       "<matplotlib.text.Text at 0x68aef98>"
      ]
     },
     "execution_count": 10,
     "metadata": {},
     "output_type": "execute_result"
    },
    {
     "data": {
      "image/png": "[encoded data removed]",
      "text/plain": [
       "<matplotlib.figure.Figure at 0x9be1240>"
      ]
     },
     "metadata": {},
     "output_type": "display_data"
    }
   ],
   "source": [
    "# plot capacity in b/s/Hz on each shape\n",
    "plt.subplot(2,1,1)\n",
    "lineObjects = plt.plot( Capacity_list )\n",
    "label_list = ['Shape 1', 'Shape 2', 'Shape 3', 'Shape 3-ECP']\n",
    "plt.legend(iter(lineObjects), label_list, shadow = True, fancybox = True) \n",
    "plt.xlabel('SNR in dB')\n",
    "plt.ylabel('Capacity in b/s/Hz')\n",
    "\n",
    "\n",
    "# plot data in bit transmitted on each PRB consisting of each shape \n",
    "plt.subplot(2,1,2)\n",
    "lineObjects = plt.plot( DataVol_list )\n",
    "label_list = ['Shape 1', 'Shape 2', 'Shape 3', 'Shape 3-ECP']\n",
    "plt.legend(iter(lineObjects), label_list, shadow = True, fancybox = True) \n",
    "plt.xlabel('SNR in dB')\n",
    "plt.ylabel('Data in b/PRB')"
   ]
  },
  {
   "cell_type": "code",
   "execution_count": 11,
   "metadata": {
    "collapsed": true
   },
   "outputs": [],
   "source": [
    "np.savetxt(\"SNR_list.csv\", SNR_list, delimiter=\",\")\n",
    "np.savetxt(\"SINR_list.csv\", SINR_list, delimiter=\",\")\n",
    "np.savetxt(\"Capacity_list.csv\", Capacity_list, delimiter=\",\")\n",
    "np.savetxt(\"DataVol_list.csv\", DataVol_list, delimiter=\",\")"
   ]
  },
  {
   "cell_type": "code",
   "execution_count": null,
   "metadata": {
    "collapsed": true
   },
   "outputs": [],
   "source": []
  }
 ],
 "metadata": {
  "kernelspec": {
   "display_name": "Python 3",
   "language": "python",
   "name": "python3"
  },
  "language_info": {
   "codemirror_mode": {
    "name": "ipython",
    "version": 3
   },
   "file_extension": ".py",
   "mimetype": "text/x-python",
   "name": "python",
   "nbconvert_exporter": "python",
   "pygments_lexer": "ipython3",
   "version": "3.6.1"
  }
 },
 "nbformat": 4,
 "nbformat_minor": 2
}

{
 "cells": [
  {
   "cell_type": "code",
   "execution_count": 151,
   "metadata": {},
   "outputs": [],
   "source": [
    "from operator import *\n",
    "\n",
    "sample_num = 40\n",
    "rate = [ 0.032, 0.064, 0.128, 0.256, 0.512, 1.024 ]\n",
    "\n",
    "f = open('data.txt', 'r')\n",
    "data_set = []\n",
    "data_set2 = []\n",
    "for i in range(len(rate)):\n",
    "    rate_group = []\n",
    "    accumulate = [ 0, 0, 0, 0, 0, 0 ]\n",
    "    c = 0\n",
    "    while c<sample_num:\n",
    "        c = c + 1\n",
    "        line = f.readline()\n",
    "        line = line.strip()\n",
    "        columns = line.split()\n",
    "        sample = map( float, [ columns[5], columns[8], columns[11], columns[14], columns[17], columns[20] ] )\n",
    "        rate_group.append(sample)\n",
    "        accumulate = map(add, accumulate, sample)           \n",
    "        \n",
    "    accumulate = map(div, accumulate, [float(sample_num) for j in range(len(accumulate)) ])\n",
    "    data_set2.append(accumulate)\n",
    "    data_set.append(rate_group)"
   ]
  },
  {
   "cell_type": "code",
   "execution_count": 218,
   "metadata": {},
   "outputs": [
    {
     "name": "stdout",
     "output_type": "stream",
     "text": [
      "{\n",
      "0.0 ,\n",
      "0.0 ,\n",
      "0.00833333333333 ,\n",
      "0.0125 ,\n",
      "0.0125 ,\n",
      "0.0208333333333 ,\n",
      "0.0375 ,\n",
      "0.0583333333333 ,\n",
      "0.15 ,\n",
      "0.2375 ,\n",
      "0.345833333333 ,\n",
      "0.4375 ,\n",
      "0.504166666667 ,\n",
      "0.591666666667 ,\n",
      "0.641666666667 ,\n",
      "0.716666666667 ,\n",
      "0.754166666667 ,\n",
      "0.7875 ,\n",
      "0.795833333333 ,\n",
      "0.804166666667 ,\n",
      "0.808333333333 ,\n",
      "0.8125 ,\n",
      "0.8125 ,\n",
      "0.816666666667 ,\n",
      "0.816666666667 ,\n",
      "0.816666666667 ,\n",
      "0.820833333333 ,\n",
      "0.820833333333 ,\n",
      "0.825 ,\n",
      "0.825 ,\n",
      "0.825 ,\n",
      "0.829166666667 ,\n",
      "0.829166666667 ,\n",
      "0.833333333333 ,\n",
      "0.8375 ,\n",
      "0.841666666667 ,\n",
      "0.841666666667 ,\n",
      "0.845833333333 ,\n",
      "0.854166666667 ,\n",
      "0.870833333333 ,\n",
      "0.870833333333 ,\n",
      "0.879166666667 ,\n",
      "0.879166666667 ,\n",
      "0.891666666667 ,\n",
      "0.891666666667 ,\n",
      "0.895833333333 ,\n",
      "0.908333333333 ,\n",
      "0.9125 ,\n",
      "0.916666666667 ,\n",
      "0.929166666667 ,\n",
      "0.933333333333 ,\n",
      "0.9375 ,\n",
      "0.9375 ,\n",
      "0.945833333333 ,\n",
      "0.95 ,\n",
      "0.958333333333 ,\n",
      "0.958333333333 ,\n",
      "0.958333333333 ,\n",
      "0.9625 ,\n",
      "0.9625 ,\n",
      "0.9625 ,\n",
      "0.966666666667 ,\n",
      "0.966666666667 ,\n",
      "0.966666666667 ,\n",
      "0.966666666667 ,\n",
      "0.966666666667 ,\n",
      "0.966666666667 ,\n",
      "0.966666666667 ,\n",
      "0.975 ,\n",
      "0.979166666667 ,\n",
      "0.979166666667 ,\n",
      "0.979166666667 ,\n",
      "0.983333333333 ,\n",
      "0.9875 ,\n",
      "0.9875 ,\n",
      "0.9875 ,\n",
      "0.9875 ,\n",
      "0.9875 ,\n",
      "0.9875 ,\n",
      "0.9875 ,\n",
      "0.9875 ,\n",
      "0.9875 ,\n",
      "0.9875 ,\n",
      "0.9875 ,\n",
      "0.9875 ,\n",
      "0.9875 ,\n",
      "0.9875 ,\n",
      "0.991666666667 ,\n",
      "0.995833333333 ,\n",
      "0.995833333333 ,\n",
      "0.995833333333 ,\n",
      "0.995833333333 ,\n",
      "0.995833333333 ,\n",
      "0.995833333333 ,\n",
      "0.995833333333 ,\n",
      "0.995833333333 ,\n",
      "0.995833333333 ,\n",
      "0.995833333333 ,\n",
      "0.995833333333 ,\n",
      "0.995833333333 ,\n",
      "0.995833333333 ,\n",
      "}\n"
     ]
    }
   ],
   "source": [
    "import numpy as np\n",
    "\n",
    "data = [ data_set[i][j][3] for j in range(sample_num) for i in range(len(rate)) ]\n",
    "\n",
    "print '{'\n",
    "for x in np.arange(0, 0.101, 0.001):\n",
    "    p = sum(1 for e in data if e<x )/float(len(data))\n",
    "#     print '(', x, ', ', p, ')' \n",
    "    print p, ','\n",
    "print '}'"
   ]
  },
  {
   "cell_type": "code",
   "execution_count": 160,
   "metadata": {
    "scrolled": false
   },
   "outputs": [
    {
     "name": "stdout",
     "output_type": "stream",
     "text": [
      "[0.027384537311730506, 0.009706611391932999, 0.011327801151545002, 0.013333764398702996, 0.014401181352804502, 0.068506747168865]\n"
     ]
    }
   ],
   "source": [
    "print [data_set2[i][5] for i in range(len(data_set2))]"
   ]
  },
  {
   "cell_type": "code",
   "execution_count": 189,
   "metadata": {},
   "outputs": [
    {
     "data": {
      "text/plain": [
       "array([ 0. ,  0.1,  0.2,  0.3,  0.4,  0.5,  0.6,  0.7,  0.8,  0.9])"
      ]
     },
     "execution_count": 189,
     "metadata": {},
     "output_type": "execute_result"
    }
   ],
   "source": [
    "np.arange(0,1,0.1)"
   ]
  },
  {
   "cell_type": "code",
   "execution_count": 203,
   "metadata": {
    "collapsed": true
   },
   "outputs": [],
   "source": [
    "data = [ data_set[i][j][0] for j in range(sample_num) for i in range(len(rate)) ]"
   ]
  },
  {
   "cell_type": "code",
   "execution_count": null,
   "metadata": {
    "collapsed": true
   },
   "outputs": [],
   "source": []
  }
 ],
 "metadata": {
  "kernelspec": {
   "display_name": "Python 2",
   "language": "python",
   "name": "python2"
  },
  "language_info": {
   "codemirror_mode": {
    "name": "ipython",
    "version": 2
   },
   "file_extension": ".py",
   "mimetype": "text/x-python",
   "name": "python",
   "nbconvert_exporter": "python",
   "pygments_lexer": "ipython2",
   "version": "2.7.13"
  }
 },
 "nbformat": 4,
 "nbformat_minor": 2
}
